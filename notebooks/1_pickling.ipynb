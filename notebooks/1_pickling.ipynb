{
 "cells": [
  {
   "cell_type": "markdown",
   "id": "f9781521",
   "metadata": {},
   "source": [
    "Pickling data for faster load times."
   ]
  },
  {
   "cell_type": "code",
   "execution_count": 1,
   "id": "9ec66ab2",
   "metadata": {},
   "outputs": [],
   "source": [
    "import pandas as pd\n",
    "import pickle"
   ]
  },
  {
   "cell_type": "code",
   "execution_count": 2,
   "id": "c88c695d",
   "metadata": {},
   "outputs": [
    {
     "name": "stdout",
     "output_type": "stream",
     "text": [
      "Wall time: 19.4 s\n"
     ]
    },
    {
     "data": {
      "text/html": [
       "<div>\n",
       "<style scoped>\n",
       "    .dataframe tbody tr th:only-of-type {\n",
       "        vertical-align: middle;\n",
       "    }\n",
       "\n",
       "    .dataframe tbody tr th {\n",
       "        vertical-align: top;\n",
       "    }\n",
       "\n",
       "    .dataframe thead th {\n",
       "        text-align: right;\n",
       "    }\n",
       "</style>\n",
       "<table border=\"1\" class=\"dataframe\">\n",
       "  <thead>\n",
       "    <tr style=\"text-align: right;\">\n",
       "      <th></th>\n",
       "      <th>pubdatetime</th>\n",
       "      <th>latitude</th>\n",
       "      <th>longitude</th>\n",
       "      <th>sumdid</th>\n",
       "      <th>sumdtype</th>\n",
       "      <th>chargelevel</th>\n",
       "      <th>sumdgroup</th>\n",
       "      <th>costpermin</th>\n",
       "      <th>companyname</th>\n",
       "    </tr>\n",
       "  </thead>\n",
       "  <tbody>\n",
       "    <tr>\n",
       "      <th>0</th>\n",
       "      <td>2019-05-01 00:01:41.247000</td>\n",
       "      <td>36.136822</td>\n",
       "      <td>-86.799877</td>\n",
       "      <td>PoweredLIRL1</td>\n",
       "      <td>Powered</td>\n",
       "      <td>93.0</td>\n",
       "      <td>scooter</td>\n",
       "      <td>0.0</td>\n",
       "      <td>Bird</td>\n",
       "    </tr>\n",
       "    <tr>\n",
       "      <th>1</th>\n",
       "      <td>2019-05-01 00:01:41.247000</td>\n",
       "      <td>36.191252</td>\n",
       "      <td>-86.772945</td>\n",
       "      <td>PoweredXWRWC</td>\n",
       "      <td>Powered</td>\n",
       "      <td>35.0</td>\n",
       "      <td>scooter</td>\n",
       "      <td>0.0</td>\n",
       "      <td>Bird</td>\n",
       "    </tr>\n",
       "    <tr>\n",
       "      <th>2</th>\n",
       "      <td>2019-05-01 00:01:41.247000</td>\n",
       "      <td>36.144752</td>\n",
       "      <td>-86.806293</td>\n",
       "      <td>PoweredMEJEH</td>\n",
       "      <td>Powered</td>\n",
       "      <td>90.0</td>\n",
       "      <td>scooter</td>\n",
       "      <td>0.0</td>\n",
       "      <td>Bird</td>\n",
       "    </tr>\n",
       "    <tr>\n",
       "      <th>3</th>\n",
       "      <td>2019-05-01 00:01:41.247000</td>\n",
       "      <td>36.162056</td>\n",
       "      <td>-86.774688</td>\n",
       "      <td>Powered1A7TC</td>\n",
       "      <td>Powered</td>\n",
       "      <td>88.0</td>\n",
       "      <td>scooter</td>\n",
       "      <td>0.0</td>\n",
       "      <td>Bird</td>\n",
       "    </tr>\n",
       "    <tr>\n",
       "      <th>4</th>\n",
       "      <td>2019-05-01 00:01:41.247000</td>\n",
       "      <td>36.150973</td>\n",
       "      <td>-86.783109</td>\n",
       "      <td>Powered2TYEF</td>\n",
       "      <td>Powered</td>\n",
       "      <td>98.0</td>\n",
       "      <td>scooter</td>\n",
       "      <td>0.0</td>\n",
       "      <td>Bird</td>\n",
       "    </tr>\n",
       "  </tbody>\n",
       "</table>\n",
       "</div>"
      ],
      "text/plain": [
       "                  pubdatetime   latitude  longitude        sumdid sumdtype  \\\n",
       "0  2019-05-01 00:01:41.247000  36.136822 -86.799877  PoweredLIRL1  Powered   \n",
       "1  2019-05-01 00:01:41.247000  36.191252 -86.772945  PoweredXWRWC  Powered   \n",
       "2  2019-05-01 00:01:41.247000  36.144752 -86.806293  PoweredMEJEH  Powered   \n",
       "3  2019-05-01 00:01:41.247000  36.162056 -86.774688  Powered1A7TC  Powered   \n",
       "4  2019-05-01 00:01:41.247000  36.150973 -86.783109  Powered2TYEF  Powered   \n",
       "\n",
       "   chargelevel sumdgroup  costpermin companyname  \n",
       "0         93.0   scooter         0.0        Bird  \n",
       "1         35.0   scooter         0.0        Bird  \n",
       "2         90.0   scooter         0.0        Bird  \n",
       "3         88.0   scooter         0.0        Bird  \n",
       "4         98.0   scooter         0.0        Bird  "
      ]
     },
     "execution_count": 2,
     "metadata": {},
     "output_type": "execute_result"
    }
   ],
   "source": [
    "%%time\n",
    "may = pd.read_csv('../data/may.csv')\n",
    "may.head()"
   ]
  },
  {
   "cell_type": "markdown",
   "id": "a05f6984",
   "metadata": {},
   "source": [
    "Get info on file, then look to reduce file size. Remember: objects take up the most space."
   ]
  },
  {
   "cell_type": "code",
   "execution_count": 3,
   "id": "39a5c296",
   "metadata": {},
   "outputs": [
    {
     "name": "stdout",
     "output_type": "stream",
     "text": [
      "<class 'pandas.core.frame.DataFrame'>\n",
      "RangeIndex: 20292503 entries, 0 to 20292502\n",
      "Data columns (total 9 columns):\n",
      " #   Column       Dtype  \n",
      "---  ------       -----  \n",
      " 0   pubdatetime  object \n",
      " 1   latitude     float64\n",
      " 2   longitude    float64\n",
      " 3   sumdid       object \n",
      " 4   sumdtype     object \n",
      " 5   chargelevel  float64\n",
      " 6   sumdgroup    object \n",
      " 7   costpermin   float64\n",
      " 8   companyname  object \n",
      "dtypes: float64(4), object(5)\n",
      "memory usage: 1.4+ GB\n"
     ]
    }
   ],
   "source": [
    "may.info()"
   ]
  },
  {
   "cell_type": "markdown",
   "id": "b0c86957",
   "metadata": {},
   "source": [
    "Convert each unique company name to an integer using a dictionary, then update the 'companyname' column."
   ]
  },
  {
   "cell_type": "code",
   "execution_count": 4,
   "id": "f4315e9b",
   "metadata": {},
   "outputs": [
    {
     "data": {
      "text/plain": [
       "array(['Bird', 'Lyft', 'Gotcha', 'Lime', 'Spin', 'Jump', 'Bolt'],\n",
       "      dtype=object)"
      ]
     },
     "execution_count": 4,
     "metadata": {},
     "output_type": "execute_result"
    }
   ],
   "source": [
    "may.companyname.unique()"
   ]
  },
  {
   "cell_type": "code",
   "execution_count": 5,
   "id": "f244e95f",
   "metadata": {},
   "outputs": [],
   "source": [
    "company_dict = {'Bird':0, 'Lyft': 1, 'Gotcha': 2, 'Lime': 3, 'Spin': 4, 'Jump': 5, 'Bolt': 6}"
   ]
  },
  {
   "cell_type": "code",
   "execution_count": 6,
   "id": "70084e64",
   "metadata": {},
   "outputs": [],
   "source": [
    "may.companyname = may.companyname.replace(company_dict)"
   ]
  },
  {
   "cell_type": "markdown",
   "id": "29bf35a3",
   "metadata": {},
   "source": [
    "Convert 'pubdatetime' to a datetime."
   ]
  },
  {
   "cell_type": "code",
   "execution_count": 7,
   "id": "38eb2971",
   "metadata": {},
   "outputs": [
    {
     "data": {
      "text/html": [
       "<div>\n",
       "<style scoped>\n",
       "    .dataframe tbody tr th:only-of-type {\n",
       "        vertical-align: middle;\n",
       "    }\n",
       "\n",
       "    .dataframe tbody tr th {\n",
       "        vertical-align: top;\n",
       "    }\n",
       "\n",
       "    .dataframe thead th {\n",
       "        text-align: right;\n",
       "    }\n",
       "</style>\n",
       "<table border=\"1\" class=\"dataframe\">\n",
       "  <thead>\n",
       "    <tr style=\"text-align: right;\">\n",
       "      <th></th>\n",
       "      <th>pubdatetime</th>\n",
       "      <th>latitude</th>\n",
       "      <th>longitude</th>\n",
       "      <th>sumdid</th>\n",
       "      <th>sumdtype</th>\n",
       "      <th>chargelevel</th>\n",
       "      <th>sumdgroup</th>\n",
       "      <th>costpermin</th>\n",
       "      <th>companyname</th>\n",
       "    </tr>\n",
       "  </thead>\n",
       "  <tbody>\n",
       "    <tr>\n",
       "      <th>0</th>\n",
       "      <td>2019-05-01 00:01:41.247</td>\n",
       "      <td>36.136822</td>\n",
       "      <td>-86.799877</td>\n",
       "      <td>PoweredLIRL1</td>\n",
       "      <td>Powered</td>\n",
       "      <td>93.0</td>\n",
       "      <td>scooter</td>\n",
       "      <td>0.0</td>\n",
       "      <td>0</td>\n",
       "    </tr>\n",
       "    <tr>\n",
       "      <th>1</th>\n",
       "      <td>2019-05-01 00:01:41.247</td>\n",
       "      <td>36.191252</td>\n",
       "      <td>-86.772945</td>\n",
       "      <td>PoweredXWRWC</td>\n",
       "      <td>Powered</td>\n",
       "      <td>35.0</td>\n",
       "      <td>scooter</td>\n",
       "      <td>0.0</td>\n",
       "      <td>0</td>\n",
       "    </tr>\n",
       "    <tr>\n",
       "      <th>2</th>\n",
       "      <td>2019-05-01 00:01:41.247</td>\n",
       "      <td>36.144752</td>\n",
       "      <td>-86.806293</td>\n",
       "      <td>PoweredMEJEH</td>\n",
       "      <td>Powered</td>\n",
       "      <td>90.0</td>\n",
       "      <td>scooter</td>\n",
       "      <td>0.0</td>\n",
       "      <td>0</td>\n",
       "    </tr>\n",
       "  </tbody>\n",
       "</table>\n",
       "</div>"
      ],
      "text/plain": [
       "              pubdatetime   latitude  longitude        sumdid sumdtype  \\\n",
       "0 2019-05-01 00:01:41.247  36.136822 -86.799877  PoweredLIRL1  Powered   \n",
       "1 2019-05-01 00:01:41.247  36.191252 -86.772945  PoweredXWRWC  Powered   \n",
       "2 2019-05-01 00:01:41.247  36.144752 -86.806293  PoweredMEJEH  Powered   \n",
       "\n",
       "   chargelevel sumdgroup  costpermin  companyname  \n",
       "0         93.0   scooter         0.0            0  \n",
       "1         35.0   scooter         0.0            0  \n",
       "2         90.0   scooter         0.0            0  "
      ]
     },
     "execution_count": 7,
     "metadata": {},
     "output_type": "execute_result"
    }
   ],
   "source": [
    "may.pubdatetime = pd.to_datetime(may.pubdatetime)\n",
    "may.head(3)"
   ]
  },
  {
   "cell_type": "markdown",
   "id": "60beb969",
   "metadata": {},
   "source": [
    "Remove unwanted data (don't need the bikes)"
   ]
  },
  {
   "cell_type": "code",
   "execution_count": 8,
   "id": "f224896e",
   "metadata": {},
   "outputs": [
    {
     "data": {
      "text/plain": [
       "array(['scooter', 'Scooter', 'bicycle'], dtype=object)"
      ]
     },
     "execution_count": 8,
     "metadata": {},
     "output_type": "execute_result"
    }
   ],
   "source": [
    "may.sumdgroup.unique()"
   ]
  },
  {
   "cell_type": "code",
   "execution_count": 9,
   "id": "ff9c3698",
   "metadata": {},
   "outputs": [],
   "source": [
    "may_scooters = may.loc[may.sumdgroup.isin(['scooter', 'Scooter'])]"
   ]
  },
  {
   "cell_type": "markdown",
   "id": "4f5633d0",
   "metadata": {},
   "source": [
    "Narrow down to just the columns we want to work with."
   ]
  },
  {
   "cell_type": "code",
   "execution_count": 10,
   "id": "4eebff51",
   "metadata": {},
   "outputs": [],
   "source": [
    "may_scooters = may_scooters[['pubdatetime', 'latitude', 'longitude', 'sumdid', 'chargelevel', 'companyname']]"
   ]
  },
  {
   "cell_type": "markdown",
   "id": "fa1d34d4",
   "metadata": {},
   "source": [
    "Check your .info() again"
   ]
  },
  {
   "cell_type": "code",
   "execution_count": 11,
   "id": "34f0a65e",
   "metadata": {},
   "outputs": [
    {
     "name": "stdout",
     "output_type": "stream",
     "text": [
      "<class 'pandas.core.frame.DataFrame'>\n",
      "Int64Index: 20283582 entries, 0 to 20292502\n",
      "Data columns (total 6 columns):\n",
      " #   Column       Dtype         \n",
      "---  ------       -----         \n",
      " 0   pubdatetime  datetime64[ns]\n",
      " 1   latitude     float64       \n",
      " 2   longitude    float64       \n",
      " 3   sumdid       object        \n",
      " 4   chargelevel  float64       \n",
      " 5   companyname  int64         \n",
      "dtypes: datetime64[ns](1), float64(3), int64(1), object(1)\n",
      "memory usage: 1.1+ GB\n"
     ]
    }
   ],
   "source": [
    "may_scooters.info()"
   ]
  },
  {
   "cell_type": "markdown",
   "id": "3326bf6a",
   "metadata": {},
   "source": [
    "Only one object left so we're good to go. Time to pickle."
   ]
  },
  {
   "cell_type": "code",
   "execution_count": 14,
   "id": "0a2b91c0",
   "metadata": {},
   "outputs": [],
   "source": [
    "may_scooters.to_pickle(\"../data/may.pkl\")"
   ]
  },
  {
   "cell_type": "markdown",
   "id": "f263f129",
   "metadata": {},
   "source": [
    "Check your time to see how much faster it runs:"
   ]
  },
  {
   "cell_type": "code",
   "execution_count": 16,
   "id": "1ee49b0c",
   "metadata": {},
   "outputs": [
    {
     "name": "stdout",
     "output_type": "stream",
     "text": [
      "Wall time: 1.1 s\n"
     ]
    }
   ],
   "source": [
    "%%time\n",
    "may_test = pd.read_pickle(\"../data/may.pkl\")"
   ]
  },
  {
   "cell_type": "markdown",
   "id": "a189832b",
   "metadata": {},
   "source": [
    "Much better! From 19.4s to 1.1s.\n",
    "\n",
    "Now we need to do the same pickling process to both June and July."
   ]
  },
  {
   "cell_type": "markdown",
   "id": "40f2aa3b",
   "metadata": {},
   "source": [
    "JUNE PICKLING"
   ]
  },
  {
   "cell_type": "code",
   "execution_count": 17,
   "id": "f1d0eddd",
   "metadata": {},
   "outputs": [
    {
     "name": "stdout",
     "output_type": "stream",
     "text": [
      "Wall time: 28.6 s\n"
     ]
    },
    {
     "data": {
      "text/html": [
       "<div>\n",
       "<style scoped>\n",
       "    .dataframe tbody tr th:only-of-type {\n",
       "        vertical-align: middle;\n",
       "    }\n",
       "\n",
       "    .dataframe tbody tr th {\n",
       "        vertical-align: top;\n",
       "    }\n",
       "\n",
       "    .dataframe thead th {\n",
       "        text-align: right;\n",
       "    }\n",
       "</style>\n",
       "<table border=\"1\" class=\"dataframe\">\n",
       "  <thead>\n",
       "    <tr style=\"text-align: right;\">\n",
       "      <th></th>\n",
       "      <th>pubdatetime</th>\n",
       "      <th>latitude</th>\n",
       "      <th>longitude</th>\n",
       "      <th>sumdid</th>\n",
       "      <th>sumdtype</th>\n",
       "      <th>chargelevel</th>\n",
       "      <th>sumdgroup</th>\n",
       "      <th>costpermin</th>\n",
       "      <th>companyname</th>\n",
       "    </tr>\n",
       "  </thead>\n",
       "  <tbody>\n",
       "    <tr>\n",
       "      <th>0</th>\n",
       "      <td>2019-06-01 00:00:12</td>\n",
       "      <td>36.1202</td>\n",
       "      <td>-86.7534</td>\n",
       "      <td>Powered93627c35-0f62-5b81-a78d-75a4a92ecf47</td>\n",
       "      <td>Powered</td>\n",
       "      <td>90.0</td>\n",
       "      <td>scooter</td>\n",
       "      <td>0.06</td>\n",
       "      <td>Jump</td>\n",
       "    </tr>\n",
       "    <tr>\n",
       "      <th>1</th>\n",
       "      <td>2019-06-01 00:00:12</td>\n",
       "      <td>36.1630</td>\n",
       "      <td>-86.7765</td>\n",
       "      <td>Powered17715097-e8a0-5494-a5ab-9b625796607d</td>\n",
       "      <td>Powered</td>\n",
       "      <td>63.0</td>\n",
       "      <td>scooter</td>\n",
       "      <td>0.06</td>\n",
       "      <td>Jump</td>\n",
       "    </tr>\n",
       "    <tr>\n",
       "      <th>2</th>\n",
       "      <td>2019-06-01 00:00:12</td>\n",
       "      <td>36.1202</td>\n",
       "      <td>-86.7533</td>\n",
       "      <td>Powerede5cb95ae-b091-5a93-86fa-ededd946d0d7</td>\n",
       "      <td>Powered</td>\n",
       "      <td>77.0</td>\n",
       "      <td>scooter</td>\n",
       "      <td>0.06</td>\n",
       "      <td>Jump</td>\n",
       "    </tr>\n",
       "    <tr>\n",
       "      <th>3</th>\n",
       "      <td>2019-06-01 00:00:12</td>\n",
       "      <td>36.1201</td>\n",
       "      <td>-86.7530</td>\n",
       "      <td>Powered71fa5e4f-1e17-54c4-936d-330df38cc2fa</td>\n",
       "      <td>Powered</td>\n",
       "      <td>0.0</td>\n",
       "      <td>scooter</td>\n",
       "      <td>0.06</td>\n",
       "      <td>Jump</td>\n",
       "    </tr>\n",
       "    <tr>\n",
       "      <th>4</th>\n",
       "      <td>2019-06-01 00:00:12</td>\n",
       "      <td>36.1622</td>\n",
       "      <td>-86.7806</td>\n",
       "      <td>Poweredfa549dd6-40bb-5757-ac87-2c2528f2bc68</td>\n",
       "      <td>Powered</td>\n",
       "      <td>2.0</td>\n",
       "      <td>scooter</td>\n",
       "      <td>0.06</td>\n",
       "      <td>Jump</td>\n",
       "    </tr>\n",
       "  </tbody>\n",
       "</table>\n",
       "</div>"
      ],
      "text/plain": [
       "           pubdatetime  latitude  longitude  \\\n",
       "0  2019-06-01 00:00:12   36.1202   -86.7534   \n",
       "1  2019-06-01 00:00:12   36.1630   -86.7765   \n",
       "2  2019-06-01 00:00:12   36.1202   -86.7533   \n",
       "3  2019-06-01 00:00:12   36.1201   -86.7530   \n",
       "4  2019-06-01 00:00:12   36.1622   -86.7806   \n",
       "\n",
       "                                        sumdid sumdtype  chargelevel  \\\n",
       "0  Powered93627c35-0f62-5b81-a78d-75a4a92ecf47  Powered         90.0   \n",
       "1  Powered17715097-e8a0-5494-a5ab-9b625796607d  Powered         63.0   \n",
       "2  Powerede5cb95ae-b091-5a93-86fa-ededd946d0d7  Powered         77.0   \n",
       "3  Powered71fa5e4f-1e17-54c4-936d-330df38cc2fa  Powered          0.0   \n",
       "4  Poweredfa549dd6-40bb-5757-ac87-2c2528f2bc68  Powered          2.0   \n",
       "\n",
       "  sumdgroup  costpermin companyname  \n",
       "0   scooter        0.06        Jump  \n",
       "1   scooter        0.06        Jump  \n",
       "2   scooter        0.06        Jump  \n",
       "3   scooter        0.06        Jump  \n",
       "4   scooter        0.06        Jump  "
      ]
     },
     "execution_count": 17,
     "metadata": {},
     "output_type": "execute_result"
    }
   ],
   "source": [
    "%%time\n",
    "june = pd.read_csv('../data/june.csv')\n",
    "june.head()"
   ]
  },
  {
   "cell_type": "code",
   "execution_count": 18,
   "id": "3348aad1",
   "metadata": {},
   "outputs": [
    {
     "name": "stdout",
     "output_type": "stream",
     "text": [
      "<class 'pandas.core.frame.DataFrame'>\n",
      "RangeIndex: 28046095 entries, 0 to 28046094\n",
      "Data columns (total 9 columns):\n",
      " #   Column       Dtype  \n",
      "---  ------       -----  \n",
      " 0   pubdatetime  object \n",
      " 1   latitude     float64\n",
      " 2   longitude    float64\n",
      " 3   sumdid       object \n",
      " 4   sumdtype     object \n",
      " 5   chargelevel  float64\n",
      " 6   sumdgroup    object \n",
      " 7   costpermin   float64\n",
      " 8   companyname  object \n",
      "dtypes: float64(4), object(5)\n",
      "memory usage: 1.9+ GB\n"
     ]
    }
   ],
   "source": [
    "june.info()"
   ]
  },
  {
   "cell_type": "code",
   "execution_count": 19,
   "id": "5473ec01",
   "metadata": {},
   "outputs": [
    {
     "data": {
      "text/plain": [
       "array(['Jump', 'Bird', 'Bolt', 'Gotcha', 'Spin', 'Lime', 'Lyft'],\n",
       "      dtype=object)"
      ]
     },
     "execution_count": 19,
     "metadata": {},
     "output_type": "execute_result"
    }
   ],
   "source": [
    "june.companyname.unique()"
   ]
  },
  {
   "cell_type": "code",
   "execution_count": 20,
   "id": "ce5f14b7",
   "metadata": {},
   "outputs": [],
   "source": [
    "company_dict = {'Bird':0, 'Lyft': 1, 'Gotcha': 2, 'Lime': 3, 'Spin': 4, 'Jump': 5, 'Bolt': 6}"
   ]
  },
  {
   "cell_type": "code",
   "execution_count": 21,
   "id": "2e72bf0c",
   "metadata": {},
   "outputs": [],
   "source": [
    "june.companyname = june.companyname.replace(company_dict)"
   ]
  },
  {
   "cell_type": "code",
   "execution_count": 22,
   "id": "dd225a6c",
   "metadata": {},
   "outputs": [
    {
     "data": {
      "text/html": [
       "<div>\n",
       "<style scoped>\n",
       "    .dataframe tbody tr th:only-of-type {\n",
       "        vertical-align: middle;\n",
       "    }\n",
       "\n",
       "    .dataframe tbody tr th {\n",
       "        vertical-align: top;\n",
       "    }\n",
       "\n",
       "    .dataframe thead th {\n",
       "        text-align: right;\n",
       "    }\n",
       "</style>\n",
       "<table border=\"1\" class=\"dataframe\">\n",
       "  <thead>\n",
       "    <tr style=\"text-align: right;\">\n",
       "      <th></th>\n",
       "      <th>pubdatetime</th>\n",
       "      <th>latitude</th>\n",
       "      <th>longitude</th>\n",
       "      <th>sumdid</th>\n",
       "      <th>sumdtype</th>\n",
       "      <th>chargelevel</th>\n",
       "      <th>sumdgroup</th>\n",
       "      <th>costpermin</th>\n",
       "      <th>companyname</th>\n",
       "    </tr>\n",
       "  </thead>\n",
       "  <tbody>\n",
       "    <tr>\n",
       "      <th>0</th>\n",
       "      <td>2019-06-01 00:00:12</td>\n",
       "      <td>36.1202</td>\n",
       "      <td>-86.7534</td>\n",
       "      <td>Powered93627c35-0f62-5b81-a78d-75a4a92ecf47</td>\n",
       "      <td>Powered</td>\n",
       "      <td>90.0</td>\n",
       "      <td>scooter</td>\n",
       "      <td>0.06</td>\n",
       "      <td>5</td>\n",
       "    </tr>\n",
       "    <tr>\n",
       "      <th>1</th>\n",
       "      <td>2019-06-01 00:00:12</td>\n",
       "      <td>36.1630</td>\n",
       "      <td>-86.7765</td>\n",
       "      <td>Powered17715097-e8a0-5494-a5ab-9b625796607d</td>\n",
       "      <td>Powered</td>\n",
       "      <td>63.0</td>\n",
       "      <td>scooter</td>\n",
       "      <td>0.06</td>\n",
       "      <td>5</td>\n",
       "    </tr>\n",
       "  </tbody>\n",
       "</table>\n",
       "</div>"
      ],
      "text/plain": [
       "          pubdatetime  latitude  longitude  \\\n",
       "0 2019-06-01 00:00:12   36.1202   -86.7534   \n",
       "1 2019-06-01 00:00:12   36.1630   -86.7765   \n",
       "\n",
       "                                        sumdid sumdtype  chargelevel  \\\n",
       "0  Powered93627c35-0f62-5b81-a78d-75a4a92ecf47  Powered         90.0   \n",
       "1  Powered17715097-e8a0-5494-a5ab-9b625796607d  Powered         63.0   \n",
       "\n",
       "  sumdgroup  costpermin  companyname  \n",
       "0   scooter        0.06            5  \n",
       "1   scooter        0.06            5  "
      ]
     },
     "execution_count": 22,
     "metadata": {},
     "output_type": "execute_result"
    }
   ],
   "source": [
    "june.pubdatetime = pd.to_datetime(june.pubdatetime)\n",
    "june.head(2)"
   ]
  },
  {
   "cell_type": "code",
   "execution_count": 23,
   "id": "8c42caac",
   "metadata": {},
   "outputs": [
    {
     "data": {
      "text/plain": [
       "array(['scooter', 'Scooter', 'bicycle'], dtype=object)"
      ]
     },
     "execution_count": 23,
     "metadata": {},
     "output_type": "execute_result"
    }
   ],
   "source": [
    "june.sumdgroup.unique()"
   ]
  },
  {
   "cell_type": "code",
   "execution_count": 24,
   "id": "a4932507",
   "metadata": {},
   "outputs": [],
   "source": [
    "june_scooters = june.loc[june.sumdgroup.isin(['scooter', 'Scooter'])]"
   ]
  },
  {
   "cell_type": "code",
   "execution_count": 25,
   "id": "39b93fe9",
   "metadata": {},
   "outputs": [],
   "source": [
    "june_scooters = june_scooters[['pubdatetime', 'latitude', 'longitude', 'sumdid', 'chargelevel', 'companyname']]"
   ]
  },
  {
   "cell_type": "code",
   "execution_count": 26,
   "id": "8e69e083",
   "metadata": {},
   "outputs": [
    {
     "name": "stdout",
     "output_type": "stream",
     "text": [
      "<class 'pandas.core.frame.DataFrame'>\n",
      "Int64Index: 28037408 entries, 0 to 28046094\n",
      "Data columns (total 6 columns):\n",
      " #   Column       Dtype         \n",
      "---  ------       -----         \n",
      " 0   pubdatetime  datetime64[ns]\n",
      " 1   latitude     float64       \n",
      " 2   longitude    float64       \n",
      " 3   sumdid       object        \n",
      " 4   chargelevel  float64       \n",
      " 5   companyname  int64         \n",
      "dtypes: datetime64[ns](1), float64(3), int64(1), object(1)\n",
      "memory usage: 1.5+ GB\n"
     ]
    }
   ],
   "source": [
    "june_scooters.info()"
   ]
  },
  {
   "cell_type": "code",
   "execution_count": 27,
   "id": "b90c49d1",
   "metadata": {},
   "outputs": [],
   "source": [
    "june_scooters.to_pickle(\"../data/june.pkl\")"
   ]
  },
  {
   "cell_type": "code",
   "execution_count": 28,
   "id": "98df1ff7",
   "metadata": {},
   "outputs": [
    {
     "name": "stdout",
     "output_type": "stream",
     "text": [
      "Wall time: 1.6 s\n"
     ]
    }
   ],
   "source": [
    "%%time\n",
    "june_test = pd.read_pickle(\"../data/june.pkl\")"
   ]
  },
  {
   "cell_type": "markdown",
   "id": "1cf4bbb8",
   "metadata": {},
   "source": [
    "JULY PICKLING"
   ]
  },
  {
   "cell_type": "code",
   "execution_count": 29,
   "id": "2a1dba73",
   "metadata": {},
   "outputs": [
    {
     "name": "stdout",
     "output_type": "stream",
     "text": [
      "Wall time: 24.9 s\n"
     ]
    },
    {
     "data": {
      "text/html": [
       "<div>\n",
       "<style scoped>\n",
       "    .dataframe tbody tr th:only-of-type {\n",
       "        vertical-align: middle;\n",
       "    }\n",
       "\n",
       "    .dataframe tbody tr th {\n",
       "        vertical-align: top;\n",
       "    }\n",
       "\n",
       "    .dataframe thead th {\n",
       "        text-align: right;\n",
       "    }\n",
       "</style>\n",
       "<table border=\"1\" class=\"dataframe\">\n",
       "  <thead>\n",
       "    <tr style=\"text-align: right;\">\n",
       "      <th></th>\n",
       "      <th>pubdatetime</th>\n",
       "      <th>latitude</th>\n",
       "      <th>longitude</th>\n",
       "      <th>sumdid</th>\n",
       "      <th>sumdtype</th>\n",
       "      <th>chargelevel</th>\n",
       "      <th>sumdgroup</th>\n",
       "      <th>costpermin</th>\n",
       "      <th>companyname</th>\n",
       "    </tr>\n",
       "  </thead>\n",
       "  <tbody>\n",
       "    <tr>\n",
       "      <th>0</th>\n",
       "      <td>2019-07-01 00:00:33.550000</td>\n",
       "      <td>36.156678</td>\n",
       "      <td>-86.809004</td>\n",
       "      <td>Powered635135</td>\n",
       "      <td>Powered</td>\n",
       "      <td>22.0</td>\n",
       "      <td>scooter</td>\n",
       "      <td>0.15</td>\n",
       "      <td>Lyft</td>\n",
       "    </tr>\n",
       "    <tr>\n",
       "      <th>1</th>\n",
       "      <td>2019-07-01 00:00:34.973000</td>\n",
       "      <td>36.145674</td>\n",
       "      <td>-86.794138</td>\n",
       "      <td>Powered790946</td>\n",
       "      <td>Powered</td>\n",
       "      <td>33.0</td>\n",
       "      <td>scooter</td>\n",
       "      <td>0.15</td>\n",
       "      <td>Lyft</td>\n",
       "    </tr>\n",
       "    <tr>\n",
       "      <th>2</th>\n",
       "      <td>2019-07-01 00:00:41.183000</td>\n",
       "      <td>36.179319</td>\n",
       "      <td>-86.751538</td>\n",
       "      <td>Powered570380</td>\n",
       "      <td>Powered</td>\n",
       "      <td>76.0</td>\n",
       "      <td>scooter</td>\n",
       "      <td>0.15</td>\n",
       "      <td>Lyft</td>\n",
       "    </tr>\n",
       "    <tr>\n",
       "      <th>3</th>\n",
       "      <td>2019-07-01 00:00:41.620000</td>\n",
       "      <td>36.152111</td>\n",
       "      <td>-86.803821</td>\n",
       "      <td>Powered240631</td>\n",
       "      <td>Powered</td>\n",
       "      <td>43.0</td>\n",
       "      <td>scooter</td>\n",
       "      <td>0.15</td>\n",
       "      <td>Lyft</td>\n",
       "    </tr>\n",
       "    <tr>\n",
       "      <th>4</th>\n",
       "      <td>2019-07-01 00:00:45.087000</td>\n",
       "      <td>36.149355</td>\n",
       "      <td>-86.797550</td>\n",
       "      <td>Powered970404</td>\n",
       "      <td>Powered</td>\n",
       "      <td>52.0</td>\n",
       "      <td>scooter</td>\n",
       "      <td>0.15</td>\n",
       "      <td>Lyft</td>\n",
       "    </tr>\n",
       "  </tbody>\n",
       "</table>\n",
       "</div>"
      ],
      "text/plain": [
       "                  pubdatetime   latitude  longitude         sumdid sumdtype  \\\n",
       "0  2019-07-01 00:00:33.550000  36.156678 -86.809004  Powered635135  Powered   \n",
       "1  2019-07-01 00:00:34.973000  36.145674 -86.794138  Powered790946  Powered   \n",
       "2  2019-07-01 00:00:41.183000  36.179319 -86.751538  Powered570380  Powered   \n",
       "3  2019-07-01 00:00:41.620000  36.152111 -86.803821  Powered240631  Powered   \n",
       "4  2019-07-01 00:00:45.087000  36.149355 -86.797550  Powered970404  Powered   \n",
       "\n",
       "   chargelevel sumdgroup  costpermin companyname  \n",
       "0         22.0   scooter        0.15        Lyft  \n",
       "1         33.0   scooter        0.15        Lyft  \n",
       "2         76.0   scooter        0.15        Lyft  \n",
       "3         43.0   scooter        0.15        Lyft  \n",
       "4         52.0   scooter        0.15        Lyft  "
      ]
     },
     "execution_count": 29,
     "metadata": {},
     "output_type": "execute_result"
    }
   ],
   "source": [
    "%%time\n",
    "july = pd.read_csv('../data/july.csv')\n",
    "july.head()"
   ]
  },
  {
   "cell_type": "code",
   "execution_count": 30,
   "id": "7bf545e4",
   "metadata": {},
   "outputs": [
    {
     "name": "stdout",
     "output_type": "stream",
     "text": [
      "<class 'pandas.core.frame.DataFrame'>\n",
      "RangeIndex: 25075445 entries, 0 to 25075444\n",
      "Data columns (total 9 columns):\n",
      " #   Column       Dtype  \n",
      "---  ------       -----  \n",
      " 0   pubdatetime  object \n",
      " 1   latitude     float64\n",
      " 2   longitude    float64\n",
      " 3   sumdid       object \n",
      " 4   sumdtype     object \n",
      " 5   chargelevel  float64\n",
      " 6   sumdgroup    object \n",
      " 7   costpermin   float64\n",
      " 8   companyname  object \n",
      "dtypes: float64(4), object(5)\n",
      "memory usage: 1.7+ GB\n"
     ]
    }
   ],
   "source": [
    "july.info()"
   ]
  },
  {
   "cell_type": "code",
   "execution_count": 31,
   "id": "1191c1cb",
   "metadata": {},
   "outputs": [
    {
     "data": {
      "text/plain": [
       "array(['Lyft', 'Bird', 'Spin', 'Bolt', 'Jump', 'Lime', 'Gotcha'],\n",
       "      dtype=object)"
      ]
     },
     "execution_count": 31,
     "metadata": {},
     "output_type": "execute_result"
    }
   ],
   "source": [
    "july.companyname.unique()"
   ]
  },
  {
   "cell_type": "code",
   "execution_count": 32,
   "id": "ce871c5c",
   "metadata": {},
   "outputs": [],
   "source": [
    "company_dict = {'Bird':0, 'Lyft': 1, 'Gotcha': 2, 'Lime': 3, 'Spin': 4, 'Jump': 5, 'Bolt': 6}"
   ]
  },
  {
   "cell_type": "code",
   "execution_count": 33,
   "id": "024f123e",
   "metadata": {},
   "outputs": [],
   "source": [
    "july.companyname = july.companyname.replace(company_dict)"
   ]
  },
  {
   "cell_type": "code",
   "execution_count": 34,
   "id": "540eb225",
   "metadata": {},
   "outputs": [
    {
     "data": {
      "text/html": [
       "<div>\n",
       "<style scoped>\n",
       "    .dataframe tbody tr th:only-of-type {\n",
       "        vertical-align: middle;\n",
       "    }\n",
       "\n",
       "    .dataframe tbody tr th {\n",
       "        vertical-align: top;\n",
       "    }\n",
       "\n",
       "    .dataframe thead th {\n",
       "        text-align: right;\n",
       "    }\n",
       "</style>\n",
       "<table border=\"1\" class=\"dataframe\">\n",
       "  <thead>\n",
       "    <tr style=\"text-align: right;\">\n",
       "      <th></th>\n",
       "      <th>pubdatetime</th>\n",
       "      <th>latitude</th>\n",
       "      <th>longitude</th>\n",
       "      <th>sumdid</th>\n",
       "      <th>sumdtype</th>\n",
       "      <th>chargelevel</th>\n",
       "      <th>sumdgroup</th>\n",
       "      <th>costpermin</th>\n",
       "      <th>companyname</th>\n",
       "    </tr>\n",
       "  </thead>\n",
       "  <tbody>\n",
       "    <tr>\n",
       "      <th>0</th>\n",
       "      <td>2019-07-01 00:00:33.550</td>\n",
       "      <td>36.156678</td>\n",
       "      <td>-86.809004</td>\n",
       "      <td>Powered635135</td>\n",
       "      <td>Powered</td>\n",
       "      <td>22.0</td>\n",
       "      <td>scooter</td>\n",
       "      <td>0.15</td>\n",
       "      <td>1</td>\n",
       "    </tr>\n",
       "    <tr>\n",
       "      <th>1</th>\n",
       "      <td>2019-07-01 00:00:34.973</td>\n",
       "      <td>36.145674</td>\n",
       "      <td>-86.794138</td>\n",
       "      <td>Powered790946</td>\n",
       "      <td>Powered</td>\n",
       "      <td>33.0</td>\n",
       "      <td>scooter</td>\n",
       "      <td>0.15</td>\n",
       "      <td>1</td>\n",
       "    </tr>\n",
       "    <tr>\n",
       "      <th>2</th>\n",
       "      <td>2019-07-01 00:00:41.183</td>\n",
       "      <td>36.179319</td>\n",
       "      <td>-86.751538</td>\n",
       "      <td>Powered570380</td>\n",
       "      <td>Powered</td>\n",
       "      <td>76.0</td>\n",
       "      <td>scooter</td>\n",
       "      <td>0.15</td>\n",
       "      <td>1</td>\n",
       "    </tr>\n",
       "  </tbody>\n",
       "</table>\n",
       "</div>"
      ],
      "text/plain": [
       "              pubdatetime   latitude  longitude         sumdid sumdtype  \\\n",
       "0 2019-07-01 00:00:33.550  36.156678 -86.809004  Powered635135  Powered   \n",
       "1 2019-07-01 00:00:34.973  36.145674 -86.794138  Powered790946  Powered   \n",
       "2 2019-07-01 00:00:41.183  36.179319 -86.751538  Powered570380  Powered   \n",
       "\n",
       "   chargelevel sumdgroup  costpermin  companyname  \n",
       "0         22.0   scooter        0.15            1  \n",
       "1         33.0   scooter        0.15            1  \n",
       "2         76.0   scooter        0.15            1  "
      ]
     },
     "execution_count": 34,
     "metadata": {},
     "output_type": "execute_result"
    }
   ],
   "source": [
    "july.pubdatetime = pd.to_datetime(july.pubdatetime)\n",
    "july.head(3)"
   ]
  },
  {
   "cell_type": "code",
   "execution_count": 35,
   "id": "a947a743",
   "metadata": {},
   "outputs": [
    {
     "data": {
      "text/plain": [
       "array(['scooter', 'Scooter', 'bicycle'], dtype=object)"
      ]
     },
     "execution_count": 35,
     "metadata": {},
     "output_type": "execute_result"
    }
   ],
   "source": [
    "july.sumdgroup.unique()"
   ]
  },
  {
   "cell_type": "code",
   "execution_count": 36,
   "id": "b0c42952",
   "metadata": {},
   "outputs": [],
   "source": [
    "july_scooters = july.loc[july.sumdgroup.isin(['scooter', 'Scooter'])]"
   ]
  },
  {
   "cell_type": "code",
   "execution_count": 37,
   "id": "308f8334",
   "metadata": {},
   "outputs": [],
   "source": [
    "july_scooters = july_scooters[['pubdatetime', 'latitude', 'longitude', 'sumdid', 'chargelevel', 'companyname']]"
   ]
  },
  {
   "cell_type": "code",
   "execution_count": 38,
   "id": "9f29cc41",
   "metadata": {},
   "outputs": [
    {
     "name": "stdout",
     "output_type": "stream",
     "text": [
      "<class 'pandas.core.frame.DataFrame'>\n",
      "Int64Index: 25066524 entries, 0 to 25075444\n",
      "Data columns (total 6 columns):\n",
      " #   Column       Dtype         \n",
      "---  ------       -----         \n",
      " 0   pubdatetime  datetime64[ns]\n",
      " 1   latitude     float64       \n",
      " 2   longitude    float64       \n",
      " 3   sumdid       object        \n",
      " 4   chargelevel  float64       \n",
      " 5   companyname  int64         \n",
      "dtypes: datetime64[ns](1), float64(3), int64(1), object(1)\n",
      "memory usage: 1.3+ GB\n"
     ]
    }
   ],
   "source": [
    "july_scooters.info()"
   ]
  },
  {
   "cell_type": "code",
   "execution_count": 39,
   "id": "81c23325",
   "metadata": {},
   "outputs": [],
   "source": [
    "july_scooters.to_pickle(\"../data/july.pkl\")"
   ]
  },
  {
   "cell_type": "code",
   "execution_count": 40,
   "id": "bebeeded",
   "metadata": {},
   "outputs": [
    {
     "name": "stdout",
     "output_type": "stream",
     "text": [
      "Wall time: 1.48 s\n"
     ]
    }
   ],
   "source": [
    "%%time\n",
    "july_test = pd.read_pickle(\"../data/july.pkl\")"
   ]
  },
  {
   "cell_type": "markdown",
   "id": "02fdce99",
   "metadata": {},
   "source": [
    "All 3 large data sets have now been pickled!"
   ]
  }
 ],
 "metadata": {
  "kernelspec": {
   "display_name": "Python 3",
   "language": "python",
   "name": "python3"
  },
  "language_info": {
   "codemirror_mode": {
    "name": "ipython",
    "version": 3
   },
   "file_extension": ".py",
   "mimetype": "text/x-python",
   "name": "python",
   "nbconvert_exporter": "python",
   "pygments_lexer": "ipython3",
   "version": "3.8.8"
  }
 },
 "nbformat": 4,
 "nbformat_minor": 5
}
