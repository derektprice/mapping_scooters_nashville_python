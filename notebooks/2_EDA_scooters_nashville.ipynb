{
 "cells": [
  {
   "cell_type": "markdown",
   "id": "856a9949",
   "metadata": {},
   "source": [
    "Import libraries"
   ]
  },
  {
   "cell_type": "code",
   "execution_count": 1,
   "id": "5697439e",
   "metadata": {},
   "outputs": [],
   "source": [
    "import pandas as pd\n",
    "import pickle\n",
    "import matplotlib.pyplot as plt\n",
    "import seaborn as sns\n",
    "%matplotlib inline"
   ]
  },
  {
   "cell_type": "markdown",
   "id": "8e85d352",
   "metadata": {},
   "source": [
    "#### Read the pickles back in"
   ]
  },
  {
   "cell_type": "code",
   "execution_count": 2,
   "id": "f5e66298",
   "metadata": {},
   "outputs": [
    {
     "data": {
      "text/html": [
       "<div>\n",
       "<style scoped>\n",
       "    .dataframe tbody tr th:only-of-type {\n",
       "        vertical-align: middle;\n",
       "    }\n",
       "\n",
       "    .dataframe tbody tr th {\n",
       "        vertical-align: top;\n",
       "    }\n",
       "\n",
       "    .dataframe thead th {\n",
       "        text-align: right;\n",
       "    }\n",
       "</style>\n",
       "<table border=\"1\" class=\"dataframe\">\n",
       "  <thead>\n",
       "    <tr style=\"text-align: right;\">\n",
       "      <th></th>\n",
       "      <th>pubdatetime</th>\n",
       "      <th>latitude</th>\n",
       "      <th>longitude</th>\n",
       "      <th>sumdid</th>\n",
       "      <th>chargelevel</th>\n",
       "      <th>companyname</th>\n",
       "    </tr>\n",
       "  </thead>\n",
       "  <tbody>\n",
       "    <tr>\n",
       "      <th>0</th>\n",
       "      <td>2019-05-01 00:01:41.247</td>\n",
       "      <td>36.136822</td>\n",
       "      <td>-86.799877</td>\n",
       "      <td>PoweredLIRL1</td>\n",
       "      <td>93.0</td>\n",
       "      <td>0</td>\n",
       "    </tr>\n",
       "    <tr>\n",
       "      <th>1</th>\n",
       "      <td>2019-05-01 00:01:41.247</td>\n",
       "      <td>36.191252</td>\n",
       "      <td>-86.772945</td>\n",
       "      <td>PoweredXWRWC</td>\n",
       "      <td>35.0</td>\n",
       "      <td>0</td>\n",
       "    </tr>\n",
       "    <tr>\n",
       "      <th>2</th>\n",
       "      <td>2019-05-01 00:01:41.247</td>\n",
       "      <td>36.144752</td>\n",
       "      <td>-86.806293</td>\n",
       "      <td>PoweredMEJEH</td>\n",
       "      <td>90.0</td>\n",
       "      <td>0</td>\n",
       "    </tr>\n",
       "    <tr>\n",
       "      <th>3</th>\n",
       "      <td>2019-05-01 00:01:41.247</td>\n",
       "      <td>36.162056</td>\n",
       "      <td>-86.774688</td>\n",
       "      <td>Powered1A7TC</td>\n",
       "      <td>88.0</td>\n",
       "      <td>0</td>\n",
       "    </tr>\n",
       "    <tr>\n",
       "      <th>4</th>\n",
       "      <td>2019-05-01 00:01:41.247</td>\n",
       "      <td>36.150973</td>\n",
       "      <td>-86.783109</td>\n",
       "      <td>Powered2TYEF</td>\n",
       "      <td>98.0</td>\n",
       "      <td>0</td>\n",
       "    </tr>\n",
       "  </tbody>\n",
       "</table>\n",
       "</div>"
      ],
      "text/plain": [
       "              pubdatetime   latitude  longitude        sumdid  chargelevel  \\\n",
       "0 2019-05-01 00:01:41.247  36.136822 -86.799877  PoweredLIRL1         93.0   \n",
       "1 2019-05-01 00:01:41.247  36.191252 -86.772945  PoweredXWRWC         35.0   \n",
       "2 2019-05-01 00:01:41.247  36.144752 -86.806293  PoweredMEJEH         90.0   \n",
       "3 2019-05-01 00:01:41.247  36.162056 -86.774688  Powered1A7TC         88.0   \n",
       "4 2019-05-01 00:01:41.247  36.150973 -86.783109  Powered2TYEF         98.0   \n",
       "\n",
       "   companyname  \n",
       "0            0  \n",
       "1            0  \n",
       "2            0  \n",
       "3            0  \n",
       "4            0  "
      ]
     },
     "execution_count": 2,
     "metadata": {},
     "output_type": "execute_result"
    }
   ],
   "source": [
    "may = pd.read_pickle(\"../data/may.pkl\")\n",
    "may.head()"
   ]
  },
  {
   "cell_type": "code",
   "execution_count": 3,
   "id": "5f94acf8",
   "metadata": {},
   "outputs": [
    {
     "data": {
      "text/html": [
       "<div>\n",
       "<style scoped>\n",
       "    .dataframe tbody tr th:only-of-type {\n",
       "        vertical-align: middle;\n",
       "    }\n",
       "\n",
       "    .dataframe tbody tr th {\n",
       "        vertical-align: top;\n",
       "    }\n",
       "\n",
       "    .dataframe thead th {\n",
       "        text-align: right;\n",
       "    }\n",
       "</style>\n",
       "<table border=\"1\" class=\"dataframe\">\n",
       "  <thead>\n",
       "    <tr style=\"text-align: right;\">\n",
       "      <th></th>\n",
       "      <th>pubdatetime</th>\n",
       "      <th>latitude</th>\n",
       "      <th>longitude</th>\n",
       "      <th>sumdid</th>\n",
       "      <th>chargelevel</th>\n",
       "      <th>companyname</th>\n",
       "    </tr>\n",
       "  </thead>\n",
       "  <tbody>\n",
       "    <tr>\n",
       "      <th>0</th>\n",
       "      <td>2019-06-01 00:00:12</td>\n",
       "      <td>36.1202</td>\n",
       "      <td>-86.7534</td>\n",
       "      <td>Powered93627c35-0f62-5b81-a78d-75a4a92ecf47</td>\n",
       "      <td>90.0</td>\n",
       "      <td>5</td>\n",
       "    </tr>\n",
       "    <tr>\n",
       "      <th>1</th>\n",
       "      <td>2019-06-01 00:00:12</td>\n",
       "      <td>36.1630</td>\n",
       "      <td>-86.7765</td>\n",
       "      <td>Powered17715097-e8a0-5494-a5ab-9b625796607d</td>\n",
       "      <td>63.0</td>\n",
       "      <td>5</td>\n",
       "    </tr>\n",
       "    <tr>\n",
       "      <th>2</th>\n",
       "      <td>2019-06-01 00:00:12</td>\n",
       "      <td>36.1202</td>\n",
       "      <td>-86.7533</td>\n",
       "      <td>Powerede5cb95ae-b091-5a93-86fa-ededd946d0d7</td>\n",
       "      <td>77.0</td>\n",
       "      <td>5</td>\n",
       "    </tr>\n",
       "    <tr>\n",
       "      <th>3</th>\n",
       "      <td>2019-06-01 00:00:12</td>\n",
       "      <td>36.1201</td>\n",
       "      <td>-86.7530</td>\n",
       "      <td>Powered71fa5e4f-1e17-54c4-936d-330df38cc2fa</td>\n",
       "      <td>0.0</td>\n",
       "      <td>5</td>\n",
       "    </tr>\n",
       "    <tr>\n",
       "      <th>4</th>\n",
       "      <td>2019-06-01 00:00:12</td>\n",
       "      <td>36.1622</td>\n",
       "      <td>-86.7806</td>\n",
       "      <td>Poweredfa549dd6-40bb-5757-ac87-2c2528f2bc68</td>\n",
       "      <td>2.0</td>\n",
       "      <td>5</td>\n",
       "    </tr>\n",
       "  </tbody>\n",
       "</table>\n",
       "</div>"
      ],
      "text/plain": [
       "          pubdatetime  latitude  longitude  \\\n",
       "0 2019-06-01 00:00:12   36.1202   -86.7534   \n",
       "1 2019-06-01 00:00:12   36.1630   -86.7765   \n",
       "2 2019-06-01 00:00:12   36.1202   -86.7533   \n",
       "3 2019-06-01 00:00:12   36.1201   -86.7530   \n",
       "4 2019-06-01 00:00:12   36.1622   -86.7806   \n",
       "\n",
       "                                        sumdid  chargelevel  companyname  \n",
       "0  Powered93627c35-0f62-5b81-a78d-75a4a92ecf47         90.0            5  \n",
       "1  Powered17715097-e8a0-5494-a5ab-9b625796607d         63.0            5  \n",
       "2  Powerede5cb95ae-b091-5a93-86fa-ededd946d0d7         77.0            5  \n",
       "3  Powered71fa5e4f-1e17-54c4-936d-330df38cc2fa          0.0            5  \n",
       "4  Poweredfa549dd6-40bb-5757-ac87-2c2528f2bc68          2.0            5  "
      ]
     },
     "execution_count": 3,
     "metadata": {},
     "output_type": "execute_result"
    }
   ],
   "source": [
    "june = pd.read_pickle(\"../data/june.pkl\")\n",
    "june.head()"
   ]
  },
  {
   "cell_type": "code",
   "execution_count": 4,
   "id": "bd979f15",
   "metadata": {},
   "outputs": [
    {
     "data": {
      "text/html": [
       "<div>\n",
       "<style scoped>\n",
       "    .dataframe tbody tr th:only-of-type {\n",
       "        vertical-align: middle;\n",
       "    }\n",
       "\n",
       "    .dataframe tbody tr th {\n",
       "        vertical-align: top;\n",
       "    }\n",
       "\n",
       "    .dataframe thead th {\n",
       "        text-align: right;\n",
       "    }\n",
       "</style>\n",
       "<table border=\"1\" class=\"dataframe\">\n",
       "  <thead>\n",
       "    <tr style=\"text-align: right;\">\n",
       "      <th></th>\n",
       "      <th>pubdatetime</th>\n",
       "      <th>latitude</th>\n",
       "      <th>longitude</th>\n",
       "      <th>sumdid</th>\n",
       "      <th>chargelevel</th>\n",
       "      <th>companyname</th>\n",
       "    </tr>\n",
       "  </thead>\n",
       "  <tbody>\n",
       "    <tr>\n",
       "      <th>0</th>\n",
       "      <td>2019-07-01 00:00:33.550</td>\n",
       "      <td>36.156678</td>\n",
       "      <td>-86.809004</td>\n",
       "      <td>Powered635135</td>\n",
       "      <td>22.0</td>\n",
       "      <td>1</td>\n",
       "    </tr>\n",
       "    <tr>\n",
       "      <th>1</th>\n",
       "      <td>2019-07-01 00:00:34.973</td>\n",
       "      <td>36.145674</td>\n",
       "      <td>-86.794138</td>\n",
       "      <td>Powered790946</td>\n",
       "      <td>33.0</td>\n",
       "      <td>1</td>\n",
       "    </tr>\n",
       "    <tr>\n",
       "      <th>2</th>\n",
       "      <td>2019-07-01 00:00:41.183</td>\n",
       "      <td>36.179319</td>\n",
       "      <td>-86.751538</td>\n",
       "      <td>Powered570380</td>\n",
       "      <td>76.0</td>\n",
       "      <td>1</td>\n",
       "    </tr>\n",
       "    <tr>\n",
       "      <th>3</th>\n",
       "      <td>2019-07-01 00:00:41.620</td>\n",
       "      <td>36.152111</td>\n",
       "      <td>-86.803821</td>\n",
       "      <td>Powered240631</td>\n",
       "      <td>43.0</td>\n",
       "      <td>1</td>\n",
       "    </tr>\n",
       "    <tr>\n",
       "      <th>4</th>\n",
       "      <td>2019-07-01 00:00:45.087</td>\n",
       "      <td>36.149355</td>\n",
       "      <td>-86.797550</td>\n",
       "      <td>Powered970404</td>\n",
       "      <td>52.0</td>\n",
       "      <td>1</td>\n",
       "    </tr>\n",
       "  </tbody>\n",
       "</table>\n",
       "</div>"
      ],
      "text/plain": [
       "              pubdatetime   latitude  longitude         sumdid  chargelevel  \\\n",
       "0 2019-07-01 00:00:33.550  36.156678 -86.809004  Powered635135         22.0   \n",
       "1 2019-07-01 00:00:34.973  36.145674 -86.794138  Powered790946         33.0   \n",
       "2 2019-07-01 00:00:41.183  36.179319 -86.751538  Powered570380         76.0   \n",
       "3 2019-07-01 00:00:41.620  36.152111 -86.803821  Powered240631         43.0   \n",
       "4 2019-07-01 00:00:45.087  36.149355 -86.797550  Powered970404         52.0   \n",
       "\n",
       "   companyname  \n",
       "0            1  \n",
       "1            1  \n",
       "2            1  \n",
       "3            1  \n",
       "4            1  "
      ]
     },
     "execution_count": 4,
     "metadata": {},
     "output_type": "execute_result"
    }
   ],
   "source": [
    "july = pd.read_pickle(\"../data/july.pkl\")\n",
    "july.head()"
   ]
  },
  {
   "cell_type": "markdown",
   "id": "a8547e6e",
   "metadata": {},
   "source": [
    "#### Put the company names back in"
   ]
  },
  {
   "cell_type": "code",
   "execution_count": 5,
   "id": "a9f1e7f6",
   "metadata": {},
   "outputs": [],
   "source": [
    "company_dict = {0:'Bird', 1:'Lyft', 2: 'Gotcha', 3:'Lime', 4: 'Spin', 5: 'Jump', 6: 'Bolt'}\n",
    "may.companyname = may.companyname.replace(company_dict)\n",
    "june.companyname = june.companyname.replace(company_dict)\n",
    "july.companyname = july.companyname.replace(company_dict)"
   ]
  },
  {
   "cell_type": "markdown",
   "id": "066ad05d",
   "metadata": {},
   "source": [
    "#### Get info on each file"
   ]
  },
  {
   "cell_type": "code",
   "execution_count": 6,
   "id": "ab5b7854",
   "metadata": {},
   "outputs": [
    {
     "name": "stdout",
     "output_type": "stream",
     "text": [
      "<class 'pandas.core.frame.DataFrame'>\n",
      "Int64Index: 20283582 entries, 0 to 20292502\n",
      "Data columns (total 6 columns):\n",
      " #   Column       Dtype         \n",
      "---  ------       -----         \n",
      " 0   pubdatetime  datetime64[ns]\n",
      " 1   latitude     float64       \n",
      " 2   longitude    float64       \n",
      " 3   sumdid       object        \n",
      " 4   chargelevel  float64       \n",
      " 5   companyname  object        \n",
      "dtypes: datetime64[ns](1), float64(3), object(2)\n",
      "memory usage: 1.1+ GB\n"
     ]
    }
   ],
   "source": [
    "may.info()"
   ]
  },
  {
   "cell_type": "code",
   "execution_count": 7,
   "id": "c567f65d",
   "metadata": {},
   "outputs": [
    {
     "name": "stdout",
     "output_type": "stream",
     "text": [
      "<class 'pandas.core.frame.DataFrame'>\n",
      "Int64Index: 28037408 entries, 0 to 28046094\n",
      "Data columns (total 6 columns):\n",
      " #   Column       Dtype         \n",
      "---  ------       -----         \n",
      " 0   pubdatetime  datetime64[ns]\n",
      " 1   latitude     float64       \n",
      " 2   longitude    float64       \n",
      " 3   sumdid       object        \n",
      " 4   chargelevel  float64       \n",
      " 5   companyname  object        \n",
      "dtypes: datetime64[ns](1), float64(3), object(2)\n",
      "memory usage: 1.5+ GB\n"
     ]
    }
   ],
   "source": [
    "june.info()"
   ]
  },
  {
   "cell_type": "code",
   "execution_count": 8,
   "id": "afe52e5c",
   "metadata": {},
   "outputs": [
    {
     "name": "stdout",
     "output_type": "stream",
     "text": [
      "<class 'pandas.core.frame.DataFrame'>\n",
      "Int64Index: 25066524 entries, 0 to 25075444\n",
      "Data columns (total 6 columns):\n",
      " #   Column       Dtype         \n",
      "---  ------       -----         \n",
      " 0   pubdatetime  datetime64[ns]\n",
      " 1   latitude     float64       \n",
      " 2   longitude    float64       \n",
      " 3   sumdid       object        \n",
      " 4   chargelevel  float64       \n",
      " 5   companyname  object        \n",
      "dtypes: datetime64[ns](1), float64(3), object(2)\n",
      "memory usage: 1.3+ GB\n"
     ]
    }
   ],
   "source": [
    "july.info()"
   ]
  },
  {
   "cell_type": "markdown",
   "id": "47a9e913",
   "metadata": {},
   "source": [
    "#### Get overview of null values in each file"
   ]
  },
  {
   "cell_type": "code",
   "execution_count": 9,
   "id": "0488f6a5",
   "metadata": {},
   "outputs": [
    {
     "data": {
      "text/plain": [
       "pubdatetime      0\n",
       "latitude         0\n",
       "longitude        0\n",
       "sumdid           0\n",
       "chargelevel    283\n",
       "companyname      0\n",
       "dtype: int64"
      ]
     },
     "execution_count": 9,
     "metadata": {},
     "output_type": "execute_result"
    }
   ],
   "source": [
    "may.isnull().sum()"
   ]
  },
  {
   "cell_type": "code",
   "execution_count": 10,
   "id": "013bc1b5",
   "metadata": {},
   "outputs": [
    {
     "data": {
      "text/plain": [
       "pubdatetime      0\n",
       "latitude         0\n",
       "longitude        0\n",
       "sumdid           0\n",
       "chargelevel    285\n",
       "companyname      0\n",
       "dtype: int64"
      ]
     },
     "execution_count": 10,
     "metadata": {},
     "output_type": "execute_result"
    }
   ],
   "source": [
    "june.isnull().sum()"
   ]
  },
  {
   "cell_type": "code",
   "execution_count": 11,
   "id": "d4dc5509",
   "metadata": {},
   "outputs": [
    {
     "data": {
      "text/plain": [
       "pubdatetime      0\n",
       "latitude         0\n",
       "longitude        0\n",
       "sumdid           0\n",
       "chargelevel    202\n",
       "companyname      0\n",
       "dtype: int64"
      ]
     },
     "execution_count": 11,
     "metadata": {},
     "output_type": "execute_result"
    }
   ],
   "source": [
    "july.isnull().sum()"
   ]
  },
  {
   "cell_type": "markdown",
   "id": "bd011e02",
   "metadata": {},
   "source": [
    "#### Get the value counts for each file"
   ]
  },
  {
   "cell_type": "code",
   "execution_count": 12,
   "id": "d3707126",
   "metadata": {},
   "outputs": [
    {
     "data": {
      "text/plain": [
       "Lime      7111655\n",
       "Bird      4334006\n",
       "Lyft      3112581\n",
       "Jump      2984630\n",
       "Spin      1301001\n",
       "Gotcha     915314\n",
       "Bolt       524395\n",
       "Name: companyname, dtype: int64"
      ]
     },
     "execution_count": 12,
     "metadata": {},
     "output_type": "execute_result"
    }
   ],
   "source": [
    "may.companyname.value_counts()"
   ]
  },
  {
   "cell_type": "code",
   "execution_count": 13,
   "id": "e5789fc0",
   "metadata": {},
   "outputs": [
    {
     "data": {
      "text/plain": [
       "Jump      8482893\n",
       "Lime      6152504\n",
       "Bird      4215302\n",
       "Lyft      3084229\n",
       "Spin      2507991\n",
       "Gotcha    1830453\n",
       "Bolt      1764036\n",
       "Name: companyname, dtype: int64"
      ]
     },
     "execution_count": 13,
     "metadata": {},
     "output_type": "execute_result"
    }
   ],
   "source": [
    "june.companyname.value_counts()"
   ]
  },
  {
   "cell_type": "code",
   "execution_count": 14,
   "id": "a52dcb28",
   "metadata": {},
   "outputs": [
    {
     "data": {
      "text/plain": [
       "Jump      10367575\n",
       "Bird       3702282\n",
       "Lime       3233573\n",
       "Lyft       2890233\n",
       "Gotcha     1933513\n",
       "Spin       1750581\n",
       "Bolt       1188767\n",
       "Name: companyname, dtype: int64"
      ]
     },
     "execution_count": 14,
     "metadata": {},
     "output_type": "execute_result"
    }
   ],
   "source": [
    "july.companyname.value_counts()"
   ]
  },
  {
   "cell_type": "code",
   "execution_count": 15,
   "id": "a665f30a",
   "metadata": {},
   "outputs": [
    {
     "name": "stdout",
     "output_type": "stream",
     "text": [
      "Index(['companyname'], dtype='object')\n"
     ]
    },
    {
     "data": {
      "image/png": "[encoded data removed]",
      "text/plain": [
       "<Figure size 432x288 with 1 Axes>"
      ]
     },
     "metadata": {
      "needs_background": "light"
     },
     "output_type": "display_data"
    }
   ],
   "source": [
    "may_cn_vals = may.companyname.value_counts()\n",
    "may_cn_vals = pd.DataFrame(may_cn_vals)\n",
    "print(may_cn_vals.columns)\n",
    "may_cn_vals.sort_values(\"companyname\")\n",
    "may_cn_vals.plot();"
   ]
  },
  {
   "cell_type": "code",
   "execution_count": 16,
   "id": "edb64d42",
   "metadata": {},
   "outputs": [
    {
     "name": "stdout",
     "output_type": "stream",
     "text": [
      "Index(['companyname'], dtype='object')\n"
     ]
    },
    {
     "data": {
      "image/png": "[encoded data removed]",
      "text/plain": [
       "<Figure size 432x288 with 1 Axes>"
      ]
     },
     "metadata": {
      "needs_background": "light"
     },
     "output_type": "display_data"
    }
   ],
   "source": [
    "june_cn_vals = june.companyname.value_counts()\n",
    "june_cn_vals = pd.DataFrame(june_cn_vals)\n",
    "print(june_cn_vals.columns)\n",
    "june_cn_vals.sort_values(\"companyname\")\n",
    "june_cn_vals.plot();"
   ]
  },
  {
   "cell_type": "code",
   "execution_count": 17,
   "id": "08d1648d",
   "metadata": {},
   "outputs": [
    {
     "name": "stdout",
     "output_type": "stream",
     "text": [
      "Index(['companyname'], dtype='object')\n"
     ]
    },
    {
     "data": {
      "image/png": "[encoded data removed]",
      "text/plain": [
       "<Figure size 432x288 with 1 Axes>"
      ]
     },
     "metadata": {
      "needs_background": "light"
     },
     "output_type": "display_data"
    }
   ],
   "source": [
    "july_cn_vals = july.companyname.value_counts()\n",
    "july_cn_vals = pd.DataFrame(july_cn_vals)\n",
    "print(july_cn_vals.columns)\n",
    "july_cn_vals.sort_values(\"companyname\")\n",
    "july_cn_vals.plot();"
   ]
  },
  {
   "cell_type": "markdown",
   "id": "4d78c4e1",
   "metadata": {},
   "source": [
    "#### Show the number of unique scooters each month"
   ]
  },
  {
   "cell_type": "code",
   "execution_count": 18,
   "id": "6c0e16b1",
   "metadata": {},
   "outputs": [
    {
     "data": {
      "text/plain": [
       "8303"
      ]
     },
     "execution_count": 18,
     "metadata": {},
     "output_type": "execute_result"
    }
   ],
   "source": [
    "may_n_scooters = int(may.sumdid.nunique())\n",
    "may_n_scooters"
   ]
  },
  {
   "cell_type": "code",
   "execution_count": 19,
   "id": "c244678c",
   "metadata": {},
   "outputs": [
    {
     "data": {
      "text/plain": [
       "7822"
      ]
     },
     "execution_count": 19,
     "metadata": {},
     "output_type": "execute_result"
    }
   ],
   "source": [
    "june_n_scooters = int(june.sumdid.nunique())\n",
    "june_n_scooters"
   ]
  },
  {
   "cell_type": "code",
   "execution_count": 20,
   "id": "12562f78",
   "metadata": {},
   "outputs": [
    {
     "data": {
      "text/plain": [
       "6787"
      ]
     },
     "execution_count": 20,
     "metadata": {},
     "output_type": "execute_result"
    }
   ],
   "source": [
    "july_n_scooters = int(july.sumdid.nunique())\n",
    "july_n_scooters"
   ]
  },
  {
   "cell_type": "markdown",
   "id": "4febf360",
   "metadata": {},
   "source": [
    "#### Find the mean data for charge levels"
   ]
  },
  {
   "cell_type": "code",
   "execution_count": 21,
   "id": "6ed5ef3e",
   "metadata": {},
   "outputs": [
    {
     "data": {
      "text/plain": [
       "65.90530320389674"
      ]
     },
     "execution_count": 21,
     "metadata": {},
     "output_type": "execute_result"
    }
   ],
   "source": [
    "may.chargelevel.mean()"
   ]
  },
  {
   "cell_type": "code",
   "execution_count": 22,
   "id": "199cfecd",
   "metadata": {},
   "outputs": [
    {
     "data": {
      "text/plain": [
       "58.30081921856087"
      ]
     },
     "execution_count": 22,
     "metadata": {},
     "output_type": "execute_result"
    }
   ],
   "source": [
    "june.chargelevel.mean()"
   ]
  },
  {
   "cell_type": "code",
   "execution_count": 23,
   "id": "20620b08",
   "metadata": {},
   "outputs": [
    {
     "data": {
      "text/plain": [
       "51.51018639711802"
      ]
     },
     "execution_count": 23,
     "metadata": {},
     "output_type": "execute_result"
    }
   ],
   "source": [
    "july.chargelevel.mean()"
   ]
  },
  {
   "cell_type": "markdown",
   "id": "1d536f2b",
   "metadata": {},
   "source": [
    "#### Charge levels by Company"
   ]
  },
  {
   "cell_type": "code",
   "execution_count": 24,
   "id": "d3fde142",
   "metadata": {},
   "outputs": [
    {
     "data": {
      "text/plain": [
       "Text(0.5, 1.0, 'Companies and Charge Levels in May')"
      ]
     },
     "execution_count": 24,
     "metadata": {},
     "output_type": "execute_result"
    },
    {
     "data": {
      "image/png": "[encoded data removed]",
      "text/plain": [
       "<Figure size 432x288 with 1 Axes>"
      ]
     },
     "metadata": {
      "needs_background": "light"
     },
     "output_type": "display_data"
    }
   ],
   "source": [
    "plt.plot('companyname', 'chargelevel', marker= 'o', linestyle='none', data=may)\n",
    "plt.xticks(rotation=70)\n",
    "plt.title(\"Companies and Charge Levels in May\")"
   ]
  },
  {
   "cell_type": "code",
   "execution_count": 25,
   "id": "5ed68768",
   "metadata": {},
   "outputs": [
    {
     "data": {
      "text/plain": [
       "Text(0.5, 1.0, 'Companies and Charge Levels in June')"
      ]
     },
     "execution_count": 25,
     "metadata": {},
     "output_type": "execute_result"
    },
    {
     "data": {
      "image/png": "[encoded data removed]",
      "text/plain": [
       "<Figure size 432x288 with 1 Axes>"
      ]
     },
     "metadata": {
      "needs_background": "light"
     },
     "output_type": "display_data"
    }
   ],
   "source": [
    "plt.plot('companyname', 'chargelevel', marker= 'o', linestyle='none', data=june)\n",
    "plt.xticks(rotation=70)\n",
    "plt.title(\"Companies and Charge Levels in June\")"
   ]
  },
  {
   "cell_type": "code",
   "execution_count": 26,
   "id": "9fc8af41",
   "metadata": {},
   "outputs": [
    {
     "data": {
      "text/plain": [
       "Text(0.5, 1.0, 'Companies and Charge Levels in July')"
      ]
     },
     "execution_count": 26,
     "metadata": {},
     "output_type": "execute_result"
    },
    {
     "data": {
      "image/png": "[encoded data removed]",
      "text/plain": [
       "<Figure size 432x288 with 1 Axes>"
      ]
     },
     "metadata": {
      "needs_background": "light"
     },
     "output_type": "display_data"
    }
   ],
   "source": [
    "plt.plot('companyname', 'chargelevel', marker= 'o', linestyle='none', data=july)\n",
    "plt.xticks(rotation=70)\n",
    "plt.title(\"Companies and Charge Levels in July\")"
   ]
  },
  {
   "cell_type": "markdown",
   "id": "cf42a944",
   "metadata": {},
   "source": [
    "#### Show the charge level for "
   ]
  },
  {
   "cell_type": "code",
   "execution_count": 27,
   "id": "53cbb007",
   "metadata": {},
   "outputs": [
    {
     "data": {
      "text/plain": [
       "<matplotlib.collections.PathCollection at 0x25cb9f5e760>"
      ]
     },
     "execution_count": 27,
     "metadata": {},
     "output_type": "execute_result"
    },
    {
     "data": {
      "image/png": "[encoded data removed]",
      "text/plain": [
       "<Figure size 432x288 with 1 Axes>"
      ]
     },
     "metadata": {
      "needs_background": "light"
     },
     "output_type": "display_data"
    }
   ],
   "source": [
    "plt.scatter('companyname', 'chargelevel', data=may)"
   ]
  },
  {
   "cell_type": "markdown",
   "id": "d4d05224",
   "metadata": {},
   "source": [
    "#### Create a df that will let us grab May's locations by time of day"
   ]
  },
  {
   "cell_type": "code",
   "execution_count": 28,
   "id": "62139758",
   "metadata": {},
   "outputs": [
    {
     "data": {
      "text/html": [
       "<div>\n",
       "<style scoped>\n",
       "    .dataframe tbody tr th:only-of-type {\n",
       "        vertical-align: middle;\n",
       "    }\n",
       "\n",
       "    .dataframe tbody tr th {\n",
       "        vertical-align: top;\n",
       "    }\n",
       "\n",
       "    .dataframe thead th {\n",
       "        text-align: right;\n",
       "    }\n",
       "</style>\n",
       "<table border=\"1\" class=\"dataframe\">\n",
       "  <thead>\n",
       "    <tr style=\"text-align: right;\">\n",
       "      <th></th>\n",
       "      <th>companyname</th>\n",
       "      <th>chargelevel</th>\n",
       "      <th>pubdatetime</th>\n",
       "      <th>sumdid</th>\n",
       "    </tr>\n",
       "  </thead>\n",
       "  <tbody>\n",
       "    <tr>\n",
       "      <th>0</th>\n",
       "      <td>Bird</td>\n",
       "      <td>93.0</td>\n",
       "      <td>2019-05-01 00:01:41.247</td>\n",
       "      <td>PoweredLIRL1</td>\n",
       "    </tr>\n",
       "    <tr>\n",
       "      <th>1</th>\n",
       "      <td>Bird</td>\n",
       "      <td>35.0</td>\n",
       "      <td>2019-05-01 00:01:41.247</td>\n",
       "      <td>PoweredXWRWC</td>\n",
       "    </tr>\n",
       "    <tr>\n",
       "      <th>2</th>\n",
       "      <td>Bird</td>\n",
       "      <td>90.0</td>\n",
       "      <td>2019-05-01 00:01:41.247</td>\n",
       "      <td>PoweredMEJEH</td>\n",
       "    </tr>\n",
       "    <tr>\n",
       "      <th>3</th>\n",
       "      <td>Bird</td>\n",
       "      <td>88.0</td>\n",
       "      <td>2019-05-01 00:01:41.247</td>\n",
       "      <td>Powered1A7TC</td>\n",
       "    </tr>\n",
       "    <tr>\n",
       "      <th>4</th>\n",
       "      <td>Bird</td>\n",
       "      <td>98.0</td>\n",
       "      <td>2019-05-01 00:01:41.247</td>\n",
       "      <td>Powered2TYEF</td>\n",
       "    </tr>\n",
       "    <tr>\n",
       "      <th>...</th>\n",
       "      <td>...</td>\n",
       "      <td>...</td>\n",
       "      <td>...</td>\n",
       "      <td>...</td>\n",
       "    </tr>\n",
       "    <tr>\n",
       "      <th>20292498</th>\n",
       "      <td>Jump</td>\n",
       "      <td>49.0</td>\n",
       "      <td>2019-05-31 23:59:42.000</td>\n",
       "      <td>Poweredbb60ef04-c719-597f-805f-20978964fd8c</td>\n",
       "    </tr>\n",
       "    <tr>\n",
       "      <th>20292499</th>\n",
       "      <td>Jump</td>\n",
       "      <td>68.0</td>\n",
       "      <td>2019-05-31 23:59:42.000</td>\n",
       "      <td>Powered9f5743ed-7f81-539b-9e37-6503d54445d3</td>\n",
       "    </tr>\n",
       "    <tr>\n",
       "      <th>20292500</th>\n",
       "      <td>Jump</td>\n",
       "      <td>53.0</td>\n",
       "      <td>2019-05-31 23:59:42.000</td>\n",
       "      <td>Powered5744d1db-3bbe-55e5-9a23-a93828ba54fc</td>\n",
       "    </tr>\n",
       "    <tr>\n",
       "      <th>20292501</th>\n",
       "      <td>Jump</td>\n",
       "      <td>42.0</td>\n",
       "      <td>2019-05-31 23:59:42.000</td>\n",
       "      <td>Poweredad1d6d3b-162a-5bec-bffd-cac4ac8dee1c</td>\n",
       "    </tr>\n",
       "    <tr>\n",
       "      <th>20292502</th>\n",
       "      <td>Jump</td>\n",
       "      <td>76.0</td>\n",
       "      <td>2019-05-31 23:59:42.000</td>\n",
       "      <td>Powered8505008e-97c9-5003-8975-2ea6b2634fa0</td>\n",
       "    </tr>\n",
       "  </tbody>\n",
       "</table>\n",
       "<p>20283582 rows × 4 columns</p>\n",
       "</div>"
      ],
      "text/plain": [
       "         companyname  chargelevel             pubdatetime  \\\n",
       "0               Bird         93.0 2019-05-01 00:01:41.247   \n",
       "1               Bird         35.0 2019-05-01 00:01:41.247   \n",
       "2               Bird         90.0 2019-05-01 00:01:41.247   \n",
       "3               Bird         88.0 2019-05-01 00:01:41.247   \n",
       "4               Bird         98.0 2019-05-01 00:01:41.247   \n",
       "...              ...          ...                     ...   \n",
       "20292498        Jump         49.0 2019-05-31 23:59:42.000   \n",
       "20292499        Jump         68.0 2019-05-31 23:59:42.000   \n",
       "20292500        Jump         53.0 2019-05-31 23:59:42.000   \n",
       "20292501        Jump         42.0 2019-05-31 23:59:42.000   \n",
       "20292502        Jump         76.0 2019-05-31 23:59:42.000   \n",
       "\n",
       "                                               sumdid  \n",
       "0                                        PoweredLIRL1  \n",
       "1                                        PoweredXWRWC  \n",
       "2                                        PoweredMEJEH  \n",
       "3                                        Powered1A7TC  \n",
       "4                                        Powered2TYEF  \n",
       "...                                               ...  \n",
       "20292498  Poweredbb60ef04-c719-597f-805f-20978964fd8c  \n",
       "20292499  Powered9f5743ed-7f81-539b-9e37-6503d54445d3  \n",
       "20292500  Powered5744d1db-3bbe-55e5-9a23-a93828ba54fc  \n",
       "20292501  Poweredad1d6d3b-162a-5bec-bffd-cac4ac8dee1c  \n",
       "20292502  Powered8505008e-97c9-5003-8975-2ea6b2634fa0  \n",
       "\n",
       "[20283582 rows x 4 columns]"
      ]
     },
     "execution_count": 28,
     "metadata": {},
     "output_type": "execute_result"
    }
   ],
   "source": [
    "may_avg_charge = may[['companyname', 'chargelevel', 'pubdatetime', 'sumdid']]\n",
    "may_avg_charge.sort_values(by=['pubdatetime','sumdid'])\n",
    "may_avg_charge.groupby(by=['pubdatetime', 'sumdid'])\n",
    "may_avg_charge"
   ]
  },
  {
   "cell_type": "markdown",
   "id": "ff84b2b6",
   "metadata": {},
   "source": [
    "#### Make variables for sectors of the day - morning, midday, afternoon, evening.\n",
    "\n",
    "##### I may want to create a df for each day with each individual scooter and then the column headers are those sectors of the day, while their contents contain their lat/lng along with their charge level."
   ]
  },
  {
   "cell_type": "code",
   "execution_count": 29,
   "id": "3d5b62c1",
   "metadata": {},
   "outputs": [],
   "source": [
    "# morning = # 6-9:30am\n",
    "# midday = # 9:30am-11:00am\n",
    "# lunchtime = # 11:00am-1:00pm\n",
    "# afternoon = # 1:00pm-4:00pm\n",
    "# evening = # 4:00pm - 7:00pm\n",
    "# night = # 7:00pm - 11:59pm"
   ]
  },
  {
   "cell_type": "markdown",
   "id": "c14d64a7",
   "metadata": {},
   "source": [
    "#### Create a list of the days"
   ]
  },
  {
   "cell_type": "code",
   "execution_count": 30,
   "id": "13df482d",
   "metadata": {},
   "outputs": [],
   "source": [
    "month_lengths = {'January':31, 'February':28, 'March':31, 'April':30, 'May':31, 'June':30, 'July':31, 'August':31, 'September':30, 'October':31, 'November':30, 'December':31}"
   ]
  },
  {
   "cell_type": "markdown",
   "id": "7b5e6797",
   "metadata": {},
   "source": [
    "#### Create a function to grab each day's sets of coordinates"
   ]
  },
  {
   "cell_type": "code",
   "execution_count": 38,
   "id": "01da512d",
   "metadata": {},
   "outputs": [
    {
     "data": {
      "text/html": [
       "<div>\n",
       "<style scoped>\n",
       "    .dataframe tbody tr th:only-of-type {\n",
       "        vertical-align: middle;\n",
       "    }\n",
       "\n",
       "    .dataframe tbody tr th {\n",
       "        vertical-align: top;\n",
       "    }\n",
       "\n",
       "    .dataframe thead th {\n",
       "        text-align: right;\n",
       "    }\n",
       "</style>\n",
       "<table border=\"1\" class=\"dataframe\">\n",
       "  <thead>\n",
       "    <tr style=\"text-align: right;\">\n",
       "      <th></th>\n",
       "      <th>pubdatetime</th>\n",
       "      <th>latitude</th>\n",
       "      <th>longitude</th>\n",
       "      <th>sumdid</th>\n",
       "      <th>chargelevel</th>\n",
       "      <th>companyname</th>\n",
       "    </tr>\n",
       "  </thead>\n",
       "  <tbody>\n",
       "    <tr>\n",
       "      <th>18275447</th>\n",
       "      <td>2019-05-30 00:00:24.513</td>\n",
       "      <td>36.121350</td>\n",
       "      <td>-86.770312</td>\n",
       "      <td>Powered2149</td>\n",
       "      <td>84.0</td>\n",
       "      <td>Gotcha</td>\n",
       "    </tr>\n",
       "    <tr>\n",
       "      <th>18275448</th>\n",
       "      <td>2019-05-30 00:00:24.513</td>\n",
       "      <td>36.121973</td>\n",
       "      <td>-86.770376</td>\n",
       "      <td>Powered2499</td>\n",
       "      <td>91.0</td>\n",
       "      <td>Gotcha</td>\n",
       "    </tr>\n",
       "    <tr>\n",
       "      <th>18275449</th>\n",
       "      <td>2019-05-30 00:00:24.513</td>\n",
       "      <td>36.163169</td>\n",
       "      <td>-86.776097</td>\n",
       "      <td>Powered516</td>\n",
       "      <td>83.0</td>\n",
       "      <td>Gotcha</td>\n",
       "    </tr>\n",
       "    <tr>\n",
       "      <th>18275450</th>\n",
       "      <td>2019-05-30 00:00:24.513</td>\n",
       "      <td>36.121376</td>\n",
       "      <td>-86.770386</td>\n",
       "      <td>Powered1981</td>\n",
       "      <td>89.0</td>\n",
       "      <td>Gotcha</td>\n",
       "    </tr>\n",
       "    <tr>\n",
       "      <th>18275451</th>\n",
       "      <td>2019-05-30 00:00:24.513</td>\n",
       "      <td>36.121392</td>\n",
       "      <td>-86.770620</td>\n",
       "      <td>Powered1947</td>\n",
       "      <td>94.0</td>\n",
       "      <td>Gotcha</td>\n",
       "    </tr>\n",
       "    <tr>\n",
       "      <th>...</th>\n",
       "      <td>...</td>\n",
       "      <td>...</td>\n",
       "      <td>...</td>\n",
       "      <td>...</td>\n",
       "      <td>...</td>\n",
       "      <td>...</td>\n",
       "    </tr>\n",
       "    <tr>\n",
       "      <th>19293755</th>\n",
       "      <td>2019-05-30 23:59:59.803</td>\n",
       "      <td>36.166432</td>\n",
       "      <td>-86.766970</td>\n",
       "      <td>Powered117971</td>\n",
       "      <td>34.0</td>\n",
       "      <td>Lyft</td>\n",
       "    </tr>\n",
       "    <tr>\n",
       "      <th>19293756</th>\n",
       "      <td>2019-05-30 23:59:59.803</td>\n",
       "      <td>36.156493</td>\n",
       "      <td>-86.782028</td>\n",
       "      <td>Powered837779</td>\n",
       "      <td>69.0</td>\n",
       "      <td>Lyft</td>\n",
       "    </tr>\n",
       "    <tr>\n",
       "      <th>19293757</th>\n",
       "      <td>2019-05-30 23:59:59.830</td>\n",
       "      <td>36.150878</td>\n",
       "      <td>-86.782803</td>\n",
       "      <td>Powered218969</td>\n",
       "      <td>74.0</td>\n",
       "      <td>Lyft</td>\n",
       "    </tr>\n",
       "    <tr>\n",
       "      <th>19293758</th>\n",
       "      <td>2019-05-30 23:59:59.860</td>\n",
       "      <td>36.145698</td>\n",
       "      <td>-86.805051</td>\n",
       "      <td>Powered854338</td>\n",
       "      <td>72.0</td>\n",
       "      <td>Lyft</td>\n",
       "    </tr>\n",
       "    <tr>\n",
       "      <th>19293759</th>\n",
       "      <td>2019-05-30 23:59:59.890</td>\n",
       "      <td>36.150023</td>\n",
       "      <td>-86.779272</td>\n",
       "      <td>Powered214302</td>\n",
       "      <td>16.0</td>\n",
       "      <td>Lyft</td>\n",
       "    </tr>\n",
       "  </tbody>\n",
       "</table>\n",
       "<p>1018025 rows × 6 columns</p>\n",
       "</div>"
      ],
      "text/plain": [
       "                     pubdatetime   latitude  longitude         sumdid  \\\n",
       "18275447 2019-05-30 00:00:24.513  36.121350 -86.770312    Powered2149   \n",
       "18275448 2019-05-30 00:00:24.513  36.121973 -86.770376    Powered2499   \n",
       "18275449 2019-05-30 00:00:24.513  36.163169 -86.776097     Powered516   \n",
       "18275450 2019-05-30 00:00:24.513  36.121376 -86.770386    Powered1981   \n",
       "18275451 2019-05-30 00:00:24.513  36.121392 -86.770620    Powered1947   \n",
       "...                          ...        ...        ...            ...   \n",
       "19293755 2019-05-30 23:59:59.803  36.166432 -86.766970  Powered117971   \n",
       "19293756 2019-05-30 23:59:59.803  36.156493 -86.782028  Powered837779   \n",
       "19293757 2019-05-30 23:59:59.830  36.150878 -86.782803  Powered218969   \n",
       "19293758 2019-05-30 23:59:59.860  36.145698 -86.805051  Powered854338   \n",
       "19293759 2019-05-30 23:59:59.890  36.150023 -86.779272  Powered214302   \n",
       "\n",
       "          chargelevel companyname  \n",
       "18275447         84.0      Gotcha  \n",
       "18275448         91.0      Gotcha  \n",
       "18275449         83.0      Gotcha  \n",
       "18275450         89.0      Gotcha  \n",
       "18275451         94.0      Gotcha  \n",
       "...               ...         ...  \n",
       "19293755         34.0        Lyft  \n",
       "19293756         69.0        Lyft  \n",
       "19293757         74.0        Lyft  \n",
       "19293758         72.0        Lyft  \n",
       "19293759         16.0        Lyft  \n",
       "\n",
       "[1018025 rows x 6 columns]"
      ]
     },
     "execution_count": 38,
     "metadata": {},
     "output_type": "execute_result"
    }
   ],
   "source": [
    "def day_df(df, month):\n",
    "    i = 1\n",
    "    while i < month_lengths[month]:\n",
    "        for i in range(1,month_lengths[month]):\n",
    "            start_date = \"2019-05-\" + str(i)\n",
    "            end_date = \"2019-05-\" + str(i+1)\n",
    "            mask = (df['pubdatetime'] > start_date) & (df['pubdatetime'] <= end_date)\n",
    "            may1_2 = df.loc[mask]\n",
    "            i+=1\n",
    "    return may1_2\n",
    "    \n",
    "day_df(may, \"May\")"
   ]
  },
  {
   "cell_type": "code",
   "execution_count": 50,
   "id": "4458cad9",
   "metadata": {},
   "outputs": [
    {
     "data": {
      "text/plain": [
       "PoweredDMHQVTJWMZWVU    288\n",
       "Powered453              288\n",
       "PoweredFTMUQQPAHOWBB    288\n",
       "Powered6NZEAEJ5M4MZ2    288\n",
       "Powered699              288\n",
       "                       ... \n",
       "Powered6599831            1\n",
       "Powered9QWUP              1\n",
       "Powered577651             1\n",
       "Powered3953444            1\n",
       "Powered3B6IG              1\n",
       "Name: sumdid, Length: 5375, dtype: int64"
      ]
     },
     "execution_count": 50,
     "metadata": {},
     "output_type": "execute_result"
    }
   ],
   "source": [
    "def n_loc_scooters(df):\n",
    "    n_loc = df.sumdid.value_counts()\n",
    "    df.geometry = str(df.longitude) + str(df.latitude)\n",
    "    return n_loc\n",
    "n_loc_scooters(day_df(may, \"May\"))"
   ]
  },
  {
   "cell_type": "markdown",
   "id": "742eda41",
   "metadata": {},
   "source": [
    "for each chunk of 10 or so, geoplot the coords of each scooter and its time."
   ]
  },
  {
   "cell_type": "markdown",
   "id": "2b8bc474",
   "metadata": {},
   "source": [
    "for each unique sumdid, create list of all coordinates in the day. This should be one column unto itself"
   ]
  },
  {
   "cell_type": "code",
   "execution_count": 52,
   "id": "6c5c8cc1",
   "metadata": {},
   "outputs": [],
   "source": [
    "may_uniq_scooters = may.sumdid.unique().tolist()"
   ]
  },
  {
   "cell_type": "code",
   "execution_count": null,
   "id": "7674f655",
   "metadata": {},
   "outputs": [],
   "source": []
  },
  {
   "cell_type": "code",
   "execution_count": null,
   "id": "a62b20cd",
   "metadata": {},
   "outputs": [],
   "source": []
  },
  {
   "cell_type": "code",
   "execution_count": null,
   "id": "43516081",
   "metadata": {},
   "outputs": [],
   "source": []
  },
  {
   "cell_type": "code",
   "execution_count": null,
   "id": "28fff99d",
   "metadata": {},
   "outputs": [],
   "source": []
  },
  {
   "cell_type": "markdown",
   "id": "d3e46363",
   "metadata": {},
   "source": [
    "#### Create a GeoDataFrame from the day"
   ]
  },
  {
   "cell_type": "code",
   "execution_count": 31,
   "id": "0e28c537",
   "metadata": {},
   "outputs": [],
   "source": [
    "# may_gdf = gpd.GeoDataFrame(may, geometry=gpd.points_from_xy(may.longitude, may.latitude))\n",
    "# may_gdf.head()\n",
    "# type(may_gdf)"
   ]
  },
  {
   "cell_type": "code",
   "execution_count": null,
   "id": "dd792b49",
   "metadata": {},
   "outputs": [],
   "source": []
  }
 ],
 "metadata": {
  "kernelspec": {
   "display_name": "Python 3",
   "language": "python",
   "name": "python3"
  },
  "language_info": {
   "codemirror_mode": {
    "name": "ipython",
    "version": 3
   },
   "file_extension": ".py",
   "mimetype": "text/x-python",
   "name": "python",
   "nbconvert_exporter": "python",
   "pygments_lexer": "ipython3",
   "version": "3.8.8"
  }
 },
 "nbformat": 4,
 "nbformat_minor": 5
}
