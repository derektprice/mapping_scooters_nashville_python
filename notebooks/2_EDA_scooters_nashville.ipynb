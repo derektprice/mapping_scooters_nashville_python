{
 "cells": [
  {
   "cell_type": "markdown",
   "id": "856a9949",
   "metadata": {},
   "source": [
    "Import libraries"
   ]
  },
  {
   "cell_type": "code",
   "execution_count": 42,
   "id": "5697439e",
   "metadata": {},
   "outputs": [],
   "source": [
    "import pandas as pd\n",
    "import pickle\n",
    "import matplotlib.pyplot as plt\n",
    "import seaborn as sns\n",
    "import geopandas as gpd\n",
    "%matplotlib inline"
   ]
  },
  {
   "cell_type": "markdown",
   "id": "8e85d352",
   "metadata": {},
   "source": [
    "#### Read the pickles back in"
   ]
  },
  {
   "cell_type": "code",
   "execution_count": 2,
   "id": "f5e66298",
   "metadata": {},
   "outputs": [
    {
     "data": {
      "text/html": [
       "<div>\n",
       "<style scoped>\n",
       "    .dataframe tbody tr th:only-of-type {\n",
       "        vertical-align: middle;\n",
       "    }\n",
       "\n",
       "    .dataframe tbody tr th {\n",
       "        vertical-align: top;\n",
       "    }\n",
       "\n",
       "    .dataframe thead th {\n",
       "        text-align: right;\n",
       "    }\n",
       "</style>\n",
       "<table border=\"1\" class=\"dataframe\">\n",
       "  <thead>\n",
       "    <tr style=\"text-align: right;\">\n",
       "      <th></th>\n",
       "      <th>pubdatetime</th>\n",
       "      <th>latitude</th>\n",
       "      <th>longitude</th>\n",
       "      <th>sumdid</th>\n",
       "      <th>chargelevel</th>\n",
       "      <th>companyname</th>\n",
       "    </tr>\n",
       "  </thead>\n",
       "  <tbody>\n",
       "    <tr>\n",
       "      <th>0</th>\n",
       "      <td>2019-05-01 00:01:41.247</td>\n",
       "      <td>36.136822</td>\n",
       "      <td>-86.799877</td>\n",
       "      <td>PoweredLIRL1</td>\n",
       "      <td>93.0</td>\n",
       "      <td>0</td>\n",
       "    </tr>\n",
       "    <tr>\n",
       "      <th>1</th>\n",
       "      <td>2019-05-01 00:01:41.247</td>\n",
       "      <td>36.191252</td>\n",
       "      <td>-86.772945</td>\n",
       "      <td>PoweredXWRWC</td>\n",
       "      <td>35.0</td>\n",
       "      <td>0</td>\n",
       "    </tr>\n",
       "    <tr>\n",
       "      <th>2</th>\n",
       "      <td>2019-05-01 00:01:41.247</td>\n",
       "      <td>36.144752</td>\n",
       "      <td>-86.806293</td>\n",
       "      <td>PoweredMEJEH</td>\n",
       "      <td>90.0</td>\n",
       "      <td>0</td>\n",
       "    </tr>\n",
       "    <tr>\n",
       "      <th>3</th>\n",
       "      <td>2019-05-01 00:01:41.247</td>\n",
       "      <td>36.162056</td>\n",
       "      <td>-86.774688</td>\n",
       "      <td>Powered1A7TC</td>\n",
       "      <td>88.0</td>\n",
       "      <td>0</td>\n",
       "    </tr>\n",
       "    <tr>\n",
       "      <th>4</th>\n",
       "      <td>2019-05-01 00:01:41.247</td>\n",
       "      <td>36.150973</td>\n",
       "      <td>-86.783109</td>\n",
       "      <td>Powered2TYEF</td>\n",
       "      <td>98.0</td>\n",
       "      <td>0</td>\n",
       "    </tr>\n",
       "  </tbody>\n",
       "</table>\n",
       "</div>"
      ],
      "text/plain": [
       "              pubdatetime   latitude  longitude        sumdid  chargelevel  \\\n",
       "0 2019-05-01 00:01:41.247  36.136822 -86.799877  PoweredLIRL1         93.0   \n",
       "1 2019-05-01 00:01:41.247  36.191252 -86.772945  PoweredXWRWC         35.0   \n",
       "2 2019-05-01 00:01:41.247  36.144752 -86.806293  PoweredMEJEH         90.0   \n",
       "3 2019-05-01 00:01:41.247  36.162056 -86.774688  Powered1A7TC         88.0   \n",
       "4 2019-05-01 00:01:41.247  36.150973 -86.783109  Powered2TYEF         98.0   \n",
       "\n",
       "   companyname  \n",
       "0            0  \n",
       "1            0  \n",
       "2            0  \n",
       "3            0  \n",
       "4            0  "
      ]
     },
     "execution_count": 2,
     "metadata": {},
     "output_type": "execute_result"
    }
   ],
   "source": [
    "may = pd.read_pickle(\"../data/may.pkl\")\n",
    "may.head()"
   ]
  },
  {
   "cell_type": "code",
   "execution_count": 3,
   "id": "5f94acf8",
   "metadata": {},
   "outputs": [
    {
     "data": {
      "text/html": [
       "<div>\n",
       "<style scoped>\n",
       "    .dataframe tbody tr th:only-of-type {\n",
       "        vertical-align: middle;\n",
       "    }\n",
       "\n",
       "    .dataframe tbody tr th {\n",
       "        vertical-align: top;\n",
       "    }\n",
       "\n",
       "    .dataframe thead th {\n",
       "        text-align: right;\n",
       "    }\n",
       "</style>\n",
       "<table border=\"1\" class=\"dataframe\">\n",
       "  <thead>\n",
       "    <tr style=\"text-align: right;\">\n",
       "      <th></th>\n",
       "      <th>pubdatetime</th>\n",
       "      <th>latitude</th>\n",
       "      <th>longitude</th>\n",
       "      <th>sumdid</th>\n",
       "      <th>chargelevel</th>\n",
       "      <th>companyname</th>\n",
       "    </tr>\n",
       "  </thead>\n",
       "  <tbody>\n",
       "    <tr>\n",
       "      <th>0</th>\n",
       "      <td>2019-06-01 00:00:12</td>\n",
       "      <td>36.1202</td>\n",
       "      <td>-86.7534</td>\n",
       "      <td>Powered93627c35-0f62-5b81-a78d-75a4a92ecf47</td>\n",
       "      <td>90.0</td>\n",
       "      <td>5</td>\n",
       "    </tr>\n",
       "    <tr>\n",
       "      <th>1</th>\n",
       "      <td>2019-06-01 00:00:12</td>\n",
       "      <td>36.1630</td>\n",
       "      <td>-86.7765</td>\n",
       "      <td>Powered17715097-e8a0-5494-a5ab-9b625796607d</td>\n",
       "      <td>63.0</td>\n",
       "      <td>5</td>\n",
       "    </tr>\n",
       "    <tr>\n",
       "      <th>2</th>\n",
       "      <td>2019-06-01 00:00:12</td>\n",
       "      <td>36.1202</td>\n",
       "      <td>-86.7533</td>\n",
       "      <td>Powerede5cb95ae-b091-5a93-86fa-ededd946d0d7</td>\n",
       "      <td>77.0</td>\n",
       "      <td>5</td>\n",
       "    </tr>\n",
       "    <tr>\n",
       "      <th>3</th>\n",
       "      <td>2019-06-01 00:00:12</td>\n",
       "      <td>36.1201</td>\n",
       "      <td>-86.7530</td>\n",
       "      <td>Powered71fa5e4f-1e17-54c4-936d-330df38cc2fa</td>\n",
       "      <td>0.0</td>\n",
       "      <td>5</td>\n",
       "    </tr>\n",
       "    <tr>\n",
       "      <th>4</th>\n",
       "      <td>2019-06-01 00:00:12</td>\n",
       "      <td>36.1622</td>\n",
       "      <td>-86.7806</td>\n",
       "      <td>Poweredfa549dd6-40bb-5757-ac87-2c2528f2bc68</td>\n",
       "      <td>2.0</td>\n",
       "      <td>5</td>\n",
       "    </tr>\n",
       "  </tbody>\n",
       "</table>\n",
       "</div>"
      ],
      "text/plain": [
       "          pubdatetime  latitude  longitude  \\\n",
       "0 2019-06-01 00:00:12   36.1202   -86.7534   \n",
       "1 2019-06-01 00:00:12   36.1630   -86.7765   \n",
       "2 2019-06-01 00:00:12   36.1202   -86.7533   \n",
       "3 2019-06-01 00:00:12   36.1201   -86.7530   \n",
       "4 2019-06-01 00:00:12   36.1622   -86.7806   \n",
       "\n",
       "                                        sumdid  chargelevel  companyname  \n",
       "0  Powered93627c35-0f62-5b81-a78d-75a4a92ecf47         90.0            5  \n",
       "1  Powered17715097-e8a0-5494-a5ab-9b625796607d         63.0            5  \n",
       "2  Powerede5cb95ae-b091-5a93-86fa-ededd946d0d7         77.0            5  \n",
       "3  Powered71fa5e4f-1e17-54c4-936d-330df38cc2fa          0.0            5  \n",
       "4  Poweredfa549dd6-40bb-5757-ac87-2c2528f2bc68          2.0            5  "
      ]
     },
     "execution_count": 3,
     "metadata": {},
     "output_type": "execute_result"
    }
   ],
   "source": [
    "june = pd.read_pickle(\"../data/june.pkl\")\n",
    "june.head()"
   ]
  },
  {
   "cell_type": "code",
   "execution_count": 4,
   "id": "bd979f15",
   "metadata": {},
   "outputs": [
    {
     "data": {
      "text/html": [
       "<div>\n",
       "<style scoped>\n",
       "    .dataframe tbody tr th:only-of-type {\n",
       "        vertical-align: middle;\n",
       "    }\n",
       "\n",
       "    .dataframe tbody tr th {\n",
       "        vertical-align: top;\n",
       "    }\n",
       "\n",
       "    .dataframe thead th {\n",
       "        text-align: right;\n",
       "    }\n",
       "</style>\n",
       "<table border=\"1\" class=\"dataframe\">\n",
       "  <thead>\n",
       "    <tr style=\"text-align: right;\">\n",
       "      <th></th>\n",
       "      <th>pubdatetime</th>\n",
       "      <th>latitude</th>\n",
       "      <th>longitude</th>\n",
       "      <th>sumdid</th>\n",
       "      <th>chargelevel</th>\n",
       "      <th>companyname</th>\n",
       "    </tr>\n",
       "  </thead>\n",
       "  <tbody>\n",
       "    <tr>\n",
       "      <th>0</th>\n",
       "      <td>2019-07-01 00:00:33.550</td>\n",
       "      <td>36.156678</td>\n",
       "      <td>-86.809004</td>\n",
       "      <td>Powered635135</td>\n",
       "      <td>22.0</td>\n",
       "      <td>1</td>\n",
       "    </tr>\n",
       "    <tr>\n",
       "      <th>1</th>\n",
       "      <td>2019-07-01 00:00:34.973</td>\n",
       "      <td>36.145674</td>\n",
       "      <td>-86.794138</td>\n",
       "      <td>Powered790946</td>\n",
       "      <td>33.0</td>\n",
       "      <td>1</td>\n",
       "    </tr>\n",
       "    <tr>\n",
       "      <th>2</th>\n",
       "      <td>2019-07-01 00:00:41.183</td>\n",
       "      <td>36.179319</td>\n",
       "      <td>-86.751538</td>\n",
       "      <td>Powered570380</td>\n",
       "      <td>76.0</td>\n",
       "      <td>1</td>\n",
       "    </tr>\n",
       "    <tr>\n",
       "      <th>3</th>\n",
       "      <td>2019-07-01 00:00:41.620</td>\n",
       "      <td>36.152111</td>\n",
       "      <td>-86.803821</td>\n",
       "      <td>Powered240631</td>\n",
       "      <td>43.0</td>\n",
       "      <td>1</td>\n",
       "    </tr>\n",
       "    <tr>\n",
       "      <th>4</th>\n",
       "      <td>2019-07-01 00:00:45.087</td>\n",
       "      <td>36.149355</td>\n",
       "      <td>-86.797550</td>\n",
       "      <td>Powered970404</td>\n",
       "      <td>52.0</td>\n",
       "      <td>1</td>\n",
       "    </tr>\n",
       "  </tbody>\n",
       "</table>\n",
       "</div>"
      ],
      "text/plain": [
       "              pubdatetime   latitude  longitude         sumdid  chargelevel  \\\n",
       "0 2019-07-01 00:00:33.550  36.156678 -86.809004  Powered635135         22.0   \n",
       "1 2019-07-01 00:00:34.973  36.145674 -86.794138  Powered790946         33.0   \n",
       "2 2019-07-01 00:00:41.183  36.179319 -86.751538  Powered570380         76.0   \n",
       "3 2019-07-01 00:00:41.620  36.152111 -86.803821  Powered240631         43.0   \n",
       "4 2019-07-01 00:00:45.087  36.149355 -86.797550  Powered970404         52.0   \n",
       "\n",
       "   companyname  \n",
       "0            1  \n",
       "1            1  \n",
       "2            1  \n",
       "3            1  \n",
       "4            1  "
      ]
     },
     "execution_count": 4,
     "metadata": {},
     "output_type": "execute_result"
    }
   ],
   "source": [
    "july = pd.read_pickle(\"../data/july.pkl\")\n",
    "july.head()"
   ]
  },
  {
   "cell_type": "markdown",
   "id": "a8547e6e",
   "metadata": {},
   "source": [
    "#### Put the company names back in"
   ]
  },
  {
   "cell_type": "code",
   "execution_count": 5,
   "id": "a9f1e7f6",
   "metadata": {},
   "outputs": [],
   "source": [
    "company_dict = {0:'Bird', 1:'Lyft', 2: 'Gotcha', 3:'Lime', 4: 'Spin', 5: 'Jump', 6: 'Bolt'}\n",
    "may.companyname = may.companyname.replace(company_dict)\n",
    "june.companyname = june.companyname.replace(company_dict)\n",
    "july.companyname = july.companyname.replace(company_dict)"
   ]
  },
  {
   "cell_type": "markdown",
   "id": "066ad05d",
   "metadata": {},
   "source": [
    "#### Get info on each file"
   ]
  },
  {
   "cell_type": "code",
   "execution_count": 6,
   "id": "ab5b7854",
   "metadata": {},
   "outputs": [
    {
     "name": "stdout",
     "output_type": "stream",
     "text": [
      "<class 'pandas.core.frame.DataFrame'>\n",
      "Int64Index: 20283582 entries, 0 to 20292502\n",
      "Data columns (total 6 columns):\n",
      " #   Column       Dtype         \n",
      "---  ------       -----         \n",
      " 0   pubdatetime  datetime64[ns]\n",
      " 1   latitude     float64       \n",
      " 2   longitude    float64       \n",
      " 3   sumdid       object        \n",
      " 4   chargelevel  float64       \n",
      " 5   companyname  object        \n",
      "dtypes: datetime64[ns](1), float64(3), object(2)\n",
      "memory usage: 1.1+ GB\n"
     ]
    }
   ],
   "source": [
    "may.info()"
   ]
  },
  {
   "cell_type": "code",
   "execution_count": 7,
   "id": "c567f65d",
   "metadata": {},
   "outputs": [
    {
     "name": "stdout",
     "output_type": "stream",
     "text": [
      "<class 'pandas.core.frame.DataFrame'>\n",
      "Int64Index: 28037408 entries, 0 to 28046094\n",
      "Data columns (total 6 columns):\n",
      " #   Column       Dtype         \n",
      "---  ------       -----         \n",
      " 0   pubdatetime  datetime64[ns]\n",
      " 1   latitude     float64       \n",
      " 2   longitude    float64       \n",
      " 3   sumdid       object        \n",
      " 4   chargelevel  float64       \n",
      " 5   companyname  object        \n",
      "dtypes: datetime64[ns](1), float64(3), object(2)\n",
      "memory usage: 1.5+ GB\n"
     ]
    }
   ],
   "source": [
    "june.info()"
   ]
  },
  {
   "cell_type": "code",
   "execution_count": 8,
   "id": "afe52e5c",
   "metadata": {},
   "outputs": [
    {
     "name": "stdout",
     "output_type": "stream",
     "text": [
      "<class 'pandas.core.frame.DataFrame'>\n",
      "Int64Index: 25066524 entries, 0 to 25075444\n",
      "Data columns (total 6 columns):\n",
      " #   Column       Dtype         \n",
      "---  ------       -----         \n",
      " 0   pubdatetime  datetime64[ns]\n",
      " 1   latitude     float64       \n",
      " 2   longitude    float64       \n",
      " 3   sumdid       object        \n",
      " 4   chargelevel  float64       \n",
      " 5   companyname  object        \n",
      "dtypes: datetime64[ns](1), float64(3), object(2)\n",
      "memory usage: 1.3+ GB\n"
     ]
    }
   ],
   "source": [
    "july.info()"
   ]
  },
  {
   "cell_type": "markdown",
   "id": "47a9e913",
   "metadata": {},
   "source": [
    "#### Get overview of null values in each file"
   ]
  },
  {
   "cell_type": "code",
   "execution_count": 9,
   "id": "0488f6a5",
   "metadata": {},
   "outputs": [
    {
     "data": {
      "text/plain": [
       "pubdatetime      0\n",
       "latitude         0\n",
       "longitude        0\n",
       "sumdid           0\n",
       "chargelevel    283\n",
       "companyname      0\n",
       "dtype: int64"
      ]
     },
     "execution_count": 9,
     "metadata": {},
     "output_type": "execute_result"
    }
   ],
   "source": [
    "may.isnull().sum()"
   ]
  },
  {
   "cell_type": "code",
   "execution_count": 10,
   "id": "013bc1b5",
   "metadata": {},
   "outputs": [
    {
     "data": {
      "text/plain": [
       "pubdatetime      0\n",
       "latitude         0\n",
       "longitude        0\n",
       "sumdid           0\n",
       "chargelevel    285\n",
       "companyname      0\n",
       "dtype: int64"
      ]
     },
     "execution_count": 10,
     "metadata": {},
     "output_type": "execute_result"
    }
   ],
   "source": [
    "june.isnull().sum()"
   ]
  },
  {
   "cell_type": "code",
   "execution_count": 11,
   "id": "d4dc5509",
   "metadata": {},
   "outputs": [
    {
     "data": {
      "text/plain": [
       "pubdatetime      0\n",
       "latitude         0\n",
       "longitude        0\n",
       "sumdid           0\n",
       "chargelevel    202\n",
       "companyname      0\n",
       "dtype: int64"
      ]
     },
     "execution_count": 11,
     "metadata": {},
     "output_type": "execute_result"
    }
   ],
   "source": [
    "july.isnull().sum()"
   ]
  },
  {
   "cell_type": "markdown",
   "id": "bd011e02",
   "metadata": {},
   "source": [
    "#### Get the value counts for each file"
   ]
  },
  {
   "cell_type": "code",
   "execution_count": 12,
   "id": "d3707126",
   "metadata": {},
   "outputs": [
    {
     "data": {
      "text/plain": [
       "Lime      7111655\n",
       "Bird      4334006\n",
       "Lyft      3112581\n",
       "Jump      2984630\n",
       "Spin      1301001\n",
       "Gotcha     915314\n",
       "Bolt       524395\n",
       "Name: companyname, dtype: int64"
      ]
     },
     "execution_count": 12,
     "metadata": {},
     "output_type": "execute_result"
    }
   ],
   "source": [
    "may.companyname.value_counts()"
   ]
  },
  {
   "cell_type": "code",
   "execution_count": 13,
   "id": "e5789fc0",
   "metadata": {},
   "outputs": [
    {
     "data": {
      "text/plain": [
       "Jump      8482893\n",
       "Lime      6152504\n",
       "Bird      4215302\n",
       "Lyft      3084229\n",
       "Spin      2507991\n",
       "Gotcha    1830453\n",
       "Bolt      1764036\n",
       "Name: companyname, dtype: int64"
      ]
     },
     "execution_count": 13,
     "metadata": {},
     "output_type": "execute_result"
    }
   ],
   "source": [
    "june.companyname.value_counts()"
   ]
  },
  {
   "cell_type": "code",
   "execution_count": 14,
   "id": "a52dcb28",
   "metadata": {},
   "outputs": [
    {
     "data": {
      "text/plain": [
       "Jump      10367575\n",
       "Bird       3702282\n",
       "Lime       3233573\n",
       "Lyft       2890233\n",
       "Gotcha     1933513\n",
       "Spin       1750581\n",
       "Bolt       1188767\n",
       "Name: companyname, dtype: int64"
      ]
     },
     "execution_count": 14,
     "metadata": {},
     "output_type": "execute_result"
    }
   ],
   "source": [
    "july.companyname.value_counts()"
   ]
  },
  {
   "cell_type": "code",
   "execution_count": 15,
   "id": "a665f30a",
   "metadata": {},
   "outputs": [
    {
     "name": "stdout",
     "output_type": "stream",
     "text": [
      "Index(['companyname'], dtype='object')\n"
     ]
    },
    {
     "data": {
      "image/png": "[encoded data removed]",
      "text/plain": [
       "<Figure size 432x288 with 1 Axes>"
      ]
     },
     "metadata": {
      "needs_background": "light"
     },
     "output_type": "display_data"
    }
   ],
   "source": [
    "may_cn_vals = may.companyname.value_counts()\n",
    "may_cn_vals = pd.DataFrame(may_cn_vals)\n",
    "print(may_cn_vals.columns)\n",
    "may_cn_vals.sort_values(\"companyname\")\n",
    "may_cn_vals.plot();"
   ]
  },
  {
   "cell_type": "code",
   "execution_count": 16,
   "id": "edb64d42",
   "metadata": {},
   "outputs": [
    {
     "name": "stdout",
     "output_type": "stream",
     "text": [
      "Index(['companyname'], dtype='object')\n"
     ]
    },
    {
     "data": {
      "image/png": "[encoded data removed]",
      "text/plain": [
       "<Figure size 432x288 with 1 Axes>"
      ]
     },
     "metadata": {
      "needs_background": "light"
     },
     "output_type": "display_data"
    }
   ],
   "source": [
    "june_cn_vals = june.companyname.value_counts()\n",
    "june_cn_vals = pd.DataFrame(june_cn_vals)\n",
    "print(june_cn_vals.columns)\n",
    "june_cn_vals.sort_values(\"companyname\")\n",
    "june_cn_vals.plot();"
   ]
  },
  {
   "cell_type": "code",
   "execution_count": 17,
   "id": "08d1648d",
   "metadata": {},
   "outputs": [
    {
     "name": "stdout",
     "output_type": "stream",
     "text": [
      "Index(['companyname'], dtype='object')\n"
     ]
    },
    {
     "data": {
      "image/png": "[encoded data removed]",
      "text/plain": [
       "<Figure size 432x288 with 1 Axes>"
      ]
     },
     "metadata": {
      "needs_background": "light"
     },
     "output_type": "display_data"
    }
   ],
   "source": [
    "july_cn_vals = july.companyname.value_counts()\n",
    "july_cn_vals = pd.DataFrame(july_cn_vals)\n",
    "print(july_cn_vals.columns)\n",
    "july_cn_vals.sort_values(\"companyname\")\n",
    "july_cn_vals.plot();"
   ]
  },
  {
   "cell_type": "markdown",
   "id": "4d78c4e1",
   "metadata": {},
   "source": [
    "#### Show the number of unique scooters each month"
   ]
  },
  {
   "cell_type": "code",
   "execution_count": 18,
   "id": "6c0e16b1",
   "metadata": {},
   "outputs": [
    {
     "data": {
      "text/plain": [
       "8303"
      ]
     },
     "execution_count": 18,
     "metadata": {},
     "output_type": "execute_result"
    }
   ],
   "source": [
    "may_n_scooters = int(may.sumdid.nunique())\n",
    "may_n_scooters"
   ]
  },
  {
   "cell_type": "code",
   "execution_count": 19,
   "id": "c244678c",
   "metadata": {},
   "outputs": [
    {
     "data": {
      "text/plain": [
       "7822"
      ]
     },
     "execution_count": 19,
     "metadata": {},
     "output_type": "execute_result"
    }
   ],
   "source": [
    "june_n_scooters = int(june.sumdid.nunique())\n",
    "june_n_scooters"
   ]
  },
  {
   "cell_type": "code",
   "execution_count": 20,
   "id": "12562f78",
   "metadata": {},
   "outputs": [
    {
     "data": {
      "text/plain": [
       "6787"
      ]
     },
     "execution_count": 20,
     "metadata": {},
     "output_type": "execute_result"
    }
   ],
   "source": [
    "july_n_scooters = int(july.sumdid.nunique())\n",
    "july_n_scooters"
   ]
  },
  {
   "cell_type": "markdown",
   "id": "4febf360",
   "metadata": {},
   "source": [
    "#### Find the mean data for charge levels"
   ]
  },
  {
   "cell_type": "code",
   "execution_count": 21,
   "id": "6ed5ef3e",
   "metadata": {},
   "outputs": [
    {
     "data": {
      "text/plain": [
       "65.90530320388218"
      ]
     },
     "execution_count": 21,
     "metadata": {},
     "output_type": "execute_result"
    }
   ],
   "source": [
    "may.chargelevel.mean()"
   ]
  },
  {
   "cell_type": "code",
   "execution_count": 22,
   "id": "199cfecd",
   "metadata": {},
   "outputs": [
    {
     "data": {
      "text/plain": [
       "58.30081921850534"
      ]
     },
     "execution_count": 22,
     "metadata": {},
     "output_type": "execute_result"
    }
   ],
   "source": [
    "june.chargelevel.mean()"
   ]
  },
  {
   "cell_type": "code",
   "execution_count": 23,
   "id": "20620b08",
   "metadata": {},
   "outputs": [
    {
     "data": {
      "text/plain": [
       "51.51018639711071"
      ]
     },
     "execution_count": 23,
     "metadata": {},
     "output_type": "execute_result"
    }
   ],
   "source": [
    "july.chargelevel.mean()"
   ]
  },
  {
   "cell_type": "markdown",
   "id": "1d536f2b",
   "metadata": {},
   "source": [
    "#### Charge levels by Company"
   ]
  },
  {
   "cell_type": "code",
   "execution_count": 24,
   "id": "d3fde142",
   "metadata": {},
   "outputs": [
    {
     "data": {
      "text/plain": [
       "Text(0.5, 1.0, 'Companies and Charge Levels in May')"
      ]
     },
     "execution_count": 24,
     "metadata": {},
     "output_type": "execute_result"
    },
    {
     "data": {
      "image/png": "[encoded data removed]",
      "text/plain": [
       "<Figure size 432x288 with 1 Axes>"
      ]
     },
     "metadata": {
      "needs_background": "light"
     },
     "output_type": "display_data"
    }
   ],
   "source": [
    "plt.plot('companyname', 'chargelevel', marker= 'o', linestyle='none', data=may)\n",
    "plt.xticks(rotation=70)\n",
    "plt.title(\"Companies and Charge Levels in May\")"
   ]
  },
  {
   "cell_type": "code",
   "execution_count": 25,
   "id": "5ed68768",
   "metadata": {},
   "outputs": [
    {
     "data": {
      "text/plain": [
       "Text(0.5, 1.0, 'Companies and Charge Levels in June')"
      ]
     },
     "execution_count": 25,
     "metadata": {},
     "output_type": "execute_result"
    },
    {
     "data": {
      "image/png": "[encoded data removed]",
      "text/plain": [
       "<Figure size 432x288 with 1 Axes>"
      ]
     },
     "metadata": {
      "needs_background": "light"
     },
     "output_type": "display_data"
    }
   ],
   "source": [
    "plt.plot('companyname', 'chargelevel', marker= 'o', linestyle='none', data=june)\n",
    "plt.xticks(rotation=70)\n",
    "plt.title(\"Companies and Charge Levels in June\")"
   ]
  },
  {
   "cell_type": "code",
   "execution_count": 26,
   "id": "9fc8af41",
   "metadata": {},
   "outputs": [
    {
     "data": {
      "text/plain": [
       "Text(0.5, 1.0, 'Companies and Charge Levels in July')"
      ]
     },
     "execution_count": 26,
     "metadata": {},
     "output_type": "execute_result"
    },
    {
     "data": {
      "image/png": "[encoded data removed]",
      "text/plain": [
       "<Figure size 432x288 with 1 Axes>"
      ]
     },
     "metadata": {
      "needs_background": "light"
     },
     "output_type": "display_data"
    }
   ],
   "source": [
    "plt.plot('companyname', 'chargelevel', marker= 'o', linestyle='none', data=july)\n",
    "plt.xticks(rotation=70)\n",
    "plt.title(\"Companies and Charge Levels in July\")"
   ]
  },
  {
   "cell_type": "markdown",
   "id": "cf42a944",
   "metadata": {},
   "source": [
    "#### Show the charge level for "
   ]
  },
  {
   "cell_type": "code",
   "execution_count": 27,
   "id": "53cbb007",
   "metadata": {},
   "outputs": [
    {
     "data": {
      "text/plain": [
       "<matplotlib.collections.PathCollection at 0x269c4c95910>"
      ]
     },
     "execution_count": 27,
     "metadata": {},
     "output_type": "execute_result"
    },
    {
     "data": {
      "image/png": "[encoded data removed]",
      "text/plain": [
       "<Figure size 432x288 with 1 Axes>"
      ]
     },
     "metadata": {
      "needs_background": "light"
     },
     "output_type": "display_data"
    }
   ],
   "source": [
    "plt.scatter('companyname', 'chargelevel', data=may)"
   ]
  },
  {
   "cell_type": "markdown",
   "id": "6aab098d",
   "metadata": {},
   "source": [
    "#### Create a df that will let us grab May's locations by time of day"
   ]
  },
  {
   "cell_type": "code",
   "execution_count": 28,
   "id": "62139758",
   "metadata": {},
   "outputs": [
    {
     "data": {
      "text/html": [
       "<div>\n",
       "<style scoped>\n",
       "    .dataframe tbody tr th:only-of-type {\n",
       "        vertical-align: middle;\n",
       "    }\n",
       "\n",
       "    .dataframe tbody tr th {\n",
       "        vertical-align: top;\n",
       "    }\n",
       "\n",
       "    .dataframe thead th {\n",
       "        text-align: right;\n",
       "    }\n",
       "</style>\n",
       "<table border=\"1\" class=\"dataframe\">\n",
       "  <thead>\n",
       "    <tr style=\"text-align: right;\">\n",
       "      <th></th>\n",
       "      <th>companyname</th>\n",
       "      <th>chargelevel</th>\n",
       "      <th>pubdatetime</th>\n",
       "      <th>sumdid</th>\n",
       "    </tr>\n",
       "  </thead>\n",
       "  <tbody>\n",
       "    <tr>\n",
       "      <th>0</th>\n",
       "      <td>Bird</td>\n",
       "      <td>93.0</td>\n",
       "      <td>2019-05-01 00:01:41.247</td>\n",
       "      <td>PoweredLIRL1</td>\n",
       "    </tr>\n",
       "    <tr>\n",
       "      <th>1</th>\n",
       "      <td>Bird</td>\n",
       "      <td>35.0</td>\n",
       "      <td>2019-05-01 00:01:41.247</td>\n",
       "      <td>PoweredXWRWC</td>\n",
       "    </tr>\n",
       "    <tr>\n",
       "      <th>2</th>\n",
       "      <td>Bird</td>\n",
       "      <td>90.0</td>\n",
       "      <td>2019-05-01 00:01:41.247</td>\n",
       "      <td>PoweredMEJEH</td>\n",
       "    </tr>\n",
       "    <tr>\n",
       "      <th>3</th>\n",
       "      <td>Bird</td>\n",
       "      <td>88.0</td>\n",
       "      <td>2019-05-01 00:01:41.247</td>\n",
       "      <td>Powered1A7TC</td>\n",
       "    </tr>\n",
       "    <tr>\n",
       "      <th>4</th>\n",
       "      <td>Bird</td>\n",
       "      <td>98.0</td>\n",
       "      <td>2019-05-01 00:01:41.247</td>\n",
       "      <td>Powered2TYEF</td>\n",
       "    </tr>\n",
       "    <tr>\n",
       "      <th>...</th>\n",
       "      <td>...</td>\n",
       "      <td>...</td>\n",
       "      <td>...</td>\n",
       "      <td>...</td>\n",
       "    </tr>\n",
       "    <tr>\n",
       "      <th>20292498</th>\n",
       "      <td>Jump</td>\n",
       "      <td>49.0</td>\n",
       "      <td>2019-05-31 23:59:42.000</td>\n",
       "      <td>Poweredbb60ef04-c719-597f-805f-20978964fd8c</td>\n",
       "    </tr>\n",
       "    <tr>\n",
       "      <th>20292499</th>\n",
       "      <td>Jump</td>\n",
       "      <td>68.0</td>\n",
       "      <td>2019-05-31 23:59:42.000</td>\n",
       "      <td>Powered9f5743ed-7f81-539b-9e37-6503d54445d3</td>\n",
       "    </tr>\n",
       "    <tr>\n",
       "      <th>20292500</th>\n",
       "      <td>Jump</td>\n",
       "      <td>53.0</td>\n",
       "      <td>2019-05-31 23:59:42.000</td>\n",
       "      <td>Powered5744d1db-3bbe-55e5-9a23-a93828ba54fc</td>\n",
       "    </tr>\n",
       "    <tr>\n",
       "      <th>20292501</th>\n",
       "      <td>Jump</td>\n",
       "      <td>42.0</td>\n",
       "      <td>2019-05-31 23:59:42.000</td>\n",
       "      <td>Poweredad1d6d3b-162a-5bec-bffd-cac4ac8dee1c</td>\n",
       "    </tr>\n",
       "    <tr>\n",
       "      <th>20292502</th>\n",
       "      <td>Jump</td>\n",
       "      <td>76.0</td>\n",
       "      <td>2019-05-31 23:59:42.000</td>\n",
       "      <td>Powered8505008e-97c9-5003-8975-2ea6b2634fa0</td>\n",
       "    </tr>\n",
       "  </tbody>\n",
       "</table>\n",
       "<p>20283582 rows × 4 columns</p>\n",
       "</div>"
      ],
      "text/plain": [
       "         companyname  chargelevel             pubdatetime  \\\n",
       "0               Bird         93.0 2019-05-01 00:01:41.247   \n",
       "1               Bird         35.0 2019-05-01 00:01:41.247   \n",
       "2               Bird         90.0 2019-05-01 00:01:41.247   \n",
       "3               Bird         88.0 2019-05-01 00:01:41.247   \n",
       "4               Bird         98.0 2019-05-01 00:01:41.247   \n",
       "...              ...          ...                     ...   \n",
       "20292498        Jump         49.0 2019-05-31 23:59:42.000   \n",
       "20292499        Jump         68.0 2019-05-31 23:59:42.000   \n",
       "20292500        Jump         53.0 2019-05-31 23:59:42.000   \n",
       "20292501        Jump         42.0 2019-05-31 23:59:42.000   \n",
       "20292502        Jump         76.0 2019-05-31 23:59:42.000   \n",
       "\n",
       "                                               sumdid  \n",
       "0                                        PoweredLIRL1  \n",
       "1                                        PoweredXWRWC  \n",
       "2                                        PoweredMEJEH  \n",
       "3                                        Powered1A7TC  \n",
       "4                                        Powered2TYEF  \n",
       "...                                               ...  \n",
       "20292498  Poweredbb60ef04-c719-597f-805f-20978964fd8c  \n",
       "20292499  Powered9f5743ed-7f81-539b-9e37-6503d54445d3  \n",
       "20292500  Powered5744d1db-3bbe-55e5-9a23-a93828ba54fc  \n",
       "20292501  Poweredad1d6d3b-162a-5bec-bffd-cac4ac8dee1c  \n",
       "20292502  Powered8505008e-97c9-5003-8975-2ea6b2634fa0  \n",
       "\n",
       "[20283582 rows x 4 columns]"
      ]
     },
     "execution_count": 28,
     "metadata": {},
     "output_type": "execute_result"
    }
   ],
   "source": [
    "may_avg_charge = may[['companyname', 'chargelevel', 'pubdatetime', 'sumdid']]\n",
    "may_avg_charge.sort_values(by=['pubdatetime','sumdid'])\n",
    "may_avg_charge.groupby(by=['pubdatetime', 'sumdid'])\n",
    "may_avg_charge"
   ]
  },
  {
   "cell_type": "markdown",
   "id": "815344a4",
   "metadata": {},
   "source": [
    "#### Make variables for sectors of the day - morning, midday, afternoon, evening.\n",
    "\n",
    "##### I may want to create a df for each day with each individual scooter and then the column headers are those sectors of the day, while their contents contain their lat/lng along with their charge level."
   ]
  },
  {
   "cell_type": "code",
   "execution_count": 29,
   "id": "3d5b62c1",
   "metadata": {},
   "outputs": [],
   "source": [
    "# morning = # 6-9:30am\n",
    "# midday = # 9:30am-11:00am\n",
    "# lunchtime = # 11:00am-1:00pm\n",
    "# afternoon = # 1:00pm-4:00pm\n",
    "# evening = # 4:00pm - 7:00pm\n",
    "# night = # 7:00pm - 11:59pm"
   ]
  },
  {
   "cell_type": "markdown",
   "id": "7fed54be",
   "metadata": {},
   "source": [
    "#### Create a list of the days"
   ]
  },
  {
   "cell_type": "code",
   "execution_count": 30,
   "id": "3a7c623a",
   "metadata": {},
   "outputs": [],
   "source": [
    "month_lengths = {'January':31, 'February':28, 'March':31, 'April':30, 'May':31, 'June':30, 'July':31, 'August':31, 'September':30, 'October':31, 'November':30, 'December':31}\n",
    "month_number = {'January':1, 'February':2, 'March':3, 'April':4, 'May':5, 'June':6, 'July':7, 'August':8, 'September':9, 'October':10, 'November':11, 'December':12}"
   ]
  },
  {
   "cell_type": "markdown",
   "id": "57ffde0d",
   "metadata": {},
   "source": [
    "#### Create a function to grab each day's sets of coordinates"
   ]
  },
  {
   "cell_type": "code",
   "execution_count": 31,
   "id": "01da512d",
   "metadata": {},
   "outputs": [],
   "source": [
    "months_dict = {}\n",
    "def day_df(df, month):\n",
    "    dict1 = {}\n",
    "    for i in range(1,month_lengths[month]):  \n",
    "        start_date = f\"2019-{month_number[month]}-{str(i)}\"\n",
    "        end_date = f\"2019-{month_number[month]}-{str(i+1)}\"\n",
    "        mask = (df['pubdatetime'] > start_date) & (df['pubdatetime'] <= end_date)\n",
    "        day = df.loc[mask]\n",
    "        dict1[i] = day\n",
    "        months_dict[i] = dict1[i]\n",
    "    return dict1"
   ]
  },
  {
   "cell_type": "code",
   "execution_count": 61,
   "id": "8557c1d1",
   "metadata": {},
   "outputs": [],
   "source": [
    "# may['geometry'] = gpd.points_from_xy(may.Longitude, may.Latitude)"
   ]
  },
  {
   "cell_type": "markdown",
   "id": "fcdb4882",
   "metadata": {},
   "source": [
    "for each chunk of 10 or so, geoplot the coords of each scooter and its time."
   ]
  },
  {
   "cell_type": "markdown",
   "id": "61100bf6",
   "metadata": {},
   "source": [
    "for each unique sumdid, create dict of coord:time for that day. This should be one column unto itself"
   ]
  },
  {
   "cell_type": "code",
   "execution_count": 33,
   "id": "887a25e4",
   "metadata": {},
   "outputs": [
    {
     "data": {
      "text/plain": [
       "['PoweredLIRL1',\n",
       " 'PoweredXWRWC',\n",
       " 'PoweredMEJEH',\n",
       " 'Powered1A7TC',\n",
       " 'Powered2TYEF',\n",
       " 'Powered3F3VK',\n",
       " 'PoweredVL7YG',\n",
       " 'Powered5LNUG',\n",
       " 'Powered7SPQQ',\n",
       " 'PoweredBV1DT',\n",
       " 'Powered3B46L',\n",
       " 'Powered7S2UU',\n",
       " 'PoweredA64US',\n",
       " 'PoweredGK9VY',\n",
       " 'PoweredBFCXJ',\n",
       " 'PoweredAB4VX',\n",
       " 'PoweredNPV1Q',\n",
       " 'PoweredXWRSD',\n",
       " 'Powered2ZSZE',\n",
       " 'PoweredI4EEE',\n",
       " 'PoweredY43Q4',\n",
       " 'PoweredRWGRR',\n",
       " 'PoweredASJRY',\n",
       " 'Powered12J9T',\n",
       " 'PoweredA9W92',\n",
       " 'Powered38GUR',\n",
       " 'PoweredMA1E2',\n",
       " 'PoweredXFQ22',\n",
       " 'PoweredVZU3B',\n",
       " 'PoweredLP7V8',\n",
       " 'Powered4P19Z',\n",
       " 'PoweredBE3BS',\n",
       " 'PoweredV33KI',\n",
       " 'PoweredKUV1U',\n",
       " 'Powered4BES8',\n",
       " 'PoweredS3C46',\n",
       " 'PoweredRAQAI',\n",
       " 'PoweredBF8XE',\n",
       " 'PoweredDNCQL',\n",
       " 'PoweredK6YH7',\n",
       " 'PoweredINP6E',\n",
       " 'Powered71SLY',\n",
       " 'PoweredC4JMV',\n",
       " 'Powered125HI',\n",
       " 'PoweredFZIK5',\n",
       " 'Powered9DC3R',\n",
       " 'PoweredAPID7',\n",
       " 'Powered57MTR',\n",
       " 'Powered3WW12',\n",
       " 'PoweredDVQDU',\n",
       " 'PoweredLSSUT',\n",
       " 'Powered9JD8Y',\n",
       " 'PoweredE483T',\n",
       " 'PoweredJG9NA',\n",
       " 'PoweredZB1FI',\n",
       " 'PoweredRDZAZ',\n",
       " 'PoweredNHD1X',\n",
       " 'PoweredH1XZK',\n",
       " 'PoweredBWUNW',\n",
       " 'PoweredWUEUZ',\n",
       " 'Powered35D1B',\n",
       " 'PoweredFFUAY',\n",
       " 'PoweredYEBSU',\n",
       " 'PoweredJ2MAY',\n",
       " 'PoweredJRIUQ',\n",
       " 'Powered85B5Y',\n",
       " 'Powered4IJFP',\n",
       " 'PoweredK5SAH',\n",
       " 'Powered1TN7V',\n",
       " 'PoweredAWI7A',\n",
       " 'PoweredBVZ4I',\n",
       " 'Powered4L229',\n",
       " 'PoweredJWUK3',\n",
       " 'Powered8QBKJ',\n",
       " 'Powered5R8S1',\n",
       " 'PoweredQFQ1D',\n",
       " 'PoweredDUDFB',\n",
       " 'PoweredAGR3R',\n",
       " 'Powered4Y7BC',\n",
       " 'Powered7IYBL',\n",
       " 'Powered2XNJS',\n",
       " 'PoweredHIRY6',\n",
       " 'PoweredX61AH',\n",
       " 'PoweredCGFQE',\n",
       " 'PoweredBIQFK',\n",
       " 'PoweredSTC61',\n",
       " 'PoweredQTIZB',\n",
       " 'Powered9ELC1',\n",
       " 'PoweredU3HGX',\n",
       " 'PoweredRR9II',\n",
       " 'PoweredPDCDP',\n",
       " 'Powered7M73Y',\n",
       " 'Powered6WAVH',\n",
       " 'PoweredPVTGC',\n",
       " 'PoweredBCK7U',\n",
       " 'PoweredWDMWW',\n",
       " 'PoweredSNB79',\n",
       " 'PoweredM69E2',\n",
       " 'PoweredHY38F',\n",
       " 'Powered2WLYW',\n",
       " 'PoweredRFD5A',\n",
       " 'Powered42MYM',\n",
       " 'PoweredTJRBC',\n",
       " 'PoweredCCBLY',\n",
       " 'PoweredKGM3N',\n",
       " 'PoweredUFW64',\n",
       " 'PoweredWKLDT',\n",
       " 'PoweredTZYUW',\n",
       " 'Powered38HTX',\n",
       " 'Powered911DI',\n",
       " 'Powered37GVH',\n",
       " 'PoweredSWUJM',\n",
       " 'PoweredQMJQJ',\n",
       " 'PoweredGY8HI',\n",
       " 'PoweredQTW6I',\n",
       " 'Powered363BB',\n",
       " 'PoweredFRERK',\n",
       " 'PoweredH6G6K',\n",
       " 'PoweredTSXEH',\n",
       " 'PoweredS1H3W',\n",
       " 'Powered4K92I',\n",
       " 'PoweredQXD1J',\n",
       " 'PoweredFBZ8I',\n",
       " 'Powered95JQF',\n",
       " 'Powered7EA95',\n",
       " 'PoweredFUUTN',\n",
       " 'Powered1R52Y',\n",
       " 'Powered68L95',\n",
       " 'PoweredWZYK8',\n",
       " 'Powered81XNI',\n",
       " 'PoweredG3G9L',\n",
       " 'Powered3X5VP',\n",
       " 'Powered5D2ZE',\n",
       " 'PoweredTLU5U',\n",
       " 'PoweredNB1L6',\n",
       " 'PoweredCVFRL',\n",
       " 'Powered8H6XV',\n",
       " 'PoweredTDTF6',\n",
       " 'PoweredAHPGT',\n",
       " 'PoweredC6VMM',\n",
       " 'Powered157BP',\n",
       " 'PoweredQUU9I',\n",
       " 'PoweredDGZCG',\n",
       " 'PoweredNZ8W6',\n",
       " 'Powered82S2N',\n",
       " 'PoweredZRWIZ',\n",
       " 'PoweredXN2NR',\n",
       " 'PoweredT4JD4',\n",
       " 'PoweredC8P4A',\n",
       " 'PoweredZJKN6',\n",
       " 'PoweredX2NRH',\n",
       " 'PoweredF3X21',\n",
       " 'Powered6TZT9',\n",
       " 'PoweredIK1FI',\n",
       " 'PoweredCPDGC',\n",
       " 'PoweredZF8ZW',\n",
       " 'Powered8XKIQ',\n",
       " 'PoweredVEBVX',\n",
       " 'PoweredDHW48',\n",
       " 'PoweredVEGGH',\n",
       " 'PoweredZT4UR',\n",
       " 'PoweredK2Z3X',\n",
       " 'PoweredB7PHN',\n",
       " 'PoweredM5JZK',\n",
       " 'PoweredGG349',\n",
       " 'PoweredVTPTY',\n",
       " 'Powered1P6A4',\n",
       " 'Powered8KC43',\n",
       " 'PoweredIQFM5',\n",
       " 'PoweredR7RVU',\n",
       " 'PoweredVWW35',\n",
       " 'PoweredASR1Z',\n",
       " 'Powered8J81N',\n",
       " 'Powered2JP93',\n",
       " 'PoweredWI4AZ',\n",
       " 'PoweredYAXFE',\n",
       " 'Powered5J1EJ',\n",
       " 'PoweredGXWA2',\n",
       " 'Powered79F7K',\n",
       " 'PoweredIB5CN',\n",
       " 'PoweredAGH3S',\n",
       " 'PoweredP5H8U',\n",
       " 'PoweredHM4FI',\n",
       " 'PoweredKYM9H',\n",
       " 'Powered3S9IK',\n",
       " 'PoweredMXUIG',\n",
       " 'PoweredF8GJP',\n",
       " 'PoweredVMYBT',\n",
       " 'PoweredLXZJJ',\n",
       " 'Powered6D8BM',\n",
       " 'PoweredNUASB',\n",
       " 'Powered1VT6F',\n",
       " 'Powered4ZVYL',\n",
       " 'Powered98N4V',\n",
       " 'Powered9WPJX',\n",
       " 'Powered7FVUZ',\n",
       " 'PoweredC8HZA',\n",
       " 'PoweredUF71S',\n",
       " 'PoweredXYD1P',\n",
       " 'PoweredHGA7P',\n",
       " 'Powered4UL8W',\n",
       " 'PoweredR1X8S',\n",
       " 'Powered9C1LL',\n",
       " 'Powered7HQNL',\n",
       " 'PoweredMEEJ9',\n",
       " 'PoweredTQMXC',\n",
       " 'PoweredB8KZN',\n",
       " 'PoweredISV65',\n",
       " 'PoweredRT6M7',\n",
       " 'Powered9Y3SG',\n",
       " 'PoweredDNP3N',\n",
       " 'PoweredFMAJJ',\n",
       " 'PoweredVJZEH',\n",
       " 'PoweredBYKNE',\n",
       " 'Powered9V9UB',\n",
       " 'Powered4KX7D',\n",
       " 'PoweredFE3VP',\n",
       " 'PoweredE8CPC',\n",
       " 'PoweredHS6BH',\n",
       " 'Powered48TBB',\n",
       " 'Powered6D7JZ',\n",
       " 'PoweredQ2JNH',\n",
       " 'PoweredTCFDQ',\n",
       " 'Powered3IIWU',\n",
       " 'PoweredP7JJ6',\n",
       " 'PoweredDM1U4',\n",
       " 'PoweredV5NYE',\n",
       " 'PoweredDB8H4',\n",
       " 'PoweredEXGA9',\n",
       " 'PoweredNUITK',\n",
       " 'Powered8KKHS',\n",
       " 'PoweredNHD6Y',\n",
       " 'PoweredZAA4I',\n",
       " 'Powered6WMDD',\n",
       " 'PoweredKJXK8',\n",
       " 'PoweredFHIQB',\n",
       " 'Powered9VY8E',\n",
       " 'PoweredRJY1U',\n",
       " 'PoweredG5CV7',\n",
       " 'Powered9P33I',\n",
       " 'PoweredNKSGU',\n",
       " 'PoweredL3PX3',\n",
       " 'Powered63QL4',\n",
       " 'PoweredUTP9T',\n",
       " 'Powered92HW3',\n",
       " 'Powered4RXT7',\n",
       " 'Powered2VZ9L',\n",
       " 'Powered1IFRE',\n",
       " 'PoweredIYS34',\n",
       " 'PoweredE7U7Y',\n",
       " 'PoweredMMPTE',\n",
       " 'PoweredDBL2I',\n",
       " 'PoweredUJCZJ',\n",
       " 'PoweredL7UQF',\n",
       " 'PoweredYG6TE',\n",
       " 'Powered6XF82',\n",
       " 'Powered77M77',\n",
       " 'PoweredVNWRA',\n",
       " 'PoweredFPNEH',\n",
       " 'PoweredHK4N1',\n",
       " 'Powered2ZTMR',\n",
       " 'PoweredYG3QE',\n",
       " 'PoweredKZH5E',\n",
       " 'Powered48Z8A',\n",
       " 'PoweredH3L45',\n",
       " 'Powered97VGV',\n",
       " 'PoweredIBPH6',\n",
       " 'PoweredUAPIL',\n",
       " 'Powered5ZQRY',\n",
       " 'PoweredPT17A',\n",
       " 'PoweredJSYR3',\n",
       " 'Powered1C6W5',\n",
       " 'PoweredNSP4W',\n",
       " 'PoweredA2MXN',\n",
       " 'Powered4XJRG',\n",
       " 'PoweredXTGEZ',\n",
       " 'PoweredN7F4E',\n",
       " 'PoweredYUJHX',\n",
       " 'Powered6VQ3Z',\n",
       " 'PoweredSKZLU',\n",
       " 'PoweredWSVZB',\n",
       " 'PoweredZ2SAS',\n",
       " 'Powered2FTVB',\n",
       " 'PoweredPN85S',\n",
       " 'PoweredPWQSX',\n",
       " 'PoweredW7S9W',\n",
       " 'PoweredVT2H3',\n",
       " 'PoweredI3HAC',\n",
       " 'PoweredAYR4N',\n",
       " 'PoweredDULGY',\n",
       " 'Powered4SYHX',\n",
       " 'PoweredP715R',\n",
       " 'PoweredUIH8I',\n",
       " 'PoweredBF4W5',\n",
       " 'PoweredFH7D2',\n",
       " 'Powered48HBE',\n",
       " 'Powered1HQLA',\n",
       " 'PoweredWUG1N',\n",
       " 'Powered4BH7K',\n",
       " 'Powered4KKGD',\n",
       " 'PoweredAHGGN',\n",
       " 'PoweredVXFWM',\n",
       " 'Powered34ISI',\n",
       " 'PoweredX1TU7',\n",
       " 'PoweredXE6HB',\n",
       " 'PoweredTCRQJ',\n",
       " 'Powered8GQII',\n",
       " 'PoweredAHGIG',\n",
       " 'Powered3X92W',\n",
       " 'PoweredR9M24',\n",
       " 'PoweredS8DML',\n",
       " 'PoweredECGPM',\n",
       " 'PoweredVV6EC',\n",
       " 'PoweredRSFLM',\n",
       " 'PoweredPVTXJ',\n",
       " 'Powered7536F',\n",
       " 'PoweredZJQWF',\n",
       " 'Powered1IRMW',\n",
       " 'Powered61PT7',\n",
       " 'PoweredQV6SC',\n",
       " 'PoweredGKVYN',\n",
       " 'PoweredU6AG7',\n",
       " 'Powered6K5G6',\n",
       " 'Powered5I3DR',\n",
       " 'Powered4C7EI',\n",
       " 'Powered5EVIP',\n",
       " 'PoweredBKFA5',\n",
       " 'Powered7B8CF',\n",
       " 'Powered1GPC1',\n",
       " 'PoweredQ8MT6',\n",
       " 'PoweredJ3BT3',\n",
       " 'PoweredEVWKZ',\n",
       " 'Powered8GKCF',\n",
       " 'PoweredG4BDM',\n",
       " 'PoweredC67WR',\n",
       " 'PoweredZUGVB',\n",
       " 'PoweredQWJDH',\n",
       " 'PoweredIKWFU',\n",
       " 'PoweredP4Y9E',\n",
       " 'PoweredU6WII',\n",
       " 'Powered14K2M',\n",
       " 'PoweredH32H2',\n",
       " 'PoweredGK2NA',\n",
       " 'Powered1ANXK',\n",
       " 'Powered3YEXC',\n",
       " 'PoweredSX78C',\n",
       " 'PoweredDEB7M',\n",
       " 'PoweredZ8JJF',\n",
       " 'PoweredM9D6S',\n",
       " 'PoweredCS7H5',\n",
       " 'Powered3YMAD',\n",
       " 'PoweredBWQWV',\n",
       " 'Powered7YBCF',\n",
       " 'PoweredH2BPG',\n",
       " 'PoweredVWHG4',\n",
       " 'PoweredLLSRQ',\n",
       " 'PoweredKVTT3',\n",
       " 'Powered1PFK1',\n",
       " 'PoweredVZXF3',\n",
       " 'Powered8MPRF',\n",
       " 'PoweredB7IVY',\n",
       " 'PoweredVGMWJ',\n",
       " 'PoweredNV1R2',\n",
       " 'PoweredCENP5',\n",
       " 'PoweredZLL8A',\n",
       " 'Powered5SJX3',\n",
       " 'PoweredR5S4G',\n",
       " 'Powered7T8PX',\n",
       " 'Powered6CK91',\n",
       " 'PoweredADJJS',\n",
       " 'PoweredJMK34',\n",
       " 'PoweredFMRKK',\n",
       " 'PoweredEDPWI',\n",
       " 'PoweredEN6G5',\n",
       " 'Powered4J5IT',\n",
       " 'PoweredJ6DAH',\n",
       " 'PoweredZILWT',\n",
       " 'Powered6X3QZ',\n",
       " 'PoweredVB2GE',\n",
       " 'Powered94AY2',\n",
       " 'PoweredQGSTG',\n",
       " 'PoweredVWUH7',\n",
       " 'PoweredWXHYB',\n",
       " 'Powered61UYA',\n",
       " 'PoweredD5P6K',\n",
       " 'PoweredKVI7G',\n",
       " 'Powered3LAIX',\n",
       " 'Powered3LK7P',\n",
       " 'PoweredCLRH6',\n",
       " 'Powered2GR7G',\n",
       " 'PoweredLB7GB',\n",
       " 'PoweredCAJE7',\n",
       " 'PoweredUH8P5',\n",
       " 'Powered8T7TU',\n",
       " 'PoweredEDT4L',\n",
       " 'PoweredDWDAU',\n",
       " 'Powered1JQW4',\n",
       " 'PoweredG869X',\n",
       " 'PoweredBU1ZW',\n",
       " 'Powered5B4P8',\n",
       " 'PoweredT2HF9',\n",
       " 'PoweredHIH3Z',\n",
       " 'PoweredILXCG',\n",
       " 'PoweredPDPX6',\n",
       " 'Powered33WZJ',\n",
       " 'PoweredMZJT1',\n",
       " 'PoweredHGKPA',\n",
       " 'Powered4GAUQ',\n",
       " 'PoweredYXS4U',\n",
       " 'PoweredAP5F3',\n",
       " 'PoweredFB2IB',\n",
       " 'PoweredGJF7Z',\n",
       " 'PoweredP6EBZ',\n",
       " 'PoweredQ9SF3',\n",
       " 'PoweredAKIQD',\n",
       " 'PoweredGLWPB',\n",
       " 'PoweredFBLIG',\n",
       " 'PoweredN15LW',\n",
       " 'PoweredUDTXT',\n",
       " 'PoweredFQICK',\n",
       " 'Powered9RR52',\n",
       " 'PoweredR8DM1',\n",
       " 'Powered3451P',\n",
       " 'Powered5R7MI',\n",
       " 'PoweredL968V',\n",
       " 'PoweredUWLYP',\n",
       " 'Powered4F9XY',\n",
       " 'PoweredC4CGP',\n",
       " 'PoweredSXRSH',\n",
       " 'PoweredCX8RC',\n",
       " 'PoweredBCJTH',\n",
       " 'Powered5QM3S',\n",
       " 'Powered2JKG2',\n",
       " 'PoweredMIBFH',\n",
       " 'PoweredKJSKW',\n",
       " 'PoweredIJSD8',\n",
       " 'PoweredMBEMA',\n",
       " 'PoweredNB4GN',\n",
       " 'Powered8D2IW',\n",
       " 'PoweredYN3CV',\n",
       " 'PoweredQ4BNE',\n",
       " 'PoweredM5FPW',\n",
       " 'PoweredBJFJZ',\n",
       " 'PoweredIJN69',\n",
       " 'PoweredDKRUY',\n",
       " 'PoweredBGY9T',\n",
       " 'PoweredPF94M',\n",
       " 'PoweredSSICD',\n",
       " 'PoweredXL85G',\n",
       " 'Powered972PQ',\n",
       " 'PoweredPJ843',\n",
       " 'PoweredFX9L3',\n",
       " 'PoweredPHBV2',\n",
       " 'PoweredLP3NM',\n",
       " 'PoweredUY3IF',\n",
       " 'Powered9C2HU',\n",
       " 'PoweredZGVHC',\n",
       " 'PoweredH1DGN',\n",
       " 'PoweredE1RTV',\n",
       " 'PoweredLW536',\n",
       " 'Powered4VSSF',\n",
       " 'PoweredD4VHT',\n",
       " 'Powered9H1L3',\n",
       " 'PoweredFMAGN',\n",
       " 'PoweredTHQWN',\n",
       " 'PoweredVKNLK',\n",
       " 'Powered6KXV5',\n",
       " 'PoweredIPHJB',\n",
       " 'PoweredWVEHQ',\n",
       " 'Powered383LC',\n",
       " 'Powered9TPK7',\n",
       " 'PoweredCCZPM',\n",
       " 'Powered7R2LG',\n",
       " 'PoweredL5WTG',\n",
       " 'PoweredWQCQ5',\n",
       " 'PoweredRZH31',\n",
       " 'PoweredI7VLR',\n",
       " 'Powered46QCH',\n",
       " 'PoweredRAE41',\n",
       " 'PoweredVAMM9',\n",
       " 'PoweredDI6NE',\n",
       " 'PoweredZQS2P',\n",
       " 'PoweredS2M6I',\n",
       " 'PoweredVBW4T',\n",
       " 'PoweredECH2M',\n",
       " 'PoweredUZ4ZQ',\n",
       " 'PoweredQWDF2',\n",
       " 'Powered1NT8L',\n",
       " 'PoweredI5BFF',\n",
       " 'PoweredR8EQ7',\n",
       " 'PoweredWV2M3',\n",
       " 'PoweredGHW3B',\n",
       " 'PoweredXTFUW',\n",
       " 'Powered759ZF',\n",
       " 'Powered15HVW',\n",
       " 'PoweredH4LAX',\n",
       " 'PoweredTU61C',\n",
       " 'Powered8TF8U',\n",
       " 'Powered511JE',\n",
       " 'Powered7TEYG',\n",
       " 'PoweredZT6X7',\n",
       " 'PoweredZYASW',\n",
       " 'PoweredM811X',\n",
       " 'PoweredMXDZR',\n",
       " 'PoweredM19LW',\n",
       " 'PoweredSQ9FM',\n",
       " 'PoweredD3AE8',\n",
       " 'PoweredIYB1R',\n",
       " 'PoweredNZXM4',\n",
       " 'Powered6YDIC',\n",
       " 'PoweredWQNSM',\n",
       " 'PoweredAFEV3',\n",
       " 'PoweredJL3XZ',\n",
       " 'Powered6C1D6',\n",
       " 'PoweredGHJXH',\n",
       " 'Powered94TRF',\n",
       " 'Powered28NFT',\n",
       " 'Powered7CUE2',\n",
       " 'PoweredA34AY',\n",
       " 'PoweredRHKKT',\n",
       " 'PoweredQ5JGF',\n",
       " 'PoweredX6CDA',\n",
       " 'PoweredPM7F7',\n",
       " 'Powered1HNDU',\n",
       " 'PoweredBP2ZC',\n",
       " 'Powered5DIYX',\n",
       " 'PoweredF5VWP',\n",
       " 'PoweredEJGBK',\n",
       " 'Powered2VPG6',\n",
       " 'PoweredAUV5L',\n",
       " 'PoweredLSWU7',\n",
       " 'PoweredZU3JX',\n",
       " 'PoweredUYV13',\n",
       " 'Powered9DQCI',\n",
       " 'PoweredZSBES',\n",
       " 'PoweredYIUYZ',\n",
       " 'PoweredIP99A',\n",
       " 'Powered57M5Y',\n",
       " 'PoweredGS3HE',\n",
       " 'Powered9LYVV',\n",
       " 'PoweredDN7PE',\n",
       " 'PoweredY3ZCN',\n",
       " 'Powered5QSQ9',\n",
       " 'PoweredEF5N3',\n",
       " 'Powered6GM9U',\n",
       " 'Powered4LDN7',\n",
       " 'Powered1J617',\n",
       " 'PoweredXM22T',\n",
       " 'Powered3TL95',\n",
       " 'PoweredNAAC8',\n",
       " 'Powered3BKEV',\n",
       " 'PoweredHNAHP',\n",
       " 'Powered2ZTDA',\n",
       " 'PoweredWKTEX',\n",
       " 'PoweredUR1ZG',\n",
       " 'Powered6BXAH',\n",
       " 'PoweredZAWRY',\n",
       " 'Powered1CZZI',\n",
       " 'PoweredGB1H9',\n",
       " 'Powered2K2KX',\n",
       " 'PoweredKVMCU',\n",
       " 'PoweredTNCMB',\n",
       " 'Powered9WQZ1',\n",
       " 'PoweredL921X',\n",
       " 'PoweredSBUAY',\n",
       " 'PoweredPSJ4D',\n",
       " 'PoweredZR2W7',\n",
       " 'PoweredCP47V',\n",
       " 'PoweredQRY1C',\n",
       " 'PoweredDCP9Y',\n",
       " 'PoweredWNBSE',\n",
       " 'Powered9KWG4',\n",
       " 'PoweredP5JX3',\n",
       " 'PoweredWXDXS',\n",
       " 'Powered8FK2M',\n",
       " 'Powered4VUPP',\n",
       " 'PoweredZT7PG',\n",
       " 'PoweredYE6RS',\n",
       " 'PoweredP9C2I',\n",
       " 'Powered5HYLZ',\n",
       " 'Powered8LUEE',\n",
       " 'PoweredLJ7WV',\n",
       " 'PoweredPRHW6',\n",
       " 'Powered6YP5Z',\n",
       " 'PoweredL475L',\n",
       " 'PoweredWMBZA',\n",
       " 'PoweredPCEZG',\n",
       " 'PoweredARGIS',\n",
       " 'PoweredMWUV2',\n",
       " 'PoweredSXDH3',\n",
       " 'PoweredFWNF8',\n",
       " 'PoweredRJ9S7',\n",
       " 'PoweredJCWIB',\n",
       " 'PoweredYNACF',\n",
       " 'PoweredPQLXE',\n",
       " 'PoweredVJU1I',\n",
       " 'PoweredXKKPE',\n",
       " 'PoweredT2NN6',\n",
       " 'PoweredJL1RQ',\n",
       " 'PoweredYEMWD',\n",
       " 'PoweredQMEP8',\n",
       " 'PoweredWSNJF',\n",
       " 'Powered23WB2',\n",
       " 'PoweredFQ2WS',\n",
       " 'Powered2MQXF',\n",
       " 'PoweredHQDTQ',\n",
       " 'Powered1PDIE',\n",
       " 'PoweredW1XHG',\n",
       " 'Powered1ZGD5',\n",
       " 'PoweredRP9LL',\n",
       " 'Powered2AQ14',\n",
       " 'PoweredJ5EAR',\n",
       " 'PoweredMAINC',\n",
       " 'PoweredQGV56',\n",
       " 'PoweredV4GEG',\n",
       " 'PoweredLEY9M',\n",
       " 'PoweredUV9NX',\n",
       " 'PoweredUG5TH',\n",
       " 'PoweredMGJTA',\n",
       " 'PoweredRF6R9',\n",
       " 'PoweredKZZ55',\n",
       " 'PoweredVV385',\n",
       " 'PoweredE2DQ4',\n",
       " 'PoweredXMU7Z',\n",
       " 'PoweredBBBFV',\n",
       " 'PoweredL1M47',\n",
       " 'Powered5G3XE',\n",
       " 'PoweredQY273',\n",
       " 'Powered89FDH',\n",
       " 'PoweredVS299',\n",
       " 'Powered8IHKH',\n",
       " 'PoweredBLX3S',\n",
       " 'PoweredHYMZF',\n",
       " 'PoweredQ23RV',\n",
       " 'Powered2UI7W',\n",
       " 'PoweredQNY6B',\n",
       " 'Powered4KX6S',\n",
       " 'PoweredBEXMR',\n",
       " 'PoweredB8389',\n",
       " 'PoweredU4W5Z',\n",
       " 'PoweredD7MAH',\n",
       " 'Powered1UCA3',\n",
       " 'PoweredBJ5DY',\n",
       " 'PoweredQ4J7A',\n",
       " 'PoweredW6G4Y',\n",
       " 'PoweredHYD44',\n",
       " 'PoweredDZ6QZ',\n",
       " 'PoweredWE6DN',\n",
       " 'PoweredG7XBR',\n",
       " 'PoweredMCKVE',\n",
       " 'PoweredCZ8DQ',\n",
       " 'PoweredJ92ET',\n",
       " 'PoweredY9SCS',\n",
       " 'PoweredPSP8C',\n",
       " 'PoweredL35YZ',\n",
       " 'Powered3CQA7',\n",
       " 'PoweredRALI4',\n",
       " 'PoweredGMUYI',\n",
       " 'PoweredFPSQL',\n",
       " 'PoweredTF4FK',\n",
       " 'PoweredHV41A',\n",
       " 'PoweredJR29W',\n",
       " 'PoweredEKQPV',\n",
       " 'Powered3IF6J',\n",
       " 'PoweredYA3A2',\n",
       " 'Powered4819J',\n",
       " 'PoweredSZYQT',\n",
       " 'PoweredYSLCG',\n",
       " 'PoweredZXWYJ',\n",
       " 'PoweredBZ62R',\n",
       " 'Powered9HK93',\n",
       " 'PoweredZ62M3',\n",
       " 'PoweredCHGJG',\n",
       " 'PoweredBA6LX',\n",
       " 'PoweredLX54T',\n",
       " 'PoweredQFTKK',\n",
       " 'PoweredCRU6A',\n",
       " 'Powered95IKL',\n",
       " 'Powered94CT2',\n",
       " 'PoweredBHAPC',\n",
       " 'PoweredRCQXL',\n",
       " 'PoweredJXSCI',\n",
       " 'PoweredFL4VU',\n",
       " 'PoweredRQ797',\n",
       " 'PoweredL45AW',\n",
       " 'PoweredSI441',\n",
       " 'PoweredI4464',\n",
       " 'PoweredNIDRJ',\n",
       " 'PoweredSNL3T',\n",
       " 'Powered416613',\n",
       " 'Powered912425',\n",
       " 'Powered741856',\n",
       " 'Powered685723',\n",
       " 'Powered974794',\n",
       " 'Powered084995',\n",
       " 'Powered782102',\n",
       " 'Powered251145',\n",
       " 'Powered438572',\n",
       " 'Powered304869',\n",
       " 'Powered563317',\n",
       " 'Powered370068',\n",
       " 'Powered232338',\n",
       " 'Powered782785',\n",
       " 'Powered941444',\n",
       " 'Powered545792',\n",
       " 'Powered587977',\n",
       " 'Powered344628',\n",
       " 'Powered760381',\n",
       " 'Powered638990',\n",
       " 'Powered876547',\n",
       " 'Powered029745',\n",
       " 'Powered419460',\n",
       " 'Powered703917',\n",
       " 'Powered474035',\n",
       " 'Powered904318',\n",
       " 'Powered901629',\n",
       " 'Powered644371',\n",
       " 'Powered570146',\n",
       " 'Powered605744',\n",
       " 'Powered338975',\n",
       " 'Powered955677',\n",
       " 'Powered473482',\n",
       " 'Powered258676',\n",
       " 'Powered044088',\n",
       " 'Powered915923',\n",
       " 'Powered301782',\n",
       " 'Powered294315',\n",
       " 'Powered441659',\n",
       " 'Powered972550',\n",
       " 'Powered633783',\n",
       " 'Powered811839',\n",
       " 'Powered406954',\n",
       " 'Powered904713',\n",
       " 'Powered537402',\n",
       " 'Powered080827',\n",
       " 'Powered555758',\n",
       " 'Powered689177',\n",
       " 'Powered583191',\n",
       " 'Powered267317',\n",
       " 'Powered234237',\n",
       " 'Powered147893',\n",
       " 'Powered909248',\n",
       " 'Powered274374',\n",
       " 'Powered704341',\n",
       " 'Powered796082',\n",
       " 'Powered331473',\n",
       " 'Powered707450',\n",
       " 'Powered680595',\n",
       " 'Powered741719',\n",
       " 'Powered257077',\n",
       " 'Powered398472',\n",
       " 'Powered356048',\n",
       " 'Powered788160',\n",
       " 'Powered512153',\n",
       " 'Powered867056',\n",
       " 'Powered456361',\n",
       " 'Powered320269',\n",
       " 'Powered175119',\n",
       " 'Powered224310',\n",
       " 'Powered235092',\n",
       " 'Powered596550',\n",
       " 'Powered841277',\n",
       " 'Powered732014',\n",
       " 'Powered003176',\n",
       " 'Powered366327',\n",
       " 'Powered707225',\n",
       " 'Powered481642',\n",
       " 'Powered432355',\n",
       " 'Powered139596',\n",
       " 'Powered953498',\n",
       " 'Powered214302',\n",
       " 'Powered526910',\n",
       " 'Powered630347',\n",
       " 'Powered994200',\n",
       " 'Powered180317',\n",
       " 'Powered679612',\n",
       " 'Powered803338',\n",
       " 'Powered733509',\n",
       " 'Powered941792',\n",
       " 'Powered752979',\n",
       " 'Powered833741',\n",
       " 'Powered786645',\n",
       " 'Powered097121',\n",
       " 'Powered337188',\n",
       " 'Powered064723',\n",
       " 'Powered866353',\n",
       " 'Powered937680',\n",
       " 'Powered593163',\n",
       " 'Powered522909',\n",
       " 'Powered377007',\n",
       " 'Powered321477',\n",
       " 'Powered444815',\n",
       " 'Powered220079',\n",
       " 'Powered701089',\n",
       " 'Powered794954',\n",
       " 'Powered978316',\n",
       " 'Powered874955',\n",
       " 'Powered157297',\n",
       " 'Powered846033',\n",
       " 'Powered144188',\n",
       " 'Powered306678',\n",
       " 'Powered606878',\n",
       " 'Powered970485',\n",
       " 'Powered759730',\n",
       " 'Powered186050',\n",
       " 'Powered872067',\n",
       " 'Powered370523',\n",
       " 'Powered717019',\n",
       " 'Powered398787',\n",
       " 'Powered128741',\n",
       " 'Powered525285',\n",
       " 'Powered998803',\n",
       " 'Powered988027',\n",
       " 'Powered423885',\n",
       " 'Powered905779',\n",
       " 'Powered299793',\n",
       " 'Powered013719',\n",
       " 'Powered914623',\n",
       " 'Powered761694',\n",
       " 'Powered464318',\n",
       " 'Powered610641',\n",
       " 'Powered048739',\n",
       " 'Powered599092',\n",
       " 'Powered007963',\n",
       " 'Powered511914',\n",
       " 'Powered213948',\n",
       " 'Powered620431',\n",
       " 'Powered388812',\n",
       " 'Powered525526',\n",
       " 'Powered575866',\n",
       " 'Powered854338',\n",
       " 'Powered525231',\n",
       " 'Powered957810',\n",
       " 'Powered491691',\n",
       " 'Powered280909',\n",
       " 'Powered594900',\n",
       " 'Powered759645',\n",
       " 'Powered286845',\n",
       " 'Powered045110',\n",
       " 'Powered754655',\n",
       " 'Powered106780',\n",
       " 'Powered200662',\n",
       " 'Powered707354',\n",
       " 'Powered516098',\n",
       " 'Powered528317',\n",
       " 'Powered826263',\n",
       " 'Powered187322',\n",
       " 'Powered695890',\n",
       " 'Powered912125',\n",
       " 'Powered890203',\n",
       " 'Powered293618',\n",
       " 'Powered695613',\n",
       " 'Powered570830',\n",
       " 'Powered569373',\n",
       " 'Powered753883',\n",
       " 'Powered538359',\n",
       " 'Powered962006',\n",
       " 'Powered721654',\n",
       " 'Powered095782',\n",
       " 'Powered797959',\n",
       " 'Powered571124',\n",
       " 'Powered947025',\n",
       " 'Powered131810',\n",
       " 'Powered980721',\n",
       " 'Powered572731',\n",
       " 'Powered713060',\n",
       " 'Powered680339',\n",
       " 'Powered794573',\n",
       " 'Powered228312',\n",
       " 'Powered826969',\n",
       " 'Powered837144',\n",
       " 'Powered675301',\n",
       " 'Powered577651',\n",
       " 'Powered874077',\n",
       " 'Powered219566',\n",
       " 'Powered987267',\n",
       " 'Powered288151',\n",
       " 'Powered415270',\n",
       " 'Powered542423',\n",
       " 'Powered594191',\n",
       " 'Powered208790',\n",
       " 'Powered922913',\n",
       " 'Powered278313',\n",
       " 'Powered991401',\n",
       " 'Powered696853',\n",
       " 'Powered163072',\n",
       " 'Powered329418',\n",
       " 'Powered382177',\n",
       " 'Powered531057',\n",
       " 'Powered302061',\n",
       " 'Powered414910',\n",
       " 'Powered442505',\n",
       " 'Powered645835',\n",
       " 'Powered123967',\n",
       " 'Powered360081',\n",
       " 'Powered539468',\n",
       " 'Powered952134',\n",
       " 'Powered336823',\n",
       " 'Powered633835',\n",
       " 'Powered525710',\n",
       " 'Powered988297',\n",
       " 'Powered460651',\n",
       " 'Powered333188',\n",
       " 'Powered919406',\n",
       " 'Powered151697',\n",
       " 'Powered390738',\n",
       " 'Powered399506',\n",
       " 'Powered362264',\n",
       " 'Powered905728',\n",
       " 'Powered425054',\n",
       " 'Powered462353',\n",
       " 'Powered576125',\n",
       " 'Powered315190',\n",
       " 'Powered500085',\n",
       " 'Powered027373',\n",
       " 'Powered323829',\n",
       " 'Powered974679',\n",
       " 'Powered260618',\n",
       " 'Powered154776',\n",
       " 'Powered898431',\n",
       " 'Powered644266',\n",
       " 'Powered172611',\n",
       " 'Powered259208',\n",
       " 'Powered586079',\n",
       " 'Powered603273',\n",
       " 'Powered878687',\n",
       " 'Powered116968',\n",
       " 'Powered887589',\n",
       " 'Powered902144',\n",
       " 'Powered296631',\n",
       " 'Powered936247',\n",
       " 'Powered255564',\n",
       " 'Powered756041',\n",
       " 'Powered143775',\n",
       " 'Powered419754',\n",
       " 'Powered271443',\n",
       " 'Powered982090',\n",
       " 'Powered411953',\n",
       " 'Powered658786',\n",
       " 'Powered645527',\n",
       " 'Powered570380',\n",
       " 'Powered795954',\n",
       " 'Powered268191',\n",
       " 'Powered516784',\n",
       " 'Powered086478',\n",
       " 'Powered726262',\n",
       " 'Powered650298',\n",
       " 'Powered106748',\n",
       " 'Powered590962',\n",
       " 'Powered674261',\n",
       " 'Powered473359',\n",
       " 'Powered800075',\n",
       " 'Powered899046',\n",
       " 'Powered501866',\n",
       " 'Powered472008',\n",
       " 'Powered509158',\n",
       " 'Powered412921',\n",
       " 'Powered039082',\n",
       " 'Powered131604',\n",
       " 'Powered882104',\n",
       " 'Powered851908',\n",
       " 'Powered287946',\n",
       " 'Powered853835',\n",
       " 'Powered434850',\n",
       " 'Powered718280',\n",
       " 'Powered382538',\n",
       " 'Powered490080',\n",
       " 'Powered903846',\n",
       " 'Powered932677',\n",
       " 'Powered557932',\n",
       " 'Powered999821',\n",
       " 'Powered184254',\n",
       " 'Powered937685',\n",
       " 'Powered175693',\n",
       " 'Powered752703',\n",
       " 'Powered474509',\n",
       " 'Powered211807',\n",
       " 'Powered643133',\n",
       " 'Powered809819',\n",
       " 'Powered629192',\n",
       " 'Powered949687',\n",
       " 'Powered815193',\n",
       " 'Powered999631',\n",
       " 'Powered783367',\n",
       " 'Powered317642',\n",
       " 'Powered779524',\n",
       " 'Powered521976',\n",
       " 'Powered303785',\n",
       " 'Powered616283',\n",
       " 'Powered319484',\n",
       " 'Powered244248',\n",
       " 'Powered072224',\n",
       " 'Powered885853',\n",
       " 'Powered314930',\n",
       " 'Powered223899',\n",
       " 'Powered218969',\n",
       " 'Powered750083',\n",
       " 'Powered645659',\n",
       " 'Powered514181',\n",
       " 'Powered620854',\n",
       " ...]"
      ]
     },
     "execution_count": 33,
     "metadata": {},
     "output_type": "execute_result"
    }
   ],
   "source": [
    "may_uniq_scooters = may.sumdid.unique().tolist()\n",
    "may_time_coord_dict = {}\n",
    "may_uniq_scooters"
   ]
  },
  {
   "cell_type": "code",
   "execution_count": 34,
   "id": "2d7858da",
   "metadata": {},
   "outputs": [
    {
     "data": {
      "text/html": [
       "<div>\n",
       "<style scoped>\n",
       "    .dataframe tbody tr th:only-of-type {\n",
       "        vertical-align: middle;\n",
       "    }\n",
       "\n",
       "    .dataframe tbody tr th {\n",
       "        vertical-align: top;\n",
       "    }\n",
       "\n",
       "    .dataframe thead th {\n",
       "        text-align: right;\n",
       "    }\n",
       "</style>\n",
       "<table border=\"1\" class=\"dataframe\">\n",
       "  <thead>\n",
       "    <tr style=\"text-align: right;\">\n",
       "      <th></th>\n",
       "      <th>pubdatetime</th>\n",
       "      <th>latitude</th>\n",
       "      <th>longitude</th>\n",
       "      <th>sumdid</th>\n",
       "      <th>chargelevel</th>\n",
       "      <th>companyname</th>\n",
       "      <th>geometry</th>\n",
       "    </tr>\n",
       "  </thead>\n",
       "  <tbody>\n",
       "    <tr>\n",
       "      <th>0</th>\n",
       "      <td>2019-05-01 00:01:41.247</td>\n",
       "      <td>36.136822</td>\n",
       "      <td>-86.799877</td>\n",
       "      <td>PoweredLIRL1</td>\n",
       "      <td>93.0</td>\n",
       "      <td>Bird</td>\n",
       "      <td>0          -86.799877\\n1          -86.772945\\n...</td>\n",
       "    </tr>\n",
       "    <tr>\n",
       "      <th>1</th>\n",
       "      <td>2019-05-01 00:01:41.247</td>\n",
       "      <td>36.191252</td>\n",
       "      <td>-86.772945</td>\n",
       "      <td>PoweredXWRWC</td>\n",
       "      <td>35.0</td>\n",
       "      <td>Bird</td>\n",
       "      <td>0          -86.799877\\n1          -86.772945\\n...</td>\n",
       "    </tr>\n",
       "    <tr>\n",
       "      <th>2</th>\n",
       "      <td>2019-05-01 00:01:41.247</td>\n",
       "      <td>36.144752</td>\n",
       "      <td>-86.806293</td>\n",
       "      <td>PoweredMEJEH</td>\n",
       "      <td>90.0</td>\n",
       "      <td>Bird</td>\n",
       "      <td>0          -86.799877\\n1          -86.772945\\n...</td>\n",
       "    </tr>\n",
       "    <tr>\n",
       "      <th>3</th>\n",
       "      <td>2019-05-01 00:01:41.247</td>\n",
       "      <td>36.162056</td>\n",
       "      <td>-86.774688</td>\n",
       "      <td>Powered1A7TC</td>\n",
       "      <td>88.0</td>\n",
       "      <td>Bird</td>\n",
       "      <td>0          -86.799877\\n1          -86.772945\\n...</td>\n",
       "    </tr>\n",
       "    <tr>\n",
       "      <th>4</th>\n",
       "      <td>2019-05-01 00:01:41.247</td>\n",
       "      <td>36.150973</td>\n",
       "      <td>-86.783109</td>\n",
       "      <td>Powered2TYEF</td>\n",
       "      <td>98.0</td>\n",
       "      <td>Bird</td>\n",
       "      <td>0          -86.799877\\n1          -86.772945\\n...</td>\n",
       "    </tr>\n",
       "  </tbody>\n",
       "</table>\n",
       "</div>"
      ],
      "text/plain": [
       "              pubdatetime   latitude  longitude        sumdid  chargelevel  \\\n",
       "0 2019-05-01 00:01:41.247  36.136822 -86.799877  PoweredLIRL1         93.0   \n",
       "1 2019-05-01 00:01:41.247  36.191252 -86.772945  PoweredXWRWC         35.0   \n",
       "2 2019-05-01 00:01:41.247  36.144752 -86.806293  PoweredMEJEH         90.0   \n",
       "3 2019-05-01 00:01:41.247  36.162056 -86.774688  Powered1A7TC         88.0   \n",
       "4 2019-05-01 00:01:41.247  36.150973 -86.783109  Powered2TYEF         98.0   \n",
       "\n",
       "  companyname                                           geometry  \n",
       "0        Bird  0          -86.799877\\n1          -86.772945\\n...  \n",
       "1        Bird  0          -86.799877\\n1          -86.772945\\n...  \n",
       "2        Bird  0          -86.799877\\n1          -86.772945\\n...  \n",
       "3        Bird  0          -86.799877\\n1          -86.772945\\n...  \n",
       "4        Bird  0          -86.799877\\n1          -86.772945\\n...  "
      ]
     },
     "execution_count": 34,
     "metadata": {},
     "output_type": "execute_result"
    }
   ],
   "source": [
    "may.head()"
   ]
  },
  {
   "cell_type": "markdown",
   "id": "9973c84f",
   "metadata": {},
   "source": [
    "### Master Function to Rule Them All"
   ]
  },
  {
   "cell_type": "markdown",
   "id": "646dc0b4",
   "metadata": {},
   "source": [
    "{sumdid: {companyname: Bird, route: {pubdatetime: {geometry: -86.799877\\n1 -86.772945\\n.., chargelevel: 93.0}}}}"
   ]
  },
  {
   "cell_type": "code",
   "execution_count": 54,
   "id": "9a3bee4c",
   "metadata": {},
   "outputs": [
    {
     "data": {
      "text/html": [
       "<div>\n",
       "<style scoped>\n",
       "    .dataframe tbody tr th:only-of-type {\n",
       "        vertical-align: middle;\n",
       "    }\n",
       "\n",
       "    .dataframe tbody tr th {\n",
       "        vertical-align: top;\n",
       "    }\n",
       "\n",
       "    .dataframe thead th {\n",
       "        text-align: right;\n",
       "    }\n",
       "</style>\n",
       "<table border=\"1\" class=\"dataframe\">\n",
       "  <thead>\n",
       "    <tr style=\"text-align: right;\">\n",
       "      <th></th>\n",
       "      <th>pubdatetime</th>\n",
       "      <th>latitude</th>\n",
       "      <th>longitude</th>\n",
       "      <th>sumdid</th>\n",
       "      <th>chargelevel</th>\n",
       "      <th>companyname</th>\n",
       "      <th>geometry</th>\n",
       "    </tr>\n",
       "  </thead>\n",
       "  <tbody>\n",
       "    <tr>\n",
       "      <th>0</th>\n",
       "      <td>2019-05-01 00:01:41.247</td>\n",
       "      <td>36.136822</td>\n",
       "      <td>-86.799877</td>\n",
       "      <td>PoweredLIRL1</td>\n",
       "      <td>93.0</td>\n",
       "      <td>Bird</td>\n",
       "      <td>0          -86.799877\\n1          -86.772945\\n...</td>\n",
       "    </tr>\n",
       "    <tr>\n",
       "      <th>2694</th>\n",
       "      <td>2019-05-01 00:06:41.537</td>\n",
       "      <td>36.136822</td>\n",
       "      <td>-86.799877</td>\n",
       "      <td>PoweredLIRL1</td>\n",
       "      <td>93.0</td>\n",
       "      <td>Bird</td>\n",
       "      <td>0          -86.799877\\n1          -86.772945\\n...</td>\n",
       "    </tr>\n",
       "    <tr>\n",
       "      <th>26176</th>\n",
       "      <td>2019-05-01 01:01:43.917</td>\n",
       "      <td>36.136751</td>\n",
       "      <td>-86.799921</td>\n",
       "      <td>PoweredLIRL1</td>\n",
       "      <td>92.0</td>\n",
       "      <td>Bird</td>\n",
       "      <td>0          -86.799877\\n1          -86.772945\\n...</td>\n",
       "    </tr>\n",
       "    <tr>\n",
       "      <th>28812</th>\n",
       "      <td>2019-05-01 01:06:44.237</td>\n",
       "      <td>36.136751</td>\n",
       "      <td>-86.799921</td>\n",
       "      <td>PoweredLIRL1</td>\n",
       "      <td>92.0</td>\n",
       "      <td>Bird</td>\n",
       "      <td>0          -86.799877\\n1          -86.772945\\n...</td>\n",
       "    </tr>\n",
       "    <tr>\n",
       "      <th>30726</th>\n",
       "      <td>2019-05-01 01:11:44.167</td>\n",
       "      <td>36.136751</td>\n",
       "      <td>-86.799921</td>\n",
       "      <td>PoweredLIRL1</td>\n",
       "      <td>92.0</td>\n",
       "      <td>Bird</td>\n",
       "      <td>0          -86.799877\\n1          -86.772945\\n...</td>\n",
       "    </tr>\n",
       "    <tr>\n",
       "      <th>...</th>\n",
       "      <td>...</td>\n",
       "      <td>...</td>\n",
       "      <td>...</td>\n",
       "      <td>...</td>\n",
       "      <td>...</td>\n",
       "      <td>...</td>\n",
       "      <td>...</td>\n",
       "    </tr>\n",
       "    <tr>\n",
       "      <th>188435</th>\n",
       "      <td>2019-05-01 08:37:01.067</td>\n",
       "      <td>36.136832</td>\n",
       "      <td>-86.799858</td>\n",
       "      <td>PoweredLIRL1</td>\n",
       "      <td>92.0</td>\n",
       "      <td>Bird</td>\n",
       "      <td>0          -86.799877\\n1          -86.772945\\n...</td>\n",
       "    </tr>\n",
       "    <tr>\n",
       "      <th>190128</th>\n",
       "      <td>2019-05-01 08:42:00.967</td>\n",
       "      <td>36.136832</td>\n",
       "      <td>-86.799858</td>\n",
       "      <td>PoweredLIRL1</td>\n",
       "      <td>92.0</td>\n",
       "      <td>Bird</td>\n",
       "      <td>0          -86.799877\\n1          -86.772945\\n...</td>\n",
       "    </tr>\n",
       "    <tr>\n",
       "      <th>191629</th>\n",
       "      <td>2019-05-01 08:47:01.023</td>\n",
       "      <td>36.136838</td>\n",
       "      <td>-86.799834</td>\n",
       "      <td>PoweredLIRL1</td>\n",
       "      <td>92.0</td>\n",
       "      <td>Bird</td>\n",
       "      <td>0          -86.799877\\n1          -86.772945\\n...</td>\n",
       "    </tr>\n",
       "    <tr>\n",
       "      <th>193851</th>\n",
       "      <td>2019-05-01 08:52:01.247</td>\n",
       "      <td>36.136838</td>\n",
       "      <td>-86.799834</td>\n",
       "      <td>PoweredLIRL1</td>\n",
       "      <td>92.0</td>\n",
       "      <td>Bird</td>\n",
       "      <td>0          -86.799877\\n1          -86.772945\\n...</td>\n",
       "    </tr>\n",
       "    <tr>\n",
       "      <th>195224</th>\n",
       "      <td>2019-05-01 08:57:01.397</td>\n",
       "      <td>36.136807</td>\n",
       "      <td>-86.799859</td>\n",
       "      <td>PoweredLIRL1</td>\n",
       "      <td>92.0</td>\n",
       "      <td>Bird</td>\n",
       "      <td>0          -86.799877\\n1          -86.772945\\n...</td>\n",
       "    </tr>\n",
       "  </tbody>\n",
       "</table>\n",
       "<p>98 rows × 7 columns</p>\n",
       "</div>"
      ],
      "text/plain": [
       "                   pubdatetime   latitude  longitude        sumdid  \\\n",
       "0      2019-05-01 00:01:41.247  36.136822 -86.799877  PoweredLIRL1   \n",
       "2694   2019-05-01 00:06:41.537  36.136822 -86.799877  PoweredLIRL1   \n",
       "26176  2019-05-01 01:01:43.917  36.136751 -86.799921  PoweredLIRL1   \n",
       "28812  2019-05-01 01:06:44.237  36.136751 -86.799921  PoweredLIRL1   \n",
       "30726  2019-05-01 01:11:44.167  36.136751 -86.799921  PoweredLIRL1   \n",
       "...                        ...        ...        ...           ...   \n",
       "188435 2019-05-01 08:37:01.067  36.136832 -86.799858  PoweredLIRL1   \n",
       "190128 2019-05-01 08:42:00.967  36.136832 -86.799858  PoweredLIRL1   \n",
       "191629 2019-05-01 08:47:01.023  36.136838 -86.799834  PoweredLIRL1   \n",
       "193851 2019-05-01 08:52:01.247  36.136838 -86.799834  PoweredLIRL1   \n",
       "195224 2019-05-01 08:57:01.397  36.136807 -86.799859  PoweredLIRL1   \n",
       "\n",
       "        chargelevel companyname  \\\n",
       "0              93.0        Bird   \n",
       "2694           93.0        Bird   \n",
       "26176          92.0        Bird   \n",
       "28812          92.0        Bird   \n",
       "30726          92.0        Bird   \n",
       "...             ...         ...   \n",
       "188435         92.0        Bird   \n",
       "190128         92.0        Bird   \n",
       "191629         92.0        Bird   \n",
       "193851         92.0        Bird   \n",
       "195224         92.0        Bird   \n",
       "\n",
       "                                                 geometry  \n",
       "0       0          -86.799877\\n1          -86.772945\\n...  \n",
       "2694    0          -86.799877\\n1          -86.772945\\n...  \n",
       "26176   0          -86.799877\\n1          -86.772945\\n...  \n",
       "28812   0          -86.799877\\n1          -86.772945\\n...  \n",
       "30726   0          -86.799877\\n1          -86.772945\\n...  \n",
       "...                                                   ...  \n",
       "188435  0          -86.799877\\n1          -86.772945\\n...  \n",
       "190128  0          -86.799877\\n1          -86.772945\\n...  \n",
       "191629  0          -86.799877\\n1          -86.772945\\n...  \n",
       "193851  0          -86.799877\\n1          -86.772945\\n...  \n",
       "195224  0          -86.799877\\n1          -86.772945\\n...  \n",
       "\n",
       "[98 rows x 7 columns]"
      ]
     },
     "execution_count": 54,
     "metadata": {},
     "output_type": "execute_result"
    }
   ],
   "source": [
    "def scooter_daily_rt(df, month, day):\n",
    "    dict1 = {}\n",
    "    start_date = f\"2019-{month_number[month]}-{str(day)}\"\n",
    "    end_date = f\"2019-{month_number[month]}-{str(day+1)}\"\n",
    "    mask = (df['pubdatetime'] > start_date) & (df['pubdatetime'] <= end_date)\n",
    "    day_msk = df.loc[mask]\n",
    "    return day_msk\n",
    "\n",
    "may_1_rdm = may[may.sumdid==\"PoweredLIRL1\"]\n",
    "rando_scooter_rt = scooter_daily_rt(may_1_rdm, \"May\", 1)\n",
    "rando_scooter_rt"
   ]
  },
  {
   "cell_type": "code",
   "execution_count": 47,
   "id": "80050296",
   "metadata": {},
   "outputs": [
    {
     "data": {
      "text/plain": [
       "<AxesSubplot:>"
      ]
     },
     "execution_count": 47,
     "metadata": {},
     "output_type": "execute_result"
    },
    {
     "data": {
      "image/png": "[encoded data removed]",
      "text/plain": [
       "<Figure size 432x288 with 1 Axes>"
      ]
     },
     "metadata": {
      "needs_background": "light"
     },
     "output_type": "display_data"
    }
   ],
   "source": [
    "# # Reading in the zip codes\n",
    "# zipfilepath = '../data/zipcodes.geojson'\n",
    "# zips = gpd.read_file(zipfilepath)\n",
    "# zips.plot()"
   ]
  },
  {
   "cell_type": "code",
   "execution_count": 87,
   "id": "cafe7d15",
   "metadata": {},
   "outputs": [
    {
     "name": "stdout",
     "output_type": "stream",
     "text": [
      "epsg:2274\n",
      "   OBJECTID  ZONE_ID    SHAPE_STAr     SHAPE_STLe  \\\n",
      "0         1        1  1.053728e+08   49364.601403   \n",
      "1         2        2  7.670585e+07   45226.018917   \n",
      "2         3        3  2.985488e+08   75207.067487   \n",
      "3         4        4  2.713638e+08   74348.596054   \n",
      "4         5        5  3.928178e+08  106661.712102   \n",
      "5         6        6  9.535996e+07   59256.923574   \n",
      "\n",
      "                                            geometry  \n",
      "0  POLYGON ((-86.76297 36.19364, -86.76297 36.193...  \n",
      "1  POLYGON ((-86.77838 36.14889, -86.77823 36.148...  \n",
      "2  POLYGON ((-86.70771 36.16723, -86.70758 36.166...  \n",
      "3  POLYGON ((-86.74735 36.13036, -86.74728 36.130...  \n",
      "4  POLYGON ((-86.78490 36.23358, -86.78452 36.232...  \n",
      "5  POLYGON ((-86.85223 36.16417, -86.85204 36.164...  \n"
     ]
    }
   ],
   "source": [
    "promise_zones = gpd.read_file('../data/MDHA_Promise_Zones/Export_Output_5.shp')\n",
    "print(promise_zones.crs)\n",
    "promise_zones= promise_zones.to_crs('EPSG:4326')\n",
    "print(promise_zones)"
   ]
  },
  {
   "cell_type": "code",
   "execution_count": 88,
   "id": "dfe30d03",
   "metadata": {},
   "outputs": [
    {
     "data": {
      "text/plain": [
       "<AxesSubplot:>"
      ]
     },
     "execution_count": 88,
     "metadata": {},
     "output_type": "execute_result"
    },
    {
     "data": {
      "image/png": "[encoded data removed]",
      "text/plain": [
       "<Figure size 432x288 with 1 Axes>"
      ]
     },
     "metadata": {
      "needs_background": "light"
     },
     "output_type": "display_data"
    }
   ],
   "source": [
    "promise_zones.plot(cmap='Set1')"
   ]
  },
  {
   "cell_type": "code",
   "execution_count": 67,
   "id": "ee33bfc8",
   "metadata": {},
   "outputs": [
    {
     "data": {
      "text/plain": [
       "pandas.core.frame.DataFrame"
      ]
     },
     "execution_count": 67,
     "metadata": {},
     "output_type": "execute_result"
    }
   ],
   "source": [
    "rando_scooter_rt.head()\n",
    "type(rando_scooter_rt)"
   ]
  },
  {
   "cell_type": "code",
   "execution_count": 93,
   "id": "d8b12e25",
   "metadata": {},
   "outputs": [
    {
     "data": {
      "image/png": "[encoded data removed]",
      "text/plain": [
       "<Figure size 720x720 with 1 Axes>"
      ]
     },
     "metadata": {
      "needs_background": "light"
     },
     "output_type": "display_data"
    }
   ],
   "source": [
    "scooter_day_gdf = gpd.GeoDataFrame(rando_scooter_rt, crs=zips.crs, geometry=gpd.points_from_xy(rando_scooter_rt.longitude, rando_scooter_rt.latitude))\n",
    "leg_kwds = {'title': 'Zipcodes', 'loc': 'upper left', 'bbox_to_anchor': (1, 1.103), 'ncol':2}\n",
    "zips.plot(column='zip', figsize=(10,10), edgecolor='black', legend=True, legend_kwds=leg_kwds, cmap='tab20b')\n",
    "scooter_zips = gpd.sjoin(scooter_day_gdf, zips, op='within')\n",
    "plt.show()"
   ]
  },
  {
   "cell_type": "code",
   "execution_count": 94,
   "id": "80651cf7",
   "metadata": {
    "scrolled": true
   },
   "outputs": [
    {
     "data": {
      "text/plain": [
       "2019-05-01 00:01:41.247    1\n",
       "2019-05-01 06:56:57.310    1\n",
       "2019-05-01 06:46:57.133    1\n",
       "2019-05-01 06:41:57.030    1\n",
       "2019-05-01 06:36:56.893    1\n",
       "                          ..\n",
       "2019-05-01 03:21:49.280    1\n",
       "2019-05-01 03:16:49.280    1\n",
       "2019-05-01 03:11:48.900    1\n",
       "2019-05-01 03:06:48.633    1\n",
       "2019-05-01 08:57:01.397    1\n",
       "Name: pubdatetime, Length: 98, dtype: int64"
      ]
     },
     "execution_count": 94,
     "metadata": {},
     "output_type": "execute_result"
    }
   ],
   "source": [
    "scooter_checkins = scooter_zips['pubdatetime'].value_counts()\n",
    "scooter_checkins"
   ]
  },
  {
   "cell_type": "code",
   "execution_count": 95,
   "id": "f62d52b8",
   "metadata": {},
   "outputs": [
    {
     "ename": "KeyError",
     "evalue": "\"None of [Int64Index([2, 2, 2, 2, 2, 2, 2, 2, 2, 2, 2, 2, 2, 2, 2, 2, 2, 2, 2, 2, 2, 2,\\n            2, 2, 2, 2, 2, 2, 2, 2, 2, 2, 2, 2, 2, 2, 2, 2, 2, 2, 2, 2, 2, 2,\\n            2, 2, 2, 2, 2, 2, 2, 2, 2, 2, 2, 2, 2, 2, 2, 2, 2, 2, 2, 2, 2, 2,\\n            2, 2, 2, 2, 2, 2, 2, 2, 2, 2, 2, 2, 2, 2, 2, 2, 2, 2, 2, 2, 2, 2,\\n            2, 2, 2, 2, 2, 2, 2, 2, 2, 2],\\n           dtype='int64')] are in the [index]\"",
     "output_type": "error",
     "traceback": [
      "\u001b[1;31m---------------------------------------------------------------------------\u001b[0m",
      "\u001b[1;31mKeyError\u001b[0m                                  Traceback (most recent call last)",
      "\u001b[1;32m~\\AppData\\Local\\Temp/ipykernel_16452/2864798773.py\u001b[0m in \u001b[0;36m<module>\u001b[1;34m\u001b[0m\n\u001b[1;32m----> 1\u001b[1;33m \u001b[0mscooter_npz\u001b[0m \u001b[1;33m=\u001b[0m \u001b[0mnpz_poly\u001b[0m\u001b[1;33m.\u001b[0m\u001b[0mloc\u001b[0m\u001b[1;33m[\u001b[0m\u001b[0mnpz_poly\u001b[0m\u001b[1;33m[\u001b[0m\u001b[1;34m'ZONE_ID'\u001b[0m\u001b[1;33m]\u001b[0m\u001b[1;33m]\u001b[0m\u001b[1;33m\u001b[0m\u001b[1;33m\u001b[0m\u001b[0m\n\u001b[0m\u001b[0;32m      2\u001b[0m \u001b[0mscooter_npz\u001b[0m\u001b[1;33m\u001b[0m\u001b[1;33m\u001b[0m\u001b[0m\n",
      "\u001b[1;32m~\\anaconda3\\envs\\geospatial\\lib\\site-packages\\pandas\\core\\indexing.py\u001b[0m in \u001b[0;36m__getitem__\u001b[1;34m(self, key)\u001b[0m\n\u001b[0;32m    929\u001b[0m \u001b[1;33m\u001b[0m\u001b[0m\n\u001b[0;32m    930\u001b[0m             \u001b[0mmaybe_callable\u001b[0m \u001b[1;33m=\u001b[0m \u001b[0mcom\u001b[0m\u001b[1;33m.\u001b[0m\u001b[0mapply_if_callable\u001b[0m\u001b[1;33m(\u001b[0m\u001b[0mkey\u001b[0m\u001b[1;33m,\u001b[0m \u001b[0mself\u001b[0m\u001b[1;33m.\u001b[0m\u001b[0mobj\u001b[0m\u001b[1;33m)\u001b[0m\u001b[1;33m\u001b[0m\u001b[1;33m\u001b[0m\u001b[0m\n\u001b[1;32m--> 931\u001b[1;33m             \u001b[1;32mreturn\u001b[0m \u001b[0mself\u001b[0m\u001b[1;33m.\u001b[0m\u001b[0m_getitem_axis\u001b[0m\u001b[1;33m(\u001b[0m\u001b[0mmaybe_callable\u001b[0m\u001b[1;33m,\u001b[0m \u001b[0maxis\u001b[0m\u001b[1;33m=\u001b[0m\u001b[0maxis\u001b[0m\u001b[1;33m)\u001b[0m\u001b[1;33m\u001b[0m\u001b[1;33m\u001b[0m\u001b[0m\n\u001b[0m\u001b[0;32m    932\u001b[0m \u001b[1;33m\u001b[0m\u001b[0m\n\u001b[0;32m    933\u001b[0m     \u001b[1;32mdef\u001b[0m \u001b[0m_is_scalar_access\u001b[0m\u001b[1;33m(\u001b[0m\u001b[0mself\u001b[0m\u001b[1;33m,\u001b[0m \u001b[0mkey\u001b[0m\u001b[1;33m:\u001b[0m \u001b[0mtuple\u001b[0m\u001b[1;33m)\u001b[0m\u001b[1;33m:\u001b[0m\u001b[1;33m\u001b[0m\u001b[1;33m\u001b[0m\u001b[0m\n",
      "\u001b[1;32m~\\anaconda3\\envs\\geospatial\\lib\\site-packages\\pandas\\core\\indexing.py\u001b[0m in \u001b[0;36m_getitem_axis\u001b[1;34m(self, key, axis)\u001b[0m\n\u001b[0;32m   1151\u001b[0m                     \u001b[1;32mraise\u001b[0m \u001b[0mValueError\u001b[0m\u001b[1;33m(\u001b[0m\u001b[1;34m\"Cannot index with multidimensional key\"\u001b[0m\u001b[1;33m)\u001b[0m\u001b[1;33m\u001b[0m\u001b[1;33m\u001b[0m\u001b[0m\n\u001b[0;32m   1152\u001b[0m \u001b[1;33m\u001b[0m\u001b[0m\n\u001b[1;32m-> 1153\u001b[1;33m                 \u001b[1;32mreturn\u001b[0m \u001b[0mself\u001b[0m\u001b[1;33m.\u001b[0m\u001b[0m_getitem_iterable\u001b[0m\u001b[1;33m(\u001b[0m\u001b[0mkey\u001b[0m\u001b[1;33m,\u001b[0m \u001b[0maxis\u001b[0m\u001b[1;33m=\u001b[0m\u001b[0maxis\u001b[0m\u001b[1;33m)\u001b[0m\u001b[1;33m\u001b[0m\u001b[1;33m\u001b[0m\u001b[0m\n\u001b[0m\u001b[0;32m   1154\u001b[0m \u001b[1;33m\u001b[0m\u001b[0m\n\u001b[0;32m   1155\u001b[0m             \u001b[1;31m# nested tuple slicing\u001b[0m\u001b[1;33m\u001b[0m\u001b[1;33m\u001b[0m\u001b[1;33m\u001b[0m\u001b[0m\n",
      "\u001b[1;32m~\\anaconda3\\envs\\geospatial\\lib\\site-packages\\pandas\\core\\indexing.py\u001b[0m in \u001b[0;36m_getitem_iterable\u001b[1;34m(self, key, axis)\u001b[0m\n\u001b[0;32m   1091\u001b[0m \u001b[1;33m\u001b[0m\u001b[0m\n\u001b[0;32m   1092\u001b[0m         \u001b[1;31m# A collection of keys\u001b[0m\u001b[1;33m\u001b[0m\u001b[1;33m\u001b[0m\u001b[1;33m\u001b[0m\u001b[0m\n\u001b[1;32m-> 1093\u001b[1;33m         \u001b[0mkeyarr\u001b[0m\u001b[1;33m,\u001b[0m \u001b[0mindexer\u001b[0m \u001b[1;33m=\u001b[0m \u001b[0mself\u001b[0m\u001b[1;33m.\u001b[0m\u001b[0m_get_listlike_indexer\u001b[0m\u001b[1;33m(\u001b[0m\u001b[0mkey\u001b[0m\u001b[1;33m,\u001b[0m \u001b[0maxis\u001b[0m\u001b[1;33m)\u001b[0m\u001b[1;33m\u001b[0m\u001b[1;33m\u001b[0m\u001b[0m\n\u001b[0m\u001b[0;32m   1094\u001b[0m         return self.obj._reindex_with_indexers(\n\u001b[0;32m   1095\u001b[0m             \u001b[1;33m{\u001b[0m\u001b[0maxis\u001b[0m\u001b[1;33m:\u001b[0m \u001b[1;33m[\u001b[0m\u001b[0mkeyarr\u001b[0m\u001b[1;33m,\u001b[0m \u001b[0mindexer\u001b[0m\u001b[1;33m]\u001b[0m\u001b[1;33m}\u001b[0m\u001b[1;33m,\u001b[0m \u001b[0mcopy\u001b[0m\u001b[1;33m=\u001b[0m\u001b[1;32mTrue\u001b[0m\u001b[1;33m,\u001b[0m \u001b[0mallow_dups\u001b[0m\u001b[1;33m=\u001b[0m\u001b[1;32mTrue\u001b[0m\u001b[1;33m\u001b[0m\u001b[1;33m\u001b[0m\u001b[0m\n",
      "\u001b[1;32m~\\anaconda3\\envs\\geospatial\\lib\\site-packages\\pandas\\core\\indexing.py\u001b[0m in \u001b[0;36m_get_listlike_indexer\u001b[1;34m(self, key, axis)\u001b[0m\n\u001b[0;32m   1312\u001b[0m             \u001b[0mkeyarr\u001b[0m\u001b[1;33m,\u001b[0m \u001b[0mindexer\u001b[0m\u001b[1;33m,\u001b[0m \u001b[0mnew_indexer\u001b[0m \u001b[1;33m=\u001b[0m \u001b[0max\u001b[0m\u001b[1;33m.\u001b[0m\u001b[0m_reindex_non_unique\u001b[0m\u001b[1;33m(\u001b[0m\u001b[0mkeyarr\u001b[0m\u001b[1;33m)\u001b[0m\u001b[1;33m\u001b[0m\u001b[1;33m\u001b[0m\u001b[0m\n\u001b[0;32m   1313\u001b[0m \u001b[1;33m\u001b[0m\u001b[0m\n\u001b[1;32m-> 1314\u001b[1;33m         \u001b[0mself\u001b[0m\u001b[1;33m.\u001b[0m\u001b[0m_validate_read_indexer\u001b[0m\u001b[1;33m(\u001b[0m\u001b[0mkeyarr\u001b[0m\u001b[1;33m,\u001b[0m \u001b[0mindexer\u001b[0m\u001b[1;33m,\u001b[0m \u001b[0maxis\u001b[0m\u001b[1;33m)\u001b[0m\u001b[1;33m\u001b[0m\u001b[1;33m\u001b[0m\u001b[0m\n\u001b[0m\u001b[0;32m   1315\u001b[0m \u001b[1;33m\u001b[0m\u001b[0m\n\u001b[0;32m   1316\u001b[0m         if needs_i8_conversion(ax.dtype) or isinstance(\n",
      "\u001b[1;32m~\\anaconda3\\envs\\geospatial\\lib\\site-packages\\pandas\\core\\indexing.py\u001b[0m in \u001b[0;36m_validate_read_indexer\u001b[1;34m(self, key, indexer, axis)\u001b[0m\n\u001b[0;32m   1372\u001b[0m                 \u001b[1;32mif\u001b[0m \u001b[0muse_interval_msg\u001b[0m\u001b[1;33m:\u001b[0m\u001b[1;33m\u001b[0m\u001b[1;33m\u001b[0m\u001b[0m\n\u001b[0;32m   1373\u001b[0m                     \u001b[0mkey\u001b[0m \u001b[1;33m=\u001b[0m \u001b[0mlist\u001b[0m\u001b[1;33m(\u001b[0m\u001b[0mkey\u001b[0m\u001b[1;33m)\u001b[0m\u001b[1;33m\u001b[0m\u001b[1;33m\u001b[0m\u001b[0m\n\u001b[1;32m-> 1374\u001b[1;33m                 \u001b[1;32mraise\u001b[0m \u001b[0mKeyError\u001b[0m\u001b[1;33m(\u001b[0m\u001b[1;34mf\"None of [{key}] are in the [{axis_name}]\"\u001b[0m\u001b[1;33m)\u001b[0m\u001b[1;33m\u001b[0m\u001b[1;33m\u001b[0m\u001b[0m\n\u001b[0m\u001b[0;32m   1375\u001b[0m \u001b[1;33m\u001b[0m\u001b[0m\n\u001b[0;32m   1376\u001b[0m             \u001b[0mnot_found\u001b[0m \u001b[1;33m=\u001b[0m \u001b[0mlist\u001b[0m\u001b[1;33m(\u001b[0m\u001b[0mensure_index\u001b[0m\u001b[1;33m(\u001b[0m\u001b[0mkey\u001b[0m\u001b[1;33m)\u001b[0m\u001b[1;33m[\u001b[0m\u001b[0mmissing_mask\u001b[0m\u001b[1;33m.\u001b[0m\u001b[0mnonzero\u001b[0m\u001b[1;33m(\u001b[0m\u001b[1;33m)\u001b[0m\u001b[1;33m[\u001b[0m\u001b[1;36m0\u001b[0m\u001b[1;33m]\u001b[0m\u001b[1;33m]\u001b[0m\u001b[1;33m.\u001b[0m\u001b[0munique\u001b[0m\u001b[1;33m(\u001b[0m\u001b[1;33m)\u001b[0m\u001b[1;33m)\u001b[0m\u001b[1;33m\u001b[0m\u001b[1;33m\u001b[0m\u001b[0m\n",
      "\u001b[1;31mKeyError\u001b[0m: \"None of [Int64Index([2, 2, 2, 2, 2, 2, 2, 2, 2, 2, 2, 2, 2, 2, 2, 2, 2, 2, 2, 2, 2, 2,\\n            2, 2, 2, 2, 2, 2, 2, 2, 2, 2, 2, 2, 2, 2, 2, 2, 2, 2, 2, 2, 2, 2,\\n            2, 2, 2, 2, 2, 2, 2, 2, 2, 2, 2, 2, 2, 2, 2, 2, 2, 2, 2, 2, 2, 2,\\n            2, 2, 2, 2, 2, 2, 2, 2, 2, 2, 2, 2, 2, 2, 2, 2, 2, 2, 2, 2, 2, 2,\\n            2, 2, 2, 2, 2, 2, 2, 2, 2, 2],\\n           dtype='int64')] are in the [index]\""
     ]
    }
   ],
   "source": [
    "stops_in_37212 = scooter_zips.loc[scooter_zips['zip'] == '37212']\n",
    "stops_in_37212"
   ]
  },
  {
   "cell_type": "code",
   "execution_count": 96,
   "id": "1e7ca334",
   "metadata": {
    "scrolled": true
   },
   "outputs": [
    {
     "name": "stderr",
     "output_type": "stream",
     "text": [
      "C:\\Users\\16153\\anaconda3\\envs\\geospatial\\lib\\site-packages\\geopandas\\plotting.py:572: UserWarning: Only specify one of 'column' or 'color'. Using 'color'.\n",
      "  warnings.warn(\n"
     ]
    },
    {
     "data": {
      "image/png": "[encoded data removed]",
      "text/plain": [
       "<Figure size 432x288 with 1 Axes>"
      ]
     },
     "metadata": {
      "needs_background": "light"
     },
     "output_type": "display_data"
    }
   ],
   "source": [
    "ax = zips.plot(\n",
    "color='white', edgecolor='black')\n",
    "rando_scooter_rt.plot(ax=ax, color='red')\n",
    "plt.show()"
   ]
  },
  {
   "cell_type": "code",
   "execution_count": 81,
   "id": "5edfdfd2",
   "metadata": {},
   "outputs": [
    {
     "ename": "TypeError",
     "evalue": "Object of type Timestamp is not JSON serializable",
     "output_type": "error",
     "traceback": [
      "\u001b[1;31m---------------------------------------------------------------------------\u001b[0m",
      "\u001b[1;31mTypeError\u001b[0m                                 Traceback (most recent call last)",
      "\u001b[1;32m~\\AppData\\Local\\Temp/ipykernel_16452/3319300228.py\u001b[0m in \u001b[0;36m<module>\u001b[1;34m\u001b[0m\n\u001b[0;32m      2\u001b[0m \u001b[1;32mimport\u001b[0m \u001b[0mfolium\u001b[0m\u001b[1;33m\u001b[0m\u001b[1;33m\u001b[0m\u001b[0m\n\u001b[0;32m      3\u001b[0m \u001b[0mmap_zips_scooters\u001b[0m \u001b[1;33m=\u001b[0m \u001b[0mfolium\u001b[0m\u001b[1;33m.\u001b[0m\u001b[0mMap\u001b[0m\u001b[1;33m(\u001b[0m\u001b[0mlocation\u001b[0m \u001b[1;33m=\u001b[0m \u001b[0marea_center\u001b[0m\u001b[1;33m,\u001b[0m \u001b[0mzoom_start\u001b[0m\u001b[1;33m=\u001b[0m\u001b[1;36m14\u001b[0m\u001b[1;33m)\u001b[0m\u001b[1;33m\u001b[0m\u001b[1;33m\u001b[0m\u001b[0m\n\u001b[1;32m----> 4\u001b[1;33m \u001b[0mfolium\u001b[0m\u001b[1;33m.\u001b[0m\u001b[0mGeoJson\u001b[0m\u001b[1;33m(\u001b[0m\u001b[0mscooter_zips\u001b[0m\u001b[1;33m)\u001b[0m\u001b[1;33m.\u001b[0m\u001b[0madd_to\u001b[0m\u001b[1;33m(\u001b[0m\u001b[0mmap_zips_scooters\u001b[0m\u001b[1;33m)\u001b[0m\u001b[1;33m\u001b[0m\u001b[1;33m\u001b[0m\u001b[0m\n\u001b[0m",
      "\u001b[1;32m~\\anaconda3\\envs\\geospatial\\lib\\site-packages\\folium\\features.py\u001b[0m in \u001b[0;36m__init__\u001b[1;34m(self, data, style_function, highlight_function, name, overlay, control, show, smooth_factor, tooltip, embed, popup)\u001b[0m\n\u001b[0;32m    451\u001b[0m         \u001b[0mself\u001b[0m\u001b[1;33m.\u001b[0m\u001b[0mhighlight\u001b[0m \u001b[1;33m=\u001b[0m \u001b[0mhighlight_function\u001b[0m \u001b[1;32mis\u001b[0m \u001b[1;32mnot\u001b[0m \u001b[1;32mNone\u001b[0m\u001b[1;33m\u001b[0m\u001b[1;33m\u001b[0m\u001b[0m\n\u001b[0;32m    452\u001b[0m \u001b[1;33m\u001b[0m\u001b[0m\n\u001b[1;32m--> 453\u001b[1;33m         \u001b[0mself\u001b[0m\u001b[1;33m.\u001b[0m\u001b[0mdata\u001b[0m \u001b[1;33m=\u001b[0m \u001b[0mself\u001b[0m\u001b[1;33m.\u001b[0m\u001b[0mprocess_data\u001b[0m\u001b[1;33m(\u001b[0m\u001b[0mdata\u001b[0m\u001b[1;33m)\u001b[0m\u001b[1;33m\u001b[0m\u001b[1;33m\u001b[0m\u001b[0m\n\u001b[0m\u001b[0;32m    454\u001b[0m \u001b[1;33m\u001b[0m\u001b[0m\n\u001b[0;32m    455\u001b[0m         \u001b[1;32mif\u001b[0m \u001b[0mself\u001b[0m\u001b[1;33m.\u001b[0m\u001b[0mstyle\u001b[0m \u001b[1;32mor\u001b[0m \u001b[0mself\u001b[0m\u001b[1;33m.\u001b[0m\u001b[0mhighlight\u001b[0m\u001b[1;33m:\u001b[0m\u001b[1;33m\u001b[0m\u001b[1;33m\u001b[0m\u001b[0m\n",
      "\u001b[1;32m~\\anaconda3\\envs\\geospatial\\lib\\site-packages\\folium\\features.py\u001b[0m in \u001b[0;36mprocess_data\u001b[1;34m(self, data)\u001b[0m\n\u001b[0;32m    494\u001b[0m             \u001b[1;32mif\u001b[0m \u001b[0mhasattr\u001b[0m\u001b[1;33m(\u001b[0m\u001b[0mdata\u001b[0m\u001b[1;33m,\u001b[0m \u001b[1;34m'to_crs'\u001b[0m\u001b[1;33m)\u001b[0m\u001b[1;33m:\u001b[0m\u001b[1;33m\u001b[0m\u001b[1;33m\u001b[0m\u001b[0m\n\u001b[0;32m    495\u001b[0m                 \u001b[0mdata\u001b[0m \u001b[1;33m=\u001b[0m \u001b[0mdata\u001b[0m\u001b[1;33m.\u001b[0m\u001b[0mto_crs\u001b[0m\u001b[1;33m(\u001b[0m\u001b[1;34m'EPSG:4326'\u001b[0m\u001b[1;33m)\u001b[0m\u001b[1;33m\u001b[0m\u001b[1;33m\u001b[0m\u001b[0m\n\u001b[1;32m--> 496\u001b[1;33m             \u001b[1;32mreturn\u001b[0m \u001b[0mjson\u001b[0m\u001b[1;33m.\u001b[0m\u001b[0mloads\u001b[0m\u001b[1;33m(\u001b[0m\u001b[0mjson\u001b[0m\u001b[1;33m.\u001b[0m\u001b[0mdumps\u001b[0m\u001b[1;33m(\u001b[0m\u001b[0mdata\u001b[0m\u001b[1;33m.\u001b[0m\u001b[0m__geo_interface__\u001b[0m\u001b[1;33m)\u001b[0m\u001b[1;33m)\u001b[0m\u001b[1;33m\u001b[0m\u001b[1;33m\u001b[0m\u001b[0m\n\u001b[0m\u001b[0;32m    497\u001b[0m         \u001b[1;32melse\u001b[0m\u001b[1;33m:\u001b[0m\u001b[1;33m\u001b[0m\u001b[1;33m\u001b[0m\u001b[0m\n\u001b[0;32m    498\u001b[0m             raise ValueError('Cannot render objects with any missing geometries'\n",
      "\u001b[1;32m~\\anaconda3\\envs\\geospatial\\lib\\json\\__init__.py\u001b[0m in \u001b[0;36mdumps\u001b[1;34m(obj, skipkeys, ensure_ascii, check_circular, allow_nan, cls, indent, separators, default, sort_keys, **kw)\u001b[0m\n\u001b[0;32m    229\u001b[0m         \u001b[0mcls\u001b[0m \u001b[1;32mis\u001b[0m \u001b[1;32mNone\u001b[0m \u001b[1;32mand\u001b[0m \u001b[0mindent\u001b[0m \u001b[1;32mis\u001b[0m \u001b[1;32mNone\u001b[0m \u001b[1;32mand\u001b[0m \u001b[0mseparators\u001b[0m \u001b[1;32mis\u001b[0m \u001b[1;32mNone\u001b[0m \u001b[1;32mand\u001b[0m\u001b[1;33m\u001b[0m\u001b[1;33m\u001b[0m\u001b[0m\n\u001b[0;32m    230\u001b[0m         default is None and not sort_keys and not kw):\n\u001b[1;32m--> 231\u001b[1;33m         \u001b[1;32mreturn\u001b[0m \u001b[0m_default_encoder\u001b[0m\u001b[1;33m.\u001b[0m\u001b[0mencode\u001b[0m\u001b[1;33m(\u001b[0m\u001b[0mobj\u001b[0m\u001b[1;33m)\u001b[0m\u001b[1;33m\u001b[0m\u001b[1;33m\u001b[0m\u001b[0m\n\u001b[0m\u001b[0;32m    232\u001b[0m     \u001b[1;32mif\u001b[0m \u001b[0mcls\u001b[0m \u001b[1;32mis\u001b[0m \u001b[1;32mNone\u001b[0m\u001b[1;33m:\u001b[0m\u001b[1;33m\u001b[0m\u001b[1;33m\u001b[0m\u001b[0m\n\u001b[0;32m    233\u001b[0m         \u001b[0mcls\u001b[0m \u001b[1;33m=\u001b[0m \u001b[0mJSONEncoder\u001b[0m\u001b[1;33m\u001b[0m\u001b[1;33m\u001b[0m\u001b[0m\n",
      "\u001b[1;32m~\\anaconda3\\envs\\geospatial\\lib\\json\\encoder.py\u001b[0m in \u001b[0;36mencode\u001b[1;34m(self, o)\u001b[0m\n\u001b[0;32m    197\u001b[0m         \u001b[1;31m# exceptions aren't as detailed.  The list call should be roughly\u001b[0m\u001b[1;33m\u001b[0m\u001b[1;33m\u001b[0m\u001b[1;33m\u001b[0m\u001b[0m\n\u001b[0;32m    198\u001b[0m         \u001b[1;31m# equivalent to the PySequence_Fast that ''.join() would do.\u001b[0m\u001b[1;33m\u001b[0m\u001b[1;33m\u001b[0m\u001b[1;33m\u001b[0m\u001b[0m\n\u001b[1;32m--> 199\u001b[1;33m         \u001b[0mchunks\u001b[0m \u001b[1;33m=\u001b[0m \u001b[0mself\u001b[0m\u001b[1;33m.\u001b[0m\u001b[0miterencode\u001b[0m\u001b[1;33m(\u001b[0m\u001b[0mo\u001b[0m\u001b[1;33m,\u001b[0m \u001b[0m_one_shot\u001b[0m\u001b[1;33m=\u001b[0m\u001b[1;32mTrue\u001b[0m\u001b[1;33m)\u001b[0m\u001b[1;33m\u001b[0m\u001b[1;33m\u001b[0m\u001b[0m\n\u001b[0m\u001b[0;32m    200\u001b[0m         \u001b[1;32mif\u001b[0m \u001b[1;32mnot\u001b[0m \u001b[0misinstance\u001b[0m\u001b[1;33m(\u001b[0m\u001b[0mchunks\u001b[0m\u001b[1;33m,\u001b[0m \u001b[1;33m(\u001b[0m\u001b[0mlist\u001b[0m\u001b[1;33m,\u001b[0m \u001b[0mtuple\u001b[0m\u001b[1;33m)\u001b[0m\u001b[1;33m)\u001b[0m\u001b[1;33m:\u001b[0m\u001b[1;33m\u001b[0m\u001b[1;33m\u001b[0m\u001b[0m\n\u001b[0;32m    201\u001b[0m             \u001b[0mchunks\u001b[0m \u001b[1;33m=\u001b[0m \u001b[0mlist\u001b[0m\u001b[1;33m(\u001b[0m\u001b[0mchunks\u001b[0m\u001b[1;33m)\u001b[0m\u001b[1;33m\u001b[0m\u001b[1;33m\u001b[0m\u001b[0m\n",
      "\u001b[1;32m~\\anaconda3\\envs\\geospatial\\lib\\json\\encoder.py\u001b[0m in \u001b[0;36miterencode\u001b[1;34m(self, o, _one_shot)\u001b[0m\n\u001b[0;32m    255\u001b[0m                 \u001b[0mself\u001b[0m\u001b[1;33m.\u001b[0m\u001b[0mkey_separator\u001b[0m\u001b[1;33m,\u001b[0m \u001b[0mself\u001b[0m\u001b[1;33m.\u001b[0m\u001b[0mitem_separator\u001b[0m\u001b[1;33m,\u001b[0m \u001b[0mself\u001b[0m\u001b[1;33m.\u001b[0m\u001b[0msort_keys\u001b[0m\u001b[1;33m,\u001b[0m\u001b[1;33m\u001b[0m\u001b[1;33m\u001b[0m\u001b[0m\n\u001b[0;32m    256\u001b[0m                 self.skipkeys, _one_shot)\n\u001b[1;32m--> 257\u001b[1;33m         \u001b[1;32mreturn\u001b[0m \u001b[0m_iterencode\u001b[0m\u001b[1;33m(\u001b[0m\u001b[0mo\u001b[0m\u001b[1;33m,\u001b[0m \u001b[1;36m0\u001b[0m\u001b[1;33m)\u001b[0m\u001b[1;33m\u001b[0m\u001b[1;33m\u001b[0m\u001b[0m\n\u001b[0m\u001b[0;32m    258\u001b[0m \u001b[1;33m\u001b[0m\u001b[0m\n\u001b[0;32m    259\u001b[0m def _make_iterencode(markers, _default, _encoder, _indent, _floatstr,\n",
      "\u001b[1;32m~\\anaconda3\\envs\\geospatial\\lib\\json\\encoder.py\u001b[0m in \u001b[0;36mdefault\u001b[1;34m(self, o)\u001b[0m\n\u001b[0;32m    177\u001b[0m \u001b[1;33m\u001b[0m\u001b[0m\n\u001b[0;32m    178\u001b[0m         \"\"\"\n\u001b[1;32m--> 179\u001b[1;33m         raise TypeError(f'Object of type {o.__class__.__name__} '\n\u001b[0m\u001b[0;32m    180\u001b[0m                         f'is not JSON serializable')\n\u001b[0;32m    181\u001b[0m \u001b[1;33m\u001b[0m\u001b[0m\n",
      "\u001b[1;31mTypeError\u001b[0m: Object of type Timestamp is not JSON serializable"
     ]
    }
   ],
   "source": [
    "center = stops_in_37212.geometry.centroid\n",
    "area_center = [center.y, center.x]\n",
    "import folium\n",
    "map_zips_scooters = folium.Map(location = area_center, zoom_start=14)\n",
    "folium.GeoJson(scooter_zips).add_to(map_zips_scooters) "
   ]
  },
  {
   "cell_type": "code",
   "execution_count": 35,
   "id": "6a7ffcec",
   "metadata": {},
   "outputs": [
    {
     "ename": "ValueError",
     "evalue": "too many values to unpack (expected 2)",
     "output_type": "error",
     "traceback": [
      "\u001b[1;31m---------------------------------------------------------------------------\u001b[0m",
      "\u001b[1;31mValueError\u001b[0m                                Traceback (most recent call last)",
      "\u001b[1;32m~\\AppData\\Local\\Temp/ipykernel_16452/2703614189.py\u001b[0m in \u001b[0;36m<module>\u001b[1;34m\u001b[0m\n\u001b[0;32m      1\u001b[0m \u001b[0mmonths\u001b[0m \u001b[1;33m=\u001b[0m \u001b[1;33m{\u001b[0m\u001b[1;34m\"May\"\u001b[0m\u001b[1;33m:\u001b[0m \u001b[0mmay\u001b[0m\u001b[1;33m,\u001b[0m \u001b[1;34m\"June\"\u001b[0m\u001b[1;33m:\u001b[0m \u001b[0mmay\u001b[0m\u001b[1;33m,\u001b[0m \u001b[1;34m\"July\"\u001b[0m\u001b[1;33m:\u001b[0m \u001b[0mjuly\u001b[0m\u001b[1;33m}\u001b[0m\u001b[1;33m\u001b[0m\u001b[1;33m\u001b[0m\u001b[0m\n\u001b[1;32m----> 2\u001b[1;33m \u001b[1;32mfor\u001b[0m \u001b[0mkey\u001b[0m\u001b[1;33m,\u001b[0m \u001b[0mvalue\u001b[0m \u001b[1;32min\u001b[0m \u001b[0mmonths\u001b[0m\u001b[1;33m:\u001b[0m\u001b[1;33m\u001b[0m\u001b[1;33m\u001b[0m\u001b[0m\n\u001b[0m\u001b[0;32m      3\u001b[0m     \u001b[0mday_df\u001b[0m\u001b[1;33m(\u001b[0m\u001b[0mvalue\u001b[0m\u001b[1;33m,\u001b[0m \u001b[0mkey\u001b[0m\u001b[1;33m)\u001b[0m\u001b[1;33m\u001b[0m\u001b[1;33m\u001b[0m\u001b[0m\n\u001b[0;32m      4\u001b[0m     \u001b[1;32mfor\u001b[0m \u001b[0mscooter\u001b[0m \u001b[1;32min\u001b[0m \u001b[0mmay_uniq_scooters\u001b[0m\u001b[1;33m:\u001b[0m\u001b[1;33m\u001b[0m\u001b[1;33m\u001b[0m\u001b[0m\n\u001b[0;32m      5\u001b[0m         \u001b[1;32mfor\u001b[0m \u001b[0mrow\u001b[0m \u001b[1;32min\u001b[0m \u001b[0mvalue\u001b[0m\u001b[1;33m.\u001b[0m\u001b[0mloc\u001b[0m\u001b[1;33m[\u001b[0m\u001b[0mvalue\u001b[0m\u001b[1;33m[\u001b[0m\u001b[1;34m'sumdid'\u001b[0m\u001b[1;33m]\u001b[0m \u001b[1;33m==\u001b[0m \u001b[0mscooter\u001b[0m\u001b[1;33m,\u001b[0m \u001b[1;33m:\u001b[0m\u001b[1;33m]\u001b[0m\u001b[1;33m:\u001b[0m\u001b[1;33m\u001b[0m\u001b[1;33m\u001b[0m\u001b[0m\n",
      "\u001b[1;31mValueError\u001b[0m: too many values to unpack (expected 2)"
     ]
    }
   ],
   "source": [
    "months = {\"May\": may, \"June\": may, \"July\": july}\n",
    "for key, value in months:\n",
    "    day_df(value, key)\n",
    "    for scooter in may_uniq_scooters:\n",
    "        for row in value.loc[value['sumdid'] == scooter, :]:\n",
    "            time = months_dict[\"pubdatetime\"] ########################Get this to yield the correct thing from months_dict\n",
    "            geo = may1_2['geometry']\n",
    "            may_time_coord_dict[time] = geo\n",
    "        print(may_time_coord_dict)"
   ]
  },
  {
   "cell_type": "code",
   "execution_count": null,
   "id": "cfda53b6",
   "metadata": {},
   "outputs": [],
   "source": [
    "months_dict"
   ]
  },
  {
   "cell_type": "markdown",
   "id": "1386db6d",
   "metadata": {},
   "source": []
  },
  {
   "cell_type": "markdown",
   "id": "9bd3ee5a",
   "metadata": {},
   "source": [
    "may_scooter_master = {scooter: {day1: {time:coord}}}"
   ]
  },
  {
   "cell_type": "code",
   "execution_count": null,
   "id": "88528a4d",
   "metadata": {},
   "outputs": [],
   "source": []
  },
  {
   "cell_type": "code",
   "execution_count": null,
   "id": "d53c5553",
   "metadata": {},
   "outputs": [],
   "source": []
  },
  {
   "cell_type": "markdown",
   "id": "731752e1",
   "metadata": {},
   "source": [
    "#### Create a GeoDataFrame from the day"
   ]
  },
  {
   "cell_type": "code",
   "execution_count": null,
   "id": "f67c4a23",
   "metadata": {},
   "outputs": [],
   "source": [
    "# may_gdf = gpd.GeoDataFrame(may, geometry=gpd.points_from_xy(may.longitude, may.latitude))\n",
    "# may_gdf.head()\n",
    "# type(may_gdf)"
   ]
  },
  {
   "cell_type": "code",
   "execution_count": null,
   "id": "85b55831",
   "metadata": {},
   "outputs": [],
   "source": []
  }
 ],
 "metadata": {
  "kernelspec": {
   "display_name": "Python 3 (ipykernel)",
   "language": "python",
   "name": "python3"
  },
  "language_info": {
   "codemirror_mode": {
    "name": "ipython",
    "version": 3
   },
   "file_extension": ".py",
   "mimetype": "text/x-python",
   "name": "python",
   "nbconvert_exporter": "python",
   "pygments_lexer": "ipython3",
   "version": "3.8.5"
  }
 },
 "nbformat": 4,
 "nbformat_minor": 5
}
