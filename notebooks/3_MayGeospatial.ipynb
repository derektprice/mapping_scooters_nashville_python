{
 "cells": [
  {
   "cell_type": "markdown",
   "id": "d07eda4f",
   "metadata": {},
   "source": [
    "Geospatial - May Trip Data"
   ]
  },
  {
   "cell_type": "code",
   "execution_count": 3,
   "id": "6d9a2fdd",
   "metadata": {},
   "outputs": [],
   "source": [
    "from shapely.geometry import Point\n",
    "import pandas as pd\n",
    "import geopandas as gpd\n",
    "import matplotlib.pyplot as plt\n",
    "import folium\n",
    "from folium.plugins import MarkerCluster\n",
    "from folium.plugins import FastMarkerCluster"
   ]
  },
  {
   "cell_type": "markdown",
   "id": "ed3fb64a",
   "metadata": {},
   "source": [
    "Read in May trip data"
   ]
  },
  {
   "cell_type": "code",
   "execution_count": 4,
   "id": "320b2617",
   "metadata": {},
   "outputs": [
    {
     "name": "stdout",
     "output_type": "stream",
     "text": [
      "(224969, 16)\n"
     ]
    },
    {
     "data": {
      "text/html": [
       "<div>\n",
       "<style scoped>\n",
       "    .dataframe tbody tr th:only-of-type {\n",
       "        vertical-align: middle;\n",
       "    }\n",
       "\n",
       "    .dataframe tbody tr th {\n",
       "        vertical-align: top;\n",
       "    }\n",
       "\n",
       "    .dataframe thead th {\n",
       "        text-align: right;\n",
       "    }\n",
       "</style>\n",
       "<table border=\"1\" class=\"dataframe\">\n",
       "  <thead>\n",
       "    <tr style=\"text-align: right;\">\n",
       "      <th></th>\n",
       "      <th>pubTimeStamp</th>\n",
       "      <th>companyName</th>\n",
       "      <th>tripRecordNum</th>\n",
       "      <th>sumdID</th>\n",
       "      <th>tripDuration</th>\n",
       "      <th>tripDistance</th>\n",
       "      <th>startDate</th>\n",
       "      <th>startTime</th>\n",
       "      <th>endDate</th>\n",
       "      <th>endTime</th>\n",
       "      <th>startLatitude</th>\n",
       "      <th>startLongitude</th>\n",
       "      <th>endLatitude</th>\n",
       "      <th>endLongitude</th>\n",
       "      <th>tripRoute</th>\n",
       "      <th>create_dt</th>\n",
       "    </tr>\n",
       "  </thead>\n",
       "  <tbody>\n",
       "    <tr>\n",
       "      <th>0</th>\n",
       "      <td>2019-05-01 00:00:55.423000</td>\n",
       "      <td>Bird</td>\n",
       "      <td>BRD2134</td>\n",
       "      <td>Powered9EAJL</td>\n",
       "      <td>3.0000</td>\n",
       "      <td>958.00528</td>\n",
       "      <td>2019-05-01 00:00:00</td>\n",
       "      <td>00:00:20.460000</td>\n",
       "      <td>2019-05-01 00:00:00</td>\n",
       "      <td>00:02:52.346666</td>\n",
       "      <td>36.15710</td>\n",
       "      <td>-86.80360</td>\n",
       "      <td>36.15660</td>\n",
       "      <td>-86.80670</td>\n",
       "      <td>[[36.157235,-86.803612],[36.157235,-86.80362],...</td>\n",
       "      <td>2019-05-02 05:30:23.780000</td>\n",
       "    </tr>\n",
       "    <tr>\n",
       "      <th>1</th>\n",
       "      <td>2019-05-01 00:03:33.147000</td>\n",
       "      <td>Lyft</td>\n",
       "      <td>LFT5</td>\n",
       "      <td>Powered296631</td>\n",
       "      <td>1.7156</td>\n",
       "      <td>1371.39112</td>\n",
       "      <td>2019-05-01 00:00:00</td>\n",
       "      <td>00:01:50.090000</td>\n",
       "      <td>2019-05-01 00:00:00</td>\n",
       "      <td>00:03:33.026666</td>\n",
       "      <td>36.15797</td>\n",
       "      <td>-86.77896</td>\n",
       "      <td>36.16054</td>\n",
       "      <td>-86.77689</td>\n",
       "      <td>[[36.15797,-86.77896],[36.15795,-86.77873],[36...</td>\n",
       "      <td>2019-05-02 07:20:32.757000</td>\n",
       "    </tr>\n",
       "    <tr>\n",
       "      <th>2</th>\n",
       "      <td>2019-05-01 00:05:55.570000</td>\n",
       "      <td>Bird</td>\n",
       "      <td>BRD2168</td>\n",
       "      <td>Powered7S2UU</td>\n",
       "      <td>3.0000</td>\n",
       "      <td>2296.58800</td>\n",
       "      <td>2019-05-01 00:00:00</td>\n",
       "      <td>00:03:47.363333</td>\n",
       "      <td>2019-05-01 00:00:00</td>\n",
       "      <td>00:07:13.596666</td>\n",
       "      <td>36.15470</td>\n",
       "      <td>-86.78180</td>\n",
       "      <td>36.15650</td>\n",
       "      <td>-86.78680</td>\n",
       "      <td>[[36.155068,-86.782124],[36.156597,-86.78675]]</td>\n",
       "      <td>2019-05-02 05:30:24.530000</td>\n",
       "    </tr>\n",
       "  </tbody>\n",
       "</table>\n",
       "</div>"
      ],
      "text/plain": [
       "                 pubTimeStamp companyName tripRecordNum         sumdID  \\\n",
       "0  2019-05-01 00:00:55.423000        Bird       BRD2134   Powered9EAJL   \n",
       "1  2019-05-01 00:03:33.147000        Lyft          LFT5  Powered296631   \n",
       "2  2019-05-01 00:05:55.570000        Bird       BRD2168   Powered7S2UU   \n",
       "\n",
       "   tripDuration  tripDistance            startDate        startTime  \\\n",
       "0        3.0000     958.00528  2019-05-01 00:00:00  00:00:20.460000   \n",
       "1        1.7156    1371.39112  2019-05-01 00:00:00  00:01:50.090000   \n",
       "2        3.0000    2296.58800  2019-05-01 00:00:00  00:03:47.363333   \n",
       "\n",
       "               endDate          endTime  startLatitude  startLongitude  \\\n",
       "0  2019-05-01 00:00:00  00:02:52.346666       36.15710       -86.80360   \n",
       "1  2019-05-01 00:00:00  00:03:33.026666       36.15797       -86.77896   \n",
       "2  2019-05-01 00:00:00  00:07:13.596666       36.15470       -86.78180   \n",
       "\n",
       "   endLatitude  endLongitude  \\\n",
       "0     36.15660     -86.80670   \n",
       "1     36.16054     -86.77689   \n",
       "2     36.15650     -86.78680   \n",
       "\n",
       "                                           tripRoute  \\\n",
       "0  [[36.157235,-86.803612],[36.157235,-86.80362],...   \n",
       "1  [[36.15797,-86.77896],[36.15795,-86.77873],[36...   \n",
       "2     [[36.155068,-86.782124],[36.156597,-86.78675]]   \n",
       "\n",
       "                    create_dt  \n",
       "0  2019-05-02 05:30:23.780000  \n",
       "1  2019-05-02 07:20:32.757000  \n",
       "2  2019-05-02 05:30:24.530000  "
      ]
     },
     "execution_count": 4,
     "metadata": {},
     "output_type": "execute_result"
    }
   ],
   "source": [
    "maytrips = pd.read_csv('../data/may_trip.csv')\n",
    "print(maytrips.shape)\n",
    "maytrips.head(3)"
   ]
  },
  {
   "cell_type": "code",
   "execution_count": 5,
   "id": "4515cd3b",
   "metadata": {},
   "outputs": [
    {
     "name": "stdout",
     "output_type": "stream",
     "text": [
      "<class 'pandas.core.frame.DataFrame'>\n",
      "RangeIndex: 224969 entries, 0 to 224968\n",
      "Data columns (total 16 columns):\n",
      " #   Column          Non-Null Count   Dtype  \n",
      "---  ------          --------------   -----  \n",
      " 0   pubTimeStamp    224969 non-null  object \n",
      " 1   companyName     224969 non-null  object \n",
      " 2   tripRecordNum   224969 non-null  object \n",
      " 3   sumdID          224969 non-null  object \n",
      " 4   tripDuration    224969 non-null  float64\n",
      " 5   tripDistance    224969 non-null  float64\n",
      " 6   startDate       224969 non-null  object \n",
      " 7   startTime       224969 non-null  object \n",
      " 8   endDate         224969 non-null  object \n",
      " 9   endTime         224969 non-null  object \n",
      " 10  startLatitude   224969 non-null  float64\n",
      " 11  startLongitude  224969 non-null  float64\n",
      " 12  endLatitude     224969 non-null  float64\n",
      " 13  endLongitude    224969 non-null  float64\n",
      " 14  tripRoute       224969 non-null  object \n",
      " 15  create_dt       224969 non-null  object \n",
      "dtypes: float64(6), object(10)\n",
      "memory usage: 27.5+ MB\n"
     ]
    }
   ],
   "source": [
    "maytrips.info()"
   ]
  },
  {
   "cell_type": "markdown",
   "id": "3fd9688f",
   "metadata": {},
   "source": [
    "Read in zipcode data next."
   ]
  },
  {
   "cell_type": "code",
   "execution_count": 6,
   "id": "dbfe0a0d",
   "metadata": {},
   "outputs": [
    {
     "name": "stdout",
     "output_type": "stream",
     "text": [
      "epsg:4326\n"
     ]
    },
    {
     "data": {
      "text/html": [
       "<div>\n",
       "<style scoped>\n",
       "    .dataframe tbody tr th:only-of-type {\n",
       "        vertical-align: middle;\n",
       "    }\n",
       "\n",
       "    .dataframe tbody tr th {\n",
       "        vertical-align: top;\n",
       "    }\n",
       "\n",
       "    .dataframe thead th {\n",
       "        text-align: right;\n",
       "    }\n",
       "</style>\n",
       "<table border=\"1\" class=\"dataframe\">\n",
       "  <thead>\n",
       "    <tr style=\"text-align: right;\">\n",
       "      <th></th>\n",
       "      <th>zip</th>\n",
       "      <th>objectid</th>\n",
       "      <th>po_name</th>\n",
       "      <th>shape_stlength</th>\n",
       "      <th>shape_starea</th>\n",
       "      <th>geometry</th>\n",
       "    </tr>\n",
       "  </thead>\n",
       "  <tbody>\n",
       "    <tr>\n",
       "      <th>0</th>\n",
       "      <td>37115</td>\n",
       "      <td>1</td>\n",
       "      <td>MADISON</td>\n",
       "      <td>178783.02488886821</td>\n",
       "      <td>596553400.57885742</td>\n",
       "      <td>MULTIPOLYGON (((-86.68725 36.31821, -86.68722 ...</td>\n",
       "    </tr>\n",
       "    <tr>\n",
       "      <th>1</th>\n",
       "      <td>37216</td>\n",
       "      <td>3</td>\n",
       "      <td>NASHVILLE</td>\n",
       "      <td>75820.997821400058</td>\n",
       "      <td>188884682.28344727</td>\n",
       "      <td>MULTIPOLYGON (((-86.73451 36.23774, -86.73425 ...</td>\n",
       "    </tr>\n",
       "    <tr>\n",
       "      <th>2</th>\n",
       "      <td>37204</td>\n",
       "      <td>9</td>\n",
       "      <td>NASHVILLE</td>\n",
       "      <td>93180.292250425613</td>\n",
       "      <td>200664795.51708984</td>\n",
       "      <td>MULTIPOLYGON (((-86.77914 36.13424, -86.77923 ...</td>\n",
       "    </tr>\n",
       "    <tr>\n",
       "      <th>3</th>\n",
       "      <td>37027</td>\n",
       "      <td>11</td>\n",
       "      <td>BRENTWOOD</td>\n",
       "      <td>159760.6942933173</td>\n",
       "      <td>174978422.04101562</td>\n",
       "      <td>MULTIPOLYGON (((-86.81258 36.06319, -86.81263 ...</td>\n",
       "    </tr>\n",
       "    <tr>\n",
       "      <th>4</th>\n",
       "      <td>37064</td>\n",
       "      <td>18</td>\n",
       "      <td>FRANKLIN</td>\n",
       "      <td>28995.828320601937</td>\n",
       "      <td>46969608.005737305</td>\n",
       "      <td>MULTIPOLYGON (((-87.02197 36.01200, -87.02140 ...</td>\n",
       "    </tr>\n",
       "  </tbody>\n",
       "</table>\n",
       "</div>"
      ],
      "text/plain": [
       "     zip objectid    po_name      shape_stlength        shape_starea  \\\n",
       "0  37115        1    MADISON  178783.02488886821  596553400.57885742   \n",
       "1  37216        3  NASHVILLE  75820.997821400058  188884682.28344727   \n",
       "2  37204        9  NASHVILLE  93180.292250425613  200664795.51708984   \n",
       "3  37027       11  BRENTWOOD   159760.6942933173  174978422.04101562   \n",
       "4  37064       18   FRANKLIN  28995.828320601937  46969608.005737305   \n",
       "\n",
       "                                            geometry  \n",
       "0  MULTIPOLYGON (((-86.68725 36.31821, -86.68722 ...  \n",
       "1  MULTIPOLYGON (((-86.73451 36.23774, -86.73425 ...  \n",
       "2  MULTIPOLYGON (((-86.77914 36.13424, -86.77923 ...  \n",
       "3  MULTIPOLYGON (((-86.81258 36.06319, -86.81263 ...  \n",
       "4  MULTIPOLYGON (((-87.02197 36.01200, -87.02140 ...  "
      ]
     },
     "execution_count": 6,
     "metadata": {},
     "output_type": "execute_result"
    }
   ],
   "source": [
    "zipcodes = gpd.read_file('../data/zipcodes.geojson')\n",
    "print(zipcodes.crs)\n",
    "zipcodes.head( )"
   ]
  },
  {
   "cell_type": "markdown",
   "id": "1636612e",
   "metadata": {},
   "source": [
    "Plot zipecode data using GeoPandas"
   ]
  },
  {
   "cell_type": "code",
   "execution_count": 7,
   "id": "b7f66ee4",
   "metadata": {
    "scrolled": false
   },
   "outputs": [
    {
     "data": {
      "image/png": "[encoded data removed]",
      "text/plain": [
       "<Figure size 432x288 with 1 Axes>"
      ]
     },
     "metadata": {
      "needs_background": "light"
     },
     "output_type": "display_data"
    }
   ],
   "source": [
    "zipcodes.plot();"
   ]
  },
  {
   "cell_type": "markdown",
   "id": "994287bd",
   "metadata": {},
   "source": [
    "Add styling and legend"
   ]
  },
  {
   "cell_type": "code",
   "execution_count": 8,
   "id": "4cee1d52",
   "metadata": {},
   "outputs": [
    {
     "data": {
      "image/png": "[encoded data removed]",
      "text/plain": [
       "<Figure size 720x720 with 1 Axes>"
      ]
     },
     "metadata": {
      "needs_background": "light"
     },
     "output_type": "display_data"
    }
   ],
   "source": [
    "#geopandas handles legend styling if you pass a dict of keywords\n",
    "\n",
    "leg_kwds = {'title': 'Zipcodes', 'loc': 'upper left', \n",
    "            'bbox_to_anchor': (1, 1.03), 'ncol': 2}\n",
    "\n",
    "zipcodes.plot(column = 'zip', figsize=(10, 10),\n",
    "              edgecolor = 'black',\n",
    "              legend = True, legend_kwds = leg_kwds, \n",
    "              cmap = 'rainbow')\n",
    "plt.show()"
   ]
  },
  {
   "cell_type": "markdown",
   "id": "d897f50c",
   "metadata": {},
   "source": [
    "Because our trip data is a .csv file instead of a spatial geojson file, we need to first turn it into a GeoDataFrame before we can do a spatial join to our zipcode data and make cool plots.\n",
    "\n",
    "Step 1 is to join the lat and long into a geometry column."
   ]
  },
  {
   "cell_type": "code",
   "execution_count": 9,
   "id": "d92fbc04",
   "metadata": {},
   "outputs": [
    {
     "data": {
      "text/html": [
       "<div>\n",
       "<style scoped>\n",
       "    .dataframe tbody tr th:only-of-type {\n",
       "        vertical-align: middle;\n",
       "    }\n",
       "\n",
       "    .dataframe tbody tr th {\n",
       "        vertical-align: top;\n",
       "    }\n",
       "\n",
       "    .dataframe thead th {\n",
       "        text-align: right;\n",
       "    }\n",
       "</style>\n",
       "<table border=\"1\" class=\"dataframe\">\n",
       "  <thead>\n",
       "    <tr style=\"text-align: right;\">\n",
       "      <th></th>\n",
       "      <th>pubTimeStamp</th>\n",
       "      <th>companyName</th>\n",
       "      <th>tripRecordNum</th>\n",
       "      <th>sumdID</th>\n",
       "      <th>tripDuration</th>\n",
       "      <th>tripDistance</th>\n",
       "      <th>startDate</th>\n",
       "      <th>startTime</th>\n",
       "      <th>endDate</th>\n",
       "      <th>endTime</th>\n",
       "      <th>startLatitude</th>\n",
       "      <th>startLongitude</th>\n",
       "      <th>endLatitude</th>\n",
       "      <th>endLongitude</th>\n",
       "      <th>tripRoute</th>\n",
       "      <th>create_dt</th>\n",
       "      <th>geometry</th>\n",
       "    </tr>\n",
       "  </thead>\n",
       "  <tbody>\n",
       "    <tr>\n",
       "      <th>0</th>\n",
       "      <td>2019-05-01 00:00:55.423000</td>\n",
       "      <td>Bird</td>\n",
       "      <td>BRD2134</td>\n",
       "      <td>Powered9EAJL</td>\n",
       "      <td>3.0000</td>\n",
       "      <td>958.00528</td>\n",
       "      <td>2019-05-01 00:00:00</td>\n",
       "      <td>00:00:20.460000</td>\n",
       "      <td>2019-05-01 00:00:00</td>\n",
       "      <td>00:02:52.346666</td>\n",
       "      <td>36.15710</td>\n",
       "      <td>-86.80360</td>\n",
       "      <td>36.15660</td>\n",
       "      <td>-86.80670</td>\n",
       "      <td>[[36.157235,-86.803612],[36.157235,-86.80362],...</td>\n",
       "      <td>2019-05-02 05:30:23.780000</td>\n",
       "      <td>POINT (-86.8036 36.1571)</td>\n",
       "    </tr>\n",
       "    <tr>\n",
       "      <th>1</th>\n",
       "      <td>2019-05-01 00:03:33.147000</td>\n",
       "      <td>Lyft</td>\n",
       "      <td>LFT5</td>\n",
       "      <td>Powered296631</td>\n",
       "      <td>1.7156</td>\n",
       "      <td>1371.39112</td>\n",
       "      <td>2019-05-01 00:00:00</td>\n",
       "      <td>00:01:50.090000</td>\n",
       "      <td>2019-05-01 00:00:00</td>\n",
       "      <td>00:03:33.026666</td>\n",
       "      <td>36.15797</td>\n",
       "      <td>-86.77896</td>\n",
       "      <td>36.16054</td>\n",
       "      <td>-86.77689</td>\n",
       "      <td>[[36.15797,-86.77896],[36.15795,-86.77873],[36...</td>\n",
       "      <td>2019-05-02 07:20:32.757000</td>\n",
       "      <td>POINT (-86.77896 36.15797)</td>\n",
       "    </tr>\n",
       "    <tr>\n",
       "      <th>2</th>\n",
       "      <td>2019-05-01 00:05:55.570000</td>\n",
       "      <td>Bird</td>\n",
       "      <td>BRD2168</td>\n",
       "      <td>Powered7S2UU</td>\n",
       "      <td>3.0000</td>\n",
       "      <td>2296.58800</td>\n",
       "      <td>2019-05-01 00:00:00</td>\n",
       "      <td>00:03:47.363333</td>\n",
       "      <td>2019-05-01 00:00:00</td>\n",
       "      <td>00:07:13.596666</td>\n",
       "      <td>36.15470</td>\n",
       "      <td>-86.78180</td>\n",
       "      <td>36.15650</td>\n",
       "      <td>-86.78680</td>\n",
       "      <td>[[36.155068,-86.782124],[36.156597,-86.78675]]</td>\n",
       "      <td>2019-05-02 05:30:24.530000</td>\n",
       "      <td>POINT (-86.7818 36.1547)</td>\n",
       "    </tr>\n",
       "  </tbody>\n",
       "</table>\n",
       "</div>"
      ],
      "text/plain": [
       "                 pubTimeStamp companyName tripRecordNum         sumdID  \\\n",
       "0  2019-05-01 00:00:55.423000        Bird       BRD2134   Powered9EAJL   \n",
       "1  2019-05-01 00:03:33.147000        Lyft          LFT5  Powered296631   \n",
       "2  2019-05-01 00:05:55.570000        Bird       BRD2168   Powered7S2UU   \n",
       "\n",
       "   tripDuration  tripDistance            startDate        startTime  \\\n",
       "0        3.0000     958.00528  2019-05-01 00:00:00  00:00:20.460000   \n",
       "1        1.7156    1371.39112  2019-05-01 00:00:00  00:01:50.090000   \n",
       "2        3.0000    2296.58800  2019-05-01 00:00:00  00:03:47.363333   \n",
       "\n",
       "               endDate          endTime  startLatitude  startLongitude  \\\n",
       "0  2019-05-01 00:00:00  00:02:52.346666       36.15710       -86.80360   \n",
       "1  2019-05-01 00:00:00  00:03:33.026666       36.15797       -86.77896   \n",
       "2  2019-05-01 00:00:00  00:07:13.596666       36.15470       -86.78180   \n",
       "\n",
       "   endLatitude  endLongitude  \\\n",
       "0     36.15660     -86.80670   \n",
       "1     36.16054     -86.77689   \n",
       "2     36.15650     -86.78680   \n",
       "\n",
       "                                           tripRoute  \\\n",
       "0  [[36.157235,-86.803612],[36.157235,-86.80362],...   \n",
       "1  [[36.15797,-86.77896],[36.15795,-86.77873],[36...   \n",
       "2     [[36.155068,-86.782124],[36.156597,-86.78675]]   \n",
       "\n",
       "                    create_dt                    geometry  \n",
       "0  2019-05-02 05:30:23.780000    POINT (-86.8036 36.1571)  \n",
       "1  2019-05-02 07:20:32.757000  POINT (-86.77896 36.15797)  \n",
       "2  2019-05-02 05:30:24.530000    POINT (-86.7818 36.1547)  "
      ]
     },
     "execution_count": 9,
     "metadata": {},
     "output_type": "execute_result"
    }
   ],
   "source": [
    "maytrips['geometry'] = maytrips.apply(lambda x: Point((x.startLongitude, \n",
    "                                                         x.startLatitude)), \n",
    "                                        axis=1)\n",
    "maytrips.head(3)"
   ]
  },
  {
   "cell_type": "markdown",
   "id": "1233489a",
   "metadata": {},
   "source": [
    "Now we need to make the GeoDataFrame"
   ]
  },
  {
   "cell_type": "code",
   "execution_count": 10,
   "id": "79d5240e",
   "metadata": {},
   "outputs": [],
   "source": [
    "maytrips_geo = gpd.GeoDataFrame(maytrips, \n",
    "                           crs = zipcodes.crs, \n",
    "                           geometry = maytrips['geometry'])"
   ]
  },
  {
   "cell_type": "code",
   "execution_count": 11,
   "id": "91b721df",
   "metadata": {},
   "outputs": [
    {
     "data": {
      "text/plain": [
       "geopandas.geodataframe.GeoDataFrame"
      ]
     },
     "execution_count": 11,
     "metadata": {},
     "output_type": "execute_result"
    }
   ],
   "source": [
    "type(maytrips_geo)"
   ]
  },
  {
   "cell_type": "markdown",
   "id": "9bb56dc8",
   "metadata": {},
   "source": [
    "Now let's clean up our data to just the columns we need before joining."
   ]
  },
  {
   "cell_type": "code",
   "execution_count": 12,
   "id": "312dc14e",
   "metadata": {},
   "outputs": [],
   "source": [
    "maytrips_geo = maytrips_geo[['companyName', 'tripRecordNum', 'sumdID', 'tripDuration', 'tripDistance', 'startDate', 'startTime', 'geometry']]"
   ]
  },
  {
   "cell_type": "code",
   "execution_count": 13,
   "id": "d68c6fec",
   "metadata": {},
   "outputs": [],
   "source": [
    "zipcodes = zipcodes[['zip', 'po_name', 'geometry']]"
   ]
  },
  {
   "cell_type": "markdown",
   "id": "f82b4655",
   "metadata": {},
   "source": [
    "Now we'll try to do a spatial join of zipcodes with the May trip geometry."
   ]
  },
  {
   "cell_type": "code",
   "execution_count": 14,
   "id": "61fb6a43",
   "metadata": {},
   "outputs": [],
   "source": [
    "maytrips_by_zip = gpd.sjoin(maytrips_geo, zipcodes, op = 'within')"
   ]
  },
  {
   "cell_type": "code",
   "execution_count": 15,
   "id": "8c2a5e6c",
   "metadata": {},
   "outputs": [
    {
     "data": {
      "text/html": [
       "<div>\n",
       "<style scoped>\n",
       "    .dataframe tbody tr th:only-of-type {\n",
       "        vertical-align: middle;\n",
       "    }\n",
       "\n",
       "    .dataframe tbody tr th {\n",
       "        vertical-align: top;\n",
       "    }\n",
       "\n",
       "    .dataframe thead th {\n",
       "        text-align: right;\n",
       "    }\n",
       "</style>\n",
       "<table border=\"1\" class=\"dataframe\">\n",
       "  <thead>\n",
       "    <tr style=\"text-align: right;\">\n",
       "      <th></th>\n",
       "      <th>companyName</th>\n",
       "      <th>tripRecordNum</th>\n",
       "      <th>sumdID</th>\n",
       "      <th>tripDuration</th>\n",
       "      <th>tripDistance</th>\n",
       "      <th>startDate</th>\n",
       "      <th>startTime</th>\n",
       "      <th>geometry</th>\n",
       "      <th>index_right</th>\n",
       "      <th>zip</th>\n",
       "      <th>po_name</th>\n",
       "    </tr>\n",
       "  </thead>\n",
       "  <tbody>\n",
       "    <tr>\n",
       "      <th>0</th>\n",
       "      <td>Bird</td>\n",
       "      <td>BRD2134</td>\n",
       "      <td>Powered9EAJL</td>\n",
       "      <td>3.0000</td>\n",
       "      <td>958.00528</td>\n",
       "      <td>2019-05-01 00:00:00</td>\n",
       "      <td>00:00:20.460000</td>\n",
       "      <td>POINT (-86.80360 36.15710)</td>\n",
       "      <td>35</td>\n",
       "      <td>37203</td>\n",
       "      <td>NASHVILLE</td>\n",
       "    </tr>\n",
       "    <tr>\n",
       "      <th>1</th>\n",
       "      <td>Lyft</td>\n",
       "      <td>LFT5</td>\n",
       "      <td>Powered296631</td>\n",
       "      <td>1.7156</td>\n",
       "      <td>1371.39112</td>\n",
       "      <td>2019-05-01 00:00:00</td>\n",
       "      <td>00:01:50.090000</td>\n",
       "      <td>POINT (-86.77896 36.15797)</td>\n",
       "      <td>35</td>\n",
       "      <td>37203</td>\n",
       "      <td>NASHVILLE</td>\n",
       "    </tr>\n",
       "    <tr>\n",
       "      <th>2</th>\n",
       "      <td>Bird</td>\n",
       "      <td>BRD2168</td>\n",
       "      <td>Powered7S2UU</td>\n",
       "      <td>3.0000</td>\n",
       "      <td>2296.58800</td>\n",
       "      <td>2019-05-01 00:00:00</td>\n",
       "      <td>00:03:47.363333</td>\n",
       "      <td>POINT (-86.78180 36.15470)</td>\n",
       "      <td>35</td>\n",
       "      <td>37203</td>\n",
       "      <td>NASHVILLE</td>\n",
       "    </tr>\n",
       "    <tr>\n",
       "      <th>3</th>\n",
       "      <td>Bird</td>\n",
       "      <td>BRD2166</td>\n",
       "      <td>PoweredZIIVX</td>\n",
       "      <td>3.0000</td>\n",
       "      <td>1200.78744</td>\n",
       "      <td>2019-05-01 00:00:00</td>\n",
       "      <td>00:04:21.386666</td>\n",
       "      <td>POINT (-86.77950 36.14940)</td>\n",
       "      <td>35</td>\n",
       "      <td>37203</td>\n",
       "      <td>NASHVILLE</td>\n",
       "    </tr>\n",
       "    <tr>\n",
       "      <th>5</th>\n",
       "      <td>Bird</td>\n",
       "      <td>BRD2167</td>\n",
       "      <td>PoweredEJF1K</td>\n",
       "      <td>3.0000</td>\n",
       "      <td>984.25200</td>\n",
       "      <td>2019-05-01 00:00:00</td>\n",
       "      <td>00:03:56.546666</td>\n",
       "      <td>POINT (-86.78620 36.15440)</td>\n",
       "      <td>35</td>\n",
       "      <td>37203</td>\n",
       "      <td>NASHVILLE</td>\n",
       "    </tr>\n",
       "  </tbody>\n",
       "</table>\n",
       "</div>"
      ],
      "text/plain": [
       "  companyName tripRecordNum         sumdID  tripDuration  tripDistance  \\\n",
       "0        Bird       BRD2134   Powered9EAJL        3.0000     958.00528   \n",
       "1        Lyft          LFT5  Powered296631        1.7156    1371.39112   \n",
       "2        Bird       BRD2168   Powered7S2UU        3.0000    2296.58800   \n",
       "3        Bird       BRD2166   PoweredZIIVX        3.0000    1200.78744   \n",
       "5        Bird       BRD2167   PoweredEJF1K        3.0000     984.25200   \n",
       "\n",
       "             startDate        startTime                    geometry  \\\n",
       "0  2019-05-01 00:00:00  00:00:20.460000  POINT (-86.80360 36.15710)   \n",
       "1  2019-05-01 00:00:00  00:01:50.090000  POINT (-86.77896 36.15797)   \n",
       "2  2019-05-01 00:00:00  00:03:47.363333  POINT (-86.78180 36.15470)   \n",
       "3  2019-05-01 00:00:00  00:04:21.386666  POINT (-86.77950 36.14940)   \n",
       "5  2019-05-01 00:00:00  00:03:56.546666  POINT (-86.78620 36.15440)   \n",
       "\n",
       "   index_right    zip    po_name  \n",
       "0           35  37203  NASHVILLE  \n",
       "1           35  37203  NASHVILLE  \n",
       "2           35  37203  NASHVILLE  \n",
       "3           35  37203  NASHVILLE  \n",
       "5           35  37203  NASHVILLE  "
      ]
     },
     "execution_count": 15,
     "metadata": {},
     "output_type": "execute_result"
    }
   ],
   "source": [
    "maytrips_by_zip.head()"
   ]
  },
  {
   "cell_type": "code",
   "execution_count": 16,
   "id": "f9e88b41",
   "metadata": {
    "scrolled": true
   },
   "outputs": [
    {
     "data": {
      "text/plain": [
       "37203    97496\n",
       "37201    39847\n",
       "37219    17858\n",
       "37212    17020\n",
       "37204    15713\n",
       "37206     8866\n",
       "37208     8725\n",
       "37213     8710\n",
       "37210     4870\n",
       "37240     1605\n",
       "37232     1379\n",
       "37207     1086\n",
       "37209      702\n",
       "37215      330\n",
       "37228      243\n",
       "37216      206\n",
       "37205      185\n",
       "37211       42\n",
       "37217       41\n",
       "37214       15\n",
       "37013       15\n",
       "37218        5\n",
       "37221        5\n",
       "37115        3\n",
       "37138        1\n",
       "37220        1\n",
       "Name: zip, dtype: int64"
      ]
     },
     "execution_count": 16,
     "metadata": {},
     "output_type": "execute_result"
    }
   ],
   "source": [
    "maytrips_by_zip['zip'].value_counts()"
   ]
  },
  {
   "cell_type": "markdown",
   "id": "0de5a4ad",
   "metadata": {},
   "source": [
    "Busiest zipcode is West End/Gulch. Not really a surprise there!"
   ]
  },
  {
   "cell_type": "code",
   "execution_count": 17,
   "id": "7135d1be",
   "metadata": {},
   "outputs": [
    {
     "data": {
      "text/plain": [
       "2019-05-26 00:00:00    14947\n",
       "2019-05-25 00:00:00    14811\n",
       "2019-05-18 00:00:00    12596\n",
       "2019-05-04 00:00:00    10210\n",
       "2019-05-27 00:00:00     9993\n",
       "2019-05-19 00:00:00     9170\n",
       "2019-05-17 00:00:00     9019\n",
       "2019-05-24 00:00:00     8985\n",
       "2019-05-05 00:00:00     8197\n",
       "2019-05-31 00:00:00     7778\n",
       "2019-05-11 00:00:00     7764\n",
       "2019-05-03 00:00:00     7673\n",
       "2019-05-12 00:00:00     7354\n",
       "2019-05-10 00:00:00     6590\n",
       "2019-05-06 00:00:00     6484\n",
       "2019-05-16 00:00:00     6257\n",
       "2019-05-20 00:00:00     5913\n",
       "2019-05-07 00:00:00     5746\n",
       "2019-05-28 00:00:00     5649\n",
       "2019-05-23 00:00:00     5588\n",
       "2019-05-08 00:00:00     5381\n",
       "2019-05-14 00:00:00     5374\n",
       "2019-05-30 00:00:00     5356\n",
       "2019-05-15 00:00:00     5234\n",
       "2019-05-13 00:00:00     5179\n",
       "2019-05-22 00:00:00     5013\n",
       "2019-05-21 00:00:00     4889\n",
       "2019-05-29 00:00:00     4747\n",
       "2019-05-01 00:00:00     4559\n",
       "2019-05-02 00:00:00     4290\n",
       "2019-05-09 00:00:00     4223\n",
       "Name: startDate, dtype: int64"
      ]
     },
     "execution_count": 17,
     "metadata": {},
     "output_type": "execute_result"
    }
   ],
   "source": [
    "maytrips_by_zip['startDate'].value_counts()"
   ]
  },
  {
   "cell_type": "markdown",
   "id": "7245029e",
   "metadata": {},
   "source": [
    "Two days in May with the highest number of scooter trips were the Saturday and Sunday of Memorial Day weekend. May 18th there was a 5K in East Nashville. May 4th was the Sevier Park Fest in 12 South. May 18 and 19 there was a free concert series in Centennial Park. Most of these Saturdays there were also soccer games."
   ]
  },
  {
   "cell_type": "markdown",
   "id": "c50b8e19",
   "metadata": {},
   "source": [
    "Looking at trips per scooter. Over 2K trips where the scooter ID wasn't known/logged."
   ]
  },
  {
   "cell_type": "code",
   "execution_count": 18,
   "id": "c3c55395",
   "metadata": {
    "scrolled": true
   },
   "outputs": [
    {
     "data": {
      "text/plain": [
       "PoweredUNKNOWN                                 2166\n",
       "Poweredb671ffe4-2bca-5880-98ec-d36f65aa11a2     600\n",
       "PoweredWVIAXNCVDNOXP                            338\n",
       "PoweredR3QXO6TL2HIAB                            291\n",
       "PoweredRJ7YYJTHAR5N3                            274\n",
       "                                               ... \n",
       "PoweredWJ84E                                      1\n",
       "Powered7HKY5                                      1\n",
       "Powered7463072                                    1\n",
       "PoweredUZJGTVAABVMBK                              1\n",
       "PoweredYY8GG                                      1\n",
       "Name: sumdID, Length: 6966, dtype: int64"
      ]
     },
     "execution_count": 18,
     "metadata": {},
     "output_type": "execute_result"
    }
   ],
   "source": [
    "maytrips_by_zip['sumdID'].value_counts()"
   ]
  },
  {
   "cell_type": "markdown",
   "id": "1249f215",
   "metadata": {},
   "source": [
    "Looking at trips per each of the 7 scooter companies."
   ]
  },
  {
   "cell_type": "code",
   "execution_count": 19,
   "id": "05bbed55",
   "metadata": {},
   "outputs": [
    {
     "data": {
      "text/plain": [
       "Lime             102569\n",
       "Lyft              54271\n",
       "Bird              53496\n",
       "SPIN               8471\n",
       "Bolt Mobility      4912\n",
       "Gotcha              650\n",
       "JUMP                600\n",
       "Name: companyName, dtype: int64"
      ]
     },
     "execution_count": 19,
     "metadata": {},
     "output_type": "execute_result"
    }
   ],
   "source": [
    "maytrips_by_zip['companyName'].value_counts()"
   ]
  },
  {
   "cell_type": "markdown",
   "id": "ddcca29e",
   "metadata": {},
   "source": [
    "I really want to focus on looking at how many rides per day each individual scooter is averaging, since the stated project metric was a desired average of 3 rides per scooter per day. If I can figure out this info, then it will be possible to find areas where that average is being exceeded (and perhaps place more scooters in that area from other areas that aren't meeting the 3 rides per day metric)."
   ]
  },
  {
   "cell_type": "code",
   "execution_count": 20,
   "id": "d2ba35c2",
   "metadata": {},
   "outputs": [
    {
     "data": {
      "text/html": [
       "<div>\n",
       "<style scoped>\n",
       "    .dataframe tbody tr th:only-of-type {\n",
       "        vertical-align: middle;\n",
       "    }\n",
       "\n",
       "    .dataframe tbody tr th {\n",
       "        vertical-align: top;\n",
       "    }\n",
       "\n",
       "    .dataframe thead th {\n",
       "        text-align: right;\n",
       "    }\n",
       "</style>\n",
       "<table border=\"1\" class=\"dataframe\">\n",
       "  <thead>\n",
       "    <tr style=\"text-align: right;\">\n",
       "      <th></th>\n",
       "      <th>tripDuration</th>\n",
       "      <th>tripDistance</th>\n",
       "      <th>index_right</th>\n",
       "    </tr>\n",
       "  </thead>\n",
       "  <tbody>\n",
       "    <tr>\n",
       "      <th>count</th>\n",
       "      <td>224969.000000</td>\n",
       "      <td>2.249690e+05</td>\n",
       "      <td>224969.000000</td>\n",
       "    </tr>\n",
       "    <tr>\n",
       "      <th>mean</th>\n",
       "      <td>42.701454</td>\n",
       "      <td>4.068519e+03</td>\n",
       "      <td>29.413430</td>\n",
       "    </tr>\n",
       "    <tr>\n",
       "      <th>std</th>\n",
       "      <td>270.980984</td>\n",
       "      <td>2.605852e+04</td>\n",
       "      <td>11.539298</td>\n",
       "    </tr>\n",
       "    <tr>\n",
       "      <th>min</th>\n",
       "      <td>0.000000</td>\n",
       "      <td>-2.758530e+06</td>\n",
       "      <td>0.000000</td>\n",
       "    </tr>\n",
       "    <tr>\n",
       "      <th>25%</th>\n",
       "      <td>5.050000</td>\n",
       "      <td>3.380232e+02</td>\n",
       "      <td>24.000000</td>\n",
       "    </tr>\n",
       "    <tr>\n",
       "      <th>50%</th>\n",
       "      <td>10.116667</td>\n",
       "      <td>1.640420e+03</td>\n",
       "      <td>35.000000</td>\n",
       "    </tr>\n",
       "    <tr>\n",
       "      <th>75%</th>\n",
       "      <td>20.000000</td>\n",
       "      <td>5.488845e+03</td>\n",
       "      <td>36.000000</td>\n",
       "    </tr>\n",
       "    <tr>\n",
       "      <th>max</th>\n",
       "      <td>36206.000000</td>\n",
       "      <td>7.580026e+06</td>\n",
       "      <td>53.000000</td>\n",
       "    </tr>\n",
       "  </tbody>\n",
       "</table>\n",
       "</div>"
      ],
      "text/plain": [
       "        tripDuration  tripDistance    index_right\n",
       "count  224969.000000  2.249690e+05  224969.000000\n",
       "mean       42.701454  4.068519e+03      29.413430\n",
       "std       270.980984  2.605852e+04      11.539298\n",
       "min         0.000000 -2.758530e+06       0.000000\n",
       "25%         5.050000  3.380232e+02      24.000000\n",
       "50%        10.116667  1.640420e+03      35.000000\n",
       "75%        20.000000  5.488845e+03      36.000000\n",
       "max     36206.000000  7.580026e+06      53.000000"
      ]
     },
     "execution_count": 20,
     "metadata": {},
     "output_type": "execute_result"
    }
   ],
   "source": [
    "maytrips_by_zip.describe()"
   ]
  },
  {
   "cell_type": "code",
   "execution_count": 25,
   "id": "9c780279",
   "metadata": {},
   "outputs": [
    {
     "data": {
      "text/plain": [
       "6966"
      ]
     },
     "execution_count": 25,
     "metadata": {},
     "output_type": "execute_result"
    }
   ],
   "source": [
    "maytrips_by_zip['sumdID'].nunique()"
   ]
  },
  {
   "cell_type": "code",
   "execution_count": null,
   "id": "747c8ae1",
   "metadata": {},
   "outputs": [],
   "source": []
  }
 ],
 "metadata": {
  "kernelspec": {
   "display_name": "Python 3 (ipykernel)",
   "language": "python",
   "name": "python3"
  },
  "language_info": {
   "codemirror_mode": {
    "name": "ipython",
    "version": 3
   },
   "file_extension": ".py",
   "mimetype": "text/x-python",
   "name": "python",
   "nbconvert_exporter": "python",
   "pygments_lexer": "ipython3",
   "version": "3.8.5"
  }
 },
 "nbformat": 4,
 "nbformat_minor": 5
}
