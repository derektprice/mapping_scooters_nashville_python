{
 "cells": [
  {
   "cell_type": "code",
   "execution_count": 1,
   "id": "dd6f6af5",
   "metadata": {},
   "outputs": [],
   "source": [
    "from shapely.geometry import Point\n",
    "import pandas as pd\n",
    "import geopandas as gpd\n",
    "import matplotlib.pyplot as plt\n",
    "import folium\n",
    "from folium.plugins import MarkerCluster\n",
    "from folium.plugins import FastMarkerCluster\n",
    "import pandas as pd\n",
    "import pickle"
   ]
  },
  {
   "cell_type": "code",
   "execution_count": 2,
   "id": "2b3ff9bc",
   "metadata": {},
   "outputs": [
    {
     "name": "stdout",
     "output_type": "stream",
     "text": [
      "Wall time: 21.4 s\n"
     ]
    },
    {
     "data": {
      "text/html": [
       "<div>\n",
       "<style scoped>\n",
       "    .dataframe tbody tr th:only-of-type {\n",
       "        vertical-align: middle;\n",
       "    }\n",
       "\n",
       "    .dataframe tbody tr th {\n",
       "        vertical-align: top;\n",
       "    }\n",
       "\n",
       "    .dataframe thead th {\n",
       "        text-align: right;\n",
       "    }\n",
       "</style>\n",
       "<table border=\"1\" class=\"dataframe\">\n",
       "  <thead>\n",
       "    <tr style=\"text-align: right;\">\n",
       "      <th></th>\n",
       "      <th>pubdatetime</th>\n",
       "      <th>latitude</th>\n",
       "      <th>longitude</th>\n",
       "      <th>sumdid</th>\n",
       "      <th>sumdtype</th>\n",
       "      <th>chargelevel</th>\n",
       "      <th>sumdgroup</th>\n",
       "      <th>costpermin</th>\n",
       "      <th>companyname</th>\n",
       "    </tr>\n",
       "  </thead>\n",
       "  <tbody>\n",
       "    <tr>\n",
       "      <th>0</th>\n",
       "      <td>2019-05-01 00:01:41.247000</td>\n",
       "      <td>36.136822</td>\n",
       "      <td>-86.799877</td>\n",
       "      <td>PoweredLIRL1</td>\n",
       "      <td>Powered</td>\n",
       "      <td>93.0</td>\n",
       "      <td>scooter</td>\n",
       "      <td>0.0</td>\n",
       "      <td>Bird</td>\n",
       "    </tr>\n",
       "    <tr>\n",
       "      <th>1</th>\n",
       "      <td>2019-05-01 00:01:41.247000</td>\n",
       "      <td>36.191252</td>\n",
       "      <td>-86.772945</td>\n",
       "      <td>PoweredXWRWC</td>\n",
       "      <td>Powered</td>\n",
       "      <td>35.0</td>\n",
       "      <td>scooter</td>\n",
       "      <td>0.0</td>\n",
       "      <td>Bird</td>\n",
       "    </tr>\n",
       "    <tr>\n",
       "      <th>2</th>\n",
       "      <td>2019-05-01 00:01:41.247000</td>\n",
       "      <td>36.144752</td>\n",
       "      <td>-86.806293</td>\n",
       "      <td>PoweredMEJEH</td>\n",
       "      <td>Powered</td>\n",
       "      <td>90.0</td>\n",
       "      <td>scooter</td>\n",
       "      <td>0.0</td>\n",
       "      <td>Bird</td>\n",
       "    </tr>\n",
       "    <tr>\n",
       "      <th>3</th>\n",
       "      <td>2019-05-01 00:01:41.247000</td>\n",
       "      <td>36.162056</td>\n",
       "      <td>-86.774688</td>\n",
       "      <td>Powered1A7TC</td>\n",
       "      <td>Powered</td>\n",
       "      <td>88.0</td>\n",
       "      <td>scooter</td>\n",
       "      <td>0.0</td>\n",
       "      <td>Bird</td>\n",
       "    </tr>\n",
       "    <tr>\n",
       "      <th>4</th>\n",
       "      <td>2019-05-01 00:01:41.247000</td>\n",
       "      <td>36.150973</td>\n",
       "      <td>-86.783109</td>\n",
       "      <td>Powered2TYEF</td>\n",
       "      <td>Powered</td>\n",
       "      <td>98.0</td>\n",
       "      <td>scooter</td>\n",
       "      <td>0.0</td>\n",
       "      <td>Bird</td>\n",
       "    </tr>\n",
       "  </tbody>\n",
       "</table>\n",
       "</div>"
      ],
      "text/plain": [
       "                  pubdatetime   latitude  longitude        sumdid sumdtype  \\\n",
       "0  2019-05-01 00:01:41.247000  36.136822 -86.799877  PoweredLIRL1  Powered   \n",
       "1  2019-05-01 00:01:41.247000  36.191252 -86.772945  PoweredXWRWC  Powered   \n",
       "2  2019-05-01 00:01:41.247000  36.144752 -86.806293  PoweredMEJEH  Powered   \n",
       "3  2019-05-01 00:01:41.247000  36.162056 -86.774688  Powered1A7TC  Powered   \n",
       "4  2019-05-01 00:01:41.247000  36.150973 -86.783109  Powered2TYEF  Powered   \n",
       "\n",
       "   chargelevel sumdgroup  costpermin companyname  \n",
       "0         93.0   scooter         0.0        Bird  \n",
       "1         35.0   scooter         0.0        Bird  \n",
       "2         90.0   scooter         0.0        Bird  \n",
       "3         88.0   scooter         0.0        Bird  \n",
       "4         98.0   scooter         0.0        Bird  "
      ]
     },
     "execution_count": 2,
     "metadata": {},
     "output_type": "execute_result"
    }
   ],
   "source": [
    "%%time\n",
    "may = pd.read_csv('../data/may.csv')\n",
    "may.head()"
   ]
  },
  {
   "cell_type": "code",
   "execution_count": 3,
   "id": "6ee4dd61",
   "metadata": {},
   "outputs": [
    {
     "name": "stdout",
     "output_type": "stream",
     "text": [
      "<class 'pandas.core.frame.DataFrame'>\n",
      "RangeIndex: 20292503 entries, 0 to 20292502\n",
      "Data columns (total 9 columns):\n",
      " #   Column       Dtype  \n",
      "---  ------       -----  \n",
      " 0   pubdatetime  object \n",
      " 1   latitude     float64\n",
      " 2   longitude    float64\n",
      " 3   sumdid       object \n",
      " 4   sumdtype     object \n",
      " 5   chargelevel  float64\n",
      " 6   sumdgroup    object \n",
      " 7   costpermin   float64\n",
      " 8   companyname  object \n",
      "dtypes: float64(4), object(5)\n",
      "memory usage: 1.4+ GB\n"
     ]
    }
   ],
   "source": [
    "may.info()"
   ]
  },
  {
   "cell_type": "code",
   "execution_count": 4,
   "id": "26ddfde4",
   "metadata": {},
   "outputs": [
    {
     "data": {
      "text/plain": [
       "array(['Bird', 'Lyft', 'Gotcha', 'Lime', 'Spin', 'Jump', 'Bolt'],\n",
       "      dtype=object)"
      ]
     },
     "execution_count": 4,
     "metadata": {},
     "output_type": "execute_result"
    }
   ],
   "source": [
    "may.companyname.unique()"
   ]
  },
  {
   "cell_type": "code",
   "execution_count": 5,
   "id": "bd290f35",
   "metadata": {},
   "outputs": [],
   "source": [
    "company_dict = {'Bird':0, 'Lyft': 1, 'Gotcha': 2, 'Lime': 3, 'Spin': 4, 'Jump': 5, 'Bolt': 6}"
   ]
  },
  {
   "cell_type": "code",
   "execution_count": 6,
   "id": "ac222de9",
   "metadata": {},
   "outputs": [],
   "source": [
    "may.companyname = may.companyname.replace(company_dict)"
   ]
  },
  {
   "cell_type": "code",
   "execution_count": 7,
   "id": "445ac254",
   "metadata": {},
   "outputs": [
    {
     "data": {
      "text/html": [
       "<div>\n",
       "<style scoped>\n",
       "    .dataframe tbody tr th:only-of-type {\n",
       "        vertical-align: middle;\n",
       "    }\n",
       "\n",
       "    .dataframe tbody tr th {\n",
       "        vertical-align: top;\n",
       "    }\n",
       "\n",
       "    .dataframe thead th {\n",
       "        text-align: right;\n",
       "    }\n",
       "</style>\n",
       "<table border=\"1\" class=\"dataframe\">\n",
       "  <thead>\n",
       "    <tr style=\"text-align: right;\">\n",
       "      <th></th>\n",
       "      <th>pubdatetime</th>\n",
       "      <th>latitude</th>\n",
       "      <th>longitude</th>\n",
       "      <th>sumdid</th>\n",
       "      <th>sumdtype</th>\n",
       "      <th>chargelevel</th>\n",
       "      <th>sumdgroup</th>\n",
       "      <th>costpermin</th>\n",
       "      <th>companyname</th>\n",
       "    </tr>\n",
       "  </thead>\n",
       "  <tbody>\n",
       "    <tr>\n",
       "      <th>0</th>\n",
       "      <td>2019-05-01 00:01:41.247</td>\n",
       "      <td>36.136822</td>\n",
       "      <td>-86.799877</td>\n",
       "      <td>PoweredLIRL1</td>\n",
       "      <td>Powered</td>\n",
       "      <td>93.0</td>\n",
       "      <td>scooter</td>\n",
       "      <td>0.0</td>\n",
       "      <td>0</td>\n",
       "    </tr>\n",
       "    <tr>\n",
       "      <th>1</th>\n",
       "      <td>2019-05-01 00:01:41.247</td>\n",
       "      <td>36.191252</td>\n",
       "      <td>-86.772945</td>\n",
       "      <td>PoweredXWRWC</td>\n",
       "      <td>Powered</td>\n",
       "      <td>35.0</td>\n",
       "      <td>scooter</td>\n",
       "      <td>0.0</td>\n",
       "      <td>0</td>\n",
       "    </tr>\n",
       "  </tbody>\n",
       "</table>\n",
       "</div>"
      ],
      "text/plain": [
       "              pubdatetime   latitude  longitude        sumdid sumdtype  \\\n",
       "0 2019-05-01 00:01:41.247  36.136822 -86.799877  PoweredLIRL1  Powered   \n",
       "1 2019-05-01 00:01:41.247  36.191252 -86.772945  PoweredXWRWC  Powered   \n",
       "\n",
       "   chargelevel sumdgroup  costpermin  companyname  \n",
       "0         93.0   scooter         0.0            0  \n",
       "1         35.0   scooter         0.0            0  "
      ]
     },
     "execution_count": 7,
     "metadata": {},
     "output_type": "execute_result"
    }
   ],
   "source": [
    "may.pubdatetime = pd.to_datetime(may.pubdatetime)\n",
    "may.head(2)"
   ]
  },
  {
   "cell_type": "code",
   "execution_count": 8,
   "id": "e4c00d94",
   "metadata": {},
   "outputs": [
    {
     "data": {
      "text/plain": [
       "array(['scooter', 'Scooter', 'bicycle'], dtype=object)"
      ]
     },
     "execution_count": 8,
     "metadata": {},
     "output_type": "execute_result"
    }
   ],
   "source": [
    "may.sumdgroup.unique()"
   ]
  },
  {
   "cell_type": "code",
   "execution_count": 9,
   "id": "3b722584",
   "metadata": {},
   "outputs": [],
   "source": [
    "may_scooters = may.loc[may.sumdgroup.isin(['scooter', 'Scooter'])]"
   ]
  },
  {
   "cell_type": "code",
   "execution_count": 10,
   "id": "bd30ea1b",
   "metadata": {},
   "outputs": [],
   "source": [
    "may_scooters = may_scooters[['pubdatetime', 'latitude', 'longitude', 'sumdid', 'chargelevel', 'companyname']]"
   ]
  },
  {
   "cell_type": "code",
   "execution_count": 11,
   "id": "ca9f2dd5",
   "metadata": {},
   "outputs": [
    {
     "name": "stdout",
     "output_type": "stream",
     "text": [
      "<class 'pandas.core.frame.DataFrame'>\n",
      "Int64Index: 20283582 entries, 0 to 20292502\n",
      "Data columns (total 6 columns):\n",
      " #   Column       Dtype         \n",
      "---  ------       -----         \n",
      " 0   pubdatetime  datetime64[ns]\n",
      " 1   latitude     float64       \n",
      " 2   longitude    float64       \n",
      " 3   sumdid       object        \n",
      " 4   chargelevel  float64       \n",
      " 5   companyname  int64         \n",
      "dtypes: datetime64[ns](1), float64(3), int64(1), object(1)\n",
      "memory usage: 1.1+ GB\n"
     ]
    }
   ],
   "source": [
    "may_scooters.info()"
   ]
  },
  {
   "cell_type": "code",
   "execution_count": 12,
   "id": "935f5c6c",
   "metadata": {},
   "outputs": [],
   "source": [
    "may_scooters.to_pickle(\"../data/may.pkl\")"
   ]
  },
  {
   "cell_type": "code",
   "execution_count": 13,
   "id": "f55d1b20",
   "metadata": {},
   "outputs": [
    {
     "name": "stdout",
     "output_type": "stream",
     "text": [
      "Wall time: 1.54 s\n"
     ]
    }
   ],
   "source": [
    "%%time\n",
    "may_test = pd.read_pickle(\"../data/may.pkl\")"
   ]
  },
  {
   "cell_type": "code",
   "execution_count": 14,
   "id": "d41366e9",
   "metadata": {},
   "outputs": [],
   "source": [
    "from shapely.geometry import Point\n",
    "import pandas as pd\n",
    "import geopandas as gpd\n",
    "import matplotlib.pyplot as plt\n",
    "import folium\n",
    "from folium.plugins import MarkerCluster\n",
    "from folium.plugins import FastMarkerCluster\n",
    "import pandas as pd\n",
    "import pickle"
   ]
  },
  {
   "cell_type": "code",
   "execution_count": 15,
   "id": "57fd7992",
   "metadata": {},
   "outputs": [
    {
     "name": "stdout",
     "output_type": "stream",
     "text": [
      "Wall time: 31.8 s\n"
     ]
    },
    {
     "data": {
      "text/html": [
       "<div>\n",
       "<style scoped>\n",
       "    .dataframe tbody tr th:only-of-type {\n",
       "        vertical-align: middle;\n",
       "    }\n",
       "\n",
       "    .dataframe tbody tr th {\n",
       "        vertical-align: top;\n",
       "    }\n",
       "\n",
       "    .dataframe thead th {\n",
       "        text-align: right;\n",
       "    }\n",
       "</style>\n",
       "<table border=\"1\" class=\"dataframe\">\n",
       "  <thead>\n",
       "    <tr style=\"text-align: right;\">\n",
       "      <th></th>\n",
       "      <th>pubdatetime</th>\n",
       "      <th>latitude</th>\n",
       "      <th>longitude</th>\n",
       "      <th>sumdid</th>\n",
       "      <th>sumdtype</th>\n",
       "      <th>chargelevel</th>\n",
       "      <th>sumdgroup</th>\n",
       "      <th>costpermin</th>\n",
       "      <th>companyname</th>\n",
       "    </tr>\n",
       "  </thead>\n",
       "  <tbody>\n",
       "    <tr>\n",
       "      <th>0</th>\n",
       "      <td>2019-06-01 00:00:12</td>\n",
       "      <td>36.1202</td>\n",
       "      <td>-86.7534</td>\n",
       "      <td>Powered93627c35-0f62-5b81-a78d-75a4a92ecf47</td>\n",
       "      <td>Powered</td>\n",
       "      <td>90.0</td>\n",
       "      <td>scooter</td>\n",
       "      <td>0.06</td>\n",
       "      <td>Jump</td>\n",
       "    </tr>\n",
       "    <tr>\n",
       "      <th>1</th>\n",
       "      <td>2019-06-01 00:00:12</td>\n",
       "      <td>36.1630</td>\n",
       "      <td>-86.7765</td>\n",
       "      <td>Powered17715097-e8a0-5494-a5ab-9b625796607d</td>\n",
       "      <td>Powered</td>\n",
       "      <td>63.0</td>\n",
       "      <td>scooter</td>\n",
       "      <td>0.06</td>\n",
       "      <td>Jump</td>\n",
       "    </tr>\n",
       "    <tr>\n",
       "      <th>2</th>\n",
       "      <td>2019-06-01 00:00:12</td>\n",
       "      <td>36.1202</td>\n",
       "      <td>-86.7533</td>\n",
       "      <td>Powerede5cb95ae-b091-5a93-86fa-ededd946d0d7</td>\n",
       "      <td>Powered</td>\n",
       "      <td>77.0</td>\n",
       "      <td>scooter</td>\n",
       "      <td>0.06</td>\n",
       "      <td>Jump</td>\n",
       "    </tr>\n",
       "    <tr>\n",
       "      <th>3</th>\n",
       "      <td>2019-06-01 00:00:12</td>\n",
       "      <td>36.1201</td>\n",
       "      <td>-86.7530</td>\n",
       "      <td>Powered71fa5e4f-1e17-54c4-936d-330df38cc2fa</td>\n",
       "      <td>Powered</td>\n",
       "      <td>0.0</td>\n",
       "      <td>scooter</td>\n",
       "      <td>0.06</td>\n",
       "      <td>Jump</td>\n",
       "    </tr>\n",
       "    <tr>\n",
       "      <th>4</th>\n",
       "      <td>2019-06-01 00:00:12</td>\n",
       "      <td>36.1622</td>\n",
       "      <td>-86.7806</td>\n",
       "      <td>Poweredfa549dd6-40bb-5757-ac87-2c2528f2bc68</td>\n",
       "      <td>Powered</td>\n",
       "      <td>2.0</td>\n",
       "      <td>scooter</td>\n",
       "      <td>0.06</td>\n",
       "      <td>Jump</td>\n",
       "    </tr>\n",
       "  </tbody>\n",
       "</table>\n",
       "</div>"
      ],
      "text/plain": [
       "           pubdatetime  latitude  longitude  \\\n",
       "0  2019-06-01 00:00:12   36.1202   -86.7534   \n",
       "1  2019-06-01 00:00:12   36.1630   -86.7765   \n",
       "2  2019-06-01 00:00:12   36.1202   -86.7533   \n",
       "3  2019-06-01 00:00:12   36.1201   -86.7530   \n",
       "4  2019-06-01 00:00:12   36.1622   -86.7806   \n",
       "\n",
       "                                        sumdid sumdtype  chargelevel  \\\n",
       "0  Powered93627c35-0f62-5b81-a78d-75a4a92ecf47  Powered         90.0   \n",
       "1  Powered17715097-e8a0-5494-a5ab-9b625796607d  Powered         63.0   \n",
       "2  Powerede5cb95ae-b091-5a93-86fa-ededd946d0d7  Powered         77.0   \n",
       "3  Powered71fa5e4f-1e17-54c4-936d-330df38cc2fa  Powered          0.0   \n",
       "4  Poweredfa549dd6-40bb-5757-ac87-2c2528f2bc68  Powered          2.0   \n",
       "\n",
       "  sumdgroup  costpermin companyname  \n",
       "0   scooter        0.06        Jump  \n",
       "1   scooter        0.06        Jump  \n",
       "2   scooter        0.06        Jump  \n",
       "3   scooter        0.06        Jump  \n",
       "4   scooter        0.06        Jump  "
      ]
     },
     "execution_count": 15,
     "metadata": {},
     "output_type": "execute_result"
    }
   ],
   "source": [
    "%%time\n",
    "june = pd.read_csv('../data/june.csv')\n",
    "june.head()"
   ]
  },
  {
   "cell_type": "code",
   "execution_count": 16,
   "id": "e6f7433e",
   "metadata": {},
   "outputs": [
    {
     "name": "stdout",
     "output_type": "stream",
     "text": [
      "<class 'pandas.core.frame.DataFrame'>\n",
      "RangeIndex: 28046095 entries, 0 to 28046094\n",
      "Data columns (total 9 columns):\n",
      " #   Column       Dtype  \n",
      "---  ------       -----  \n",
      " 0   pubdatetime  object \n",
      " 1   latitude     float64\n",
      " 2   longitude    float64\n",
      " 3   sumdid       object \n",
      " 4   sumdtype     object \n",
      " 5   chargelevel  float64\n",
      " 6   sumdgroup    object \n",
      " 7   costpermin   float64\n",
      " 8   companyname  object \n",
      "dtypes: float64(4), object(5)\n",
      "memory usage: 1.9+ GB\n"
     ]
    }
   ],
   "source": [
    "june.info()"
   ]
  },
  {
   "cell_type": "code",
   "execution_count": 17,
   "id": "f565594e",
   "metadata": {},
   "outputs": [
    {
     "data": {
      "text/plain": [
       "array(['Jump', 'Bird', 'Bolt', 'Gotcha', 'Spin', 'Lime', 'Lyft'],\n",
       "      dtype=object)"
      ]
     },
     "execution_count": 17,
     "metadata": {},
     "output_type": "execute_result"
    }
   ],
   "source": [
    "june.companyname.unique()"
   ]
  },
  {
   "cell_type": "code",
   "execution_count": 18,
   "id": "f6575d74",
   "metadata": {},
   "outputs": [],
   "source": [
    "company_dict = {'Bird':0, 'Lyft': 1, 'Gotcha': 2, 'Lime': 3, 'Spin': 4, 'Jump': 5, 'Bolt': 6}"
   ]
  },
  {
   "cell_type": "code",
   "execution_count": 19,
   "id": "0de9dc7b",
   "metadata": {},
   "outputs": [],
   "source": [
    "june.companyname = june.companyname.replace(company_dict)"
   ]
  },
  {
   "cell_type": "code",
   "execution_count": 20,
   "id": "b6f017ff",
   "metadata": {},
   "outputs": [
    {
     "data": {
      "text/html": [
       "<div>\n",
       "<style scoped>\n",
       "    .dataframe tbody tr th:only-of-type {\n",
       "        vertical-align: middle;\n",
       "    }\n",
       "\n",
       "    .dataframe tbody tr th {\n",
       "        vertical-align: top;\n",
       "    }\n",
       "\n",
       "    .dataframe thead th {\n",
       "        text-align: right;\n",
       "    }\n",
       "</style>\n",
       "<table border=\"1\" class=\"dataframe\">\n",
       "  <thead>\n",
       "    <tr style=\"text-align: right;\">\n",
       "      <th></th>\n",
       "      <th>pubdatetime</th>\n",
       "      <th>latitude</th>\n",
       "      <th>longitude</th>\n",
       "      <th>sumdid</th>\n",
       "      <th>sumdtype</th>\n",
       "      <th>chargelevel</th>\n",
       "      <th>sumdgroup</th>\n",
       "      <th>costpermin</th>\n",
       "      <th>companyname</th>\n",
       "    </tr>\n",
       "  </thead>\n",
       "  <tbody>\n",
       "    <tr>\n",
       "      <th>0</th>\n",
       "      <td>2019-06-01 00:00:12</td>\n",
       "      <td>36.1202</td>\n",
       "      <td>-86.7534</td>\n",
       "      <td>Powered93627c35-0f62-5b81-a78d-75a4a92ecf47</td>\n",
       "      <td>Powered</td>\n",
       "      <td>90.0</td>\n",
       "      <td>scooter</td>\n",
       "      <td>0.06</td>\n",
       "      <td>5</td>\n",
       "    </tr>\n",
       "    <tr>\n",
       "      <th>1</th>\n",
       "      <td>2019-06-01 00:00:12</td>\n",
       "      <td>36.1630</td>\n",
       "      <td>-86.7765</td>\n",
       "      <td>Powered17715097-e8a0-5494-a5ab-9b625796607d</td>\n",
       "      <td>Powered</td>\n",
       "      <td>63.0</td>\n",
       "      <td>scooter</td>\n",
       "      <td>0.06</td>\n",
       "      <td>5</td>\n",
       "    </tr>\n",
       "  </tbody>\n",
       "</table>\n",
       "</div>"
      ],
      "text/plain": [
       "          pubdatetime  latitude  longitude  \\\n",
       "0 2019-06-01 00:00:12   36.1202   -86.7534   \n",
       "1 2019-06-01 00:00:12   36.1630   -86.7765   \n",
       "\n",
       "                                        sumdid sumdtype  chargelevel  \\\n",
       "0  Powered93627c35-0f62-5b81-a78d-75a4a92ecf47  Powered         90.0   \n",
       "1  Powered17715097-e8a0-5494-a5ab-9b625796607d  Powered         63.0   \n",
       "\n",
       "  sumdgroup  costpermin  companyname  \n",
       "0   scooter        0.06            5  \n",
       "1   scooter        0.06            5  "
      ]
     },
     "execution_count": 20,
     "metadata": {},
     "output_type": "execute_result"
    }
   ],
   "source": [
    "june.pubdatetime = pd.to_datetime(june.pubdatetime)\n",
    "june.head(2)"
   ]
  },
  {
   "cell_type": "code",
   "execution_count": 21,
   "id": "0422682b",
   "metadata": {},
   "outputs": [
    {
     "data": {
      "text/plain": [
       "array(['scooter', 'Scooter', 'bicycle'], dtype=object)"
      ]
     },
     "execution_count": 21,
     "metadata": {},
     "output_type": "execute_result"
    }
   ],
   "source": [
    "june.sumdgroup.unique()"
   ]
  },
  {
   "cell_type": "code",
   "execution_count": 22,
   "id": "7b64cd59",
   "metadata": {},
   "outputs": [],
   "source": [
    "june_scooters = june.loc[june.sumdgroup.isin(['scooter', 'Scooter'])]"
   ]
  },
  {
   "cell_type": "code",
   "execution_count": 23,
   "id": "17ef96af",
   "metadata": {},
   "outputs": [],
   "source": [
    "june_scooters = june_scooters[['pubdatetime', 'latitude', 'longitude', 'sumdid', 'chargelevel', 'companyname']]"
   ]
  },
  {
   "cell_type": "code",
   "execution_count": 24,
   "id": "99f5102d",
   "metadata": {},
   "outputs": [
    {
     "name": "stdout",
     "output_type": "stream",
     "text": [
      "<class 'pandas.core.frame.DataFrame'>\n",
      "Int64Index: 28037408 entries, 0 to 28046094\n",
      "Data columns (total 6 columns):\n",
      " #   Column       Dtype         \n",
      "---  ------       -----         \n",
      " 0   pubdatetime  datetime64[ns]\n",
      " 1   latitude     float64       \n",
      " 2   longitude    float64       \n",
      " 3   sumdid       object        \n",
      " 4   chargelevel  float64       \n",
      " 5   companyname  int64         \n",
      "dtypes: datetime64[ns](1), float64(3), int64(1), object(1)\n",
      "memory usage: 1.5+ GB\n"
     ]
    }
   ],
   "source": [
    "june_scooters.info()"
   ]
  },
  {
   "cell_type": "code",
   "execution_count": 25,
   "id": "646804f1",
   "metadata": {},
   "outputs": [],
   "source": [
    "june_scooters.to_pickle(\"../data/june.pkl\")"
   ]
  },
  {
   "cell_type": "code",
   "execution_count": 26,
   "id": "4b769c11",
   "metadata": {},
   "outputs": [
    {
     "name": "stdout",
     "output_type": "stream",
     "text": [
      "Wall time: 3.66 s\n"
     ]
    }
   ],
   "source": [
    "%%time\n",
    "june_test = pd.read_pickle(\"../data/june.pkl\")"
   ]
  },
  {
   "cell_type": "code",
   "execution_count": 27,
   "id": "b61e06de",
   "metadata": {},
   "outputs": [],
   "source": [
    "from shapely.geometry import Point\n",
    "import pandas as pd\n",
    "import geopandas as gpd\n",
    "import matplotlib.pyplot as plt\n",
    "import folium\n",
    "from folium.plugins import MarkerCluster\n",
    "from folium.plugins import FastMarkerCluster\n",
    "import pandas as pd\n",
    "import pickle"
   ]
  },
  {
   "cell_type": "code",
   "execution_count": 28,
   "id": "8ce4f64c",
   "metadata": {},
   "outputs": [
    {
     "name": "stdout",
     "output_type": "stream",
     "text": [
      "Wall time: 35.5 s\n"
     ]
    },
    {
     "data": {
      "text/html": [
       "<div>\n",
       "<style scoped>\n",
       "    .dataframe tbody tr th:only-of-type {\n",
       "        vertical-align: middle;\n",
       "    }\n",
       "\n",
       "    .dataframe tbody tr th {\n",
       "        vertical-align: top;\n",
       "    }\n",
       "\n",
       "    .dataframe thead th {\n",
       "        text-align: right;\n",
       "    }\n",
       "</style>\n",
       "<table border=\"1\" class=\"dataframe\">\n",
       "  <thead>\n",
       "    <tr style=\"text-align: right;\">\n",
       "      <th></th>\n",
       "      <th>pubdatetime</th>\n",
       "      <th>latitude</th>\n",
       "      <th>longitude</th>\n",
       "      <th>sumdid</th>\n",
       "      <th>sumdtype</th>\n",
       "      <th>chargelevel</th>\n",
       "      <th>sumdgroup</th>\n",
       "      <th>costpermin</th>\n",
       "      <th>companyname</th>\n",
       "    </tr>\n",
       "  </thead>\n",
       "  <tbody>\n",
       "    <tr>\n",
       "      <th>0</th>\n",
       "      <td>2019-07-01 00:00:33.550000</td>\n",
       "      <td>36.156678</td>\n",
       "      <td>-86.809004</td>\n",
       "      <td>Powered635135</td>\n",
       "      <td>Powered</td>\n",
       "      <td>22.0</td>\n",
       "      <td>scooter</td>\n",
       "      <td>0.15</td>\n",
       "      <td>Lyft</td>\n",
       "    </tr>\n",
       "    <tr>\n",
       "      <th>1</th>\n",
       "      <td>2019-07-01 00:00:34.973000</td>\n",
       "      <td>36.145674</td>\n",
       "      <td>-86.794138</td>\n",
       "      <td>Powered790946</td>\n",
       "      <td>Powered</td>\n",
       "      <td>33.0</td>\n",
       "      <td>scooter</td>\n",
       "      <td>0.15</td>\n",
       "      <td>Lyft</td>\n",
       "    </tr>\n",
       "    <tr>\n",
       "      <th>2</th>\n",
       "      <td>2019-07-01 00:00:41.183000</td>\n",
       "      <td>36.179319</td>\n",
       "      <td>-86.751538</td>\n",
       "      <td>Powered570380</td>\n",
       "      <td>Powered</td>\n",
       "      <td>76.0</td>\n",
       "      <td>scooter</td>\n",
       "      <td>0.15</td>\n",
       "      <td>Lyft</td>\n",
       "    </tr>\n",
       "    <tr>\n",
       "      <th>3</th>\n",
       "      <td>2019-07-01 00:00:41.620000</td>\n",
       "      <td>36.152111</td>\n",
       "      <td>-86.803821</td>\n",
       "      <td>Powered240631</td>\n",
       "      <td>Powered</td>\n",
       "      <td>43.0</td>\n",
       "      <td>scooter</td>\n",
       "      <td>0.15</td>\n",
       "      <td>Lyft</td>\n",
       "    </tr>\n",
       "    <tr>\n",
       "      <th>4</th>\n",
       "      <td>2019-07-01 00:00:45.087000</td>\n",
       "      <td>36.149355</td>\n",
       "      <td>-86.797550</td>\n",
       "      <td>Powered970404</td>\n",
       "      <td>Powered</td>\n",
       "      <td>52.0</td>\n",
       "      <td>scooter</td>\n",
       "      <td>0.15</td>\n",
       "      <td>Lyft</td>\n",
       "    </tr>\n",
       "  </tbody>\n",
       "</table>\n",
       "</div>"
      ],
      "text/plain": [
       "                  pubdatetime   latitude  longitude         sumdid sumdtype  \\\n",
       "0  2019-07-01 00:00:33.550000  36.156678 -86.809004  Powered635135  Powered   \n",
       "1  2019-07-01 00:00:34.973000  36.145674 -86.794138  Powered790946  Powered   \n",
       "2  2019-07-01 00:00:41.183000  36.179319 -86.751538  Powered570380  Powered   \n",
       "3  2019-07-01 00:00:41.620000  36.152111 -86.803821  Powered240631  Powered   \n",
       "4  2019-07-01 00:00:45.087000  36.149355 -86.797550  Powered970404  Powered   \n",
       "\n",
       "   chargelevel sumdgroup  costpermin companyname  \n",
       "0         22.0   scooter        0.15        Lyft  \n",
       "1         33.0   scooter        0.15        Lyft  \n",
       "2         76.0   scooter        0.15        Lyft  \n",
       "3         43.0   scooter        0.15        Lyft  \n",
       "4         52.0   scooter        0.15        Lyft  "
      ]
     },
     "execution_count": 28,
     "metadata": {},
     "output_type": "execute_result"
    }
   ],
   "source": [
    "%%time\n",
    "july = pd.read_csv('../data/july.csv')\n",
    "july.head()"
   ]
  },
  {
   "cell_type": "code",
   "execution_count": 29,
   "id": "a77abdc6",
   "metadata": {},
   "outputs": [
    {
     "name": "stdout",
     "output_type": "stream",
     "text": [
      "<class 'pandas.core.frame.DataFrame'>\n",
      "RangeIndex: 25075445 entries, 0 to 25075444\n",
      "Data columns (total 9 columns):\n",
      " #   Column       Dtype  \n",
      "---  ------       -----  \n",
      " 0   pubdatetime  object \n",
      " 1   latitude     float64\n",
      " 2   longitude    float64\n",
      " 3   sumdid       object \n",
      " 4   sumdtype     object \n",
      " 5   chargelevel  float64\n",
      " 6   sumdgroup    object \n",
      " 7   costpermin   float64\n",
      " 8   companyname  object \n",
      "dtypes: float64(4), object(5)\n",
      "memory usage: 1.7+ GB\n"
     ]
    }
   ],
   "source": [
    "july.info()"
   ]
  },
  {
   "cell_type": "code",
   "execution_count": 30,
   "id": "8a50814a",
   "metadata": {},
   "outputs": [
    {
     "data": {
      "text/plain": [
       "array(['Lyft', 'Bird', 'Spin', 'Bolt', 'Jump', 'Lime', 'Gotcha'],\n",
       "      dtype=object)"
      ]
     },
     "execution_count": 30,
     "metadata": {},
     "output_type": "execute_result"
    }
   ],
   "source": [
    "july.companyname.unique()"
   ]
  },
  {
   "cell_type": "code",
   "execution_count": 31,
   "id": "6435ec4b",
   "metadata": {},
   "outputs": [],
   "source": [
    "company_dict = {'Bird':0, 'Lyft': 1, 'Gotcha': 2, 'Lime': 3, 'Spin': 4, 'Jump': 5, 'Bolt': 6}"
   ]
  },
  {
   "cell_type": "code",
   "execution_count": 32,
   "id": "2f07b5b6",
   "metadata": {},
   "outputs": [],
   "source": [
    "july.companyname = july.companyname.replace(company_dict)"
   ]
  },
  {
   "cell_type": "code",
   "execution_count": 33,
   "id": "e0d2af85",
   "metadata": {},
   "outputs": [
    {
     "data": {
      "text/html": [
       "<div>\n",
       "<style scoped>\n",
       "    .dataframe tbody tr th:only-of-type {\n",
       "        vertical-align: middle;\n",
       "    }\n",
       "\n",
       "    .dataframe tbody tr th {\n",
       "        vertical-align: top;\n",
       "    }\n",
       "\n",
       "    .dataframe thead th {\n",
       "        text-align: right;\n",
       "    }\n",
       "</style>\n",
       "<table border=\"1\" class=\"dataframe\">\n",
       "  <thead>\n",
       "    <tr style=\"text-align: right;\">\n",
       "      <th></th>\n",
       "      <th>pubdatetime</th>\n",
       "      <th>latitude</th>\n",
       "      <th>longitude</th>\n",
       "      <th>sumdid</th>\n",
       "      <th>sumdtype</th>\n",
       "      <th>chargelevel</th>\n",
       "      <th>sumdgroup</th>\n",
       "      <th>costpermin</th>\n",
       "      <th>companyname</th>\n",
       "    </tr>\n",
       "  </thead>\n",
       "  <tbody>\n",
       "    <tr>\n",
       "      <th>0</th>\n",
       "      <td>2019-07-01 00:00:33.550</td>\n",
       "      <td>36.156678</td>\n",
       "      <td>-86.809004</td>\n",
       "      <td>Powered635135</td>\n",
       "      <td>Powered</td>\n",
       "      <td>22.0</td>\n",
       "      <td>scooter</td>\n",
       "      <td>0.15</td>\n",
       "      <td>1</td>\n",
       "    </tr>\n",
       "    <tr>\n",
       "      <th>1</th>\n",
       "      <td>2019-07-01 00:00:34.973</td>\n",
       "      <td>36.145674</td>\n",
       "      <td>-86.794138</td>\n",
       "      <td>Powered790946</td>\n",
       "      <td>Powered</td>\n",
       "      <td>33.0</td>\n",
       "      <td>scooter</td>\n",
       "      <td>0.15</td>\n",
       "      <td>1</td>\n",
       "    </tr>\n",
       "  </tbody>\n",
       "</table>\n",
       "</div>"
      ],
      "text/plain": [
       "              pubdatetime   latitude  longitude         sumdid sumdtype  \\\n",
       "0 2019-07-01 00:00:33.550  36.156678 -86.809004  Powered635135  Powered   \n",
       "1 2019-07-01 00:00:34.973  36.145674 -86.794138  Powered790946  Powered   \n",
       "\n",
       "   chargelevel sumdgroup  costpermin  companyname  \n",
       "0         22.0   scooter        0.15            1  \n",
       "1         33.0   scooter        0.15            1  "
      ]
     },
     "execution_count": 33,
     "metadata": {},
     "output_type": "execute_result"
    }
   ],
   "source": [
    "july.pubdatetime = pd.to_datetime(july.pubdatetime)\n",
    "july.head(2)"
   ]
  },
  {
   "cell_type": "code",
   "execution_count": 34,
   "id": "a82b2fb0",
   "metadata": {},
   "outputs": [
    {
     "data": {
      "text/plain": [
       "array(['scooter', 'Scooter', 'bicycle'], dtype=object)"
      ]
     },
     "execution_count": 34,
     "metadata": {},
     "output_type": "execute_result"
    }
   ],
   "source": [
    "july.sumdgroup.unique()"
   ]
  },
  {
   "cell_type": "code",
   "execution_count": 35,
   "id": "6fe132e3",
   "metadata": {},
   "outputs": [],
   "source": [
    "july_scooters = july.loc[july.sumdgroup.isin(['scooter', 'Scooter'])]"
   ]
  },
  {
   "cell_type": "code",
   "execution_count": 36,
   "id": "9a639771",
   "metadata": {},
   "outputs": [],
   "source": [
    "july_scooters = july_scooters[['pubdatetime', 'latitude', 'longitude', 'sumdid', 'chargelevel', 'companyname']]"
   ]
  },
  {
   "cell_type": "code",
   "execution_count": 37,
   "id": "ccfdf1a7",
   "metadata": {},
   "outputs": [
    {
     "name": "stdout",
     "output_type": "stream",
     "text": [
      "<class 'pandas.core.frame.DataFrame'>\n",
      "Int64Index: 25066524 entries, 0 to 25075444\n",
      "Data columns (total 6 columns):\n",
      " #   Column       Dtype         \n",
      "---  ------       -----         \n",
      " 0   pubdatetime  datetime64[ns]\n",
      " 1   latitude     float64       \n",
      " 2   longitude    float64       \n",
      " 3   sumdid       object        \n",
      " 4   chargelevel  float64       \n",
      " 5   companyname  int64         \n",
      "dtypes: datetime64[ns](1), float64(3), int64(1), object(1)\n",
      "memory usage: 1.3+ GB\n"
     ]
    }
   ],
   "source": [
    "july_scooters.info()"
   ]
  },
  {
   "cell_type": "code",
   "execution_count": 38,
   "id": "bfcb10ff",
   "metadata": {},
   "outputs": [],
   "source": [
    "july_scooters.to_pickle(\"../data/july.pkl\")"
   ]
  },
  {
   "cell_type": "code",
   "execution_count": 39,
   "id": "7cb9d7c6",
   "metadata": {},
   "outputs": [
    {
     "name": "stdout",
     "output_type": "stream",
     "text": [
      "Wall time: 2 s\n"
     ]
    }
   ],
   "source": [
    "%%time\n",
    "july_test = pd.read_pickle(\"../data/july.pkl\")"
   ]
  },
  {
   "cell_type": "code",
   "execution_count": 40,
   "id": "8937a9e2",
   "metadata": {},
   "outputs": [],
   "source": [
    "may_test = pd.read_pickle(\"../data/may.pkl\")"
   ]
  },
  {
   "cell_type": "code",
   "execution_count": 41,
   "id": "094e7799",
   "metadata": {},
   "outputs": [
    {
     "data": {
      "text/html": [
       "<div>\n",
       "<style scoped>\n",
       "    .dataframe tbody tr th:only-of-type {\n",
       "        vertical-align: middle;\n",
       "    }\n",
       "\n",
       "    .dataframe tbody tr th {\n",
       "        vertical-align: top;\n",
       "    }\n",
       "\n",
       "    .dataframe thead th {\n",
       "        text-align: right;\n",
       "    }\n",
       "</style>\n",
       "<table border=\"1\" class=\"dataframe\">\n",
       "  <thead>\n",
       "    <tr style=\"text-align: right;\">\n",
       "      <th></th>\n",
       "      <th>pubdatetime</th>\n",
       "      <th>latitude</th>\n",
       "      <th>longitude</th>\n",
       "      <th>sumdid</th>\n",
       "      <th>chargelevel</th>\n",
       "      <th>companyname</th>\n",
       "    </tr>\n",
       "  </thead>\n",
       "  <tbody>\n",
       "    <tr>\n",
       "      <th>0</th>\n",
       "      <td>2019-05-01 00:01:41.247</td>\n",
       "      <td>36.136822</td>\n",
       "      <td>-86.799877</td>\n",
       "      <td>PoweredLIRL1</td>\n",
       "      <td>93.0</td>\n",
       "      <td>0</td>\n",
       "    </tr>\n",
       "    <tr>\n",
       "      <th>1</th>\n",
       "      <td>2019-05-01 00:01:41.247</td>\n",
       "      <td>36.191252</td>\n",
       "      <td>-86.772945</td>\n",
       "      <td>PoweredXWRWC</td>\n",
       "      <td>35.0</td>\n",
       "      <td>0</td>\n",
       "    </tr>\n",
       "    <tr>\n",
       "      <th>2</th>\n",
       "      <td>2019-05-01 00:01:41.247</td>\n",
       "      <td>36.144752</td>\n",
       "      <td>-86.806293</td>\n",
       "      <td>PoweredMEJEH</td>\n",
       "      <td>90.0</td>\n",
       "      <td>0</td>\n",
       "    </tr>\n",
       "    <tr>\n",
       "      <th>3</th>\n",
       "      <td>2019-05-01 00:01:41.247</td>\n",
       "      <td>36.162056</td>\n",
       "      <td>-86.774688</td>\n",
       "      <td>Powered1A7TC</td>\n",
       "      <td>88.0</td>\n",
       "      <td>0</td>\n",
       "    </tr>\n",
       "    <tr>\n",
       "      <th>4</th>\n",
       "      <td>2019-05-01 00:01:41.247</td>\n",
       "      <td>36.150973</td>\n",
       "      <td>-86.783109</td>\n",
       "      <td>Powered2TYEF</td>\n",
       "      <td>98.0</td>\n",
       "      <td>0</td>\n",
       "    </tr>\n",
       "    <tr>\n",
       "      <th>5</th>\n",
       "      <td>2019-05-01 00:01:41.247</td>\n",
       "      <td>36.157188</td>\n",
       "      <td>-86.769978</td>\n",
       "      <td>Powered3F3VK</td>\n",
       "      <td>82.0</td>\n",
       "      <td>0</td>\n",
       "    </tr>\n",
       "    <tr>\n",
       "      <th>6</th>\n",
       "      <td>2019-05-01 00:01:41.247</td>\n",
       "      <td>36.154348</td>\n",
       "      <td>-86.784765</td>\n",
       "      <td>PoweredVL7YG</td>\n",
       "      <td>56.0</td>\n",
       "      <td>0</td>\n",
       "    </tr>\n",
       "    <tr>\n",
       "      <th>7</th>\n",
       "      <td>2019-05-01 00:01:41.247</td>\n",
       "      <td>36.158930</td>\n",
       "      <td>-86.775987</td>\n",
       "      <td>Powered5LNUG</td>\n",
       "      <td>100.0</td>\n",
       "      <td>0</td>\n",
       "    </tr>\n",
       "    <tr>\n",
       "      <th>8</th>\n",
       "      <td>2019-05-01 00:01:41.247</td>\n",
       "      <td>36.135993</td>\n",
       "      <td>-86.804226</td>\n",
       "      <td>Powered7SPQQ</td>\n",
       "      <td>85.0</td>\n",
       "      <td>0</td>\n",
       "    </tr>\n",
       "    <tr>\n",
       "      <th>9</th>\n",
       "      <td>2019-05-01 00:01:41.247</td>\n",
       "      <td>36.148938</td>\n",
       "      <td>-86.811256</td>\n",
       "      <td>PoweredBV1DT</td>\n",
       "      <td>65.0</td>\n",
       "      <td>0</td>\n",
       "    </tr>\n",
       "  </tbody>\n",
       "</table>\n",
       "</div>"
      ],
      "text/plain": [
       "              pubdatetime   latitude  longitude        sumdid  chargelevel  \\\n",
       "0 2019-05-01 00:01:41.247  36.136822 -86.799877  PoweredLIRL1         93.0   \n",
       "1 2019-05-01 00:01:41.247  36.191252 -86.772945  PoweredXWRWC         35.0   \n",
       "2 2019-05-01 00:01:41.247  36.144752 -86.806293  PoweredMEJEH         90.0   \n",
       "3 2019-05-01 00:01:41.247  36.162056 -86.774688  Powered1A7TC         88.0   \n",
       "4 2019-05-01 00:01:41.247  36.150973 -86.783109  Powered2TYEF         98.0   \n",
       "5 2019-05-01 00:01:41.247  36.157188 -86.769978  Powered3F3VK         82.0   \n",
       "6 2019-05-01 00:01:41.247  36.154348 -86.784765  PoweredVL7YG         56.0   \n",
       "7 2019-05-01 00:01:41.247  36.158930 -86.775987  Powered5LNUG        100.0   \n",
       "8 2019-05-01 00:01:41.247  36.135993 -86.804226  Powered7SPQQ         85.0   \n",
       "9 2019-05-01 00:01:41.247  36.148938 -86.811256  PoweredBV1DT         65.0   \n",
       "\n",
       "   companyname  \n",
       "0            0  \n",
       "1            0  \n",
       "2            0  \n",
       "3            0  \n",
       "4            0  \n",
       "5            0  \n",
       "6            0  \n",
       "7            0  \n",
       "8            0  \n",
       "9            0  "
      ]
     },
     "execution_count": 41,
     "metadata": {},
     "output_type": "execute_result"
    }
   ],
   "source": [
    "may_test.head(10)"
   ]
  },
  {
   "cell_type": "code",
   "execution_count": 42,
   "id": "7cc22c77",
   "metadata": {},
   "outputs": [
    {
     "data": {
      "text/plain": [
       "(20283582, 6)"
      ]
     },
     "execution_count": 42,
     "metadata": {},
     "output_type": "execute_result"
    }
   ],
   "source": [
    "may_test.shape"
   ]
  },
  {
   "cell_type": "code",
   "execution_count": 43,
   "id": "eb0836be",
   "metadata": {},
   "outputs": [
    {
     "data": {
      "text/html": [
       "<div>\n",
       "<style scoped>\n",
       "    .dataframe tbody tr th:only-of-type {\n",
       "        vertical-align: middle;\n",
       "    }\n",
       "\n",
       "    .dataframe tbody tr th {\n",
       "        vertical-align: top;\n",
       "    }\n",
       "\n",
       "    .dataframe thead th {\n",
       "        text-align: right;\n",
       "    }\n",
       "</style>\n",
       "<table border=\"1\" class=\"dataframe\">\n",
       "  <thead>\n",
       "    <tr style=\"text-align: right;\">\n",
       "      <th></th>\n",
       "      <th>pubdatetime</th>\n",
       "      <th>latitude</th>\n",
       "      <th>longitude</th>\n",
       "      <th>sumdid</th>\n",
       "      <th>chargelevel</th>\n",
       "      <th>companyname</th>\n",
       "    </tr>\n",
       "  </thead>\n",
       "  <tbody>\n",
       "    <tr>\n",
       "      <th>0</th>\n",
       "      <td>2019-06-01 00:00:12</td>\n",
       "      <td>36.1202</td>\n",
       "      <td>-86.7534</td>\n",
       "      <td>Powered93627c35-0f62-5b81-a78d-75a4a92ecf47</td>\n",
       "      <td>90.0</td>\n",
       "      <td>5</td>\n",
       "    </tr>\n",
       "    <tr>\n",
       "      <th>1</th>\n",
       "      <td>2019-06-01 00:00:12</td>\n",
       "      <td>36.1630</td>\n",
       "      <td>-86.7765</td>\n",
       "      <td>Powered17715097-e8a0-5494-a5ab-9b625796607d</td>\n",
       "      <td>63.0</td>\n",
       "      <td>5</td>\n",
       "    </tr>\n",
       "    <tr>\n",
       "      <th>2</th>\n",
       "      <td>2019-06-01 00:00:12</td>\n",
       "      <td>36.1202</td>\n",
       "      <td>-86.7533</td>\n",
       "      <td>Powerede5cb95ae-b091-5a93-86fa-ededd946d0d7</td>\n",
       "      <td>77.0</td>\n",
       "      <td>5</td>\n",
       "    </tr>\n",
       "    <tr>\n",
       "      <th>3</th>\n",
       "      <td>2019-06-01 00:00:12</td>\n",
       "      <td>36.1201</td>\n",
       "      <td>-86.7530</td>\n",
       "      <td>Powered71fa5e4f-1e17-54c4-936d-330df38cc2fa</td>\n",
       "      <td>0.0</td>\n",
       "      <td>5</td>\n",
       "    </tr>\n",
       "    <tr>\n",
       "      <th>4</th>\n",
       "      <td>2019-06-01 00:00:12</td>\n",
       "      <td>36.1622</td>\n",
       "      <td>-86.7806</td>\n",
       "      <td>Poweredfa549dd6-40bb-5757-ac87-2c2528f2bc68</td>\n",
       "      <td>2.0</td>\n",
       "      <td>5</td>\n",
       "    </tr>\n",
       "    <tr>\n",
       "      <th>5</th>\n",
       "      <td>2019-06-01 00:00:12</td>\n",
       "      <td>36.1554</td>\n",
       "      <td>-86.7808</td>\n",
       "      <td>Powered9e113e9f-0ac7-5b22-b6f6-16c246237b65</td>\n",
       "      <td>8.0</td>\n",
       "      <td>5</td>\n",
       "    </tr>\n",
       "    <tr>\n",
       "      <th>6</th>\n",
       "      <td>2019-06-01 00:00:12</td>\n",
       "      <td>36.1582</td>\n",
       "      <td>-86.7888</td>\n",
       "      <td>Powered9579bea8-8ee5-56d2-bc52-96715fbbc077</td>\n",
       "      <td>19.0</td>\n",
       "      <td>5</td>\n",
       "    </tr>\n",
       "    <tr>\n",
       "      <th>7</th>\n",
       "      <td>2019-06-01 00:00:12</td>\n",
       "      <td>36.1447</td>\n",
       "      <td>-86.8132</td>\n",
       "      <td>Powered402430bc-118f-5da7-bc77-e577b39ba4ac</td>\n",
       "      <td>84.0</td>\n",
       "      <td>5</td>\n",
       "    </tr>\n",
       "    <tr>\n",
       "      <th>8</th>\n",
       "      <td>2019-06-01 00:00:12</td>\n",
       "      <td>36.1432</td>\n",
       "      <td>-86.8146</td>\n",
       "      <td>Powered93f29f0e-5a4c-5ac2-9f2c-a9770ef63d07</td>\n",
       "      <td>67.0</td>\n",
       "      <td>5</td>\n",
       "    </tr>\n",
       "    <tr>\n",
       "      <th>9</th>\n",
       "      <td>2019-06-01 00:00:12</td>\n",
       "      <td>36.1433</td>\n",
       "      <td>-86.7917</td>\n",
       "      <td>Poweredf3505c0d-b541-577a-af33-caa49b6d577c</td>\n",
       "      <td>60.0</td>\n",
       "      <td>5</td>\n",
       "    </tr>\n",
       "  </tbody>\n",
       "</table>\n",
       "</div>"
      ],
      "text/plain": [
       "          pubdatetime  latitude  longitude  \\\n",
       "0 2019-06-01 00:00:12   36.1202   -86.7534   \n",
       "1 2019-06-01 00:00:12   36.1630   -86.7765   \n",
       "2 2019-06-01 00:00:12   36.1202   -86.7533   \n",
       "3 2019-06-01 00:00:12   36.1201   -86.7530   \n",
       "4 2019-06-01 00:00:12   36.1622   -86.7806   \n",
       "5 2019-06-01 00:00:12   36.1554   -86.7808   \n",
       "6 2019-06-01 00:00:12   36.1582   -86.7888   \n",
       "7 2019-06-01 00:00:12   36.1447   -86.8132   \n",
       "8 2019-06-01 00:00:12   36.1432   -86.8146   \n",
       "9 2019-06-01 00:00:12   36.1433   -86.7917   \n",
       "\n",
       "                                        sumdid  chargelevel  companyname  \n",
       "0  Powered93627c35-0f62-5b81-a78d-75a4a92ecf47         90.0            5  \n",
       "1  Powered17715097-e8a0-5494-a5ab-9b625796607d         63.0            5  \n",
       "2  Powerede5cb95ae-b091-5a93-86fa-ededd946d0d7         77.0            5  \n",
       "3  Powered71fa5e4f-1e17-54c4-936d-330df38cc2fa          0.0            5  \n",
       "4  Poweredfa549dd6-40bb-5757-ac87-2c2528f2bc68          2.0            5  \n",
       "5  Powered9e113e9f-0ac7-5b22-b6f6-16c246237b65          8.0            5  \n",
       "6  Powered9579bea8-8ee5-56d2-bc52-96715fbbc077         19.0            5  \n",
       "7  Powered402430bc-118f-5da7-bc77-e577b39ba4ac         84.0            5  \n",
       "8  Powered93f29f0e-5a4c-5ac2-9f2c-a9770ef63d07         67.0            5  \n",
       "9  Poweredf3505c0d-b541-577a-af33-caa49b6d577c         60.0            5  "
      ]
     },
     "execution_count": 43,
     "metadata": {},
     "output_type": "execute_result"
    }
   ],
   "source": [
    "june_test.head(10)"
   ]
  },
  {
   "cell_type": "code",
   "execution_count": 44,
   "id": "f6f131b6",
   "metadata": {},
   "outputs": [
    {
     "data": {
      "text/plain": [
       "(28037408, 6)"
      ]
     },
     "execution_count": 44,
     "metadata": {},
     "output_type": "execute_result"
    }
   ],
   "source": [
    "june_test.shape"
   ]
  },
  {
   "cell_type": "code",
   "execution_count": 45,
   "id": "2442eac1",
   "metadata": {},
   "outputs": [
    {
     "data": {
      "text/html": [
       "<div>\n",
       "<style scoped>\n",
       "    .dataframe tbody tr th:only-of-type {\n",
       "        vertical-align: middle;\n",
       "    }\n",
       "\n",
       "    .dataframe tbody tr th {\n",
       "        vertical-align: top;\n",
       "    }\n",
       "\n",
       "    .dataframe thead th {\n",
       "        text-align: right;\n",
       "    }\n",
       "</style>\n",
       "<table border=\"1\" class=\"dataframe\">\n",
       "  <thead>\n",
       "    <tr style=\"text-align: right;\">\n",
       "      <th></th>\n",
       "      <th>pubdatetime</th>\n",
       "      <th>latitude</th>\n",
       "      <th>longitude</th>\n",
       "      <th>sumdid</th>\n",
       "      <th>chargelevel</th>\n",
       "      <th>companyname</th>\n",
       "    </tr>\n",
       "  </thead>\n",
       "  <tbody>\n",
       "    <tr>\n",
       "      <th>0</th>\n",
       "      <td>2019-07-01 00:00:33.550</td>\n",
       "      <td>36.156678</td>\n",
       "      <td>-86.809004</td>\n",
       "      <td>Powered635135</td>\n",
       "      <td>22.0</td>\n",
       "      <td>1</td>\n",
       "    </tr>\n",
       "    <tr>\n",
       "      <th>1</th>\n",
       "      <td>2019-07-01 00:00:34.973</td>\n",
       "      <td>36.145674</td>\n",
       "      <td>-86.794138</td>\n",
       "      <td>Powered790946</td>\n",
       "      <td>33.0</td>\n",
       "      <td>1</td>\n",
       "    </tr>\n",
       "    <tr>\n",
       "      <th>2</th>\n",
       "      <td>2019-07-01 00:00:41.183</td>\n",
       "      <td>36.179319</td>\n",
       "      <td>-86.751538</td>\n",
       "      <td>Powered570380</td>\n",
       "      <td>76.0</td>\n",
       "      <td>1</td>\n",
       "    </tr>\n",
       "    <tr>\n",
       "      <th>3</th>\n",
       "      <td>2019-07-01 00:00:41.620</td>\n",
       "      <td>36.152111</td>\n",
       "      <td>-86.803821</td>\n",
       "      <td>Powered240631</td>\n",
       "      <td>43.0</td>\n",
       "      <td>1</td>\n",
       "    </tr>\n",
       "    <tr>\n",
       "      <th>4</th>\n",
       "      <td>2019-07-01 00:00:45.087</td>\n",
       "      <td>36.149355</td>\n",
       "      <td>-86.797550</td>\n",
       "      <td>Powered970404</td>\n",
       "      <td>52.0</td>\n",
       "      <td>1</td>\n",
       "    </tr>\n",
       "    <tr>\n",
       "      <th>5</th>\n",
       "      <td>2019-07-01 00:00:46.847</td>\n",
       "      <td>36.168153</td>\n",
       "      <td>-86.777374</td>\n",
       "      <td>Powered912425</td>\n",
       "      <td>80.0</td>\n",
       "      <td>1</td>\n",
       "    </tr>\n",
       "    <tr>\n",
       "      <th>6</th>\n",
       "      <td>2019-07-01 00:00:50.500</td>\n",
       "      <td>36.143266</td>\n",
       "      <td>-86.809886</td>\n",
       "      <td>Powered667919</td>\n",
       "      <td>60.0</td>\n",
       "      <td>1</td>\n",
       "    </tr>\n",
       "    <tr>\n",
       "      <th>7</th>\n",
       "      <td>2019-07-01 00:00:50.520</td>\n",
       "      <td>36.177355</td>\n",
       "      <td>-86.750667</td>\n",
       "      <td>Powered523737</td>\n",
       "      <td>85.0</td>\n",
       "      <td>1</td>\n",
       "    </tr>\n",
       "    <tr>\n",
       "      <th>8</th>\n",
       "      <td>2019-07-01 00:00:53.273</td>\n",
       "      <td>36.158546</td>\n",
       "      <td>-86.774062</td>\n",
       "      <td>Powered689152</td>\n",
       "      <td>72.0</td>\n",
       "      <td>1</td>\n",
       "    </tr>\n",
       "    <tr>\n",
       "      <th>9</th>\n",
       "      <td>2019-07-01 00:00:56.293</td>\n",
       "      <td>36.177708</td>\n",
       "      <td>-86.750043</td>\n",
       "      <td>Powered211807</td>\n",
       "      <td>99.0</td>\n",
       "      <td>1</td>\n",
       "    </tr>\n",
       "  </tbody>\n",
       "</table>\n",
       "</div>"
      ],
      "text/plain": [
       "              pubdatetime   latitude  longitude         sumdid  chargelevel  \\\n",
       "0 2019-07-01 00:00:33.550  36.156678 -86.809004  Powered635135         22.0   \n",
       "1 2019-07-01 00:00:34.973  36.145674 -86.794138  Powered790946         33.0   \n",
       "2 2019-07-01 00:00:41.183  36.179319 -86.751538  Powered570380         76.0   \n",
       "3 2019-07-01 00:00:41.620  36.152111 -86.803821  Powered240631         43.0   \n",
       "4 2019-07-01 00:00:45.087  36.149355 -86.797550  Powered970404         52.0   \n",
       "5 2019-07-01 00:00:46.847  36.168153 -86.777374  Powered912425         80.0   \n",
       "6 2019-07-01 00:00:50.500  36.143266 -86.809886  Powered667919         60.0   \n",
       "7 2019-07-01 00:00:50.520  36.177355 -86.750667  Powered523737         85.0   \n",
       "8 2019-07-01 00:00:53.273  36.158546 -86.774062  Powered689152         72.0   \n",
       "9 2019-07-01 00:00:56.293  36.177708 -86.750043  Powered211807         99.0   \n",
       "\n",
       "   companyname  \n",
       "0            1  \n",
       "1            1  \n",
       "2            1  \n",
       "3            1  \n",
       "4            1  \n",
       "5            1  \n",
       "6            1  \n",
       "7            1  \n",
       "8            1  \n",
       "9            1  "
      ]
     },
     "execution_count": 45,
     "metadata": {},
     "output_type": "execute_result"
    }
   ],
   "source": [
    "july_test.head(10)"
   ]
  },
  {
   "cell_type": "code",
   "execution_count": 46,
   "id": "cc339632",
   "metadata": {},
   "outputs": [
    {
     "data": {
      "text/plain": [
       "(25066524, 6)"
      ]
     },
     "execution_count": 46,
     "metadata": {},
     "output_type": "execute_result"
    }
   ],
   "source": [
    "july_test.shape"
   ]
  },
  {
   "cell_type": "code",
   "execution_count": 47,
   "id": "e3e52e93",
   "metadata": {},
   "outputs": [
    {
     "data": {
      "text/html": [
       "<div>\n",
       "<style scoped>\n",
       "    .dataframe tbody tr th:only-of-type {\n",
       "        vertical-align: middle;\n",
       "    }\n",
       "\n",
       "    .dataframe tbody tr th {\n",
       "        vertical-align: top;\n",
       "    }\n",
       "\n",
       "    .dataframe thead th {\n",
       "        text-align: right;\n",
       "    }\n",
       "</style>\n",
       "<table border=\"1\" class=\"dataframe\">\n",
       "  <thead>\n",
       "    <tr style=\"text-align: right;\">\n",
       "      <th></th>\n",
       "      <th>pubdatetime</th>\n",
       "      <th>latitude</th>\n",
       "      <th>longitude</th>\n",
       "      <th>sumdid</th>\n",
       "      <th>chargelevel</th>\n",
       "      <th>companyname</th>\n",
       "    </tr>\n",
       "  </thead>\n",
       "  <tbody>\n",
       "    <tr>\n",
       "      <th>20292493</th>\n",
       "      <td>2019-05-31 23:58:27.243</td>\n",
       "      <td>36.122375</td>\n",
       "      <td>-86.775722</td>\n",
       "      <td>PoweredHICJ5XYHBAW5I</td>\n",
       "      <td>60.0</td>\n",
       "      <td>3</td>\n",
       "    </tr>\n",
       "    <tr>\n",
       "      <th>20292494</th>\n",
       "      <td>2019-05-31 23:58:27.243</td>\n",
       "      <td>36.121613</td>\n",
       "      <td>-86.775351</td>\n",
       "      <td>PoweredXZH7USFBU76DX</td>\n",
       "      <td>94.0</td>\n",
       "      <td>3</td>\n",
       "    </tr>\n",
       "    <tr>\n",
       "      <th>20292495</th>\n",
       "      <td>2019-05-31 23:58:27.243</td>\n",
       "      <td>36.120440</td>\n",
       "      <td>-86.777199</td>\n",
       "      <td>PoweredSZAWEG5FWAI6V</td>\n",
       "      <td>56.0</td>\n",
       "      <td>3</td>\n",
       "    </tr>\n",
       "    <tr>\n",
       "      <th>20292496</th>\n",
       "      <td>2019-05-31 23:58:27.243</td>\n",
       "      <td>36.121584</td>\n",
       "      <td>-86.775493</td>\n",
       "      <td>PoweredU6FP6ZXZ6JRTC</td>\n",
       "      <td>94.0</td>\n",
       "      <td>3</td>\n",
       "    </tr>\n",
       "    <tr>\n",
       "      <th>20292497</th>\n",
       "      <td>2019-05-31 23:58:43.000</td>\n",
       "      <td>36.147400</td>\n",
       "      <td>-86.811700</td>\n",
       "      <td>Poweredf0c59838-3392-5ea9-9a8f-d680bc8ac344</td>\n",
       "      <td>71.0</td>\n",
       "      <td>5</td>\n",
       "    </tr>\n",
       "    <tr>\n",
       "      <th>20292498</th>\n",
       "      <td>2019-05-31 23:59:42.000</td>\n",
       "      <td>36.163900</td>\n",
       "      <td>-86.782300</td>\n",
       "      <td>Poweredbb60ef04-c719-597f-805f-20978964fd8c</td>\n",
       "      <td>49.0</td>\n",
       "      <td>5</td>\n",
       "    </tr>\n",
       "    <tr>\n",
       "      <th>20292499</th>\n",
       "      <td>2019-05-31 23:59:42.000</td>\n",
       "      <td>36.160600</td>\n",
       "      <td>-86.776800</td>\n",
       "      <td>Powered9f5743ed-7f81-539b-9e37-6503d54445d3</td>\n",
       "      <td>68.0</td>\n",
       "      <td>5</td>\n",
       "    </tr>\n",
       "    <tr>\n",
       "      <th>20292500</th>\n",
       "      <td>2019-05-31 23:59:42.000</td>\n",
       "      <td>36.160600</td>\n",
       "      <td>-86.776900</td>\n",
       "      <td>Powered5744d1db-3bbe-55e5-9a23-a93828ba54fc</td>\n",
       "      <td>53.0</td>\n",
       "      <td>5</td>\n",
       "    </tr>\n",
       "    <tr>\n",
       "      <th>20292501</th>\n",
       "      <td>2019-05-31 23:59:42.000</td>\n",
       "      <td>36.162400</td>\n",
       "      <td>-86.774500</td>\n",
       "      <td>Poweredad1d6d3b-162a-5bec-bffd-cac4ac8dee1c</td>\n",
       "      <td>42.0</td>\n",
       "      <td>5</td>\n",
       "    </tr>\n",
       "    <tr>\n",
       "      <th>20292502</th>\n",
       "      <td>2019-05-31 23:59:42.000</td>\n",
       "      <td>36.151900</td>\n",
       "      <td>-86.798500</td>\n",
       "      <td>Powered8505008e-97c9-5003-8975-2ea6b2634fa0</td>\n",
       "      <td>76.0</td>\n",
       "      <td>5</td>\n",
       "    </tr>\n",
       "  </tbody>\n",
       "</table>\n",
       "</div>"
      ],
      "text/plain": [
       "                     pubdatetime   latitude  longitude  \\\n",
       "20292493 2019-05-31 23:58:27.243  36.122375 -86.775722   \n",
       "20292494 2019-05-31 23:58:27.243  36.121613 -86.775351   \n",
       "20292495 2019-05-31 23:58:27.243  36.120440 -86.777199   \n",
       "20292496 2019-05-31 23:58:27.243  36.121584 -86.775493   \n",
       "20292497 2019-05-31 23:58:43.000  36.147400 -86.811700   \n",
       "20292498 2019-05-31 23:59:42.000  36.163900 -86.782300   \n",
       "20292499 2019-05-31 23:59:42.000  36.160600 -86.776800   \n",
       "20292500 2019-05-31 23:59:42.000  36.160600 -86.776900   \n",
       "20292501 2019-05-31 23:59:42.000  36.162400 -86.774500   \n",
       "20292502 2019-05-31 23:59:42.000  36.151900 -86.798500   \n",
       "\n",
       "                                               sumdid  chargelevel  \\\n",
       "20292493                         PoweredHICJ5XYHBAW5I         60.0   \n",
       "20292494                         PoweredXZH7USFBU76DX         94.0   \n",
       "20292495                         PoweredSZAWEG5FWAI6V         56.0   \n",
       "20292496                         PoweredU6FP6ZXZ6JRTC         94.0   \n",
       "20292497  Poweredf0c59838-3392-5ea9-9a8f-d680bc8ac344         71.0   \n",
       "20292498  Poweredbb60ef04-c719-597f-805f-20978964fd8c         49.0   \n",
       "20292499  Powered9f5743ed-7f81-539b-9e37-6503d54445d3         68.0   \n",
       "20292500  Powered5744d1db-3bbe-55e5-9a23-a93828ba54fc         53.0   \n",
       "20292501  Poweredad1d6d3b-162a-5bec-bffd-cac4ac8dee1c         42.0   \n",
       "20292502  Powered8505008e-97c9-5003-8975-2ea6b2634fa0         76.0   \n",
       "\n",
       "          companyname  \n",
       "20292493            3  \n",
       "20292494            3  \n",
       "20292495            3  \n",
       "20292496            3  \n",
       "20292497            5  \n",
       "20292498            5  \n",
       "20292499            5  \n",
       "20292500            5  \n",
       "20292501            5  \n",
       "20292502            5  "
      ]
     },
     "execution_count": 47,
     "metadata": {},
     "output_type": "execute_result"
    }
   ],
   "source": [
    "may_test.tail(10)"
   ]
  },
  {
   "cell_type": "code",
   "execution_count": 48,
   "id": "14154592",
   "metadata": {},
   "outputs": [
    {
     "data": {
      "text/html": [
       "<div>\n",
       "<style scoped>\n",
       "    .dataframe tbody tr th:only-of-type {\n",
       "        vertical-align: middle;\n",
       "    }\n",
       "\n",
       "    .dataframe tbody tr th {\n",
       "        vertical-align: top;\n",
       "    }\n",
       "\n",
       "    .dataframe thead th {\n",
       "        text-align: right;\n",
       "    }\n",
       "</style>\n",
       "<table border=\"1\" class=\"dataframe\">\n",
       "  <thead>\n",
       "    <tr style=\"text-align: right;\">\n",
       "      <th></th>\n",
       "      <th>pubdatetime</th>\n",
       "      <th>latitude</th>\n",
       "      <th>longitude</th>\n",
       "      <th>sumdid</th>\n",
       "      <th>chargelevel</th>\n",
       "      <th>companyname</th>\n",
       "    </tr>\n",
       "  </thead>\n",
       "  <tbody>\n",
       "    <tr>\n",
       "      <th>28046085</th>\n",
       "      <td>2019-06-30 23:59:55.273</td>\n",
       "      <td>36.123596</td>\n",
       "      <td>-86.775587</td>\n",
       "      <td>PoweredTC2NFR6OUH7R6</td>\n",
       "      <td>85.0</td>\n",
       "      <td>3</td>\n",
       "    </tr>\n",
       "    <tr>\n",
       "      <th>28046086</th>\n",
       "      <td>2019-06-30 23:59:55.273</td>\n",
       "      <td>36.126259</td>\n",
       "      <td>-86.789254</td>\n",
       "      <td>PoweredEG3HFFLMFCZ5W</td>\n",
       "      <td>5.0</td>\n",
       "      <td>3</td>\n",
       "    </tr>\n",
       "    <tr>\n",
       "      <th>28046087</th>\n",
       "      <td>2019-06-30 23:59:55.273</td>\n",
       "      <td>36.121652</td>\n",
       "      <td>-86.775156</td>\n",
       "      <td>PoweredYTL5TFGVWXDQC</td>\n",
       "      <td>100.0</td>\n",
       "      <td>3</td>\n",
       "    </tr>\n",
       "    <tr>\n",
       "      <th>28046088</th>\n",
       "      <td>2019-06-30 23:59:55.273</td>\n",
       "      <td>36.124795</td>\n",
       "      <td>-86.789156</td>\n",
       "      <td>PoweredBKKI2SJSMUYX5</td>\n",
       "      <td>74.0</td>\n",
       "      <td>3</td>\n",
       "    </tr>\n",
       "    <tr>\n",
       "      <th>28046089</th>\n",
       "      <td>2019-06-30 23:59:55.273</td>\n",
       "      <td>36.127004</td>\n",
       "      <td>-86.781905</td>\n",
       "      <td>PoweredSDQ6GAHIJK5AF</td>\n",
       "      <td>45.0</td>\n",
       "      <td>3</td>\n",
       "    </tr>\n",
       "    <tr>\n",
       "      <th>28046090</th>\n",
       "      <td>2019-06-30 23:59:55.273</td>\n",
       "      <td>36.125567</td>\n",
       "      <td>-86.776982</td>\n",
       "      <td>PoweredZYNSVOII2QSLD</td>\n",
       "      <td>100.0</td>\n",
       "      <td>3</td>\n",
       "    </tr>\n",
       "    <tr>\n",
       "      <th>28046091</th>\n",
       "      <td>2019-06-30 23:59:55.273</td>\n",
       "      <td>36.121717</td>\n",
       "      <td>-86.775207</td>\n",
       "      <td>PoweredXOPAIWGL7SF62</td>\n",
       "      <td>93.0</td>\n",
       "      <td>3</td>\n",
       "    </tr>\n",
       "    <tr>\n",
       "      <th>28046092</th>\n",
       "      <td>2019-06-30 23:59:55.273</td>\n",
       "      <td>36.127046</td>\n",
       "      <td>-86.777262</td>\n",
       "      <td>PoweredBYKFOWELGPKH6</td>\n",
       "      <td>61.0</td>\n",
       "      <td>3</td>\n",
       "    </tr>\n",
       "    <tr>\n",
       "      <th>28046093</th>\n",
       "      <td>2019-06-30 23:59:55.273</td>\n",
       "      <td>36.123775</td>\n",
       "      <td>-86.790115</td>\n",
       "      <td>PoweredIAAQ7WODYXON7</td>\n",
       "      <td>35.0</td>\n",
       "      <td>3</td>\n",
       "    </tr>\n",
       "    <tr>\n",
       "      <th>28046094</th>\n",
       "      <td>2019-06-30 23:59:55.273</td>\n",
       "      <td>36.121735</td>\n",
       "      <td>-86.775148</td>\n",
       "      <td>Powered3HJPPUNVYGL45</td>\n",
       "      <td>96.0</td>\n",
       "      <td>3</td>\n",
       "    </tr>\n",
       "  </tbody>\n",
       "</table>\n",
       "</div>"
      ],
      "text/plain": [
       "                     pubdatetime   latitude  longitude                sumdid  \\\n",
       "28046085 2019-06-30 23:59:55.273  36.123596 -86.775587  PoweredTC2NFR6OUH7R6   \n",
       "28046086 2019-06-30 23:59:55.273  36.126259 -86.789254  PoweredEG3HFFLMFCZ5W   \n",
       "28046087 2019-06-30 23:59:55.273  36.121652 -86.775156  PoweredYTL5TFGVWXDQC   \n",
       "28046088 2019-06-30 23:59:55.273  36.124795 -86.789156  PoweredBKKI2SJSMUYX5   \n",
       "28046089 2019-06-30 23:59:55.273  36.127004 -86.781905  PoweredSDQ6GAHIJK5AF   \n",
       "28046090 2019-06-30 23:59:55.273  36.125567 -86.776982  PoweredZYNSVOII2QSLD   \n",
       "28046091 2019-06-30 23:59:55.273  36.121717 -86.775207  PoweredXOPAIWGL7SF62   \n",
       "28046092 2019-06-30 23:59:55.273  36.127046 -86.777262  PoweredBYKFOWELGPKH6   \n",
       "28046093 2019-06-30 23:59:55.273  36.123775 -86.790115  PoweredIAAQ7WODYXON7   \n",
       "28046094 2019-06-30 23:59:55.273  36.121735 -86.775148  Powered3HJPPUNVYGL45   \n",
       "\n",
       "          chargelevel  companyname  \n",
       "28046085         85.0            3  \n",
       "28046086          5.0            3  \n",
       "28046087        100.0            3  \n",
       "28046088         74.0            3  \n",
       "28046089         45.0            3  \n",
       "28046090        100.0            3  \n",
       "28046091         93.0            3  \n",
       "28046092         61.0            3  \n",
       "28046093         35.0            3  \n",
       "28046094         96.0            3  "
      ]
     },
     "execution_count": 48,
     "metadata": {},
     "output_type": "execute_result"
    }
   ],
   "source": [
    "june_test.tail(10)"
   ]
  },
  {
   "cell_type": "code",
   "execution_count": 49,
   "id": "b62f31ef",
   "metadata": {},
   "outputs": [
    {
     "data": {
      "text/html": [
       "<div>\n",
       "<style scoped>\n",
       "    .dataframe tbody tr th:only-of-type {\n",
       "        vertical-align: middle;\n",
       "    }\n",
       "\n",
       "    .dataframe tbody tr th {\n",
       "        vertical-align: top;\n",
       "    }\n",
       "\n",
       "    .dataframe thead th {\n",
       "        text-align: right;\n",
       "    }\n",
       "</style>\n",
       "<table border=\"1\" class=\"dataframe\">\n",
       "  <thead>\n",
       "    <tr style=\"text-align: right;\">\n",
       "      <th></th>\n",
       "      <th>pubdatetime</th>\n",
       "      <th>latitude</th>\n",
       "      <th>longitude</th>\n",
       "      <th>sumdid</th>\n",
       "      <th>chargelevel</th>\n",
       "      <th>companyname</th>\n",
       "    </tr>\n",
       "  </thead>\n",
       "  <tbody>\n",
       "    <tr>\n",
       "      <th>25075435</th>\n",
       "      <td>2019-07-31 23:59:57</td>\n",
       "      <td>36.145317</td>\n",
       "      <td>-86.805716</td>\n",
       "      <td>Powered-ca852284-237e-c8f1-ba02-fb03f5bdba50</td>\n",
       "      <td>68.28</td>\n",
       "      <td>6</td>\n",
       "    </tr>\n",
       "    <tr>\n",
       "      <th>25075436</th>\n",
       "      <td>2019-07-31 23:59:57</td>\n",
       "      <td>36.164357</td>\n",
       "      <td>-86.769307</td>\n",
       "      <td>Powered-52aafe89-a695-dfd2-1859-d14bc075d1b8</td>\n",
       "      <td>100.00</td>\n",
       "      <td>6</td>\n",
       "    </tr>\n",
       "    <tr>\n",
       "      <th>25075437</th>\n",
       "      <td>2019-07-31 23:59:57</td>\n",
       "      <td>36.155166</td>\n",
       "      <td>-86.785101</td>\n",
       "      <td>Powered-0479bb84-afbd-0426-f1c4-df628542a88c</td>\n",
       "      <td>70.26</td>\n",
       "      <td>6</td>\n",
       "    </tr>\n",
       "    <tr>\n",
       "      <th>25075438</th>\n",
       "      <td>2019-07-31 23:59:57</td>\n",
       "      <td>36.162440</td>\n",
       "      <td>-86.779279</td>\n",
       "      <td>Powered-0ef64718-9c36-353e-8bf0-39719364d924</td>\n",
       "      <td>100.00</td>\n",
       "      <td>6</td>\n",
       "    </tr>\n",
       "    <tr>\n",
       "      <th>25075439</th>\n",
       "      <td>2019-07-31 23:59:57</td>\n",
       "      <td>36.160076</td>\n",
       "      <td>-86.776584</td>\n",
       "      <td>Powered-5c1491f3-3fd5-33cc-40b2-cae70b295346</td>\n",
       "      <td>81.33</td>\n",
       "      <td>6</td>\n",
       "    </tr>\n",
       "    <tr>\n",
       "      <th>25075440</th>\n",
       "      <td>2019-07-31 23:59:57</td>\n",
       "      <td>36.162420</td>\n",
       "      <td>-86.779314</td>\n",
       "      <td>Powered-1a8321d0-5c21-04a4-bd7d-7b96ba51f17b</td>\n",
       "      <td>100.00</td>\n",
       "      <td>6</td>\n",
       "    </tr>\n",
       "    <tr>\n",
       "      <th>25075441</th>\n",
       "      <td>2019-07-31 23:59:57</td>\n",
       "      <td>36.146010</td>\n",
       "      <td>-86.810197</td>\n",
       "      <td>Powered-bd4ba83b-513f-ed5c-3c51-b4f51e7fdc51</td>\n",
       "      <td>100.00</td>\n",
       "      <td>6</td>\n",
       "    </tr>\n",
       "    <tr>\n",
       "      <th>25075442</th>\n",
       "      <td>2019-07-31 23:59:57</td>\n",
       "      <td>36.165837</td>\n",
       "      <td>-86.777765</td>\n",
       "      <td>Powered-cc9c0b7e-2b9e-def9-e48b-1a8a489c4daf</td>\n",
       "      <td>71.68</td>\n",
       "      <td>6</td>\n",
       "    </tr>\n",
       "    <tr>\n",
       "      <th>25075443</th>\n",
       "      <td>2019-07-31 23:59:57</td>\n",
       "      <td>36.149792</td>\n",
       "      <td>-86.806818</td>\n",
       "      <td>Powered-55a7ac02-7e17-bb3b-130d-b160d9776405</td>\n",
       "      <td>0.00</td>\n",
       "      <td>6</td>\n",
       "    </tr>\n",
       "    <tr>\n",
       "      <th>25075444</th>\n",
       "      <td>2019-07-31 23:59:57</td>\n",
       "      <td>36.162644</td>\n",
       "      <td>-86.779345</td>\n",
       "      <td>Powered-03be23ca-d43b-222f-be54-e44b5b4690df</td>\n",
       "      <td>100.00</td>\n",
       "      <td>6</td>\n",
       "    </tr>\n",
       "  </tbody>\n",
       "</table>\n",
       "</div>"
      ],
      "text/plain": [
       "                 pubdatetime   latitude  longitude  \\\n",
       "25075435 2019-07-31 23:59:57  36.145317 -86.805716   \n",
       "25075436 2019-07-31 23:59:57  36.164357 -86.769307   \n",
       "25075437 2019-07-31 23:59:57  36.155166 -86.785101   \n",
       "25075438 2019-07-31 23:59:57  36.162440 -86.779279   \n",
       "25075439 2019-07-31 23:59:57  36.160076 -86.776584   \n",
       "25075440 2019-07-31 23:59:57  36.162420 -86.779314   \n",
       "25075441 2019-07-31 23:59:57  36.146010 -86.810197   \n",
       "25075442 2019-07-31 23:59:57  36.165837 -86.777765   \n",
       "25075443 2019-07-31 23:59:57  36.149792 -86.806818   \n",
       "25075444 2019-07-31 23:59:57  36.162644 -86.779345   \n",
       "\n",
       "                                                sumdid  chargelevel  \\\n",
       "25075435  Powered-ca852284-237e-c8f1-ba02-fb03f5bdba50        68.28   \n",
       "25075436  Powered-52aafe89-a695-dfd2-1859-d14bc075d1b8       100.00   \n",
       "25075437  Powered-0479bb84-afbd-0426-f1c4-df628542a88c        70.26   \n",
       "25075438  Powered-0ef64718-9c36-353e-8bf0-39719364d924       100.00   \n",
       "25075439  Powered-5c1491f3-3fd5-33cc-40b2-cae70b295346        81.33   \n",
       "25075440  Powered-1a8321d0-5c21-04a4-bd7d-7b96ba51f17b       100.00   \n",
       "25075441  Powered-bd4ba83b-513f-ed5c-3c51-b4f51e7fdc51       100.00   \n",
       "25075442  Powered-cc9c0b7e-2b9e-def9-e48b-1a8a489c4daf        71.68   \n",
       "25075443  Powered-55a7ac02-7e17-bb3b-130d-b160d9776405         0.00   \n",
       "25075444  Powered-03be23ca-d43b-222f-be54-e44b5b4690df       100.00   \n",
       "\n",
       "          companyname  \n",
       "25075435            6  \n",
       "25075436            6  \n",
       "25075437            6  \n",
       "25075438            6  \n",
       "25075439            6  \n",
       "25075440            6  \n",
       "25075441            6  \n",
       "25075442            6  \n",
       "25075443            6  \n",
       "25075444            6  "
      ]
     },
     "execution_count": 49,
     "metadata": {},
     "output_type": "execute_result"
    }
   ],
   "source": [
    "july_test.tail(10)"
   ]
  },
  {
   "cell_type": "code",
   "execution_count": 50,
   "id": "4646167f",
   "metadata": {},
   "outputs": [
    {
     "data": {
      "text/plain": [
       "8304"
      ]
     },
     "execution_count": 50,
     "metadata": {},
     "output_type": "execute_result"
    }
   ],
   "source": [
    "may_n_scooters = int(may.sumdid.nunique())\n",
    "may_n_scooters"
   ]
  },
  {
   "cell_type": "code",
   "execution_count": 51,
   "id": "8f2ab6d1",
   "metadata": {},
   "outputs": [
    {
     "data": {
      "text/plain": [
       "7828"
      ]
     },
     "execution_count": 51,
     "metadata": {},
     "output_type": "execute_result"
    }
   ],
   "source": [
    "june_n_scooters = int(june.sumdid.nunique())\n",
    "june_n_scooters"
   ]
  },
  {
   "cell_type": "code",
   "execution_count": 52,
   "id": "be501698",
   "metadata": {},
   "outputs": [
    {
     "data": {
      "text/plain": [
       "6788"
      ]
     },
     "execution_count": 52,
     "metadata": {},
     "output_type": "execute_result"
    }
   ],
   "source": [
    "july_n_scooters = int(july.sumdid.nunique())\n",
    "july_n_scooters"
   ]
  },
  {
   "cell_type": "code",
   "execution_count": 53,
   "id": "754e7c70",
   "metadata": {},
   "outputs": [
    {
     "data": {
      "text/plain": [
       "3    7120576\n",
       "0    4334006\n",
       "1    3112581\n",
       "5    2984630\n",
       "4    1301001\n",
       "2     915314\n",
       "6     524395\n",
       "Name: companyname, dtype: int64"
      ]
     },
     "execution_count": 53,
     "metadata": {},
     "output_type": "execute_result"
    }
   ],
   "source": [
    "may.companyname.value_counts()"
   ]
  },
  {
   "cell_type": "code",
   "execution_count": 54,
   "id": "5c322196",
   "metadata": {},
   "outputs": [
    {
     "data": {
      "text/plain": [
       "5    8482893\n",
       "3    6161191\n",
       "0    4215302\n",
       "1    3084229\n",
       "4    2507991\n",
       "2    1830453\n",
       "6    1764036\n",
       "Name: companyname, dtype: int64"
      ]
     },
     "execution_count": 54,
     "metadata": {},
     "output_type": "execute_result"
    }
   ],
   "source": [
    "june.companyname.value_counts()"
   ]
  },
  {
   "cell_type": "code",
   "execution_count": 55,
   "id": "e2fde56d",
   "metadata": {},
   "outputs": [
    {
     "data": {
      "text/plain": [
       "5    10367575\n",
       "0     3702282\n",
       "3     3242494\n",
       "1     2890233\n",
       "2     1933513\n",
       "4     1750581\n",
       "6     1188767\n",
       "Name: companyname, dtype: int64"
      ]
     },
     "execution_count": 55,
     "metadata": {},
     "output_type": "execute_result"
    }
   ],
   "source": [
    "july.companyname.value_counts()"
   ]
  },
  {
   "cell_type": "code",
   "execution_count": 56,
   "id": "eea375be",
   "metadata": {},
   "outputs": [
    {
     "name": "stdout",
     "output_type": "stream",
     "text": [
      "Index(['companyname'], dtype='object')\n"
     ]
    },
    {
     "data": {
      "image/png": "[encoded data removed]",
      "text/plain": [
       "<Figure size 432x288 with 1 Axes>"
      ]
     },
     "metadata": {
      "needs_background": "light"
     },
     "output_type": "display_data"
    }
   ],
   "source": [
    "may_cn_vals = may.companyname.value_counts()\n",
    "may_cn_vals = pd.DataFrame(may_cn_vals)\n",
    "print(may_cn_vals.columns)\n",
    "may_cn_vals.sort_values(\"companyname\")\n",
    "may_cn_vals.plot();"
   ]
  },
  {
   "cell_type": "code",
   "execution_count": 57,
   "id": "9e2e0e62",
   "metadata": {},
   "outputs": [
    {
     "name": "stdout",
     "output_type": "stream",
     "text": [
      "Index(['companyname'], dtype='object')\n"
     ]
    },
    {
     "data": {
      "image/png": "[encoded data removed]",
      "text/plain": [
       "<Figure size 432x288 with 1 Axes>"
      ]
     },
     "metadata": {
      "needs_background": "light"
     },
     "output_type": "display_data"
    }
   ],
   "source": [
    "june_cn_vals = june.companyname.value_counts()\n",
    "june_cn_vals = pd.DataFrame(june_cn_vals)\n",
    "print(june_cn_vals.columns)\n",
    "june_cn_vals.sort_values(\"companyname\")\n",
    "june_cn_vals.plot();"
   ]
  },
  {
   "cell_type": "code",
   "execution_count": 58,
   "id": "d427cbef",
   "metadata": {},
   "outputs": [
    {
     "name": "stdout",
     "output_type": "stream",
     "text": [
      "Index(['companyname'], dtype='object')\n"
     ]
    },
    {
     "data": {
      "image/png": "[encoded data removed]",
      "text/plain": [
       "<Figure size 432x288 with 1 Axes>"
      ]
     },
     "metadata": {
      "needs_background": "light"
     },
     "output_type": "display_data"
    }
   ],
   "source": [
    "july_cn_vals = july.companyname.value_counts()\n",
    "july_cn_vals = pd.DataFrame(july_cn_vals)\n",
    "print(july_cn_vals.columns)\n",
    "july_cn_vals.sort_values(\"companyname\")\n",
    "july_cn_vals.plot();"
   ]
  },
  {
   "cell_type": "code",
   "execution_count": 59,
   "id": "49c2014d",
   "metadata": {},
   "outputs": [
    {
     "data": {
      "text/html": [
       "<div>\n",
       "<style scoped>\n",
       "    .dataframe tbody tr th:only-of-type {\n",
       "        vertical-align: middle;\n",
       "    }\n",
       "\n",
       "    .dataframe tbody tr th {\n",
       "        vertical-align: top;\n",
       "    }\n",
       "\n",
       "    .dataframe thead th {\n",
       "        text-align: right;\n",
       "    }\n",
       "</style>\n",
       "<table border=\"1\" class=\"dataframe\">\n",
       "  <thead>\n",
       "    <tr style=\"text-align: right;\">\n",
       "      <th></th>\n",
       "      <th>pubdatetime</th>\n",
       "      <th>latitude</th>\n",
       "      <th>longitude</th>\n",
       "      <th>sumdid</th>\n",
       "      <th>chargelevel</th>\n",
       "      <th>companyname</th>\n",
       "    </tr>\n",
       "  </thead>\n",
       "  <tbody>\n",
       "    <tr>\n",
       "      <th>0</th>\n",
       "      <td>2019-05-01 00:01:41.247</td>\n",
       "      <td>36.136822</td>\n",
       "      <td>-86.799877</td>\n",
       "      <td>PoweredLIRL1</td>\n",
       "      <td>93.0</td>\n",
       "      <td>0</td>\n",
       "    </tr>\n",
       "    <tr>\n",
       "      <th>1</th>\n",
       "      <td>2019-05-01 00:01:41.247</td>\n",
       "      <td>36.191252</td>\n",
       "      <td>-86.772945</td>\n",
       "      <td>PoweredXWRWC</td>\n",
       "      <td>35.0</td>\n",
       "      <td>0</td>\n",
       "    </tr>\n",
       "    <tr>\n",
       "      <th>2</th>\n",
       "      <td>2019-05-01 00:01:41.247</td>\n",
       "      <td>36.144752</td>\n",
       "      <td>-86.806293</td>\n",
       "      <td>PoweredMEJEH</td>\n",
       "      <td>90.0</td>\n",
       "      <td>0</td>\n",
       "    </tr>\n",
       "    <tr>\n",
       "      <th>3</th>\n",
       "      <td>2019-05-01 00:01:41.247</td>\n",
       "      <td>36.162056</td>\n",
       "      <td>-86.774688</td>\n",
       "      <td>Powered1A7TC</td>\n",
       "      <td>88.0</td>\n",
       "      <td>0</td>\n",
       "    </tr>\n",
       "    <tr>\n",
       "      <th>4</th>\n",
       "      <td>2019-05-01 00:01:41.247</td>\n",
       "      <td>36.150973</td>\n",
       "      <td>-86.783109</td>\n",
       "      <td>Powered2TYEF</td>\n",
       "      <td>98.0</td>\n",
       "      <td>0</td>\n",
       "    </tr>\n",
       "    <tr>\n",
       "      <th>5</th>\n",
       "      <td>2019-05-01 00:01:41.247</td>\n",
       "      <td>36.157188</td>\n",
       "      <td>-86.769978</td>\n",
       "      <td>Powered3F3VK</td>\n",
       "      <td>82.0</td>\n",
       "      <td>0</td>\n",
       "    </tr>\n",
       "    <tr>\n",
       "      <th>6</th>\n",
       "      <td>2019-05-01 00:01:41.247</td>\n",
       "      <td>36.154348</td>\n",
       "      <td>-86.784765</td>\n",
       "      <td>PoweredVL7YG</td>\n",
       "      <td>56.0</td>\n",
       "      <td>0</td>\n",
       "    </tr>\n",
       "    <tr>\n",
       "      <th>7</th>\n",
       "      <td>2019-05-01 00:01:41.247</td>\n",
       "      <td>36.158930</td>\n",
       "      <td>-86.775987</td>\n",
       "      <td>Powered5LNUG</td>\n",
       "      <td>100.0</td>\n",
       "      <td>0</td>\n",
       "    </tr>\n",
       "    <tr>\n",
       "      <th>8</th>\n",
       "      <td>2019-05-01 00:01:41.247</td>\n",
       "      <td>36.135993</td>\n",
       "      <td>-86.804226</td>\n",
       "      <td>Powered7SPQQ</td>\n",
       "      <td>85.0</td>\n",
       "      <td>0</td>\n",
       "    </tr>\n",
       "    <tr>\n",
       "      <th>9</th>\n",
       "      <td>2019-05-01 00:01:41.247</td>\n",
       "      <td>36.148938</td>\n",
       "      <td>-86.811256</td>\n",
       "      <td>PoweredBV1DT</td>\n",
       "      <td>65.0</td>\n",
       "      <td>0</td>\n",
       "    </tr>\n",
       "  </tbody>\n",
       "</table>\n",
       "</div>"
      ],
      "text/plain": [
       "              pubdatetime   latitude  longitude        sumdid  chargelevel  \\\n",
       "0 2019-05-01 00:01:41.247  36.136822 -86.799877  PoweredLIRL1         93.0   \n",
       "1 2019-05-01 00:01:41.247  36.191252 -86.772945  PoweredXWRWC         35.0   \n",
       "2 2019-05-01 00:01:41.247  36.144752 -86.806293  PoweredMEJEH         90.0   \n",
       "3 2019-05-01 00:01:41.247  36.162056 -86.774688  Powered1A7TC         88.0   \n",
       "4 2019-05-01 00:01:41.247  36.150973 -86.783109  Powered2TYEF         98.0   \n",
       "5 2019-05-01 00:01:41.247  36.157188 -86.769978  Powered3F3VK         82.0   \n",
       "6 2019-05-01 00:01:41.247  36.154348 -86.784765  PoweredVL7YG         56.0   \n",
       "7 2019-05-01 00:01:41.247  36.158930 -86.775987  Powered5LNUG        100.0   \n",
       "8 2019-05-01 00:01:41.247  36.135993 -86.804226  Powered7SPQQ         85.0   \n",
       "9 2019-05-01 00:01:41.247  36.148938 -86.811256  PoweredBV1DT         65.0   \n",
       "\n",
       "   companyname  \n",
       "0            0  \n",
       "1            0  \n",
       "2            0  \n",
       "3            0  \n",
       "4            0  \n",
       "5            0  \n",
       "6            0  \n",
       "7            0  \n",
       "8            0  \n",
       "9            0  "
      ]
     },
     "execution_count": 59,
     "metadata": {},
     "output_type": "execute_result"
    }
   ],
   "source": [
    "may_test.head(10)"
   ]
  },
  {
   "cell_type": "code",
   "execution_count": 60,
   "id": "263dd885",
   "metadata": {},
   "outputs": [
    {
     "data": {
      "text/html": [
       "<div>\n",
       "<style scoped>\n",
       "    .dataframe tbody tr th:only-of-type {\n",
       "        vertical-align: middle;\n",
       "    }\n",
       "\n",
       "    .dataframe tbody tr th {\n",
       "        vertical-align: top;\n",
       "    }\n",
       "\n",
       "    .dataframe thead th {\n",
       "        text-align: right;\n",
       "    }\n",
       "</style>\n",
       "<table border=\"1\" class=\"dataframe\">\n",
       "  <thead>\n",
       "    <tr style=\"text-align: right;\">\n",
       "      <th></th>\n",
       "      <th>latitude</th>\n",
       "      <th>longitude</th>\n",
       "      <th>chargelevel</th>\n",
       "      <th>companyname</th>\n",
       "    </tr>\n",
       "  </thead>\n",
       "  <tbody>\n",
       "    <tr>\n",
       "      <th>count</th>\n",
       "      <td>2.028358e+07</td>\n",
       "      <td>2.028358e+07</td>\n",
       "      <td>2.028330e+07</td>\n",
       "      <td>2.028358e+07</td>\n",
       "    </tr>\n",
       "    <tr>\n",
       "      <th>mean</th>\n",
       "      <td>3.614047e+01</td>\n",
       "      <td>-8.675242e+01</td>\n",
       "      <td>6.590530e+01</td>\n",
       "      <td>2.442946e+00</td>\n",
       "    </tr>\n",
       "    <tr>\n",
       "      <th>std</th>\n",
       "      <td>6.193919e-01</td>\n",
       "      <td>1.486410e+00</td>\n",
       "      <td>3.041610e+01</td>\n",
       "      <td>1.776813e+00</td>\n",
       "    </tr>\n",
       "    <tr>\n",
       "      <th>min</th>\n",
       "      <td>0.000000e+00</td>\n",
       "      <td>-8.728604e+01</td>\n",
       "      <td>0.000000e+00</td>\n",
       "      <td>0.000000e+00</td>\n",
       "    </tr>\n",
       "    <tr>\n",
       "      <th>25%</th>\n",
       "      <td>3.614305e+01</td>\n",
       "      <td>-8.679267e+01</td>\n",
       "      <td>4.700000e+01</td>\n",
       "      <td>1.000000e+00</td>\n",
       "    </tr>\n",
       "    <tr>\n",
       "      <th>50%</th>\n",
       "      <td>3.615411e+01</td>\n",
       "      <td>-8.678090e+01</td>\n",
       "      <td>7.200000e+01</td>\n",
       "      <td>3.000000e+00</td>\n",
       "    </tr>\n",
       "    <tr>\n",
       "      <th>75%</th>\n",
       "      <td>3.616320e+01</td>\n",
       "      <td>-8.677170e+01</td>\n",
       "      <td>9.300000e+01</td>\n",
       "      <td>3.000000e+00</td>\n",
       "    </tr>\n",
       "    <tr>\n",
       "      <th>max</th>\n",
       "      <td>3.661670e+01</td>\n",
       "      <td>0.000000e+00</td>\n",
       "      <td>1.000000e+02</td>\n",
       "      <td>6.000000e+00</td>\n",
       "    </tr>\n",
       "  </tbody>\n",
       "</table>\n",
       "</div>"
      ],
      "text/plain": [
       "           latitude     longitude   chargelevel   companyname\n",
       "count  2.028358e+07  2.028358e+07  2.028330e+07  2.028358e+07\n",
       "mean   3.614047e+01 -8.675242e+01  6.590530e+01  2.442946e+00\n",
       "std    6.193919e-01  1.486410e+00  3.041610e+01  1.776813e+00\n",
       "min    0.000000e+00 -8.728604e+01  0.000000e+00  0.000000e+00\n",
       "25%    3.614305e+01 -8.679267e+01  4.700000e+01  1.000000e+00\n",
       "50%    3.615411e+01 -8.678090e+01  7.200000e+01  3.000000e+00\n",
       "75%    3.616320e+01 -8.677170e+01  9.300000e+01  3.000000e+00\n",
       "max    3.661670e+01  0.000000e+00  1.000000e+02  6.000000e+00"
      ]
     },
     "execution_count": 60,
     "metadata": {},
     "output_type": "execute_result"
    }
   ],
   "source": [
    "may_test.describe()"
   ]
  },
  {
   "cell_type": "code",
   "execution_count": 61,
   "id": "eb56537e",
   "metadata": {},
   "outputs": [
    {
     "data": {
      "text/plain": [
       "3    7111655\n",
       "0    4334006\n",
       "1    3112581\n",
       "5    2984630\n",
       "4    1301001\n",
       "2     915314\n",
       "6     524395\n",
       "Name: companyname, dtype: int64"
      ]
     },
     "execution_count": 61,
     "metadata": {},
     "output_type": "execute_result"
    }
   ],
   "source": [
    "may_test[\"companyname\"].value_counts()"
   ]
  },
  {
   "cell_type": "code",
   "execution_count": 62,
   "id": "7d42958e",
   "metadata": {},
   "outputs": [],
   "source": [
    "company_dict = {0:'Bird', 1:'Lyft', 2: 'Gotcha', 3:'Lime', 4: 'Spin', 5: 'Jump', 6: 'Bolt'}\n",
    "may.companyname = may.companyname.replace(company_dict)\n",
    "june.companyname = june.companyname.replace(company_dict)\n",
    "july.companyname = july.companyname.replace(company_dict)"
   ]
  },
  {
   "cell_type": "code",
   "execution_count": 63,
   "id": "f4fa391a",
   "metadata": {},
   "outputs": [
    {
     "data": {
      "text/html": [
       "<div>\n",
       "<style scoped>\n",
       "    .dataframe tbody tr th:only-of-type {\n",
       "        vertical-align: middle;\n",
       "    }\n",
       "\n",
       "    .dataframe tbody tr th {\n",
       "        vertical-align: top;\n",
       "    }\n",
       "\n",
       "    .dataframe thead th {\n",
       "        text-align: right;\n",
       "    }\n",
       "</style>\n",
       "<table border=\"1\" class=\"dataframe\">\n",
       "  <thead>\n",
       "    <tr style=\"text-align: right;\">\n",
       "      <th></th>\n",
       "      <th>pubdatetime</th>\n",
       "      <th>latitude</th>\n",
       "      <th>longitude</th>\n",
       "      <th>sumdid</th>\n",
       "      <th>chargelevel</th>\n",
       "      <th>companyname</th>\n",
       "    </tr>\n",
       "  </thead>\n",
       "  <tbody>\n",
       "    <tr>\n",
       "      <th>0</th>\n",
       "      <td>2019-05-01 00:01:41.247</td>\n",
       "      <td>36.136822</td>\n",
       "      <td>-86.799877</td>\n",
       "      <td>PoweredLIRL1</td>\n",
       "      <td>93.0</td>\n",
       "      <td>0</td>\n",
       "    </tr>\n",
       "    <tr>\n",
       "      <th>1</th>\n",
       "      <td>2019-05-01 00:01:41.247</td>\n",
       "      <td>36.191252</td>\n",
       "      <td>-86.772945</td>\n",
       "      <td>PoweredXWRWC</td>\n",
       "      <td>35.0</td>\n",
       "      <td>0</td>\n",
       "    </tr>\n",
       "    <tr>\n",
       "      <th>2</th>\n",
       "      <td>2019-05-01 00:01:41.247</td>\n",
       "      <td>36.144752</td>\n",
       "      <td>-86.806293</td>\n",
       "      <td>PoweredMEJEH</td>\n",
       "      <td>90.0</td>\n",
       "      <td>0</td>\n",
       "    </tr>\n",
       "    <tr>\n",
       "      <th>3</th>\n",
       "      <td>2019-05-01 00:01:41.247</td>\n",
       "      <td>36.162056</td>\n",
       "      <td>-86.774688</td>\n",
       "      <td>Powered1A7TC</td>\n",
       "      <td>88.0</td>\n",
       "      <td>0</td>\n",
       "    </tr>\n",
       "    <tr>\n",
       "      <th>4</th>\n",
       "      <td>2019-05-01 00:01:41.247</td>\n",
       "      <td>36.150973</td>\n",
       "      <td>-86.783109</td>\n",
       "      <td>Powered2TYEF</td>\n",
       "      <td>98.0</td>\n",
       "      <td>0</td>\n",
       "    </tr>\n",
       "  </tbody>\n",
       "</table>\n",
       "</div>"
      ],
      "text/plain": [
       "              pubdatetime   latitude  longitude        sumdid  chargelevel  \\\n",
       "0 2019-05-01 00:01:41.247  36.136822 -86.799877  PoweredLIRL1         93.0   \n",
       "1 2019-05-01 00:01:41.247  36.191252 -86.772945  PoweredXWRWC         35.0   \n",
       "2 2019-05-01 00:01:41.247  36.144752 -86.806293  PoweredMEJEH         90.0   \n",
       "3 2019-05-01 00:01:41.247  36.162056 -86.774688  Powered1A7TC         88.0   \n",
       "4 2019-05-01 00:01:41.247  36.150973 -86.783109  Powered2TYEF         98.0   \n",
       "\n",
       "   companyname  \n",
       "0            0  \n",
       "1            0  \n",
       "2            0  \n",
       "3            0  \n",
       "4            0  "
      ]
     },
     "execution_count": 63,
     "metadata": {},
     "output_type": "execute_result"
    }
   ],
   "source": [
    "may_test.head()"
   ]
  },
  {
   "cell_type": "code",
   "execution_count": 64,
   "id": "a081a9b3",
   "metadata": {},
   "outputs": [
    {
     "data": {
      "text/plain": [
       "Lime      7120576\n",
       "Bird      4334006\n",
       "Lyft      3112581\n",
       "Jump      2984630\n",
       "Spin      1301001\n",
       "Gotcha     915314\n",
       "Bolt       524395\n",
       "Name: companyname, dtype: int64"
      ]
     },
     "execution_count": 64,
     "metadata": {},
     "output_type": "execute_result"
    }
   ],
   "source": [
    "may.companyname.value_counts()"
   ]
  },
  {
   "cell_type": "code",
   "execution_count": 65,
   "id": "acc9fe7e",
   "metadata": {},
   "outputs": [
    {
     "data": {
      "text/plain": [
       "StandardNW5HJFO4R32LY    8921\n",
       "PoweredIE7H5RIN474PE     8921\n",
       "PoweredUK65LOU3K5N7G     8748\n",
       "PoweredIOHG2G3XKATUL     8576\n",
       "PoweredJCKMQCAL2SSNJ     8521\n",
       "                         ... \n",
       "Powered1PKP7                1\n",
       "PoweredN4YI2A7RXZQLY        1\n",
       "Powered3361332              1\n",
       "Powered523737               1\n",
       "PoweredCI6VKIK2KOFMC        1\n",
       "Name: sumdid, Length: 8304, dtype: int64"
      ]
     },
     "execution_count": 65,
     "metadata": {},
     "output_type": "execute_result"
    }
   ],
   "source": [
    "may.sumdid.value_counts()"
   ]
  },
  {
   "cell_type": "code",
   "execution_count": 66,
   "id": "a6fb025e",
   "metadata": {},
   "outputs": [
    {
     "data": {
      "text/plain": [
       "array(['PoweredLIRL1', 'PoweredXWRWC', 'PoweredMEJEH', ...,\n",
       "       'Powered5744d1db-3bbe-55e5-9a23-a93828ba54fc',\n",
       "       'Poweredad1d6d3b-162a-5bec-bffd-cac4ac8dee1c',\n",
       "       'Powered8505008e-97c9-5003-8975-2ea6b2634fa0'], dtype=object)"
      ]
     },
     "execution_count": 66,
     "metadata": {},
     "output_type": "execute_result"
    }
   ],
   "source": [
    "may.sumdid.values"
   ]
  },
  {
   "cell_type": "code",
   "execution_count": 69,
   "id": "4e021346",
   "metadata": {},
   "outputs": [
    {
     "data": {
      "text/plain": [
       "Text(0.5, 1.0, 'Companies in May')"
      ]
     },
     "execution_count": 69,
     "metadata": {},
     "output_type": "execute_result"
    },
    {
     "data": {
      "image/png": "[encoded data removed]",
      "text/plain": [
       "<Figure size 432x288 with 1 Axes>"
      ]
     },
     "metadata": {
      "needs_background": "light"
     },
     "output_type": "display_data"
    }
   ],
   "source": [
    "plt.plot('companyname', marker= 'o', linestyle='none', data=may)\n",
    "plt.xticks(rotation=100)\n",
    "plt.title(\"Companies in May\")"
   ]
  },
  {
   "cell_type": "code",
   "execution_count": 70,
   "id": "e06633f6",
   "metadata": {},
   "outputs": [
    {
     "data": {
      "text/plain": [
       "Text(0.5, 1.0, 'Companies in June')"
      ]
     },
     "execution_count": 70,
     "metadata": {},
     "output_type": "execute_result"
    },
    {
     "data": {
      "image/png": "[encoded data removed]",
      "text/plain": [
       "<Figure size 432x288 with 1 Axes>"
      ]
     },
     "metadata": {
      "needs_background": "light"
     },
     "output_type": "display_data"
    }
   ],
   "source": [
    "plt.plot('companyname', marker= 'o', linestyle='none', data=june)\n",
    "plt.xticks(rotation=100)\n",
    "plt.title(\"Companies in June\")"
   ]
  },
  {
   "cell_type": "code",
   "execution_count": 71,
   "id": "0d3f6dd1",
   "metadata": {},
   "outputs": [
    {
     "data": {
      "text/plain": [
       "Text(0.5, 1.0, 'Companies in July')"
      ]
     },
     "execution_count": 71,
     "metadata": {},
     "output_type": "execute_result"
    },
    {
     "data": {
      "image/png": "[encoded data removed]",
      "text/plain": [
       "<Figure size 432x288 with 1 Axes>"
      ]
     },
     "metadata": {
      "needs_background": "light"
     },
     "output_type": "display_data"
    }
   ],
   "source": [
    "plt.plot('companyname', marker= 'o', linestyle='none', data=july)\n",
    "plt.xticks(rotation=100)\n",
    "plt.title(\"Companies in July\")"
   ]
  },
  {
   "cell_type": "code",
   "execution_count": null,
   "id": "e986edce",
   "metadata": {},
   "outputs": [],
   "source": []
  }
 ],
 "metadata": {
  "kernelspec": {
   "display_name": "Python 3 (ipykernel)",
   "language": "python",
   "name": "python3"
  },
  "language_info": {
   "codemirror_mode": {
    "name": "ipython",
    "version": 3
   },
   "file_extension": ".py",
   "mimetype": "text/x-python",
   "name": "python",
   "nbconvert_exporter": "python",
   "pygments_lexer": "ipython3",
   "version": "3.8.5"
  }
 },
 "nbformat": 4,
 "nbformat_minor": 5
}
