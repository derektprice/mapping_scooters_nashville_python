{
 "cells": [
  {
   "cell_type": "code",
   "execution_count": 1,
   "metadata": {},
   "outputs": [],
   "source": [
    "import pandas as pd\n",
    "import pickle\n",
    "import matplotlib.pyplot as plt\n",
    "from datetime import date, timedelta, datetime\n",
    "import geopandas as gpd\n",
    "import folium\n",
    "from folium.plugins import MarkerCluster\n",
    "from folium.plugins import FastMarkerCluster\n",
    "from shapely.geometry import Point\n",
    "from datetime import date, timedelta, datetime"
   ]
  },
  {
   "cell_type": "code",
   "execution_count": 2,
   "metadata": {},
   "outputs": [
    {
     "data": {
      "text/html": [
       "<div>\n",
       "<style scoped>\n",
       "    .dataframe tbody tr th:only-of-type {\n",
       "        vertical-align: middle;\n",
       "    }\n",
       "\n",
       "    .dataframe tbody tr th {\n",
       "        vertical-align: top;\n",
       "    }\n",
       "\n",
       "    .dataframe thead th {\n",
       "        text-align: right;\n",
       "    }\n",
       "</style>\n",
       "<table border=\"1\" class=\"dataframe\">\n",
       "  <thead>\n",
       "    <tr style=\"text-align: right;\">\n",
       "      <th></th>\n",
       "      <th>pubdatetime</th>\n",
       "      <th>latitude</th>\n",
       "      <th>longitude</th>\n",
       "      <th>sumdid</th>\n",
       "      <th>chargelevel</th>\n",
       "      <th>companyname</th>\n",
       "    </tr>\n",
       "  </thead>\n",
       "  <tbody>\n",
       "    <tr>\n",
       "      <th>0</th>\n",
       "      <td>2019-05-01 00:01:41.247</td>\n",
       "      <td>36.136822</td>\n",
       "      <td>-86.799877</td>\n",
       "      <td>PoweredLIRL1</td>\n",
       "      <td>93.0</td>\n",
       "      <td>0</td>\n",
       "    </tr>\n",
       "    <tr>\n",
       "      <th>1</th>\n",
       "      <td>2019-05-01 00:01:41.247</td>\n",
       "      <td>36.191252</td>\n",
       "      <td>-86.772945</td>\n",
       "      <td>PoweredXWRWC</td>\n",
       "      <td>35.0</td>\n",
       "      <td>0</td>\n",
       "    </tr>\n",
       "    <tr>\n",
       "      <th>2</th>\n",
       "      <td>2019-05-01 00:01:41.247</td>\n",
       "      <td>36.144752</td>\n",
       "      <td>-86.806293</td>\n",
       "      <td>PoweredMEJEH</td>\n",
       "      <td>90.0</td>\n",
       "      <td>0</td>\n",
       "    </tr>\n",
       "    <tr>\n",
       "      <th>3</th>\n",
       "      <td>2019-05-01 00:01:41.247</td>\n",
       "      <td>36.162056</td>\n",
       "      <td>-86.774688</td>\n",
       "      <td>Powered1A7TC</td>\n",
       "      <td>88.0</td>\n",
       "      <td>0</td>\n",
       "    </tr>\n",
       "    <tr>\n",
       "      <th>4</th>\n",
       "      <td>2019-05-01 00:01:41.247</td>\n",
       "      <td>36.150973</td>\n",
       "      <td>-86.783109</td>\n",
       "      <td>Powered2TYEF</td>\n",
       "      <td>98.0</td>\n",
       "      <td>0</td>\n",
       "    </tr>\n",
       "  </tbody>\n",
       "</table>\n",
       "</div>"
      ],
      "text/plain": [
       "              pubdatetime   latitude  longitude        sumdid  chargelevel  \\\n",
       "0 2019-05-01 00:01:41.247  36.136822 -86.799877  PoweredLIRL1         93.0   \n",
       "1 2019-05-01 00:01:41.247  36.191252 -86.772945  PoweredXWRWC         35.0   \n",
       "2 2019-05-01 00:01:41.247  36.144752 -86.806293  PoweredMEJEH         90.0   \n",
       "3 2019-05-01 00:01:41.247  36.162056 -86.774688  Powered1A7TC         88.0   \n",
       "4 2019-05-01 00:01:41.247  36.150973 -86.783109  Powered2TYEF         98.0   \n",
       "\n",
       "   companyname  \n",
       "0            0  \n",
       "1            0  \n",
       "2            0  \n",
       "3            0  \n",
       "4            0  "
      ]
     },
     "execution_count": 2,
     "metadata": {},
     "output_type": "execute_result"
    }
   ],
   "source": [
    "may = pd.read_pickle('../data/may.pkl')\n",
    "may.head()"
   ]
  },
  {
   "cell_type": "code",
   "execution_count": 3,
   "metadata": {},
   "outputs": [
    {
     "data": {
      "text/html": [
       "<div>\n",
       "<style scoped>\n",
       "    .dataframe tbody tr th:only-of-type {\n",
       "        vertical-align: middle;\n",
       "    }\n",
       "\n",
       "    .dataframe tbody tr th {\n",
       "        vertical-align: top;\n",
       "    }\n",
       "\n",
       "    .dataframe thead th {\n",
       "        text-align: right;\n",
       "    }\n",
       "</style>\n",
       "<table border=\"1\" class=\"dataframe\">\n",
       "  <thead>\n",
       "    <tr style=\"text-align: right;\">\n",
       "      <th></th>\n",
       "      <th>pubdatetime</th>\n",
       "      <th>latitude</th>\n",
       "      <th>longitude</th>\n",
       "      <th>sumdid</th>\n",
       "      <th>chargelevel</th>\n",
       "      <th>companyname</th>\n",
       "    </tr>\n",
       "  </thead>\n",
       "  <tbody>\n",
       "    <tr>\n",
       "      <th>20292498</th>\n",
       "      <td>2019-05-31 23:59:42</td>\n",
       "      <td>36.1639</td>\n",
       "      <td>-86.7823</td>\n",
       "      <td>Poweredbb60ef04-c719-597f-805f-20978964fd8c</td>\n",
       "      <td>49.0</td>\n",
       "      <td>5</td>\n",
       "    </tr>\n",
       "    <tr>\n",
       "      <th>20292499</th>\n",
       "      <td>2019-05-31 23:59:42</td>\n",
       "      <td>36.1606</td>\n",
       "      <td>-86.7768</td>\n",
       "      <td>Powered9f5743ed-7f81-539b-9e37-6503d54445d3</td>\n",
       "      <td>68.0</td>\n",
       "      <td>5</td>\n",
       "    </tr>\n",
       "    <tr>\n",
       "      <th>20292500</th>\n",
       "      <td>2019-05-31 23:59:42</td>\n",
       "      <td>36.1606</td>\n",
       "      <td>-86.7769</td>\n",
       "      <td>Powered5744d1db-3bbe-55e5-9a23-a93828ba54fc</td>\n",
       "      <td>53.0</td>\n",
       "      <td>5</td>\n",
       "    </tr>\n",
       "    <tr>\n",
       "      <th>20292501</th>\n",
       "      <td>2019-05-31 23:59:42</td>\n",
       "      <td>36.1624</td>\n",
       "      <td>-86.7745</td>\n",
       "      <td>Poweredad1d6d3b-162a-5bec-bffd-cac4ac8dee1c</td>\n",
       "      <td>42.0</td>\n",
       "      <td>5</td>\n",
       "    </tr>\n",
       "    <tr>\n",
       "      <th>20292502</th>\n",
       "      <td>2019-05-31 23:59:42</td>\n",
       "      <td>36.1519</td>\n",
       "      <td>-86.7985</td>\n",
       "      <td>Powered8505008e-97c9-5003-8975-2ea6b2634fa0</td>\n",
       "      <td>76.0</td>\n",
       "      <td>5</td>\n",
       "    </tr>\n",
       "  </tbody>\n",
       "</table>\n",
       "</div>"
      ],
      "text/plain": [
       "                 pubdatetime  latitude  longitude  \\\n",
       "20292498 2019-05-31 23:59:42   36.1639   -86.7823   \n",
       "20292499 2019-05-31 23:59:42   36.1606   -86.7768   \n",
       "20292500 2019-05-31 23:59:42   36.1606   -86.7769   \n",
       "20292501 2019-05-31 23:59:42   36.1624   -86.7745   \n",
       "20292502 2019-05-31 23:59:42   36.1519   -86.7985   \n",
       "\n",
       "                                               sumdid  chargelevel  \\\n",
       "20292498  Poweredbb60ef04-c719-597f-805f-20978964fd8c         49.0   \n",
       "20292499  Powered9f5743ed-7f81-539b-9e37-6503d54445d3         68.0   \n",
       "20292500  Powered5744d1db-3bbe-55e5-9a23-a93828ba54fc         53.0   \n",
       "20292501  Poweredad1d6d3b-162a-5bec-bffd-cac4ac8dee1c         42.0   \n",
       "20292502  Powered8505008e-97c9-5003-8975-2ea6b2634fa0         76.0   \n",
       "\n",
       "          companyname  \n",
       "20292498            5  \n",
       "20292499            5  \n",
       "20292500            5  \n",
       "20292501            5  \n",
       "20292502            5  "
      ]
     },
     "execution_count": 3,
     "metadata": {},
     "output_type": "execute_result"
    }
   ],
   "source": [
    "may.tail()"
   ]
  },
  {
   "cell_type": "code",
   "execution_count": 4,
   "metadata": {},
   "outputs": [
    {
     "name": "stdout",
     "output_type": "stream",
     "text": [
      "epsg:2274\n",
      "   OBJECTID  ZONE_ID    SHAPE_STAr     SHAPE_STLe  \\\n",
      "0         1        1  1.053728e+08   49364.601403   \n",
      "1         2        2  7.670585e+07   45226.018917   \n",
      "2         3        3  2.985488e+08   75207.067487   \n",
      "3         4        4  2.713638e+08   74348.596054   \n",
      "4         5        5  3.928178e+08  106661.712102   \n",
      "5         6        6  9.535996e+07   59256.923574   \n",
      "\n",
      "                                            geometry  \n",
      "0  POLYGON ((1743366.812 678044.543, 1743367.698 ...  \n",
      "1  POLYGON ((1738690.545 661791.347, 1738733.644 ...  \n",
      "2  POLYGON ((1759602.544 668309.889, 1759640.155 ...  \n",
      "3  POLYGON ((1747799.003 654974.612, 1747821.293 ...  \n",
      "4  POLYGON ((1737013.744 692634.639, 1737122.605 ...  \n",
      "5  POLYGON ((1716935.654 667534.495, 1716992.481 ...  \n"
     ]
    }
   ],
   "source": [
    "promise_zones = gpd.read_file('../data/MDHA_Promise_Zones/Export_Output_5.shp')\n",
    "print(promise_zones.crs)\n",
    "# promise_zones= promise_zones.to_crs('EPSG:4326')\n",
    "print(promise_zones)"
   ]
  },
  {
   "cell_type": "code",
   "execution_count": 5,
   "metadata": {},
   "outputs": [
    {
     "data": {
      "text/plain": [
       "<AxesSubplot:>"
      ]
     },
     "execution_count": 5,
     "metadata": {},
     "output_type": "execute_result"
    },
    {
     "data": {
      "image/png": "[encoded data removed]",
      "text/plain": [
       "<Figure size 432x288 with 1 Axes>"
      ]
     },
     "metadata": {
      "needs_background": "light"
     },
     "output_type": "display_data"
    }
   ],
   "source": [
    "promise_zones.plot(cmap='Set2')"
   ]
  },
  {
   "cell_type": "code",
   "execution_count": 6,
   "metadata": {},
   "outputs": [
    {
     "data": {
      "text/html": [
       "<div>\n",
       "<style scoped>\n",
       "    .dataframe tbody tr th:only-of-type {\n",
       "        vertical-align: middle;\n",
       "    }\n",
       "\n",
       "    .dataframe tbody tr th {\n",
       "        vertical-align: top;\n",
       "    }\n",
       "\n",
       "    .dataframe thead th {\n",
       "        text-align: right;\n",
       "    }\n",
       "</style>\n",
       "<table border=\"1\" class=\"dataframe\">\n",
       "  <thead>\n",
       "    <tr style=\"text-align: right;\">\n",
       "      <th></th>\n",
       "      <th>pubdatetime</th>\n",
       "      <th>latitude</th>\n",
       "      <th>longitude</th>\n",
       "      <th>sumdid</th>\n",
       "      <th>chargelevel</th>\n",
       "      <th>companyname</th>\n",
       "    </tr>\n",
       "  </thead>\n",
       "  <tbody>\n",
       "    <tr>\n",
       "      <th>0</th>\n",
       "      <td>2019-05-01 00:01:41.247</td>\n",
       "      <td>36.136822</td>\n",
       "      <td>-86.799877</td>\n",
       "      <td>PoweredLIRL1</td>\n",
       "      <td>93.0</td>\n",
       "      <td>0</td>\n",
       "    </tr>\n",
       "    <tr>\n",
       "      <th>1</th>\n",
       "      <td>2019-05-01 00:01:41.247</td>\n",
       "      <td>36.191252</td>\n",
       "      <td>-86.772945</td>\n",
       "      <td>PoweredXWRWC</td>\n",
       "      <td>35.0</td>\n",
       "      <td>0</td>\n",
       "    </tr>\n",
       "    <tr>\n",
       "      <th>2</th>\n",
       "      <td>2019-05-01 00:01:41.247</td>\n",
       "      <td>36.144752</td>\n",
       "      <td>-86.806293</td>\n",
       "      <td>PoweredMEJEH</td>\n",
       "      <td>90.0</td>\n",
       "      <td>0</td>\n",
       "    </tr>\n",
       "    <tr>\n",
       "      <th>3</th>\n",
       "      <td>2019-05-01 00:01:41.247</td>\n",
       "      <td>36.162056</td>\n",
       "      <td>-86.774688</td>\n",
       "      <td>Powered1A7TC</td>\n",
       "      <td>88.0</td>\n",
       "      <td>0</td>\n",
       "    </tr>\n",
       "    <tr>\n",
       "      <th>4</th>\n",
       "      <td>2019-05-01 00:01:41.247</td>\n",
       "      <td>36.150973</td>\n",
       "      <td>-86.783109</td>\n",
       "      <td>Powered2TYEF</td>\n",
       "      <td>98.0</td>\n",
       "      <td>0</td>\n",
       "    </tr>\n",
       "  </tbody>\n",
       "</table>\n",
       "</div>"
      ],
      "text/plain": [
       "              pubdatetime   latitude  longitude        sumdid  chargelevel  \\\n",
       "0 2019-05-01 00:01:41.247  36.136822 -86.799877  PoweredLIRL1         93.0   \n",
       "1 2019-05-01 00:01:41.247  36.191252 -86.772945  PoweredXWRWC         35.0   \n",
       "2 2019-05-01 00:01:41.247  36.144752 -86.806293  PoweredMEJEH         90.0   \n",
       "3 2019-05-01 00:01:41.247  36.162056 -86.774688  Powered1A7TC         88.0   \n",
       "4 2019-05-01 00:01:41.247  36.150973 -86.783109  Powered2TYEF         98.0   \n",
       "\n",
       "   companyname  \n",
       "0            0  \n",
       "1            0  \n",
       "2            0  \n",
       "3            0  \n",
       "4            0  "
      ]
     },
     "execution_count": 6,
     "metadata": {},
     "output_type": "execute_result"
    }
   ],
   "source": [
    "may.head()"
   ]
  },
  {
   "cell_type": "code",
   "execution_count": 7,
   "metadata": {},
   "outputs": [
    {
     "name": "stdout",
     "output_type": "stream",
     "text": [
      "POLYGON ((1743366.812291667 678044.5425000042, 1743367.697500005 678044.5356249958, 1743447.46541667 678056.6558333337, 1743491.095833331 678089.0802083313, 1743559.364166662 678140.2435416728, 1743611.48041667 678163.5006249994, 1743695.287708327 678201.801458329, 1743777.13729167 678216.0904166698, 1743798.416250005 678220.2931250036, 1743904.743125007 678194.710833326, 1743994.282291666 678173.2637500018, 1744019.93020834 678170.1518750042, 1744101.891249999 678160.7779166698, 1744158.493125007 678153.7852083296, 1744197.998333335 678149.1095833331, 1744293.813541666 678137.8081250042, 1744328.00729166 678133.1743749976, 1744338.916458338 678131.9975000024, 1744384.317291662 678126.5483333319, 1744405.834583327 678123.4689583331, 1744469.799374998 678114.5995833278, 1744491.02458334 678111.8866666704, 1744570.04354167 678103.6283333302, 1744590.093958333 678101.6527083367, 1744689.458749995 678091.4170833379, 1744787.646041662 678081.5554166734, 1744806.811458334 678079.5864583403, 1744885.538333327 678071.6958333403, 1744896.436041668 678069.0631249994, 1744928.539166674 678061.1695833355, 1744939.144791663 678058.903125003, 1745006.375416666 678052.557916671, 1745012.56916666 678052.1458333284, 1745086.288333327 678045.3866666704, 1745180.330624998 678033.7379166633, 1745207.747083336 678030.2493750006, 1745274.665833339 678021.7231249958, 1745301.49166666 678018.2391666621, 1745381.092708334 678008.8868750036, 1745407.626458332 678005.7693749964, 1745436.225833327 678002.6362500042, 1745463.936875001 677999.1456249952, 1745464.822291672 677999.1387500018, 1745576.852916673 677985.8960416615, 1745632.868125007 677979.275000006, 1745688.883750007 677972.6539583355, 1745573.185625002 677816.6418749988, 1745500.592291668 677701.7985416651, 1745467.743541673 677651.4495833367, 1745368.749583334 677480.7470833361, 1745365.759583339 677475.6737499982, 1745345.401875004 677437.9699999988, 1745325.046875 677400.6302083284, 1745155.78458333 677072.8385416716, 1745137.859999999 677044.581249997, 1745104.641666666 676984.7704166621, 1745004.398333326 676805.7058333308, 1744970.886875004 676746.261041671, 1744968.200208336 676742.2775000036, 1744959.547083333 676729.9668750018, 1744956.568124995 676726.3493749946, 1744927.494375005 676668.3264583349, 1744839.389375001 676494.629583329, 1744810.022708327 676436.973333329, 1744760.620208338 676345.2516666651, 1744611.820416674 676070.0920833349, 1744562.124375001 675978.7370833308, 1744483.967916667 675832.6316666603, 1744249.202083334 675394.6831250042, 1744239.02458334 675376.1956250072, 1744169.578125 675250.0462500006, 1744144.413749993 675201.8231250048, 1744068.335833326 675057.8870833367, 1744042.583958328 675010.0329166651, 1744045.228750005 675008.556250006, 1744052.872916669 675004.8564583361, 1744055.224999994 675003.7458333373, 1744070.227291673 674997.4404166639, 1744114.938124999 674978.5264583379, 1744129.645208329 674972.2235416621, 1744153.176666662 674962.2114583403, 1744223.77458334 674932.5393750072, 1744227.304374993 674931.0556250066, 1744247.309375003 674922.8910416663, 1744275.551458329 674911.3864583373, 1744284.376249999 674907.6774999946, 1744303.498125002 674899.8839583397, 1744324.368541673 674889.1647916734, 1744393.471458331 674856.9560416639, 1744429.641874999 674840.2931250036, 1744486.432500005 674818.7379166633, 1744544.108958334 674797.1756249964, 1744660.212708339 674774.796875, 1744718.561041668 674763.7872916609, 1744791.113958329 674757.7643750012, 1744813.235416666 674756.1370833367, 1744907.614374995 674748.4891666621, 1744993.705416664 674737.629583329, 1745007.856250003 674735.6997916698, 1745079.793750003 674726.40625, 1745159.69916667 674717.0508333296, 1745177.096249998 674715.0962499976, 1745274.10604167 674704.1527083367, 1745376.419583336 674692.0764583349, 1745398.827708334 674689.3550000042, 1745478.441041663 674680.367291674, 1745549.794166669 674671.8072916716, 1745567.486041665 674669.8506249934, 1745656.528958336 674658.9699999988, 1745745.253749996 674645.179583326, 1745763.235416666 674642.4927083403, 1745833.981666669 674631.7537499964, 1745869.638750002 674624.9260416627, 1745924.477500007 674617.9506250024, 1746195.723749995 674583.4612500072, 1746249.385000005 674576.8591666669, 1746286.250833333 674573.6633333266, 1746454.60104166 674552.3458333313, 1746620.889166668 674531.4091666639, 1746955.528541669 674489.159374997, 1746958.769166663 674488.40625, 1747043.976249993 674477.5595833361, 1747090.209999993 674464.4631250054, 1747119.232916668 674439.1212500036, 1747212.819999993 674404.9116666615, 1747493.287291661 674302.2872916609, 1747586.582708329 674268.445208326, 1747570.279375002 674220.5154166669, 1747521.380208328 674078.1827083379, 1747504.784374997 674030.6195833385, 1747490.279166669 673986.3168749958, 1747455.547708333 673882.8287499994, 1747445.001458332 673854.5139583349, 1747441.997083336 673847.6197916716, 1747429.616249993 673810.9460416734, 1747419.657291666 673782.262500003, 1747389.491249993 673696.942083329, 1747379.239999995 673668.6247916669, 1747369.584583327 673641.0314583331, 1747340.02791667 673558.254583329, 1747330.079999998 673531.0272916704, 1747313.77291666 673482.7337500006, 1747263.966250002 673337.8604166657, 1747247.366874993 673289.9333333373, 1747296.509166673 673270.9904166609, 1747344.86666666 673265.159374997, 1747428.607708335 673255.053124994, 1747491.696250007 673245.8331249952, 1747559.227916673 673238.7635416687, 1747623.786458328 673228.804583326, 1747642.657083333 673226.4758333266, 1747741.727916673 673214.0689583272, 1747827.21479167 673200.6739583313, 1747899.744166672 673191.018749997, 1748080.193124995 673168.1622916609, 1748158.023541674 673157.011041671, 1748341.125833333 673133.771874994, 1748373.83979167 673127.6977083385, 1748530.935833335 673099.9254166633, 1748524.470624998 673026.0733333379, 1748517.698958337 672950.7670833319, 1748513.028541669 672918.7664583325, 1748496.390416667 672826.789166674, 1748492.994375005 672807.1564583331, 1748480.047291666 672734.8097916692, 1748475.614583328 672656.5733333379, 1748473.235208333 672615.4539583325, 1748462.337291673 672540.9074999988, 1748450.978125006 672444.5216666609, 1748448.762083337 672424.8799999952, 1748439.320625007 672347.7737500072, 1748431.250624999 672295.7764583379, 1748429.043333337 672277.2270833403, 1748416.130416662 672170.659374997, 1748413.332708329 672152.1143749952, 1748401.81645833 672073.9320833385, 1748400.870208338 672065.9302083403, 1748390.300416663 671995.7495833337, 1748371.160624996 671924.178124994, 1748368.348958328 671903.8131249994, 1748345.572500005 671742.3497916609, 1748331.172083333 671634.337500006, 1748329.591250002 671620.5158333331, 1748316.76895833 671525.9614583403, 1748306.154583335 671449.9564583302, 1748302.741458327 671428.1397916675, 1748288.716666669 671330.6820833385, 1748275.618541673 671238.6779166609, 1748273.430416673 671222.6766666621, 1748262.523333326 671147.0379166603, 1748253.384375006 671071.0220833272, 1748243.3125 670988.8241666704, 1748238.974791661 670961.9177083373, 1748224.665416673 670865.9185416698, 1748221.848333329 670844.8254166692, 1748210.356250003 670769.9193750024, 1748209.071041673 670717.5064583272, 1748207.896874994 670679.6543750018, 1748197.117916673 670582.1722916663, 1748195.188958332 670561.4362500012, 1748193.298541665 670545.7966666669, 1748189.186666667 670509.7872916609, 1748186.968125001 670489.7818749994, 1748179.724374995 670430.1333333403, 1748177.213125005 670410.4939583391, 1748171.230625004 670361.3933333308, 1748170.27291666 670351.9352083355, 1748165.250624999 670312.6568749994, 1748159.309583336 670269.0164583325, 1748153.365833327 670225.0118750036, 1748147.101666674 670177.7337500006, 1748146.174791664 670172.2802083343, 1748139.281458333 670119.9102083296, 1748136.809375003 670105.367291674, 1748129.09708333 670061.7404166609, 1748126.332708329 670047.5635416657, 1748117.239791662 669977.7358333319, 1748108.144374996 669907.5443750024, 1748105.059791669 669890.09375, 1748082.897708327 669770.8556250036, 1748073.364583328 669720.6897916645, 1748070.861666664 669702.1427083313, 1748058.012916669 669604.3120833337, 1748053.93416667 669572.6714583337, 1748045.167083338 669506.8458333313, 1748014.410624996 669267.1739583313, 1748005.217708334 669184.2414583266, 1747990.651250005 669054.7520833313, 1747979.327708334 668963.4629166722, 1747959.231250003 668805.620416671, 1747948.90229167 668689.9327083379, 1747940.530208334 668598.6208333373, 1747937.420416668 668577.8941666633, 1747927.499791667 668515.7179166675, 1747923.801874995 668495.3595833331, 1747908.62833333 668325.101666674, 1747903.16291666 668266.5322916657, 1747888.753749996 668157.792291671, 1747862.583124995 667977.7893750072, 1747864.269166663 667889.3135416657, 1747870.225833327 667857.5958333313, 1747881.442708328 667818.9212500006, 1747886.614374995 667800.3154166639, 1747944.63729167 667667.3595833331, 1747971.93083334 667607.8118750006, 1747985.865833327 667577.1256249994, 1748047.59375 667426.6675000042, 1748048.170208335 667424.8431250006, 1748057.853541672 667378.5354166627, 1748059.48833333 667360.6847916692, 1748065.164791673 667292.2006250024, 1748063.731458336 667259.0835416615, 1748063.060416669 667248.5310416669, 1748029.092708334 667091.1587499976, 1748019.391874999 667019.151666671, 1748020.553958327 666978.0056249946, 1748021.896458328 666960.5210416615, 1748025.802083328 666892.0508333296, 1748040.054583326 666864.2743750066, 1748099.188749999 666876.5649999976, 1748185.557083338 666898.8408333361, 1748297.068333328 666927.8422916681, 1748345.255208328 666936.9404166639, 1748415.549999997 666941.8654166609, 1748462.712708339 666932.7691666633, 1748494.512083337 666921.9697916657, 1748594.237916663 666876.4327083379, 1748617.226458326 666871.5252083391, 1748619.880208328 666871.140625, 1748659.133750007 666870.1141666621, 1748740.235624999 666898.6206250042, 1748760.669583336 666907.2022916675, 1748774.912083328 666877.9704166651, 1748798.375416666 666780.2275000066, 1748806.098749995 666747.7689583302, 1748815.49104166 666701.8277083337, 1748842.79354167 666565.4670833349, 1748851.893541664 666519.8920833319, 1748552.392916664 666382.0131250024, 1748069.257708326 666203.6729166657, 1747937.002083331 666164.6372916698, 1747498.52229166 666036.2037499994, 1747110.293958336 665955.4456250072, 1746859.797916666 665934.7954166681, 1746565.187916666 665859.151666671, 1746239.709583327 665800.4941666722, 1745897.296458334 665766.3616666645, 1745702.741458327 665726.7243749946, 1745255.954166666 665671.5620833337, 1745093.931250006 665639.6864583343, 1744775.503749996 665577.3504166603, 1744289.141874999 665520.6893749982, 1744143.029375002 665485.0550000072, 1744116.407708332 665478.3449999988, 1744035.663333327 665458.9495833367, 1744008.749375001 665452.6058333367, 1743879.201041669 665421.2129166722, 1743550.092916667 665390.6454166621, 1743278.201250002 665390.9431249946, 1742835.088958338 665391.8527083397, 1742545.432500005 665423.2404166609, 1742443.811250001 665452.4310416728, 1741887.16791667 665695.2418749928, 1741490.76958333 665929.8872916698, 1741338.761250004 666045.7564583272, 1741229.302291662 666128.8918749988, 1741207.546666667 666140.3485416621, 1740938.557291672 666283.3518750072, 1740580.300624996 666598.5277083367, 1740337.264583334 666812.3212500066, 1740278.749583334 666916.1727083325, 1740196.062708333 667061.7164583355, 1740102.760416672 667171.3041666597, 1740011.51229167 667241.9224999994, 1739836.096666664 667531.6354166716, 1739793.111249998 667695.0685416609, 1739674.005208328 668012.3683333397, 1739641.055416673 668138.2258333266, 1739544.760625005 668502.6716666669, 1739504.526041672 668603.1035416722, 1739481.658333331 668660.0760416687, 1739474.408958331 668676.515625, 1739376.943124995 668892.8043749928, 1739344.161666662 668965.1456249952, 1739342.422083333 668969.164166674, 1739234.610416666 669183.3510416597, 1738904.786458328 669837.9795833379, 1738794.654791668 670056.5552083403, 1738755.718541667 670134.0429166704, 1738708.570625007 670255.2818749994, 1738642.134166673 670363.5685416609, 1738633.389791667 670377.471874997, 1738214.320416674 671311.3158333302, 1738185.320416674 671375.9837500006, 1738116.086666673 671651.0279166698, 1737945.298958331 672329.8841666728, 1737856.052083328 672796.214166671, 1737820.34041667 672981.0720833391, 1737775.236041665 673837.3102083355, 1737584.144791663 675702.0393750072, 1737665.448750004 675831.3550000042, 1737724.849791661 675989.6058333367, 1737716.976875007 676296.9262499958, 1737708.390625 676625.7314583361, 1737694.478958338 676768.1858333349, 1737649.747083336 676931.273541674, 1737594.800624996 677034.7387499958, 1737518.498333335 677124.5412500054, 1737466.481250003 677409.6439583302, 1737528.476249993 677412.7885416597, 1737714.472291663 677423.6793749928, 1737723.015833333 677424.6981250048, 1737792.413124993 677428.153125003, 1737819.425416663 677429.7879166603, 1737840.241458327 677431.0474999994, 1737855.888958335 677432.0145833343, 1737923.788124993 677435.4768750072, 1738051.327500001 677442.8320833296, 1738127.459583327 677442.5887500048, 1738195.037499994 677442.7777083367, 1738516.537708327 677349.5672916621, 1738552.967708334 677329.254583329, 1738806.512500003 677188.1700000018, 1738827.057708338 677174.1727083325, 1738904.781666666 677114.2143750042, 1739071.104791671 676951.6189583391, 1739131.017916664 676878.3329166621, 1739186.175416663 676800.7166666687, 1739280.779583335 676636.5072916597, 1739320.231875002 676550.6427083313, 1739354.055000007 676461.9102083296, 1739358.061875001 676446.2245833278, 1739465.263125002 676009.6072916687, 1739459.754583329 676208.0577083379, 1739442.352291673 676804.5083333403, 1739436.551874995 677003.3252083361, 1739437.556041673 677167.1395833343, 1739439.984583333 677659.3149999976, 1739440.69645834 677823.4958333373, 1739452.789375007 677971.5679166615, 1739466.211250007 678212.8264583349, 1739475.507708326 678454.8456249982, 1739477.292291671 678493.7847916633, 1739484.021874994 678784.2431250066, 1739519.397499993 678779.9581249952, 1739589.862291664 678772.4825000018, 1739625.223333329 678766.3774999976, 1739660.292500004 678760.6385416687, 1739684.765208334 678758.2604166716, 1739757.593541667 678751.1304166615, 1739781.771249995 678748.7547916621, 1739750.617916673 678466.4991666675, 1740396.442708328 678377.6589583308, 1740601.30354166 678349.4658333361, 1740758.117500007 678327.8418750018, 1740839.472499996 678316.6431249976, 1740939.694583327 678303.1112499982, 1741016.655416667 678295.9522916675, 1741066.767708331 678289.3685416728, 1741072.663333327 678288.5939583331, 1741116.880208328 678282.7849999964, 1741206.202083334 678271.5243750066, 1741240.10041666 678266.8889583349, 1741295.81645833 678259.8977083266, 1741382.199583337 678250.117083326, 1741401.364583328 678248.1458333284, 1741506.614583328 678236.0331249982, 1741616.872291669 678222.7885416597, 1741640.749791667 678219.6889583319, 1741726.834999993 678209.5474999994, 1741792.881458327 678202.8397916704, 1741826.496250004 678199.6637499928, 1741925.862499997 678189.7824999988, 1741991.021249995 678182.7185416669, 1741991.316041663 678182.7162500024, 1742056.769791663 678175.650000006, 1742071.806666672 678174.0758333355, 1742116.625624999 678169.7202083319, 1742131.370208338 678168.5120833367, 1742196.821250007 678161.0822916627, 1742198.296666667 678161.0708333403, 1742265.225624993 678153.9935416728, 1742288.512916669 678150.8987500072, 1742311.803333327 678148.1677083373, 1742385.226666674 678141.4039583355, 1742393.187916666 678140.6135416627, 1742458.650416672 678134.6404166669, 1742489.873541668 678127.4791666716, 1742567.121458337 678119.2293750048, 1742580.095833331 678118.035833329, 1742670.315416664 678108.2287500054, 1742704.214375004 678103.5952083319, 1742790.056250006 678100.0118750036, 1742798.315208331 678099.5831249952, 1742875.603333339 678096.4310416728, 1742879.141041666 678096.039166674, 1742895.367083326 678095.5483333319, 1742992.648750007 678083.1389583349, 1743089.933333337 678071.0939583331, 1743103.787291661 678069.165625006, 1743183.676874995 678059.0766666681, 1743277.423333332 678047.4241666645, 1743366.812291667 678044.5425000042))\n"
     ]
    }
   ],
   "source": [
    "print(promise_zones.loc[0, 'geometry'])"
   ]
  },
  {
   "cell_type": "code",
   "execution_count": 8,
   "metadata": {},
   "outputs": [
    {
     "data": {
      "text/plain": [
       "PoweredIE7H5RIN474PE    8921\n",
       "PoweredUK65LOU3K5N7G    8748\n",
       "PoweredIOHG2G3XKATUL    8576\n",
       "PoweredJCKMQCAL2SSNJ    8521\n",
       "Powered4NYK5PWADVIAU    8439\n",
       "                        ... \n",
       "Powered1PKP7               1\n",
       "PoweredN4YI2A7RXZQLY       1\n",
       "Powered3361332             1\n",
       "Powered523737              1\n",
       "PoweredCI6VKIK2KOFMC       1\n",
       "Name: sumdid, Length: 8303, dtype: int64"
      ]
     },
     "execution_count": 8,
     "metadata": {},
     "output_type": "execute_result"
    }
   ],
   "source": [
    "may['sumdid'].value_counts() "
   ]
  },
  {
   "cell_type": "code",
   "execution_count": 9,
   "metadata": {},
   "outputs": [
    {
     "data": {
      "text/html": [
       "<div>\n",
       "<style scoped>\n",
       "    .dataframe tbody tr th:only-of-type {\n",
       "        vertical-align: middle;\n",
       "    }\n",
       "\n",
       "    .dataframe tbody tr th {\n",
       "        vertical-align: top;\n",
       "    }\n",
       "\n",
       "    .dataframe thead th {\n",
       "        text-align: right;\n",
       "    }\n",
       "</style>\n",
       "<table border=\"1\" class=\"dataframe\">\n",
       "  <thead>\n",
       "    <tr style=\"text-align: right;\">\n",
       "      <th></th>\n",
       "      <th>OBJECTID</th>\n",
       "      <th>ZONE_ID</th>\n",
       "      <th>SHAPE_STAr</th>\n",
       "      <th>SHAPE_STLe</th>\n",
       "      <th>geometry</th>\n",
       "    </tr>\n",
       "  </thead>\n",
       "  <tbody>\n",
       "    <tr>\n",
       "      <th>0</th>\n",
       "      <td>1</td>\n",
       "      <td>1</td>\n",
       "      <td>1.053728e+08</td>\n",
       "      <td>49364.601403</td>\n",
       "      <td>POLYGON ((1743366.812 678044.543, 1743367.698 ...</td>\n",
       "    </tr>\n",
       "    <tr>\n",
       "      <th>1</th>\n",
       "      <td>2</td>\n",
       "      <td>2</td>\n",
       "      <td>7.670585e+07</td>\n",
       "      <td>45226.018917</td>\n",
       "      <td>POLYGON ((1738690.545 661791.347, 1738733.644 ...</td>\n",
       "    </tr>\n",
       "    <tr>\n",
       "      <th>2</th>\n",
       "      <td>3</td>\n",
       "      <td>3</td>\n",
       "      <td>2.985488e+08</td>\n",
       "      <td>75207.067487</td>\n",
       "      <td>POLYGON ((1759602.544 668309.889, 1759640.155 ...</td>\n",
       "    </tr>\n",
       "    <tr>\n",
       "      <th>3</th>\n",
       "      <td>4</td>\n",
       "      <td>4</td>\n",
       "      <td>2.713638e+08</td>\n",
       "      <td>74348.596054</td>\n",
       "      <td>POLYGON ((1747799.003 654974.612, 1747821.293 ...</td>\n",
       "    </tr>\n",
       "    <tr>\n",
       "      <th>4</th>\n",
       "      <td>5</td>\n",
       "      <td>5</td>\n",
       "      <td>3.928178e+08</td>\n",
       "      <td>106661.712102</td>\n",
       "      <td>POLYGON ((1737013.744 692634.639, 1737122.605 ...</td>\n",
       "    </tr>\n",
       "  </tbody>\n",
       "</table>\n",
       "</div>"
      ],
      "text/plain": [
       "   OBJECTID  ZONE_ID    SHAPE_STAr     SHAPE_STLe  \\\n",
       "0         1        1  1.053728e+08   49364.601403   \n",
       "1         2        2  7.670585e+07   45226.018917   \n",
       "2         3        3  2.985488e+08   75207.067487   \n",
       "3         4        4  2.713638e+08   74348.596054   \n",
       "4         5        5  3.928178e+08  106661.712102   \n",
       "\n",
       "                                            geometry  \n",
       "0  POLYGON ((1743366.812 678044.543, 1743367.698 ...  \n",
       "1  POLYGON ((1738690.545 661791.347, 1738733.644 ...  \n",
       "2  POLYGON ((1759602.544 668309.889, 1759640.155 ...  \n",
       "3  POLYGON ((1747799.003 654974.612, 1747821.293 ...  \n",
       "4  POLYGON ((1737013.744 692634.639, 1737122.605 ...  "
      ]
     },
     "execution_count": 9,
     "metadata": {},
     "output_type": "execute_result"
    }
   ],
   "source": [
    "promise_zones.head()"
   ]
  },
  {
   "cell_type": "code",
   "execution_count": 10,
   "metadata": {},
   "outputs": [
    {
     "data": {
      "text/plain": [
       "<AxesSubplot:>"
      ]
     },
     "execution_count": 10,
     "metadata": {},
     "output_type": "execute_result"
    },
    {
     "data": {
      "image/png": "[encoded data removed]",
      "text/plain": [
       "<Figure size 432x288 with 1 Axes>"
      ]
     },
     "metadata": {
      "needs_background": "light"
     },
     "output_type": "display_data"
    }
   ],
   "source": [
    "promise_zones.plot()"
   ]
  },
  {
   "cell_type": "code",
   "execution_count": 11,
   "metadata": {},
   "outputs": [
    {
     "name": "stdout",
     "output_type": "stream",
     "text": [
      "<class 'geopandas.geodataframe.GeoDataFrame'>\n",
      "RangeIndex: 6 entries, 0 to 5\n",
      "Data columns (total 5 columns):\n",
      " #   Column      Non-Null Count  Dtype   \n",
      "---  ------      --------------  -----   \n",
      " 0   OBJECTID    6 non-null      int64   \n",
      " 1   ZONE_ID     6 non-null      int64   \n",
      " 2   SHAPE_STAr  6 non-null      float64 \n",
      " 3   SHAPE_STLe  6 non-null      float64 \n",
      " 4   geometry    6 non-null      geometry\n",
      "dtypes: float64(2), geometry(1), int64(2)\n",
      "memory usage: 368.0 bytes\n"
     ]
    }
   ],
   "source": [
    "promise_zones.info()"
   ]
  },
  {
   "cell_type": "code",
   "execution_count": 12,
   "metadata": {},
   "outputs": [],
   "source": [
    "#make a list of datetimes with datetime function \n",
    "start = datetime(2019, 5, 1, 0, 0)\n",
    "end = datetime(2019, 5, 1, 1, 0)\n",
    "delta = timedelta(hours=1)\n",
    "timelist = []\n",
    "timenamelist = []\n",
    "while start <= end:\n",
    "    timelist.append(start)\n",
    "    timenamelist.append(start.strftime(\"%Y-%m-%d-%H-%M\"))\n",
    "    start += delta\n",
    "# print(timelist)\n",
    "# print(timenamelist)"
   ]
  },
  {
   "cell_type": "code",
   "execution_count": 13,
   "metadata": {},
   "outputs": [
    {
     "name": "stdout",
     "output_type": "stream",
     "text": [
      "1\n"
     ]
    }
   ],
   "source": [
    "#goal of function: using list of time frames, in this case, days, make a dataframe containing\n",
    "#info about the location for each scooter, for each day\n",
    "\n",
    "\n",
    "#make dictionary of dataframes using base dataframe and a user-defined segments_of_time_list\n",
    "#from cell above\n",
    "def make_day_df(datetime_list, timenames_list, dataframe, colname):\n",
    "    resultslist = {} #turn into dictionary\n",
    "    x = 0\n",
    "    y = 1\n",
    "    z = 0\n",
    "    while x in range(0,len(datetime_list)-1):\n",
    "        starttime = datetime_list[x]\n",
    "        endtime = datetime_list[y]\n",
    "        mask = (dataframe[colname] > starttime) & (dataframe[colname] <= endtime)\n",
    "        framename = dataframe.loc[mask]\n",
    "        x += 1\n",
    "        y += 1\n",
    "        print(x)\n",
    "        resultslist[timenames_list[z]] = framename\n",
    "        z += 1\n",
    "    return resultslist\n",
    "        \n",
    "the_output = make_day_df(timelist, timenamelist, may,\"pubdatetime\")"
   ]
  },
  {
   "cell_type": "code",
   "execution_count": 14,
   "metadata": {},
   "outputs": [
    {
     "data": {
      "text/plain": [
       "dict_keys(['2019-05-01-00-00'])"
      ]
     },
     "execution_count": 14,
     "metadata": {},
     "output_type": "execute_result"
    }
   ],
   "source": [
    "the_output.keys()"
   ]
  },
  {
   "cell_type": "code",
   "execution_count": 15,
   "metadata": {},
   "outputs": [
    {
     "data": {
      "text/html": [
       "<div>\n",
       "<style scoped>\n",
       "    .dataframe tbody tr th:only-of-type {\n",
       "        vertical-align: middle;\n",
       "    }\n",
       "\n",
       "    .dataframe tbody tr th {\n",
       "        vertical-align: top;\n",
       "    }\n",
       "\n",
       "    .dataframe thead th {\n",
       "        text-align: right;\n",
       "    }\n",
       "</style>\n",
       "<table border=\"1\" class=\"dataframe\">\n",
       "  <thead>\n",
       "    <tr style=\"text-align: right;\">\n",
       "      <th></th>\n",
       "      <th>pubdatetime</th>\n",
       "      <th>latitude</th>\n",
       "      <th>longitude</th>\n",
       "      <th>sumdid</th>\n",
       "      <th>chargelevel</th>\n",
       "      <th>companyname</th>\n",
       "    </tr>\n",
       "  </thead>\n",
       "  <tbody>\n",
       "    <tr>\n",
       "      <th>0</th>\n",
       "      <td>2019-05-01 00:01:41.247</td>\n",
       "      <td>36.136822</td>\n",
       "      <td>-86.799877</td>\n",
       "      <td>PoweredLIRL1</td>\n",
       "      <td>93.0</td>\n",
       "      <td>0</td>\n",
       "    </tr>\n",
       "    <tr>\n",
       "      <th>1</th>\n",
       "      <td>2019-05-01 00:01:41.247</td>\n",
       "      <td>36.191252</td>\n",
       "      <td>-86.772945</td>\n",
       "      <td>PoweredXWRWC</td>\n",
       "      <td>35.0</td>\n",
       "      <td>0</td>\n",
       "    </tr>\n",
       "    <tr>\n",
       "      <th>2</th>\n",
       "      <td>2019-05-01 00:01:41.247</td>\n",
       "      <td>36.144752</td>\n",
       "      <td>-86.806293</td>\n",
       "      <td>PoweredMEJEH</td>\n",
       "      <td>90.0</td>\n",
       "      <td>0</td>\n",
       "    </tr>\n",
       "    <tr>\n",
       "      <th>3</th>\n",
       "      <td>2019-05-01 00:01:41.247</td>\n",
       "      <td>36.162056</td>\n",
       "      <td>-86.774688</td>\n",
       "      <td>Powered1A7TC</td>\n",
       "      <td>88.0</td>\n",
       "      <td>0</td>\n",
       "    </tr>\n",
       "    <tr>\n",
       "      <th>4</th>\n",
       "      <td>2019-05-01 00:01:41.247</td>\n",
       "      <td>36.150973</td>\n",
       "      <td>-86.783109</td>\n",
       "      <td>Powered2TYEF</td>\n",
       "      <td>98.0</td>\n",
       "      <td>0</td>\n",
       "    </tr>\n",
       "    <tr>\n",
       "      <th>...</th>\n",
       "      <td>...</td>\n",
       "      <td>...</td>\n",
       "      <td>...</td>\n",
       "      <td>...</td>\n",
       "      <td>...</td>\n",
       "      <td>...</td>\n",
       "    </tr>\n",
       "    <tr>\n",
       "      <th>26124</th>\n",
       "      <td>2019-05-01 00:59:59.163</td>\n",
       "      <td>36.121562</td>\n",
       "      <td>-86.774363</td>\n",
       "      <td>PoweredKJTKOKALXNPZX</td>\n",
       "      <td>81.0</td>\n",
       "      <td>3</td>\n",
       "    </tr>\n",
       "    <tr>\n",
       "      <th>26125</th>\n",
       "      <td>2019-05-01 00:59:59.163</td>\n",
       "      <td>36.122702</td>\n",
       "      <td>-86.775087</td>\n",
       "      <td>PoweredCVH7LMHIIIIAF</td>\n",
       "      <td>77.0</td>\n",
       "      <td>3</td>\n",
       "    </tr>\n",
       "    <tr>\n",
       "      <th>26126</th>\n",
       "      <td>2019-05-01 00:59:59.163</td>\n",
       "      <td>36.124224</td>\n",
       "      <td>-86.773634</td>\n",
       "      <td>Powered5SZPJJWT56FG3</td>\n",
       "      <td>81.0</td>\n",
       "      <td>3</td>\n",
       "    </tr>\n",
       "    <tr>\n",
       "      <th>26127</th>\n",
       "      <td>2019-05-01 00:59:59.163</td>\n",
       "      <td>36.127435</td>\n",
       "      <td>-86.776972</td>\n",
       "      <td>PoweredIKAA5T3PT44MA</td>\n",
       "      <td>42.0</td>\n",
       "      <td>3</td>\n",
       "    </tr>\n",
       "    <tr>\n",
       "      <th>26128</th>\n",
       "      <td>2019-05-01 00:59:59.163</td>\n",
       "      <td>36.121652</td>\n",
       "      <td>-86.775252</td>\n",
       "      <td>PoweredCN733N3T4HQDT</td>\n",
       "      <td>65.0</td>\n",
       "      <td>3</td>\n",
       "    </tr>\n",
       "  </tbody>\n",
       "</table>\n",
       "<p>26117 rows × 6 columns</p>\n",
       "</div>"
      ],
      "text/plain": [
       "                  pubdatetime   latitude  longitude                sumdid  \\\n",
       "0     2019-05-01 00:01:41.247  36.136822 -86.799877          PoweredLIRL1   \n",
       "1     2019-05-01 00:01:41.247  36.191252 -86.772945          PoweredXWRWC   \n",
       "2     2019-05-01 00:01:41.247  36.144752 -86.806293          PoweredMEJEH   \n",
       "3     2019-05-01 00:01:41.247  36.162056 -86.774688          Powered1A7TC   \n",
       "4     2019-05-01 00:01:41.247  36.150973 -86.783109          Powered2TYEF   \n",
       "...                       ...        ...        ...                   ...   \n",
       "26124 2019-05-01 00:59:59.163  36.121562 -86.774363  PoweredKJTKOKALXNPZX   \n",
       "26125 2019-05-01 00:59:59.163  36.122702 -86.775087  PoweredCVH7LMHIIIIAF   \n",
       "26126 2019-05-01 00:59:59.163  36.124224 -86.773634  Powered5SZPJJWT56FG3   \n",
       "26127 2019-05-01 00:59:59.163  36.127435 -86.776972  PoweredIKAA5T3PT44MA   \n",
       "26128 2019-05-01 00:59:59.163  36.121652 -86.775252  PoweredCN733N3T4HQDT   \n",
       "\n",
       "       chargelevel  companyname  \n",
       "0             93.0            0  \n",
       "1             35.0            0  \n",
       "2             90.0            0  \n",
       "3             88.0            0  \n",
       "4             98.0            0  \n",
       "...            ...          ...  \n",
       "26124         81.0            3  \n",
       "26125         77.0            3  \n",
       "26126         81.0            3  \n",
       "26127         42.0            3  \n",
       "26128         65.0            3  \n",
       "\n",
       "[26117 rows x 6 columns]"
      ]
     },
     "execution_count": 15,
     "metadata": {},
     "output_type": "execute_result"
    }
   ],
   "source": [
    "the_output['2019-05-01-00-00']\n",
    "# the_output['2019-05-01-00-00']['sumdid'].nunique()"
   ]
  },
  {
   "cell_type": "code",
   "execution_count": 16,
   "metadata": {},
   "outputs": [
    {
     "name": "stderr",
     "output_type": "stream",
     "text": [
      "/var/folders/0j/wl_2hyp13198px6zb01hnsxm0000gn/T/ipykernel_29544/1316813279.py:2: SettingWithCopyWarning: \n",
      "A value is trying to be set on a copy of a slice from a DataFrame.\n",
      "Try using .loc[row_indexer,col_indexer] = value instead\n",
      "\n",
      "See the caveats in the documentation: https://pandas.pydata.org/pandas-docs/stable/user_guide/indexing.html#returning-a-view-versus-a-copy\n",
      "  the_output['2019-05-01-00-00']['geometry'] = the_output['2019-05-01-00-00'].apply(lambda x: Point(x['longitude'],\n"
     ]
    },
    {
     "data": {
      "text/html": [
       "<div>\n",
       "<style scoped>\n",
       "    .dataframe tbody tr th:only-of-type {\n",
       "        vertical-align: middle;\n",
       "    }\n",
       "\n",
       "    .dataframe tbody tr th {\n",
       "        vertical-align: top;\n",
       "    }\n",
       "\n",
       "    .dataframe thead th {\n",
       "        text-align: right;\n",
       "    }\n",
       "</style>\n",
       "<table border=\"1\" class=\"dataframe\">\n",
       "  <thead>\n",
       "    <tr style=\"text-align: right;\">\n",
       "      <th></th>\n",
       "      <th>pubdatetime</th>\n",
       "      <th>latitude</th>\n",
       "      <th>longitude</th>\n",
       "      <th>sumdid</th>\n",
       "      <th>chargelevel</th>\n",
       "      <th>companyname</th>\n",
       "      <th>geometry</th>\n",
       "    </tr>\n",
       "  </thead>\n",
       "  <tbody>\n",
       "    <tr>\n",
       "      <th>0</th>\n",
       "      <td>2019-05-01 00:01:41.247</td>\n",
       "      <td>36.136822</td>\n",
       "      <td>-86.799877</td>\n",
       "      <td>PoweredLIRL1</td>\n",
       "      <td>93.0</td>\n",
       "      <td>0</td>\n",
       "      <td>POINT (-86.799877 36.136822)</td>\n",
       "    </tr>\n",
       "    <tr>\n",
       "      <th>1</th>\n",
       "      <td>2019-05-01 00:01:41.247</td>\n",
       "      <td>36.191252</td>\n",
       "      <td>-86.772945</td>\n",
       "      <td>PoweredXWRWC</td>\n",
       "      <td>35.0</td>\n",
       "      <td>0</td>\n",
       "      <td>POINT (-86.77294499999999 36.191252)</td>\n",
       "    </tr>\n",
       "    <tr>\n",
       "      <th>2</th>\n",
       "      <td>2019-05-01 00:01:41.247</td>\n",
       "      <td>36.144752</td>\n",
       "      <td>-86.806293</td>\n",
       "      <td>PoweredMEJEH</td>\n",
       "      <td>90.0</td>\n",
       "      <td>0</td>\n",
       "      <td>POINT (-86.80629300000001 36.144752)</td>\n",
       "    </tr>\n",
       "  </tbody>\n",
       "</table>\n",
       "</div>"
      ],
      "text/plain": [
       "              pubdatetime   latitude  longitude        sumdid  chargelevel  \\\n",
       "0 2019-05-01 00:01:41.247  36.136822 -86.799877  PoweredLIRL1         93.0   \n",
       "1 2019-05-01 00:01:41.247  36.191252 -86.772945  PoweredXWRWC         35.0   \n",
       "2 2019-05-01 00:01:41.247  36.144752 -86.806293  PoweredMEJEH         90.0   \n",
       "\n",
       "   companyname                              geometry  \n",
       "0            0          POINT (-86.799877 36.136822)  \n",
       "1            0  POINT (-86.77294499999999 36.191252)  \n",
       "2            0  POINT (-86.80629300000001 36.144752)  "
      ]
     },
     "execution_count": 16,
     "metadata": {},
     "output_type": "execute_result"
    }
   ],
   "source": [
    "#adding geomtery column with lambda and point\n",
    "the_output['2019-05-01-00-00']['geometry'] = the_output['2019-05-01-00-00'].apply(lambda x: Point(x['longitude'], \n",
    "                                                         x['latitude']), axis=1)\n",
    "the_output['2019-05-01-00-00'].head(3)"
   ]
  },
  {
   "cell_type": "code",
   "execution_count": 17,
   "metadata": {},
   "outputs": [
    {
     "data": {
      "text/plain": [
       "PoweredIE7H5RIN474PE    8921\n",
       "PoweredUK65LOU3K5N7G    8748\n",
       "PoweredIOHG2G3XKATUL    8576\n",
       "PoweredJCKMQCAL2SSNJ    8521\n",
       "Powered4NYK5PWADVIAU    8439\n",
       "                        ... \n",
       "Powered1PKP7               1\n",
       "PoweredN4YI2A7RXZQLY       1\n",
       "Powered3361332             1\n",
       "Powered523737              1\n",
       "PoweredCI6VKIK2KOFMC       1\n",
       "Name: sumdid, Length: 8303, dtype: int64"
      ]
     },
     "execution_count": 17,
     "metadata": {},
     "output_type": "execute_result"
    }
   ],
   "source": [
    "may['sumdid'].value_counts()"
   ]
  },
  {
   "cell_type": "code",
   "execution_count": 23,
   "metadata": {},
   "outputs": [],
   "source": [
    "scoots_geo = gpd.GeoDataFrame(may, \n",
    "                           crs = promise_zones.crs, \n",
    "                           geometry = promise_zones['geometry'])"
   ]
  },
  {
   "cell_type": "code",
   "execution_count": 24,
   "metadata": {
    "scrolled": true
   },
   "outputs": [
    {
     "data": {
      "text/plain": [
       "geopandas.geodataframe.GeoDataFrame"
      ]
     },
     "execution_count": 24,
     "metadata": {},
     "output_type": "execute_result"
    }
   ],
   "source": [
    "type(scoots_geo)"
   ]
  },
  {
   "cell_type": "code",
   "execution_count": 20,
   "metadata": {},
   "outputs": [
    {
     "data": {
      "text/html": [
       "<div>\n",
       "<style scoped>\n",
       "    .dataframe tbody tr th:only-of-type {\n",
       "        vertical-align: middle;\n",
       "    }\n",
       "\n",
       "    .dataframe tbody tr th {\n",
       "        vertical-align: top;\n",
       "    }\n",
       "\n",
       "    .dataframe thead th {\n",
       "        text-align: right;\n",
       "    }\n",
       "</style>\n",
       "<table border=\"1\" class=\"dataframe\">\n",
       "  <thead>\n",
       "    <tr style=\"text-align: right;\">\n",
       "      <th></th>\n",
       "      <th>OBJECTID</th>\n",
       "      <th>ZONE_ID</th>\n",
       "      <th>SHAPE_STAr</th>\n",
       "      <th>SHAPE_STLe</th>\n",
       "      <th>geometry</th>\n",
       "    </tr>\n",
       "  </thead>\n",
       "  <tbody>\n",
       "    <tr>\n",
       "      <th>0</th>\n",
       "      <td>1</td>\n",
       "      <td>1</td>\n",
       "      <td>1.053728e+08</td>\n",
       "      <td>49364.601403</td>\n",
       "      <td>POLYGON ((1743366.812 678044.543, 1743367.698 ...</td>\n",
       "    </tr>\n",
       "    <tr>\n",
       "      <th>1</th>\n",
       "      <td>2</td>\n",
       "      <td>2</td>\n",
       "      <td>7.670585e+07</td>\n",
       "      <td>45226.018917</td>\n",
       "      <td>POLYGON ((1738690.545 661791.347, 1738733.644 ...</td>\n",
       "    </tr>\n",
       "    <tr>\n",
       "      <th>2</th>\n",
       "      <td>3</td>\n",
       "      <td>3</td>\n",
       "      <td>2.985488e+08</td>\n",
       "      <td>75207.067487</td>\n",
       "      <td>POLYGON ((1759602.544 668309.889, 1759640.155 ...</td>\n",
       "    </tr>\n",
       "    <tr>\n",
       "      <th>3</th>\n",
       "      <td>4</td>\n",
       "      <td>4</td>\n",
       "      <td>2.713638e+08</td>\n",
       "      <td>74348.596054</td>\n",
       "      <td>POLYGON ((1747799.003 654974.612, 1747821.293 ...</td>\n",
       "    </tr>\n",
       "    <tr>\n",
       "      <th>4</th>\n",
       "      <td>5</td>\n",
       "      <td>5</td>\n",
       "      <td>3.928178e+08</td>\n",
       "      <td>106661.712102</td>\n",
       "      <td>POLYGON ((1737013.744 692634.639, 1737122.605 ...</td>\n",
       "    </tr>\n",
       "  </tbody>\n",
       "</table>\n",
       "</div>"
      ],
      "text/plain": [
       "   OBJECTID  ZONE_ID    SHAPE_STAr     SHAPE_STLe  \\\n",
       "0         1        1  1.053728e+08   49364.601403   \n",
       "1         2        2  7.670585e+07   45226.018917   \n",
       "2         3        3  2.985488e+08   75207.067487   \n",
       "3         4        4  2.713638e+08   74348.596054   \n",
       "4         5        5  3.928178e+08  106661.712102   \n",
       "\n",
       "                                            geometry  \n",
       "0  POLYGON ((1743366.812 678044.543, 1743367.698 ...  \n",
       "1  POLYGON ((1738690.545 661791.347, 1738733.644 ...  \n",
       "2  POLYGON ((1759602.544 668309.889, 1759640.155 ...  \n",
       "3  POLYGON ((1747799.003 654974.612, 1747821.293 ...  \n",
       "4  POLYGON ((1737013.744 692634.639, 1737122.605 ...  "
      ]
     },
     "execution_count": 20,
     "metadata": {},
     "output_type": "execute_result"
    }
   ],
   "source": [
    "promise_zones.head()"
   ]
  },
  {
   "cell_type": "code",
   "execution_count": 38,
   "metadata": {},
   "outputs": [
    {
     "name": "stdout",
     "output_type": "stream",
     "text": [
      "epsg:4326\n"
     ]
    },
    {
     "data": {
      "text/html": [
       "<div>\n",
       "<style scoped>\n",
       "    .dataframe tbody tr th:only-of-type {\n",
       "        vertical-align: middle;\n",
       "    }\n",
       "\n",
       "    .dataframe tbody tr th {\n",
       "        vertical-align: top;\n",
       "    }\n",
       "\n",
       "    .dataframe thead th {\n",
       "        text-align: right;\n",
       "    }\n",
       "</style>\n",
       "<table border=\"1\" class=\"dataframe\">\n",
       "  <thead>\n",
       "    <tr style=\"text-align: right;\">\n",
       "      <th></th>\n",
       "      <th>zip</th>\n",
       "      <th>objectid</th>\n",
       "      <th>po_name</th>\n",
       "      <th>shape_stlength</th>\n",
       "      <th>shape_starea</th>\n",
       "      <th>geometry</th>\n",
       "    </tr>\n",
       "  </thead>\n",
       "  <tbody>\n",
       "    <tr>\n",
       "      <th>0</th>\n",
       "      <td>37115</td>\n",
       "      <td>1</td>\n",
       "      <td>MADISON</td>\n",
       "      <td>178783.02488886821</td>\n",
       "      <td>596553400.57885742</td>\n",
       "      <td>MULTIPOLYGON (((-86.68725 36.31821, -86.68722 ...</td>\n",
       "    </tr>\n",
       "    <tr>\n",
       "      <th>1</th>\n",
       "      <td>37216</td>\n",
       "      <td>3</td>\n",
       "      <td>NASHVILLE</td>\n",
       "      <td>75820.997821400058</td>\n",
       "      <td>188884682.28344727</td>\n",
       "      <td>MULTIPOLYGON (((-86.73451 36.23774, -86.73425 ...</td>\n",
       "    </tr>\n",
       "    <tr>\n",
       "      <th>2</th>\n",
       "      <td>37204</td>\n",
       "      <td>9</td>\n",
       "      <td>NASHVILLE</td>\n",
       "      <td>93180.292250425613</td>\n",
       "      <td>200664795.51708984</td>\n",
       "      <td>MULTIPOLYGON (((-86.77914 36.13424, -86.77923 ...</td>\n",
       "    </tr>\n",
       "    <tr>\n",
       "      <th>3</th>\n",
       "      <td>37027</td>\n",
       "      <td>11</td>\n",
       "      <td>BRENTWOOD</td>\n",
       "      <td>159760.6942933173</td>\n",
       "      <td>174978422.04101562</td>\n",
       "      <td>MULTIPOLYGON (((-86.81258 36.06319, -86.81263 ...</td>\n",
       "    </tr>\n",
       "    <tr>\n",
       "      <th>4</th>\n",
       "      <td>37064</td>\n",
       "      <td>18</td>\n",
       "      <td>FRANKLIN</td>\n",
       "      <td>28995.828320601937</td>\n",
       "      <td>46969608.005737305</td>\n",
       "      <td>MULTIPOLYGON (((-87.02197 36.01200, -87.02140 ...</td>\n",
       "    </tr>\n",
       "  </tbody>\n",
       "</table>\n",
       "</div>"
      ],
      "text/plain": [
       "     zip objectid    po_name      shape_stlength        shape_starea  \\\n",
       "0  37115        1    MADISON  178783.02488886821  596553400.57885742   \n",
       "1  37216        3  NASHVILLE  75820.997821400058  188884682.28344727   \n",
       "2  37204        9  NASHVILLE  93180.292250425613  200664795.51708984   \n",
       "3  37027       11  BRENTWOOD   159760.6942933173  174978422.04101562   \n",
       "4  37064       18   FRANKLIN  28995.828320601937  46969608.005737305   \n",
       "\n",
       "                                            geometry  \n",
       "0  MULTIPOLYGON (((-86.68725 36.31821, -86.68722 ...  \n",
       "1  MULTIPOLYGON (((-86.73451 36.23774, -86.73425 ...  \n",
       "2  MULTIPOLYGON (((-86.77914 36.13424, -86.77923 ...  \n",
       "3  MULTIPOLYGON (((-86.81258 36.06319, -86.81263 ...  \n",
       "4  MULTIPOLYGON (((-87.02197 36.01200, -87.02140 ...  "
      ]
     },
     "execution_count": 38,
     "metadata": {},
     "output_type": "execute_result"
    }
   ],
   "source": [
    "zipcodes = gpd.read_file('../data/zipcodes.geojson')\n",
    "print(zipcodes.crs)\n",
    "zipcodes.head( )"
   ]
  },
  {
   "cell_type": "code",
   "execution_count": 48,
   "metadata": {},
   "outputs": [
    {
     "data": {
      "text/plain": [
       "<Projected CRS: EPSG:2274>\n",
       "Name: NAD83 / Tennessee (ftUS)\n",
       "Axis Info [cartesian]:\n",
       "- X[east]: Easting (US survey foot)\n",
       "- Y[north]: Northing (US survey foot)\n",
       "Area of Use:\n",
       "- name: USA - Tennessee\n",
       "- bounds: (-90.31, 34.98, -81.65, 36.68)\n",
       "Coordinate Operation:\n",
       "- name: SPCS83 Tennessee zone (US Survey feet)\n",
       "- method: Lambert Conic Conformal (2SP)\n",
       "Datum: North American Datum 1983\n",
       "- Ellipsoid: GRS 1980\n",
       "- Prime Meridian: Greenwich"
      ]
     },
     "execution_count": 48,
     "metadata": {},
     "output_type": "execute_result"
    }
   ],
   "source": [
    "promise_zones.crs"
   ]
  },
  {
   "cell_type": "code",
   "execution_count": 44,
   "metadata": {},
   "outputs": [
    {
     "name": "stderr",
     "output_type": "stream",
     "text": [
      "/var/folders/0j/wl_2hyp13198px6zb01hnsxm0000gn/T/ipykernel_29544/1012710177.py:1: UserWarning: CRS mismatch between the CRS of left geometries and the CRS of right geometries.\n",
      "Use `to_crs()` to reproject one of the input geometries to match the CRS of the other.\n",
      "\n",
      "Left CRS: EPSG:2274\n",
      "Right CRS: EPSG:4326\n",
      "\n",
      "  scoots_geo = gpd.sjoin(promise_zones,zipcodes, op='within')\n"
     ]
    }
   ],
   "source": [
    "scoots_geo = gpd.sjoin(promise_zones,zipcodes, op='within')"
   ]
  },
  {
   "cell_type": "code",
   "execution_count": 51,
   "metadata": {},
   "outputs": [
    {
     "name": "stdout",
     "output_type": "stream",
     "text": [
      "[36.163, -86.782]\n"
     ]
    }
   ],
   "source": [
    "area_center = [36.163,-86.782]\n",
    "print(area_center)"
   ]
  },
  {
   "cell_type": "code",
   "execution_count": 56,
   "metadata": {},
   "outputs": [
    {
     "ename": "ValueError",
     "evalue": "'left_df' should be GeoDataFrame, got <class 'pandas.core.frame.DataFrame'>",
     "output_type": "error",
     "traceback": [
      "\u001b[0;31m---------------------------------------------------------------------------\u001b[0m",
      "\u001b[0;31mValueError\u001b[0m                                Traceback (most recent call last)",
      "\u001b[0;32m/var/folders/0j/wl_2hyp13198px6zb01hnsxm0000gn/T/ipykernel_29544/157353769.py\u001b[0m in \u001b[0;36m<module>\u001b[0;34m\u001b[0m\n\u001b[0;32m----> 1\u001b[0;31m \u001b[0mscoots_geo\u001b[0m \u001b[0;34m=\u001b[0m \u001b[0mgpd\u001b[0m\u001b[0;34m.\u001b[0m\u001b[0msjoin\u001b[0m\u001b[0;34m(\u001b[0m\u001b[0mmay\u001b[0m\u001b[0;34m,\u001b[0m\u001b[0mpromise_zones\u001b[0m\u001b[0;34m,\u001b[0m \u001b[0mop\u001b[0m \u001b[0;34m=\u001b[0m \u001b[0;34m'within'\u001b[0m\u001b[0;34m)\u001b[0m\u001b[0;34m\u001b[0m\u001b[0;34m\u001b[0m\u001b[0m\n\u001b[0m",
      "\u001b[0;32m~/opt/anaconda3/envs/geospatial/lib/python3.8/site-packages/geopandas/tools/sjoin.py\u001b[0m in \u001b[0;36msjoin\u001b[0;34m(left_df, right_df, how, op, lsuffix, rsuffix)\u001b[0m\n\u001b[1;32m     32\u001b[0m     \"\"\"\n\u001b[1;32m     33\u001b[0m     \u001b[0;32mif\u001b[0m \u001b[0;32mnot\u001b[0m \u001b[0misinstance\u001b[0m\u001b[0;34m(\u001b[0m\u001b[0mleft_df\u001b[0m\u001b[0;34m,\u001b[0m \u001b[0mGeoDataFrame\u001b[0m\u001b[0;34m)\u001b[0m\u001b[0;34m:\u001b[0m\u001b[0;34m\u001b[0m\u001b[0;34m\u001b[0m\u001b[0m\n\u001b[0;32m---> 34\u001b[0;31m         raise ValueError(\n\u001b[0m\u001b[1;32m     35\u001b[0m             \u001b[0;34m\"'left_df' should be GeoDataFrame, got {}\"\u001b[0m\u001b[0;34m.\u001b[0m\u001b[0mformat\u001b[0m\u001b[0;34m(\u001b[0m\u001b[0mtype\u001b[0m\u001b[0;34m(\u001b[0m\u001b[0mleft_df\u001b[0m\u001b[0;34m)\u001b[0m\u001b[0;34m)\u001b[0m\u001b[0;34m\u001b[0m\u001b[0;34m\u001b[0m\u001b[0m\n\u001b[1;32m     36\u001b[0m         )\n",
      "\u001b[0;31mValueError\u001b[0m: 'left_df' should be GeoDataFrame, got <class 'pandas.core.frame.DataFrame'>"
     ]
    }
   ],
   "source": [
    "scoots_geo = gpd.sjoin(may,promise_zones, op = 'within')"
   ]
  },
  {
   "cell_type": "code",
   "execution_count": null,
   "metadata": {},
   "outputs": [],
   "source": []
  },
  {
   "cell_type": "code",
   "execution_count": null,
   "metadata": {},
   "outputs": [],
   "source": []
  },
  {
   "cell_type": "code",
   "execution_count": null,
   "metadata": {},
   "outputs": [],
   "source": []
  },
  {
   "cell_type": "code",
   "execution_count": null,
   "metadata": {},
   "outputs": [],
   "source": []
  },
  {
   "cell_type": "code",
   "execution_count": null,
   "metadata": {},
   "outputs": [],
   "source": []
  },
  {
   "cell_type": "code",
   "execution_count": null,
   "metadata": {},
   "outputs": [],
   "source": []
  },
  {
   "cell_type": "code",
   "execution_count": null,
   "metadata": {},
   "outputs": [],
   "source": []
  },
  {
   "cell_type": "code",
   "execution_count": null,
   "metadata": {},
   "outputs": [],
   "source": []
  },
  {
   "cell_type": "code",
   "execution_count": null,
   "metadata": {},
   "outputs": [],
   "source": []
  },
  {
   "cell_type": "code",
   "execution_count": null,
   "metadata": {},
   "outputs": [],
   "source": []
  },
  {
   "cell_type": "code",
   "execution_count": null,
   "metadata": {},
   "outputs": [],
   "source": []
  },
  {
   "cell_type": "code",
   "execution_count": null,
   "metadata": {},
   "outputs": [],
   "source": []
  },
  {
   "cell_type": "code",
   "execution_count": null,
   "metadata": {},
   "outputs": [],
   "source": []
  },
  {
   "cell_type": "code",
   "execution_count": null,
   "metadata": {},
   "outputs": [],
   "source": []
  },
  {
   "cell_type": "code",
   "execution_count": null,
   "metadata": {},
   "outputs": [],
   "source": []
  },
  {
   "cell_type": "code",
   "execution_count": null,
   "metadata": {},
   "outputs": [],
   "source": []
  },
  {
   "cell_type": "code",
   "execution_count": null,
   "metadata": {},
   "outputs": [],
   "source": []
  },
  {
   "cell_type": "code",
   "execution_count": null,
   "metadata": {},
   "outputs": [],
   "source": []
  },
  {
   "cell_type": "code",
   "execution_count": null,
   "metadata": {},
   "outputs": [],
   "source": []
  },
  {
   "cell_type": "code",
   "execution_count": null,
   "metadata": {},
   "outputs": [],
   "source": []
  },
  {
   "cell_type": "code",
   "execution_count": null,
   "metadata": {},
   "outputs": [],
   "source": []
  },
  {
   "cell_type": "code",
   "execution_count": null,
   "metadata": {},
   "outputs": [],
   "source": []
  },
  {
   "cell_type": "code",
   "execution_count": null,
   "metadata": {},
   "outputs": [],
   "source": []
  },
  {
   "cell_type": "code",
   "execution_count": null,
   "metadata": {},
   "outputs": [],
   "source": []
  },
  {
   "cell_type": "code",
   "execution_count": null,
   "metadata": {},
   "outputs": [],
   "source": []
  },
  {
   "cell_type": "code",
   "execution_count": null,
   "metadata": {},
   "outputs": [],
   "source": []
  },
  {
   "cell_type": "code",
   "execution_count": null,
   "metadata": {},
   "outputs": [],
   "source": []
  },
  {
   "cell_type": "code",
   "execution_count": null,
   "metadata": {},
   "outputs": [],
   "source": []
  }
 ],
 "metadata": {
  "kernelspec": {
   "display_name": "Python 3 (ipykernel)",
   "language": "python",
   "name": "python3"
  },
  "language_info": {
   "codemirror_mode": {
    "name": "ipython",
    "version": 3
   },
   "file_extension": ".py",
   "mimetype": "text/x-python",
   "name": "python",
   "nbconvert_exporter": "python",
   "pygments_lexer": "ipython3",
   "version": "3.8.5"
  }
 },
 "nbformat": 4,
 "nbformat_minor": 4
}
