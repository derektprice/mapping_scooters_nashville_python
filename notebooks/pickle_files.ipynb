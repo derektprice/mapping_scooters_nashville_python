{
 "cells": [
  {
   "cell_type": "markdown",
   "metadata": {},
   "source": [
    "**Dealing with a large dataset on your computer** is a common challenge for data analysts. If you need to process or filter the data you can set the `chunksize=` argument of pandas `read_csv()` method to loop through and work with manageable chunks of the data.\n",
    "\n",
    "If for example, you wanted to work with a large data file (HCPS_data.csv) to pull just the rows where the `HCPS Code` is **99213**, you could read that file to a chunk of 100,000 rows at a time, filter each chunk to the rows with the specified code, save the filtered results of each chunk to a list and concatenate them all together at the end. The syntax would look something like this:\n",
    "\n",
    "```\n",
    "code_99213_rows =[]\n",
    "\n",
    "for chunk in pd.read_csv('HCPS_data.csv', chunksize = 100000):\n",
    "    code_99213_rows.append(chunk[chunk['HCPS Code'] == '99213']) \n",
    "               \n",
    "code_99213_df = pd.concat(code_99213_rows, ignore_index=True)\n",
    "```\n",
    "======================================================================   \n",
    "\n",
    "To shrink the size of a file so that it loads more quickly, converting a text file (CSV) to binary might make sense. In python, you can work with data to minimize its footprint and then store the resulting object (dataframe) as a [pickle](https://docs.python.org/3/library/pickle.html) file."
   ]
  },
  {
   "cell_type": "code",
   "execution_count": 1,
   "metadata": {},
   "outputs": [],
   "source": [
    "import pandas as pd\n",
    "import pickle"
   ]
  },
  {
   "cell_type": "code",
   "execution_count": 2,
   "metadata": {},
   "outputs": [
    {
     "name": "stdout",
     "output_type": "stream",
     "text": [
      "Wall time: 34.9 s\n"
     ]
    },
    {
     "data": {
      "text/html": [
       "<div>\n",
       "<style scoped>\n",
       "    .dataframe tbody tr th:only-of-type {\n",
       "        vertical-align: middle;\n",
       "    }\n",
       "\n",
       "    .dataframe tbody tr th {\n",
       "        vertical-align: top;\n",
       "    }\n",
       "\n",
       "    .dataframe thead th {\n",
       "        text-align: right;\n",
       "    }\n",
       "</style>\n",
       "<table border=\"1\" class=\"dataframe\">\n",
       "  <thead>\n",
       "    <tr style=\"text-align: right;\">\n",
       "      <th></th>\n",
       "      <th>pubdatetime</th>\n",
       "      <th>latitude</th>\n",
       "      <th>longitude</th>\n",
       "      <th>sumdid</th>\n",
       "      <th>sumdtype</th>\n",
       "      <th>chargelevel</th>\n",
       "      <th>sumdgroup</th>\n",
       "      <th>costpermin</th>\n",
       "      <th>companyname</th>\n",
       "    </tr>\n",
       "  </thead>\n",
       "  <tbody>\n",
       "    <tr>\n",
       "      <th>0</th>\n",
       "      <td>2019-07-01 00:00:33.550000</td>\n",
       "      <td>36.156678</td>\n",
       "      <td>-86.809004</td>\n",
       "      <td>Powered635135</td>\n",
       "      <td>Powered</td>\n",
       "      <td>22.0</td>\n",
       "      <td>scooter</td>\n",
       "      <td>0.15</td>\n",
       "      <td>Lyft</td>\n",
       "    </tr>\n",
       "    <tr>\n",
       "      <th>1</th>\n",
       "      <td>2019-07-01 00:00:34.973000</td>\n",
       "      <td>36.145674</td>\n",
       "      <td>-86.794138</td>\n",
       "      <td>Powered790946</td>\n",
       "      <td>Powered</td>\n",
       "      <td>33.0</td>\n",
       "      <td>scooter</td>\n",
       "      <td>0.15</td>\n",
       "      <td>Lyft</td>\n",
       "    </tr>\n",
       "    <tr>\n",
       "      <th>2</th>\n",
       "      <td>2019-07-01 00:00:41.183000</td>\n",
       "      <td>36.179319</td>\n",
       "      <td>-86.751538</td>\n",
       "      <td>Powered570380</td>\n",
       "      <td>Powered</td>\n",
       "      <td>76.0</td>\n",
       "      <td>scooter</td>\n",
       "      <td>0.15</td>\n",
       "      <td>Lyft</td>\n",
       "    </tr>\n",
       "    <tr>\n",
       "      <th>3</th>\n",
       "      <td>2019-07-01 00:00:41.620000</td>\n",
       "      <td>36.152111</td>\n",
       "      <td>-86.803821</td>\n",
       "      <td>Powered240631</td>\n",
       "      <td>Powered</td>\n",
       "      <td>43.0</td>\n",
       "      <td>scooter</td>\n",
       "      <td>0.15</td>\n",
       "      <td>Lyft</td>\n",
       "    </tr>\n",
       "    <tr>\n",
       "      <th>4</th>\n",
       "      <td>2019-07-01 00:00:45.087000</td>\n",
       "      <td>36.149355</td>\n",
       "      <td>-86.797550</td>\n",
       "      <td>Powered970404</td>\n",
       "      <td>Powered</td>\n",
       "      <td>52.0</td>\n",
       "      <td>scooter</td>\n",
       "      <td>0.15</td>\n",
       "      <td>Lyft</td>\n",
       "    </tr>\n",
       "  </tbody>\n",
       "</table>\n",
       "</div>"
      ],
      "text/plain": [
       "                  pubdatetime   latitude  longitude         sumdid sumdtype  \\\n",
       "0  2019-07-01 00:00:33.550000  36.156678 -86.809004  Powered635135  Powered   \n",
       "1  2019-07-01 00:00:34.973000  36.145674 -86.794138  Powered790946  Powered   \n",
       "2  2019-07-01 00:00:41.183000  36.179319 -86.751538  Powered570380  Powered   \n",
       "3  2019-07-01 00:00:41.620000  36.152111 -86.803821  Powered240631  Powered   \n",
       "4  2019-07-01 00:00:45.087000  36.149355 -86.797550  Powered970404  Powered   \n",
       "\n",
       "   chargelevel sumdgroup  costpermin companyname  \n",
       "0         22.0   scooter        0.15        Lyft  \n",
       "1         33.0   scooter        0.15        Lyft  \n",
       "2         76.0   scooter        0.15        Lyft  \n",
       "3         43.0   scooter        0.15        Lyft  \n",
       "4         52.0   scooter        0.15        Lyft  "
      ]
     },
     "execution_count": 2,
     "metadata": {},
     "output_type": "execute_result"
    }
   ],
   "source": [
    "%%time\n",
    "july = pd.read_csv('../data/july.csv')\n",
    "july.head()"
   ]
  },
  {
   "cell_type": "markdown",
   "metadata": {},
   "source": [
    "### Now try to reduce the size of the file\n",
    "- objects require the most space\n"
   ]
  },
  {
   "cell_type": "code",
   "execution_count": 3,
   "metadata": {},
   "outputs": [],
   "source": [
    "# june.info()"
   ]
  },
  {
   "cell_type": "markdown",
   "metadata": {},
   "source": [
    "#### convert the company name to an integer \n",
    "- find the unique company names\n",
    "- assign each company an integer (you can use a dictionary for this step)\n",
    "- update the `companyname` column to store the integer id for each company"
   ]
  },
  {
   "cell_type": "code",
   "execution_count": 4,
   "metadata": {},
   "outputs": [
    {
     "data": {
      "text/plain": [
       "array(['Lyft', 'Bird', 'Spin', 'Bolt', 'Jump', 'Lime', 'Gotcha'],\n",
       "      dtype=object)"
      ]
     },
     "execution_count": 4,
     "metadata": {},
     "output_type": "execute_result"
    }
   ],
   "source": [
    "july.companyname.unique()"
   ]
  },
  {
   "cell_type": "code",
   "execution_count": 5,
   "metadata": {},
   "outputs": [],
   "source": [
    "company_dict = {'Bird':0, 'Lyft': 1, 'Gotcha': 2, 'Lime': 3, 'Spin': 4, 'Jump': 5, 'Bolt': 6}"
   ]
  },
  {
   "cell_type": "code",
   "execution_count": 6,
   "metadata": {},
   "outputs": [],
   "source": [
    "july.companyname = july.companyname.replace(company_dict)"
   ]
  },
  {
   "cell_type": "markdown",
   "metadata": {},
   "source": [
    "#### next convert `pubdatetime` to a datetime "
   ]
  },
  {
   "cell_type": "code",
   "execution_count": 7,
   "metadata": {},
   "outputs": [
    {
     "data": {
      "text/html": [
       "<div>\n",
       "<style scoped>\n",
       "    .dataframe tbody tr th:only-of-type {\n",
       "        vertical-align: middle;\n",
       "    }\n",
       "\n",
       "    .dataframe tbody tr th {\n",
       "        vertical-align: top;\n",
       "    }\n",
       "\n",
       "    .dataframe thead th {\n",
       "        text-align: right;\n",
       "    }\n",
       "</style>\n",
       "<table border=\"1\" class=\"dataframe\">\n",
       "  <thead>\n",
       "    <tr style=\"text-align: right;\">\n",
       "      <th></th>\n",
       "      <th>pubdatetime</th>\n",
       "      <th>latitude</th>\n",
       "      <th>longitude</th>\n",
       "      <th>sumdid</th>\n",
       "      <th>sumdtype</th>\n",
       "      <th>chargelevel</th>\n",
       "      <th>sumdgroup</th>\n",
       "      <th>costpermin</th>\n",
       "      <th>companyname</th>\n",
       "    </tr>\n",
       "  </thead>\n",
       "  <tbody>\n",
       "    <tr>\n",
       "      <th>0</th>\n",
       "      <td>2019-07-01 00:00:33.550</td>\n",
       "      <td>36.156678</td>\n",
       "      <td>-86.809004</td>\n",
       "      <td>Powered635135</td>\n",
       "      <td>Powered</td>\n",
       "      <td>22.0</td>\n",
       "      <td>scooter</td>\n",
       "      <td>0.15</td>\n",
       "      <td>1</td>\n",
       "    </tr>\n",
       "    <tr>\n",
       "      <th>1</th>\n",
       "      <td>2019-07-01 00:00:34.973</td>\n",
       "      <td>36.145674</td>\n",
       "      <td>-86.794138</td>\n",
       "      <td>Powered790946</td>\n",
       "      <td>Powered</td>\n",
       "      <td>33.0</td>\n",
       "      <td>scooter</td>\n",
       "      <td>0.15</td>\n",
       "      <td>1</td>\n",
       "    </tr>\n",
       "  </tbody>\n",
       "</table>\n",
       "</div>"
      ],
      "text/plain": [
       "              pubdatetime   latitude  longitude         sumdid sumdtype  \\\n",
       "0 2019-07-01 00:00:33.550  36.156678 -86.809004  Powered635135  Powered   \n",
       "1 2019-07-01 00:00:34.973  36.145674 -86.794138  Powered790946  Powered   \n",
       "\n",
       "   chargelevel sumdgroup  costpermin  companyname  \n",
       "0         22.0   scooter        0.15            1  \n",
       "1         33.0   scooter        0.15            1  "
      ]
     },
     "execution_count": 7,
     "metadata": {},
     "output_type": "execute_result"
    }
   ],
   "source": [
    "july.pubdatetime = pd.to_datetime(july.pubdatetime)\n",
    "july.head(2)"
   ]
  },
  {
   "cell_type": "markdown",
   "metadata": {},
   "source": [
    "#### Next remove unneeded data\n",
    "#### keep just the scooters"
   ]
  },
  {
   "cell_type": "code",
   "execution_count": 8,
   "metadata": {},
   "outputs": [
    {
     "data": {
      "text/plain": [
       "array(['scooter', 'Scooter', 'bicycle'], dtype=object)"
      ]
     },
     "execution_count": 8,
     "metadata": {},
     "output_type": "execute_result"
    }
   ],
   "source": [
    "july.sumdgroup.unique()"
   ]
  },
  {
   "cell_type": "code",
   "execution_count": 9,
   "metadata": {},
   "outputs": [],
   "source": [
    "july_scooters = july.loc[july.sumdgroup.isin(['scooter', 'Scooter'])]"
   ]
  },
  {
   "cell_type": "markdown",
   "metadata": {},
   "source": [
    "#### keep just the columns we want to work with"
   ]
  },
  {
   "cell_type": "code",
   "execution_count": 10,
   "metadata": {},
   "outputs": [],
   "source": [
    "july_scooters = july_scooters[['pubdatetime', 'latitude', 'longitude', 'sumdid', 'chargelevel', 'companyname']]"
   ]
  },
  {
   "cell_type": "markdown",
   "metadata": {},
   "source": [
    "#### check `.info()` again"
   ]
  },
  {
   "cell_type": "code",
   "execution_count": 11,
   "metadata": {},
   "outputs": [
    {
     "name": "stdout",
     "output_type": "stream",
     "text": [
      "<class 'pandas.core.frame.DataFrame'>\n",
      "Int64Index: 25066524 entries, 0 to 25075444\n",
      "Data columns (total 6 columns):\n",
      " #   Column       Dtype         \n",
      "---  ------       -----         \n",
      " 0   pubdatetime  datetime64[ns]\n",
      " 1   latitude     float64       \n",
      " 2   longitude    float64       \n",
      " 3   sumdid       object        \n",
      " 4   chargelevel  float64       \n",
      " 5   companyname  int64         \n",
      "dtypes: datetime64[ns](1), float64(3), int64(1), object(1)\n",
      "memory usage: 1.3+ GB\n"
     ]
    }
   ],
   "source": [
    "july_scooters.info()"
   ]
  },
  {
   "cell_type": "markdown",
   "metadata": {},
   "source": [
    "#### The only object datatype remaining is sumdid (an alphanumeric unique identifier)\n",
    "- time to pickle"
   ]
  },
  {
   "cell_type": "code",
   "execution_count": 12,
   "metadata": {},
   "outputs": [],
   "source": [
    "july_scooters.to_pickle(\"../data/july.pkl\")"
   ]
  },
  {
   "cell_type": "code",
   "execution_count": 13,
   "metadata": {},
   "outputs": [
    {
     "name": "stdout",
     "output_type": "stream",
     "text": [
      "Wall time: 1.92 s\n"
     ]
    }
   ],
   "source": [
    "%%time\n",
    "july_test = pd.read_pickle(\"../data/july.pkl\")"
   ]
  },
  {
   "cell_type": "code",
   "execution_count": null,
   "metadata": {},
   "outputs": [],
   "source": []
  }
 ],
 "metadata": {
  "kernelspec": {
   "display_name": "Python 3",
   "language": "python",
   "name": "python3"
  },
  "language_info": {
   "codemirror_mode": {
    "name": "ipython",
    "version": 3
   },
   "file_extension": ".py",
   "mimetype": "text/x-python",
   "name": "python",
   "nbconvert_exporter": "python",
   "pygments_lexer": "ipython3",
   "version": "3.8.8"
  }
 },
 "nbformat": 4,
 "nbformat_minor": 2
}
