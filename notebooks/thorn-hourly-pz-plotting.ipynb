{
 "cells": [
  {
   "cell_type": "code",
   "execution_count": 194,
   "id": "cc59714a",
   "metadata": {},
   "outputs": [],
   "source": [
    "from shapely.geometry import Point\n",
    "import pandas as pd\n",
    "import pickle\n",
    "import matplotlib.pyplot as plt\n",
    "from datetime import date, timedelta, datetime\n",
    "import geopandas as gpd\n",
    "import folium\n",
    "from folium.plugins import MarkerCluster"
   ]
  },
  {
   "cell_type": "markdown",
   "id": "8cb8398f",
   "metadata": {},
   "source": [
    "loading may data - pickle and csv\n"
   ]
  },
  {
   "cell_type": "code",
   "execution_count": 210,
   "id": "447c91be",
   "metadata": {
    "scrolled": true
   },
   "outputs": [
    {
     "name": "stdout",
     "output_type": "stream",
     "text": [
      "Wall time: 2.12 s\n"
     ]
    }
   ],
   "source": [
    "%%time\n",
    "may_loc = pd.read_pickle(\"../data/may.pkl\")\n",
    "# may_trip = pd.read_csv(\"../data/may_trip.csv\")"
   ]
  },
  {
   "cell_type": "markdown",
   "id": "69bd8bc1",
   "metadata": {},
   "source": [
    "## SECTION: DICTIONARY OF TIME-SEGMENT DATAFRAMES\n",
    "This section makes a dictionary of dataframes. The dataframes can be \"chunked up\" into different time segments. The main things you need to adjust: the start and end variables, and the delta variable, which designates how \"big\" a \"time chunk\" should be. Datetime docs here: https://docs.python.org/3/library/datetime.html"
   ]
  },
  {
   "cell_type": "code",
   "execution_count": 212,
   "id": "07862d46",
   "metadata": {
    "scrolled": true
   },
   "outputs": [
    {
     "data": {
      "text/html": [
       "<div>\n",
       "<style scoped>\n",
       "    .dataframe tbody tr th:only-of-type {\n",
       "        vertical-align: middle;\n",
       "    }\n",
       "\n",
       "    .dataframe tbody tr th {\n",
       "        vertical-align: top;\n",
       "    }\n",
       "\n",
       "    .dataframe thead th {\n",
       "        text-align: right;\n",
       "    }\n",
       "</style>\n",
       "<table border=\"1\" class=\"dataframe\">\n",
       "  <thead>\n",
       "    <tr style=\"text-align: right;\">\n",
       "      <th></th>\n",
       "      <th>pubdatetime</th>\n",
       "      <th>latitude</th>\n",
       "      <th>longitude</th>\n",
       "      <th>sumdid</th>\n",
       "      <th>chargelevel</th>\n",
       "      <th>companyname</th>\n",
       "    </tr>\n",
       "  </thead>\n",
       "  <tbody>\n",
       "    <tr>\n",
       "      <th>0</th>\n",
       "      <td>2019-05-01 00:01:41.247</td>\n",
       "      <td>36.136822</td>\n",
       "      <td>-86.799877</td>\n",
       "      <td>PoweredLIRL1</td>\n",
       "      <td>93.0</td>\n",
       "      <td>0</td>\n",
       "    </tr>\n",
       "    <tr>\n",
       "      <th>1</th>\n",
       "      <td>2019-05-01 00:01:41.247</td>\n",
       "      <td>36.191252</td>\n",
       "      <td>-86.772945</td>\n",
       "      <td>PoweredXWRWC</td>\n",
       "      <td>35.0</td>\n",
       "      <td>0</td>\n",
       "    </tr>\n",
       "    <tr>\n",
       "      <th>2</th>\n",
       "      <td>2019-05-01 00:01:41.247</td>\n",
       "      <td>36.144752</td>\n",
       "      <td>-86.806293</td>\n",
       "      <td>PoweredMEJEH</td>\n",
       "      <td>90.0</td>\n",
       "      <td>0</td>\n",
       "    </tr>\n",
       "    <tr>\n",
       "      <th>3</th>\n",
       "      <td>2019-05-01 00:01:41.247</td>\n",
       "      <td>36.162056</td>\n",
       "      <td>-86.774688</td>\n",
       "      <td>Powered1A7TC</td>\n",
       "      <td>88.0</td>\n",
       "      <td>0</td>\n",
       "    </tr>\n",
       "    <tr>\n",
       "      <th>4</th>\n",
       "      <td>2019-05-01 00:01:41.247</td>\n",
       "      <td>36.150973</td>\n",
       "      <td>-86.783109</td>\n",
       "      <td>Powered2TYEF</td>\n",
       "      <td>98.0</td>\n",
       "      <td>0</td>\n",
       "    </tr>\n",
       "  </tbody>\n",
       "</table>\n",
       "</div>"
      ],
      "text/plain": [
       "              pubdatetime   latitude  longitude        sumdid  chargelevel  \\\n",
       "0 2019-05-01 00:01:41.247  36.136822 -86.799877  PoweredLIRL1         93.0   \n",
       "1 2019-05-01 00:01:41.247  36.191252 -86.772945  PoweredXWRWC         35.0   \n",
       "2 2019-05-01 00:01:41.247  36.144752 -86.806293  PoweredMEJEH         90.0   \n",
       "3 2019-05-01 00:01:41.247  36.162056 -86.774688  Powered1A7TC         88.0   \n",
       "4 2019-05-01 00:01:41.247  36.150973 -86.783109  Powered2TYEF         98.0   \n",
       "\n",
       "   companyname  \n",
       "0            0  \n",
       "1            0  \n",
       "2            0  \n",
       "3            0  \n",
       "4            0  "
      ]
     },
     "execution_count": 212,
     "metadata": {},
     "output_type": "execute_result"
    }
   ],
   "source": [
    "# may_trip['pubTimeStamp'] = pd.to_datetime(may_trip['pubTimeStamp'])\n",
    "# may_trip['pubTimeStamp']\n",
    "# may_trip.head()\n",
    "# may_trip.info()\n",
    "may_loc.head()\n",
    "\n",
    "# Austin PEay's company dict, built from pickle file\n",
    "#company_dict = {'Bird':0, 'Lyft': 1, 'Gotcha': 2, 'Lime': 3, 'Spin': 4, 'Jump': 5, 'Bolt': 6}\n"
   ]
  },
  {
   "cell_type": "code",
   "execution_count": 211,
   "id": "be1d24ad",
   "metadata": {
    "scrolled": false
   },
   "outputs": [],
   "source": [
    "#make a list of datetimes with datetime function \n",
    "start = datetime(2019, 5, 10, 0, 0)\n",
    "end = datetime(2019, 5, 11, 0, 0)\n",
    "delta = timedelta(days=1)\n",
    "timelist = []\n",
    "timenamelist = []\n",
    "while start <= end:\n",
    "    timelist.append(start)\n",
    "    timenamelist.append(start.strftime(\"%Y-%m-%d-%H-%M\"))\n",
    "    start += delta\n",
    "# print(timelist)\n",
    "# print(timenamelist)"
   ]
  },
  {
   "cell_type": "code",
   "execution_count": 196,
   "id": "185325f8",
   "metadata": {},
   "outputs": [
    {
     "name": "stdout",
     "output_type": "stream",
     "text": [
      "['2019-05-10-00-00', '2019-05-11-00-00']\n"
     ]
    }
   ],
   "source": [
    "print(timenamelist)"
   ]
  },
  {
   "cell_type": "code",
   "execution_count": 213,
   "id": "7562016e",
   "metadata": {
    "scrolled": false
   },
   "outputs": [
    {
     "name": "stdout",
     "output_type": "stream",
     "text": [
      "1\n"
     ]
    }
   ],
   "source": [
    "#goal of function: using list of time frames, in this case, days, make a dataframe containing\n",
    "#info about the location for each scooter, for each day\n",
    "\n",
    "\n",
    "#make dictionary of dataframes using base dataframe and a user-defined segments_of_time_list\n",
    "#from cell above\n",
    "def make_day_df(datetime_list, timenames_list, dataframe, colname):\n",
    "    resultslist = {} #turn into dictionary\n",
    "    x = 0\n",
    "    y = 1\n",
    "    z = 0\n",
    "    while x in range(0,len(datetime_list)-1):\n",
    "        starttime = datetime_list[x]\n",
    "        endtime = datetime_list[y]\n",
    "        mask = (dataframe[colname] > starttime) & (dataframe[colname] <= endtime)\n",
    "        framename = dataframe.loc[mask]\n",
    "        x += 1\n",
    "        y += 1\n",
    "        print(x)\n",
    "        resultslist[timenames_list[z]] = framename\n",
    "        z += 1\n",
    "    return resultslist\n",
    "        \n",
    "the_output = make_day_df(timelist, timenamelist, may_loc, \"pubdatetime\")\n"
   ]
  },
  {
   "cell_type": "code",
   "execution_count": 214,
   "id": "2df91387",
   "metadata": {
    "scrolled": true
   },
   "outputs": [
    {
     "data": {
      "text/plain": [
       "dict_keys(['2019-05-10-00-00'])"
      ]
     },
     "execution_count": 214,
     "metadata": {},
     "output_type": "execute_result"
    }
   ],
   "source": [
    "the_output.keys()"
   ]
  },
  {
   "cell_type": "code",
   "execution_count": 216,
   "id": "e28dcbce",
   "metadata": {
    "scrolled": true
   },
   "outputs": [
    {
     "data": {
      "text/plain": [
       "3044"
      ]
     },
     "execution_count": 216,
     "metadata": {},
     "output_type": "execute_result"
    }
   ],
   "source": [
    "output_df = the_output['2019-05-10-00-00']\n",
    "the_output['2019-05-10-00-00']['sumdid'].nunique()"
   ]
  },
  {
   "cell_type": "markdown",
   "id": "7f499750",
   "metadata": {},
   "source": [
    "#### To Do\n",
    "must figure out a way to narrow down the output_df. Basically, if the scooters check in every 5 minutes, I don't want to count the same scooter every time it checks in from the same location. Right now, the only filtering that has been done is by a set time period - still need to process that time period to get a more accurate picture of how many unique scooters are in a specific location during a spectific timeframe\n",
    "\n",
    "##### Goal: to have a dataframe which does not contain multiple entries for the same sumdid if it remains at the same lat and long.\n",
    "Basically, I'm only interested in mapping the number of unique scooters available within a given timeframe"
   ]
  },
  {
   "cell_type": "code",
   "execution_count": 222,
   "id": "8f7ff9f1",
   "metadata": {},
   "outputs": [
    {
     "data": {
      "text/plain": [
       "PoweredV7AZAO3WJGWCX    False\n",
       "PoweredTB6JVKPTKJCQL    False\n",
       "PoweredUCLK2G4J226JB    False\n",
       "PoweredCFXWO2CWJYEAX    False\n",
       "Powered4HT53YMZPD2JF    False\n",
       "                        ...  \n",
       "PoweredG6TP6            False\n",
       "PoweredDCP9Y            False\n",
       "Powered523737           False\n",
       "Powered5R5UK            False\n",
       "Powered267317           False\n",
       "Name: sumdid, Length: 3044, dtype: bool"
      ]
     },
     "execution_count": 222,
     "metadata": {},
     "output_type": "execute_result"
    }
   ],
   "source": [
    "output_df['sumdid'].value_counts() == 3"
   ]
  },
  {
   "cell_type": "markdown",
   "id": "11494a65",
   "metadata": {},
   "source": [
    "## NEW SECTION - GEOSPATIAL BELOW"
   ]
  },
  {
   "cell_type": "markdown",
   "id": "7a2788bd",
   "metadata": {},
   "source": [
    "This section below is experimental geospatial stuff, adapted from our geospatial notebook for the most part. IF you want to mess with this bit, make sure you load the notebook in the geospatial enivronment."
   ]
  },
  {
   "cell_type": "code",
   "execution_count": 92,
   "id": "2741a98d",
   "metadata": {
    "scrolled": true
   },
   "outputs": [
    {
     "name": "stdout",
     "output_type": "stream",
     "text": [
      "epsg:2274\n",
      "   OBJECTID  ZONE_ID    SHAPE_STAr     SHAPE_STLe  \\\n",
      "0         1        1  1.053728e+08   49364.601403   \n",
      "1         2        2  7.670585e+07   45226.018917   \n",
      "2         3        3  2.985488e+08   75207.067487   \n",
      "3         4        4  2.713638e+08   74348.596054   \n",
      "4         5        5  3.928178e+08  106661.712102   \n",
      "5         6        6  9.535996e+07   59256.923574   \n",
      "\n",
      "                                            geometry  \n",
      "0  POLYGON ((-86.76297 36.19364, -86.76297 36.193...  \n",
      "1  POLYGON ((-86.77838 36.14889, -86.77823 36.148...  \n",
      "2  POLYGON ((-86.70771 36.16723, -86.70758 36.166...  \n",
      "3  POLYGON ((-86.74735 36.13036, -86.74728 36.130...  \n",
      "4  POLYGON ((-86.78490 36.23358, -86.78452 36.232...  \n",
      "5  POLYGON ((-86.85223 36.16417, -86.85204 36.164...  \n"
     ]
    }
   ],
   "source": [
    "promise_zones = gpd.read_file('../data/MDHA_Promise_Zones/Export_Output_5.shp')\n",
    "print(promise_zones.crs)\n",
    "promise_zones= promise_zones.to_crs('EPSG:4326')\n",
    "print(promise_zones)"
   ]
  },
  {
   "cell_type": "code",
   "execution_count": 47,
   "id": "e00121de",
   "metadata": {
    "scrolled": false
   },
   "outputs": [
    {
     "name": "stdout",
     "output_type": "stream",
     "text": [
      "epsg:4326\n"
     ]
    },
    {
     "data": {
      "text/html": [
       "<div>\n",
       "<style scoped>\n",
       "    .dataframe tbody tr th:only-of-type {\n",
       "        vertical-align: middle;\n",
       "    }\n",
       "\n",
       "    .dataframe tbody tr th {\n",
       "        vertical-align: top;\n",
       "    }\n",
       "\n",
       "    .dataframe thead th {\n",
       "        text-align: right;\n",
       "    }\n",
       "</style>\n",
       "<table border=\"1\" class=\"dataframe\">\n",
       "  <thead>\n",
       "    <tr style=\"text-align: right;\">\n",
       "      <th></th>\n",
       "      <th>zip</th>\n",
       "      <th>objectid</th>\n",
       "      <th>po_name</th>\n",
       "      <th>shape_stlength</th>\n",
       "      <th>shape_starea</th>\n",
       "      <th>geometry</th>\n",
       "    </tr>\n",
       "  </thead>\n",
       "  <tbody>\n",
       "    <tr>\n",
       "      <th>0</th>\n",
       "      <td>37115</td>\n",
       "      <td>1</td>\n",
       "      <td>MADISON</td>\n",
       "      <td>178783.02488886821</td>\n",
       "      <td>596553400.57885742</td>\n",
       "      <td>MULTIPOLYGON (((-86.68725 36.31821, -86.68722 ...</td>\n",
       "    </tr>\n",
       "    <tr>\n",
       "      <th>1</th>\n",
       "      <td>37216</td>\n",
       "      <td>3</td>\n",
       "      <td>NASHVILLE</td>\n",
       "      <td>75820.997821400058</td>\n",
       "      <td>188884682.28344727</td>\n",
       "      <td>MULTIPOLYGON (((-86.73451 36.23774, -86.73425 ...</td>\n",
       "    </tr>\n",
       "    <tr>\n",
       "      <th>2</th>\n",
       "      <td>37204</td>\n",
       "      <td>9</td>\n",
       "      <td>NASHVILLE</td>\n",
       "      <td>93180.292250425613</td>\n",
       "      <td>200664795.51708984</td>\n",
       "      <td>MULTIPOLYGON (((-86.77914 36.13424, -86.77923 ...</td>\n",
       "    </tr>\n",
       "    <tr>\n",
       "      <th>3</th>\n",
       "      <td>37027</td>\n",
       "      <td>11</td>\n",
       "      <td>BRENTWOOD</td>\n",
       "      <td>159760.6942933173</td>\n",
       "      <td>174978422.04101562</td>\n",
       "      <td>MULTIPOLYGON (((-86.81258 36.06319, -86.81263 ...</td>\n",
       "    </tr>\n",
       "    <tr>\n",
       "      <th>4</th>\n",
       "      <td>37064</td>\n",
       "      <td>18</td>\n",
       "      <td>FRANKLIN</td>\n",
       "      <td>28995.828320601937</td>\n",
       "      <td>46969608.005737305</td>\n",
       "      <td>MULTIPOLYGON (((-87.02197 36.01200, -87.02140 ...</td>\n",
       "    </tr>\n",
       "  </tbody>\n",
       "</table>\n",
       "</div>"
      ],
      "text/plain": [
       "     zip objectid    po_name      shape_stlength        shape_starea  \\\n",
       "0  37115        1    MADISON  178783.02488886821  596553400.57885742   \n",
       "1  37216        3  NASHVILLE  75820.997821400058  188884682.28344727   \n",
       "2  37204        9  NASHVILLE  93180.292250425613  200664795.51708984   \n",
       "3  37027       11  BRENTWOOD   159760.6942933173  174978422.04101562   \n",
       "4  37064       18   FRANKLIN  28995.828320601937  46969608.005737305   \n",
       "\n",
       "                                            geometry  \n",
       "0  MULTIPOLYGON (((-86.68725 36.31821, -86.68722 ...  \n",
       "1  MULTIPOLYGON (((-86.73451 36.23774, -86.73425 ...  \n",
       "2  MULTIPOLYGON (((-86.77914 36.13424, -86.77923 ...  \n",
       "3  MULTIPOLYGON (((-86.81258 36.06319, -86.81263 ...  \n",
       "4  MULTIPOLYGON (((-87.02197 36.01200, -87.02140 ...  "
      ]
     },
     "execution_count": 47,
     "metadata": {},
     "output_type": "execute_result"
    }
   ],
   "source": [
    "# zipcodes = gpd.read_file('../../da5-geospatial-python-workshop-derektprice/data/zipcodes.geojson')\n",
    "# print(zipcodes.crs)\n",
    "# zipcodes.head()"
   ]
  },
  {
   "cell_type": "code",
   "execution_count": 93,
   "id": "3af961ad",
   "metadata": {},
   "outputs": [
    {
     "name": "stderr",
     "output_type": "stream",
     "text": [
      "C:\\Users\\Derek\\AppData\\Local\\Temp/ipykernel_14176/3068456515.py:2: SettingWithCopyWarning: \n",
      "A value is trying to be set on a copy of a slice from a DataFrame.\n",
      "Try using .loc[row_indexer,col_indexer] = value instead\n",
      "\n",
      "See the caveats in the documentation: https://pandas.pydata.org/pandas-docs/stable/user_guide/indexing.html#returning-a-view-versus-a-copy\n",
      "  output_df['geometry'] = output_df.apply(lambda x: Point(x['longitude'],\n"
     ]
    },
    {
     "data": {
      "text/html": [
       "<div>\n",
       "<style scoped>\n",
       "    .dataframe tbody tr th:only-of-type {\n",
       "        vertical-align: middle;\n",
       "    }\n",
       "\n",
       "    .dataframe tbody tr th {\n",
       "        vertical-align: top;\n",
       "    }\n",
       "\n",
       "    .dataframe thead th {\n",
       "        text-align: right;\n",
       "    }\n",
       "</style>\n",
       "<table border=\"1\" class=\"dataframe\">\n",
       "  <thead>\n",
       "    <tr style=\"text-align: right;\">\n",
       "      <th></th>\n",
       "      <th>pubdatetime</th>\n",
       "      <th>latitude</th>\n",
       "      <th>longitude</th>\n",
       "      <th>sumdid</th>\n",
       "      <th>chargelevel</th>\n",
       "      <th>companyname</th>\n",
       "      <th>geometry</th>\n",
       "    </tr>\n",
       "  </thead>\n",
       "  <tbody>\n",
       "    <tr>\n",
       "      <th>154603</th>\n",
       "      <td>2019-05-01 07:00:03.897</td>\n",
       "      <td>36.121480</td>\n",
       "      <td>-86.770450</td>\n",
       "      <td>Powered447</td>\n",
       "      <td>66.0</td>\n",
       "      <td>2</td>\n",
       "      <td>POINT (-86.77045 36.12148)</td>\n",
       "    </tr>\n",
       "    <tr>\n",
       "      <th>154604</th>\n",
       "      <td>2019-05-01 07:00:03.897</td>\n",
       "      <td>36.121393</td>\n",
       "      <td>-86.770228</td>\n",
       "      <td>Powered695</td>\n",
       "      <td>96.0</td>\n",
       "      <td>2</td>\n",
       "      <td>POINT (-86.770228 36.121393)</td>\n",
       "    </tr>\n",
       "    <tr>\n",
       "      <th>154605</th>\n",
       "      <td>2019-05-01 07:00:03.897</td>\n",
       "      <td>36.144292</td>\n",
       "      <td>-86.811540</td>\n",
       "      <td>Powered341</td>\n",
       "      <td>90.0</td>\n",
       "      <td>2</td>\n",
       "      <td>POINT (-86.81153999999999 36.144292)</td>\n",
       "    </tr>\n",
       "  </tbody>\n",
       "</table>\n",
       "</div>"
      ],
      "text/plain": [
       "                   pubdatetime   latitude  longitude      sumdid  chargelevel  \\\n",
       "154603 2019-05-01 07:00:03.897  36.121480 -86.770450  Powered447         66.0   \n",
       "154604 2019-05-01 07:00:03.897  36.121393 -86.770228  Powered695         96.0   \n",
       "154605 2019-05-01 07:00:03.897  36.144292 -86.811540  Powered341         90.0   \n",
       "\n",
       "        companyname                              geometry  \n",
       "154603            2            POINT (-86.77045 36.12148)  \n",
       "154604            2          POINT (-86.770228 36.121393)  \n",
       "154605            2  POINT (-86.81153999999999 36.144292)  "
      ]
     },
     "execution_count": 93,
     "metadata": {},
     "output_type": "execute_result"
    }
   ],
   "source": [
    "#adding geomtery column to a single output_df with lambda and point\n",
    "output_df['geometry'] = output_df.apply(lambda x: Point(x['longitude'], \n",
    "                                                         x['latitude']), axis=1)\n",
    "output_df.head(3)"
   ]
  },
  {
   "cell_type": "code",
   "execution_count": 94,
   "id": "e10db3d2",
   "metadata": {
    "scrolled": true
   },
   "outputs": [
    {
     "data": {
      "text/html": [
       "<div>\n",
       "<style scoped>\n",
       "    .dataframe tbody tr th:only-of-type {\n",
       "        vertical-align: middle;\n",
       "    }\n",
       "\n",
       "    .dataframe tbody tr th {\n",
       "        vertical-align: top;\n",
       "    }\n",
       "\n",
       "    .dataframe thead th {\n",
       "        text-align: right;\n",
       "    }\n",
       "</style>\n",
       "<table border=\"1\" class=\"dataframe\">\n",
       "  <thead>\n",
       "    <tr style=\"text-align: right;\">\n",
       "      <th></th>\n",
       "      <th>pubdatetime</th>\n",
       "      <th>latitude</th>\n",
       "      <th>longitude</th>\n",
       "      <th>sumdid</th>\n",
       "      <th>chargelevel</th>\n",
       "      <th>companyname</th>\n",
       "      <th>geometry</th>\n",
       "    </tr>\n",
       "  </thead>\n",
       "  <tbody>\n",
       "    <tr>\n",
       "      <th>154603</th>\n",
       "      <td>2019-05-01 07:00:03.897</td>\n",
       "      <td>36.121480</td>\n",
       "      <td>-86.770450</td>\n",
       "      <td>Powered447</td>\n",
       "      <td>66.0</td>\n",
       "      <td>2</td>\n",
       "      <td>POINT (-86.77045 36.12148)</td>\n",
       "    </tr>\n",
       "    <tr>\n",
       "      <th>154604</th>\n",
       "      <td>2019-05-01 07:00:03.897</td>\n",
       "      <td>36.121393</td>\n",
       "      <td>-86.770228</td>\n",
       "      <td>Powered695</td>\n",
       "      <td>96.0</td>\n",
       "      <td>2</td>\n",
       "      <td>POINT (-86.77023 36.12139)</td>\n",
       "    </tr>\n",
       "    <tr>\n",
       "      <th>154605</th>\n",
       "      <td>2019-05-01 07:00:03.897</td>\n",
       "      <td>36.144292</td>\n",
       "      <td>-86.811540</td>\n",
       "      <td>Powered341</td>\n",
       "      <td>90.0</td>\n",
       "      <td>2</td>\n",
       "      <td>POINT (-86.81154 36.14429)</td>\n",
       "    </tr>\n",
       "    <tr>\n",
       "      <th>154606</th>\n",
       "      <td>2019-05-01 07:00:03.897</td>\n",
       "      <td>36.121616</td>\n",
       "      <td>-86.770332</td>\n",
       "      <td>Powered351</td>\n",
       "      <td>61.0</td>\n",
       "      <td>2</td>\n",
       "      <td>POINT (-86.77033 36.12162)</td>\n",
       "    </tr>\n",
       "    <tr>\n",
       "      <th>154607</th>\n",
       "      <td>2019-05-01 07:00:03.897</td>\n",
       "      <td>36.121575</td>\n",
       "      <td>-86.770093</td>\n",
       "      <td>Powered759</td>\n",
       "      <td>41.0</td>\n",
       "      <td>2</td>\n",
       "      <td>POINT (-86.77009 36.12157)</td>\n",
       "    </tr>\n",
       "  </tbody>\n",
       "</table>\n",
       "</div>"
      ],
      "text/plain": [
       "                   pubdatetime   latitude  longitude      sumdid  chargelevel  \\\n",
       "154603 2019-05-01 07:00:03.897  36.121480 -86.770450  Powered447         66.0   \n",
       "154604 2019-05-01 07:00:03.897  36.121393 -86.770228  Powered695         96.0   \n",
       "154605 2019-05-01 07:00:03.897  36.144292 -86.811540  Powered341         90.0   \n",
       "154606 2019-05-01 07:00:03.897  36.121616 -86.770332  Powered351         61.0   \n",
       "154607 2019-05-01 07:00:03.897  36.121575 -86.770093  Powered759         41.0   \n",
       "\n",
       "        companyname                    geometry  \n",
       "154603            2  POINT (-86.77045 36.12148)  \n",
       "154604            2  POINT (-86.77023 36.12139)  \n",
       "154605            2  POINT (-86.81154 36.14429)  \n",
       "154606            2  POINT (-86.77033 36.12162)  \n",
       "154607            2  POINT (-86.77009 36.12157)  "
      ]
     },
     "execution_count": 94,
     "metadata": {},
     "output_type": "execute_result"
    }
   ],
   "source": [
    "#make geo dataframe out of single output dataframe\n",
    "output_df_as_geodf = gpd.GeoDataFrame(output_df,\n",
    "                           crs = promise_zones.crs,\n",
    "                           geometry = output_df['geometry'])\n",
    "output_df_as_geodf.head()"
   ]
  },
  {
   "cell_type": "code",
   "execution_count": 95,
   "id": "c3348232",
   "metadata": {
    "scrolled": true
   },
   "outputs": [
    {
     "data": {
      "text/html": [
       "<div>\n",
       "<style scoped>\n",
       "    .dataframe tbody tr th:only-of-type {\n",
       "        vertical-align: middle;\n",
       "    }\n",
       "\n",
       "    .dataframe tbody tr th {\n",
       "        vertical-align: top;\n",
       "    }\n",
       "\n",
       "    .dataframe thead th {\n",
       "        text-align: right;\n",
       "    }\n",
       "</style>\n",
       "<table border=\"1\" class=\"dataframe\">\n",
       "  <thead>\n",
       "    <tr style=\"text-align: right;\">\n",
       "      <th></th>\n",
       "      <th>pubdatetime</th>\n",
       "      <th>latitude</th>\n",
       "      <th>longitude</th>\n",
       "      <th>sumdid</th>\n",
       "      <th>chargelevel</th>\n",
       "      <th>companyname</th>\n",
       "      <th>geometry</th>\n",
       "      <th>index_right</th>\n",
       "      <th>OBJECTID</th>\n",
       "      <th>ZONE_ID</th>\n",
       "      <th>SHAPE_STAr</th>\n",
       "      <th>SHAPE_STLe</th>\n",
       "    </tr>\n",
       "  </thead>\n",
       "  <tbody>\n",
       "    <tr>\n",
       "      <th>154603</th>\n",
       "      <td>2019-05-01 07:00:03.897</td>\n",
       "      <td>36.121480</td>\n",
       "      <td>-86.770450</td>\n",
       "      <td>Powered447</td>\n",
       "      <td>66.0</td>\n",
       "      <td>2</td>\n",
       "      <td>POINT (-86.77045 36.12148)</td>\n",
       "      <td>3</td>\n",
       "      <td>4</td>\n",
       "      <td>4</td>\n",
       "      <td>2.713638e+08</td>\n",
       "      <td>74348.596054</td>\n",
       "    </tr>\n",
       "    <tr>\n",
       "      <th>154604</th>\n",
       "      <td>2019-05-01 07:00:03.897</td>\n",
       "      <td>36.121393</td>\n",
       "      <td>-86.770228</td>\n",
       "      <td>Powered695</td>\n",
       "      <td>96.0</td>\n",
       "      <td>2</td>\n",
       "      <td>POINT (-86.77023 36.12139)</td>\n",
       "      <td>3</td>\n",
       "      <td>4</td>\n",
       "      <td>4</td>\n",
       "      <td>2.713638e+08</td>\n",
       "      <td>74348.596054</td>\n",
       "    </tr>\n",
       "    <tr>\n",
       "      <th>154606</th>\n",
       "      <td>2019-05-01 07:00:03.897</td>\n",
       "      <td>36.121616</td>\n",
       "      <td>-86.770332</td>\n",
       "      <td>Powered351</td>\n",
       "      <td>61.0</td>\n",
       "      <td>2</td>\n",
       "      <td>POINT (-86.77033 36.12162)</td>\n",
       "      <td>3</td>\n",
       "      <td>4</td>\n",
       "      <td>4</td>\n",
       "      <td>2.713638e+08</td>\n",
       "      <td>74348.596054</td>\n",
       "    </tr>\n",
       "    <tr>\n",
       "      <th>154607</th>\n",
       "      <td>2019-05-01 07:00:03.897</td>\n",
       "      <td>36.121575</td>\n",
       "      <td>-86.770093</td>\n",
       "      <td>Powered759</td>\n",
       "      <td>41.0</td>\n",
       "      <td>2</td>\n",
       "      <td>POINT (-86.77009 36.12157)</td>\n",
       "      <td>3</td>\n",
       "      <td>4</td>\n",
       "      <td>4</td>\n",
       "      <td>2.713638e+08</td>\n",
       "      <td>74348.596054</td>\n",
       "    </tr>\n",
       "    <tr>\n",
       "      <th>154608</th>\n",
       "      <td>2019-05-01 07:00:03.897</td>\n",
       "      <td>36.121421</td>\n",
       "      <td>-86.770544</td>\n",
       "      <td>Powered658</td>\n",
       "      <td>98.0</td>\n",
       "      <td>2</td>\n",
       "      <td>POINT (-86.77054 36.12142)</td>\n",
       "      <td>3</td>\n",
       "      <td>4</td>\n",
       "      <td>4</td>\n",
       "      <td>2.713638e+08</td>\n",
       "      <td>74348.596054</td>\n",
       "    </tr>\n",
       "  </tbody>\n",
       "</table>\n",
       "</div>"
      ],
      "text/plain": [
       "                   pubdatetime   latitude  longitude      sumdid  chargelevel  \\\n",
       "154603 2019-05-01 07:00:03.897  36.121480 -86.770450  Powered447         66.0   \n",
       "154604 2019-05-01 07:00:03.897  36.121393 -86.770228  Powered695         96.0   \n",
       "154606 2019-05-01 07:00:03.897  36.121616 -86.770332  Powered351         61.0   \n",
       "154607 2019-05-01 07:00:03.897  36.121575 -86.770093  Powered759         41.0   \n",
       "154608 2019-05-01 07:00:03.897  36.121421 -86.770544  Powered658         98.0   \n",
       "\n",
       "        companyname                    geometry  index_right  OBJECTID  \\\n",
       "154603            2  POINT (-86.77045 36.12148)            3         4   \n",
       "154604            2  POINT (-86.77023 36.12139)            3         4   \n",
       "154606            2  POINT (-86.77033 36.12162)            3         4   \n",
       "154607            2  POINT (-86.77009 36.12157)            3         4   \n",
       "154608            2  POINT (-86.77054 36.12142)            3         4   \n",
       "\n",
       "        ZONE_ID    SHAPE_STAr    SHAPE_STLe  \n",
       "154603        4  2.713638e+08  74348.596054  \n",
       "154604        4  2.713638e+08  74348.596054  \n",
       "154606        4  2.713638e+08  74348.596054  \n",
       "154607        4  2.713638e+08  74348.596054  \n",
       "154608        4  2.713638e+08  74348.596054  "
      ]
     },
     "execution_count": 95,
     "metadata": {},
     "output_type": "execute_result"
    }
   ],
   "source": [
    "#spatial join output geo df with promise zone geodf or zipcode geodf\n",
    "# output_geodf_and_promise = gpd.sjoin(output_df_as_geodf, promise_zones, op=\"within\")\n",
    "output_geodf_and_promise.head()\n",
    "# output_geodf_and_zip = gpd.sjoin(output_df_as_geodf, zipcodes, op=\"within\")\n",
    "# output_geodf_and_zip.head()"
   ]
  },
  {
   "cell_type": "code",
   "execution_count": 52,
   "id": "af969737",
   "metadata": {
    "scrolled": true
   },
   "outputs": [
    {
     "data": {
      "text/plain": [
       "37203    15278\n",
       "37212     5535\n",
       "37204     4107\n",
       "37206     3084\n",
       "37219     2956\n",
       "37201     2328\n",
       "37208     2064\n",
       "37210     1636\n",
       "37213     1485\n",
       "37240      464\n",
       "37209      414\n",
       "37217      312\n",
       "37218      240\n",
       "37232      239\n",
       "37228      216\n",
       "37215      191\n",
       "37216      144\n",
       "37207      120\n",
       "37205      120\n",
       "37211      120\n",
       "37013      120\n",
       "37115       48\n",
       "37214       48\n",
       "37220       24\n",
       "37138       24\n",
       "Name: zip, dtype: int64"
      ]
     },
     "execution_count": 52,
     "metadata": {},
     "output_type": "execute_result"
    }
   ],
   "source": [
    "#number of rows in promise zone id or in each zip\n",
    "# output_geodf_and_promise['ZONE_ID'].value_counts()\n",
    "output_geodf_and_zip['zip'].value_counts()"
   ]
  },
  {
   "cell_type": "code",
   "execution_count": null,
   "id": "dae64bd6",
   "metadata": {
    "scrolled": false
   },
   "outputs": [],
   "source": [
    "#plotting output onto promise zones\n",
    "leg_kwds = {'title': 'Promise Zone', 'loc': 'upper left', \n",
    "            'bbox_to_anchor': (1, 1.03), 'ncol': 1}\n",
    "\n",
    "ax = promise_zones.plot(figsize = (8, 10), cmap='Set1', edgecolor = 'black',\n",
    "              legend = True, legend_kwds = leg_kwds)\n",
    "output_geodf_and_promise.plot(ax = ax, column='sumdid')\n",
    "plt.show();"
   ]
  },
  {
   "cell_type": "code",
   "execution_count": null,
   "id": "fddde426",
   "metadata": {
    "scrolled": true
   },
   "outputs": [],
   "source": [
    "#plotting output onto zip codes\n",
    "ax = zipcodes.plot(figsize = (8, 10), cmap=\"Set2\")\n",
    "output_geodf_and_zip.plot(ax = ax, column='sumdid')\n",
    "plt.show();"
   ]
  },
  {
   "cell_type": "markdown",
   "id": "6045cd15",
   "metadata": {},
   "source": [
    "trying it with folium"
   ]
  },
  {
   "cell_type": "code",
   "execution_count": 97,
   "id": "d3d836ea",
   "metadata": {
    "scrolled": false
   },
   "outputs": [
    {
     "name": "stdout",
     "output_type": "stream",
     "text": [
      "POINT (-86.77976341691249 36.138596506826)\n",
      "[36.138596506826, -86.77976341691249]\n"
     ]
    },
    {
     "name": "stderr",
     "output_type": "stream",
     "text": [
      "C:\\Users\\Derek\\AppData\\Local\\Temp/ipykernel_14176/2327727275.py:2: UserWarning: Geometry is in a geographic CRS. Results from 'centroid' are likely incorrect. Use 'GeoSeries.to_crs()' to re-project geometries to a projected CRS before this operation.\n",
      "\n",
      "  promise_center = promise_zones.geometry.centroid[1]\n"
     ]
    }
   ],
   "source": [
    "# need centroid first - centroid of promise zones. I'm just picking a random one. Be careful - need to reverse long and lat\n",
    "promise_center = promise_zones.geometry.centroid[1]\n",
    "print(promise_center)\n",
    "\n",
    "#flip it!!\n",
    "\n",
    "zone_center = [promise_center.y, promise_center.x]\n",
    "print(zone_center)"
   ]
  },
  {
   "cell_type": "markdown",
   "id": "a757f191",
   "metadata": {},
   "source": [
    "#### `itterows()` is a generator that iterates through the rows of a DataFrame and returns a tuple with the row id and row values. \n",
    "- Below, we are printing the row values for the first 3 row as we iterate through the GeoDataFrame of bus stops in 37207. \n",
    "- This idea will be helpful for creating our markers!"
   ]
  },
  {
   "cell_type": "code",
   "execution_count": 98,
   "id": "b62d4e1f",
   "metadata": {
    "scrolled": true
   },
   "outputs": [
    {
     "name": "stdout",
     "output_type": "stream",
     "text": [
      "index is 154603\n",
      "values are:\n",
      " \n",
      "pubdatetime    2019-05-01 07:00:03.897000\n",
      "latitude                         36.12148\n",
      "longitude                       -86.77045\n",
      "sumdid                         Powered447\n",
      "chargelevel                          66.0\n",
      "companyname                             2\n",
      "geometry       POINT (-86.77045 36.12148)\n",
      "index_right                             3\n",
      "OBJECTID                                4\n",
      "ZONE_ID                                 4\n",
      "SHAPE_STAr                  271363786.127\n",
      "SHAPE_STLe                   74348.596054\n",
      "Name: 154603, dtype: object\n",
      "------------------------- \n",
      "index is 154604\n",
      "values are:\n",
      " \n",
      "pubdatetime      2019-05-01 07:00:03.897000\n",
      "latitude                          36.121393\n",
      "longitude                        -86.770228\n",
      "sumdid                           Powered695\n",
      "chargelevel                            96.0\n",
      "companyname                               2\n",
      "geometry       POINT (-86.770228 36.121393)\n",
      "index_right                               3\n",
      "OBJECTID                                  4\n",
      "ZONE_ID                                   4\n",
      "SHAPE_STAr                    271363786.127\n",
      "SHAPE_STLe                     74348.596054\n",
      "Name: 154604, dtype: object\n",
      "------------------------- \n",
      "index is 154606\n",
      "values are:\n",
      " \n",
      "pubdatetime      2019-05-01 07:00:03.897000\n",
      "latitude                          36.121616\n",
      "longitude                        -86.770332\n",
      "sumdid                           Powered351\n",
      "chargelevel                            61.0\n",
      "companyname                               2\n",
      "geometry       POINT (-86.770332 36.121616)\n",
      "index_right                               3\n",
      "OBJECTID                                  4\n",
      "ZONE_ID                                   4\n",
      "SHAPE_STAr                    271363786.127\n",
      "SHAPE_STLe                     74348.596054\n",
      "Name: 154606, dtype: object\n",
      "------------------------- \n"
     ]
    }
   ],
   "source": [
    "i = 0\n",
    "for row_index, row_values in output_geodf_and_promise.iterrows():\n",
    "    if i <3: \n",
    "        print('index is', row_index)\n",
    "        print('values are:')\n",
    "        print(' ')\n",
    "        print(row_values)\n",
    "        print('------------------------- ')\n",
    "        i+=1"
   ]
  },
  {
   "cell_type": "markdown",
   "id": "da5873d0",
   "metadata": {},
   "source": [
    "#### Create map_promise_zones again with additional features:\n",
    "- add the promise zone area outline (promise_zones)\n",
    "- iterate through the output_df_as_geodf to\n",
    "    - create location from each lat and lng\n",
    "    - create a popup from the stop column - not sure about this, need to adapt\n",
    "    - create a custom icon if you want with [font-awesome](https://fontawesome.com/v4.7.0/icons/)\n",
    "    - build a marker from each location and popup and (optionally) your custom icon \n",
    "    - add the marker to  `map_promise_zones`\n",
    "- display `map_promise_zones`"
   ]
  },
  {
   "cell_type": "code",
   "execution_count": 99,
   "id": "0c445a2d",
   "metadata": {
    "scrolled": true
   },
   "outputs": [
    {
     "data": {
      "text/html": [
       "<div>\n",
       "<style scoped>\n",
       "    .dataframe tbody tr th:only-of-type {\n",
       "        vertical-align: middle;\n",
       "    }\n",
       "\n",
       "    .dataframe tbody tr th {\n",
       "        vertical-align: top;\n",
       "    }\n",
       "\n",
       "    .dataframe thead th {\n",
       "        text-align: right;\n",
       "    }\n",
       "</style>\n",
       "<table border=\"1\" class=\"dataframe\">\n",
       "  <thead>\n",
       "    <tr style=\"text-align: right;\">\n",
       "      <th></th>\n",
       "      <th>pubdatetime</th>\n",
       "      <th>latitude</th>\n",
       "      <th>longitude</th>\n",
       "      <th>sumdid</th>\n",
       "      <th>chargelevel</th>\n",
       "      <th>companyname</th>\n",
       "      <th>geometry</th>\n",
       "      <th>index_right</th>\n",
       "      <th>OBJECTID</th>\n",
       "      <th>ZONE_ID</th>\n",
       "      <th>SHAPE_STAr</th>\n",
       "      <th>SHAPE_STLe</th>\n",
       "    </tr>\n",
       "  </thead>\n",
       "  <tbody>\n",
       "    <tr>\n",
       "      <th>154603</th>\n",
       "      <td>2019-05-01 07:00:03.897</td>\n",
       "      <td>36.121480</td>\n",
       "      <td>-86.770450</td>\n",
       "      <td>Powered447</td>\n",
       "      <td>66.0</td>\n",
       "      <td>2</td>\n",
       "      <td>POINT (-86.77045 36.12148)</td>\n",
       "      <td>3</td>\n",
       "      <td>4</td>\n",
       "      <td>4</td>\n",
       "      <td>2.713638e+08</td>\n",
       "      <td>74348.596054</td>\n",
       "    </tr>\n",
       "    <tr>\n",
       "      <th>154604</th>\n",
       "      <td>2019-05-01 07:00:03.897</td>\n",
       "      <td>36.121393</td>\n",
       "      <td>-86.770228</td>\n",
       "      <td>Powered695</td>\n",
       "      <td>96.0</td>\n",
       "      <td>2</td>\n",
       "      <td>POINT (-86.77023 36.12139)</td>\n",
       "      <td>3</td>\n",
       "      <td>4</td>\n",
       "      <td>4</td>\n",
       "      <td>2.713638e+08</td>\n",
       "      <td>74348.596054</td>\n",
       "    </tr>\n",
       "    <tr>\n",
       "      <th>154606</th>\n",
       "      <td>2019-05-01 07:00:03.897</td>\n",
       "      <td>36.121616</td>\n",
       "      <td>-86.770332</td>\n",
       "      <td>Powered351</td>\n",
       "      <td>61.0</td>\n",
       "      <td>2</td>\n",
       "      <td>POINT (-86.77033 36.12162)</td>\n",
       "      <td>3</td>\n",
       "      <td>4</td>\n",
       "      <td>4</td>\n",
       "      <td>2.713638e+08</td>\n",
       "      <td>74348.596054</td>\n",
       "    </tr>\n",
       "    <tr>\n",
       "      <th>154607</th>\n",
       "      <td>2019-05-01 07:00:03.897</td>\n",
       "      <td>36.121575</td>\n",
       "      <td>-86.770093</td>\n",
       "      <td>Powered759</td>\n",
       "      <td>41.0</td>\n",
       "      <td>2</td>\n",
       "      <td>POINT (-86.77009 36.12157)</td>\n",
       "      <td>3</td>\n",
       "      <td>4</td>\n",
       "      <td>4</td>\n",
       "      <td>2.713638e+08</td>\n",
       "      <td>74348.596054</td>\n",
       "    </tr>\n",
       "    <tr>\n",
       "      <th>154608</th>\n",
       "      <td>2019-05-01 07:00:03.897</td>\n",
       "      <td>36.121421</td>\n",
       "      <td>-86.770544</td>\n",
       "      <td>Powered658</td>\n",
       "      <td>98.0</td>\n",
       "      <td>2</td>\n",
       "      <td>POINT (-86.77054 36.12142)</td>\n",
       "      <td>3</td>\n",
       "      <td>4</td>\n",
       "      <td>4</td>\n",
       "      <td>2.713638e+08</td>\n",
       "      <td>74348.596054</td>\n",
       "    </tr>\n",
       "  </tbody>\n",
       "</table>\n",
       "</div>"
      ],
      "text/plain": [
       "                   pubdatetime   latitude  longitude      sumdid  chargelevel  \\\n",
       "154603 2019-05-01 07:00:03.897  36.121480 -86.770450  Powered447         66.0   \n",
       "154604 2019-05-01 07:00:03.897  36.121393 -86.770228  Powered695         96.0   \n",
       "154606 2019-05-01 07:00:03.897  36.121616 -86.770332  Powered351         61.0   \n",
       "154607 2019-05-01 07:00:03.897  36.121575 -86.770093  Powered759         41.0   \n",
       "154608 2019-05-01 07:00:03.897  36.121421 -86.770544  Powered658         98.0   \n",
       "\n",
       "        companyname                    geometry  index_right  OBJECTID  \\\n",
       "154603            2  POINT (-86.77045 36.12148)            3         4   \n",
       "154604            2  POINT (-86.77023 36.12139)            3         4   \n",
       "154606            2  POINT (-86.77033 36.12162)            3         4   \n",
       "154607            2  POINT (-86.77009 36.12157)            3         4   \n",
       "154608            2  POINT (-86.77054 36.12142)            3         4   \n",
       "\n",
       "        ZONE_ID    SHAPE_STAr    SHAPE_STLe  \n",
       "154603        4  2.713638e+08  74348.596054  \n",
       "154604        4  2.713638e+08  74348.596054  \n",
       "154606        4  2.713638e+08  74348.596054  \n",
       "154607        4  2.713638e+08  74348.596054  \n",
       "154608        4  2.713638e+08  74348.596054  "
      ]
     },
     "execution_count": 99,
     "metadata": {},
     "output_type": "execute_result"
    }
   ],
   "source": [
    "output_geodf_and_promise.head()"
   ]
  },
  {
   "cell_type": "code",
   "execution_count": null,
   "id": "ac7ad202",
   "metadata": {
    "scrolled": true
   },
   "outputs": [],
   "source": [
    "#draw our zip code area: 37207\n",
    "map_promise_zones = folium.Map(location = zone_center, zoom_start=12)\n",
    "\n",
    "folium.GeoJson(promise_zones).add_to(map_promise_zones)\n",
    "\n",
    "#iterate through stops_in_37207 to create locations and markers \n",
    "#for each bus stop\n",
    "#remember for Folium locations, lat is listed first!!\n",
    "\n",
    "for row_index, row_values in output_geodf_and_promise.iterrows():\n",
    "    loc = [row_values['latitude'], row_values['longitude']]\n",
    "    pop = str(row_values['sumdid'])\n",
    "    icon=folium.Icon(color=\"blue\",icon=\"arrow-down\", prefix='fa')\n",
    "    \n",
    "    marker = folium.Marker(\n",
    "        location = loc, \n",
    "        popup = pop, icon = icon) \n",
    "\n",
    "    marker.add_to(map_promise_zones)\n",
    "map_promise_zones.save('../maps/promise_zone_map.html')\n",
    "\n",
    "#display our map\n",
    "map_promise_zones"
   ]
  },
  {
   "cell_type": "markdown",
   "id": "c7bc4bfb",
   "metadata": {},
   "source": [
    "#### If you have a lot of markers, you might want to use marker clusters\n",
    "- Folium has `MarkerCluster()` and `FastMarkerCluster()`\n",
    "- Construct a `MarkerCluster()` \n",
    "    - construct a `MarkerCluster()` and `.add_to()` the map\n",
    "    - when you loop through the data and create markers add those to the marker cluster\n",
    "- Construct a `FastMarkerCluster()` by passing a list of locations"
   ]
  },
  {
   "cell_type": "code",
   "execution_count": null,
   "id": "df6eead1",
   "metadata": {
    "scrolled": false
   },
   "outputs": [],
   "source": [
    "#draw our zip code area: 37207\n",
    "cluster_map_promise_zones = folium.Map(location = zone_center, zoom_start=12)\n",
    "\n",
    "#create a marker cluster\n",
    "marker_cluster = MarkerCluster().add_to(cluster_map_promise_zones)\n",
    "\n",
    "\n",
    "folium.GeoJson(promise_zones).add_to(cluster_map_promise_zones)\n",
    "\n",
    "#iterate through stops_in_37207 to create locations and markers \n",
    "#for each bus stop\n",
    "#remember for Folium locations, lat is listed first!!\n",
    "\n",
    "for row_index, row_values in output_geodf_and_promise.iterrows():\n",
    "    loc = [row_values['latitude'], row_values['longitude']]\n",
    "    pop = str(row_values['sumdid'])\n",
    "    icon=folium.Icon(color=\"blue\",icon=\"arrow-down\", prefix='fa')\n",
    "    \n",
    "    marker = folium.Marker(\n",
    "        location = loc, \n",
    "        popup = pop, icon = icon) \n",
    "\n",
    "    marker.add_to(marker_cluster)\n",
    "\n",
    "cluster_map_promise_zones.save('../maps/cluster_promise_zone_map.html')\n",
    "\n",
    "#display our map\n",
    "cluster_map_promise_zones"
   ]
  }
 ],
 "metadata": {
  "kernelspec": {
   "display_name": "Python 3 (ipykernel)",
   "language": "python",
   "name": "python3"
  },
  "language_info": {
   "codemirror_mode": {
    "name": "ipython",
    "version": 3
   },
   "file_extension": ".py",
   "mimetype": "text/x-python",
   "name": "python",
   "nbconvert_exporter": "python",
   "pygments_lexer": "ipython3",
   "version": "3.8.5"
  }
 },
 "nbformat": 4,
 "nbformat_minor": 5
}
