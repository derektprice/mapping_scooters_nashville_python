{
 "cells": [
  {
   "cell_type": "code",
   "execution_count": 1,
   "id": "cc59714a",
   "metadata": {},
   "outputs": [],
   "source": [
    "from shapely.geometry import Point\n",
    "import pandas as pd\n",
    "import pickle\n",
    "import matplotlib.pyplot as plt\n",
    "from datetime import date, timedelta, datetime\n",
    "import geopandas as gpd"
   ]
  },
  {
   "cell_type": "markdown",
   "id": "8cb8398f",
   "metadata": {},
   "source": [
    "loading may data - pickle and csv\n"
   ]
  },
  {
   "cell_type": "code",
   "execution_count": 2,
   "id": "447c91be",
   "metadata": {
    "scrolled": true
   },
   "outputs": [
    {
     "name": "stdout",
     "output_type": "stream",
     "text": [
      "Wall time: 4.35 s\n"
     ]
    }
   ],
   "source": [
    "%%time\n",
    "may_loc = pd.read_pickle(\"../data/may.pkl\")\n",
    "# may_trip = pd.read_csv(\"../data/may_trip.csv\")"
   ]
  },
  {
   "cell_type": "markdown",
   "id": "322063e1",
   "metadata": {},
   "source": [
    "This section makes a dictionary of dataframes. The dataframes can be \"chunked up\" into different time segments. The main things you need to adjust: the start and end variables, and the delta variable, which designates how \"big\" a \"time chunk\" should be."
   ]
  },
  {
   "cell_type": "code",
   "execution_count": 3,
   "id": "be1d24ad",
   "metadata": {
    "scrolled": false
   },
   "outputs": [],
   "source": [
    "#make a list of datetimes with datetime function \n",
    "start = datetime(2019, 5, 1, 0, 0)\n",
    "end = datetime(2019, 5, 1, 1, 0)\n",
    "delta = timedelta(hours=1)\n",
    "timelist = []\n",
    "timenamelist = []\n",
    "while start <= end:\n",
    "    timelist.append(start)\n",
    "    timenamelist.append(start.strftime(\"%Y-%m-%d-%H-%M\"))\n",
    "    start += delta\n",
    "# print(timelist)\n",
    "# print(timenamelist)"
   ]
  },
  {
   "cell_type": "code",
   "execution_count": 4,
   "id": "7562016e",
   "metadata": {
    "scrolled": false
   },
   "outputs": [
    {
     "name": "stdout",
     "output_type": "stream",
     "text": [
      "1\n"
     ]
    }
   ],
   "source": [
    "#goal of function: using list of time frames, in this case, days, make a dataframe containing\n",
    "#info about the location for each scooter, for each day\n",
    "\n",
    "\n",
    "#make dictionary of dataframes using base dataframe and a user-defined segments_of_time_list\n",
    "#from cell above\n",
    "def make_day_df(datetime_list, timenames_list, dataframe, colname):\n",
    "    resultslist = {} #turn into dictionary\n",
    "    x = 0\n",
    "    y = 1\n",
    "    z = 0\n",
    "    while x in range(0,len(datetime_list)-1):\n",
    "        starttime = datetime_list[x]\n",
    "        endtime = datetime_list[y]\n",
    "        mask = (dataframe[colname] > starttime) & (dataframe[colname] <= endtime)\n",
    "        framename = dataframe.loc[mask]\n",
    "        x += 1\n",
    "        y += 1\n",
    "        print(x)\n",
    "        resultslist[timenames_list[z]] = framename\n",
    "        z += 1\n",
    "    return resultslist\n",
    "        \n",
    "the_output = make_day_df(timelist, timenamelist, may_loc,\"pubdatetime\")\n"
   ]
  },
  {
   "cell_type": "code",
   "execution_count": 5,
   "id": "2df91387",
   "metadata": {
    "scrolled": true
   },
   "outputs": [
    {
     "data": {
      "text/plain": [
       "dict_keys(['2019-05-01-00-00'])"
      ]
     },
     "execution_count": 5,
     "metadata": {},
     "output_type": "execute_result"
    }
   ],
   "source": [
    "the_output.keys()"
   ]
  },
  {
   "cell_type": "code",
   "execution_count": 6,
   "id": "e28dcbce",
   "metadata": {
    "scrolled": true
   },
   "outputs": [
    {
     "data": {
      "text/html": [
       "<div>\n",
       "<style scoped>\n",
       "    .dataframe tbody tr th:only-of-type {\n",
       "        vertical-align: middle;\n",
       "    }\n",
       "\n",
       "    .dataframe tbody tr th {\n",
       "        vertical-align: top;\n",
       "    }\n",
       "\n",
       "    .dataframe thead th {\n",
       "        text-align: right;\n",
       "    }\n",
       "</style>\n",
       "<table border=\"1\" class=\"dataframe\">\n",
       "  <thead>\n",
       "    <tr style=\"text-align: right;\">\n",
       "      <th></th>\n",
       "      <th>pubdatetime</th>\n",
       "      <th>latitude</th>\n",
       "      <th>longitude</th>\n",
       "      <th>sumdid</th>\n",
       "      <th>chargelevel</th>\n",
       "      <th>companyname</th>\n",
       "    </tr>\n",
       "  </thead>\n",
       "  <tbody>\n",
       "    <tr>\n",
       "      <th>0</th>\n",
       "      <td>2019-05-01 00:01:41.247</td>\n",
       "      <td>36.136822</td>\n",
       "      <td>-86.799877</td>\n",
       "      <td>PoweredLIRL1</td>\n",
       "      <td>93.0</td>\n",
       "      <td>0</td>\n",
       "    </tr>\n",
       "    <tr>\n",
       "      <th>1</th>\n",
       "      <td>2019-05-01 00:01:41.247</td>\n",
       "      <td>36.191252</td>\n",
       "      <td>-86.772945</td>\n",
       "      <td>PoweredXWRWC</td>\n",
       "      <td>35.0</td>\n",
       "      <td>0</td>\n",
       "    </tr>\n",
       "    <tr>\n",
       "      <th>2</th>\n",
       "      <td>2019-05-01 00:01:41.247</td>\n",
       "      <td>36.144752</td>\n",
       "      <td>-86.806293</td>\n",
       "      <td>PoweredMEJEH</td>\n",
       "      <td>90.0</td>\n",
       "      <td>0</td>\n",
       "    </tr>\n",
       "    <tr>\n",
       "      <th>3</th>\n",
       "      <td>2019-05-01 00:01:41.247</td>\n",
       "      <td>36.162056</td>\n",
       "      <td>-86.774688</td>\n",
       "      <td>Powered1A7TC</td>\n",
       "      <td>88.0</td>\n",
       "      <td>0</td>\n",
       "    </tr>\n",
       "    <tr>\n",
       "      <th>4</th>\n",
       "      <td>2019-05-01 00:01:41.247</td>\n",
       "      <td>36.150973</td>\n",
       "      <td>-86.783109</td>\n",
       "      <td>Powered2TYEF</td>\n",
       "      <td>98.0</td>\n",
       "      <td>0</td>\n",
       "    </tr>\n",
       "    <tr>\n",
       "      <th>...</th>\n",
       "      <td>...</td>\n",
       "      <td>...</td>\n",
       "      <td>...</td>\n",
       "      <td>...</td>\n",
       "      <td>...</td>\n",
       "      <td>...</td>\n",
       "    </tr>\n",
       "    <tr>\n",
       "      <th>26124</th>\n",
       "      <td>2019-05-01 00:59:59.163</td>\n",
       "      <td>36.121562</td>\n",
       "      <td>-86.774363</td>\n",
       "      <td>PoweredKJTKOKALXNPZX</td>\n",
       "      <td>81.0</td>\n",
       "      <td>3</td>\n",
       "    </tr>\n",
       "    <tr>\n",
       "      <th>26125</th>\n",
       "      <td>2019-05-01 00:59:59.163</td>\n",
       "      <td>36.122702</td>\n",
       "      <td>-86.775087</td>\n",
       "      <td>PoweredCVH7LMHIIIIAF</td>\n",
       "      <td>77.0</td>\n",
       "      <td>3</td>\n",
       "    </tr>\n",
       "    <tr>\n",
       "      <th>26126</th>\n",
       "      <td>2019-05-01 00:59:59.163</td>\n",
       "      <td>36.124224</td>\n",
       "      <td>-86.773634</td>\n",
       "      <td>Powered5SZPJJWT56FG3</td>\n",
       "      <td>81.0</td>\n",
       "      <td>3</td>\n",
       "    </tr>\n",
       "    <tr>\n",
       "      <th>26127</th>\n",
       "      <td>2019-05-01 00:59:59.163</td>\n",
       "      <td>36.127435</td>\n",
       "      <td>-86.776972</td>\n",
       "      <td>PoweredIKAA5T3PT44MA</td>\n",
       "      <td>42.0</td>\n",
       "      <td>3</td>\n",
       "    </tr>\n",
       "    <tr>\n",
       "      <th>26128</th>\n",
       "      <td>2019-05-01 00:59:59.163</td>\n",
       "      <td>36.121652</td>\n",
       "      <td>-86.775252</td>\n",
       "      <td>PoweredCN733N3T4HQDT</td>\n",
       "      <td>65.0</td>\n",
       "      <td>3</td>\n",
       "    </tr>\n",
       "  </tbody>\n",
       "</table>\n",
       "<p>26117 rows × 6 columns</p>\n",
       "</div>"
      ],
      "text/plain": [
       "                  pubdatetime   latitude  longitude                sumdid  \\\n",
       "0     2019-05-01 00:01:41.247  36.136822 -86.799877          PoweredLIRL1   \n",
       "1     2019-05-01 00:01:41.247  36.191252 -86.772945          PoweredXWRWC   \n",
       "2     2019-05-01 00:01:41.247  36.144752 -86.806293          PoweredMEJEH   \n",
       "3     2019-05-01 00:01:41.247  36.162056 -86.774688          Powered1A7TC   \n",
       "4     2019-05-01 00:01:41.247  36.150973 -86.783109          Powered2TYEF   \n",
       "...                       ...        ...        ...                   ...   \n",
       "26124 2019-05-01 00:59:59.163  36.121562 -86.774363  PoweredKJTKOKALXNPZX   \n",
       "26125 2019-05-01 00:59:59.163  36.122702 -86.775087  PoweredCVH7LMHIIIIAF   \n",
       "26126 2019-05-01 00:59:59.163  36.124224 -86.773634  Powered5SZPJJWT56FG3   \n",
       "26127 2019-05-01 00:59:59.163  36.127435 -86.776972  PoweredIKAA5T3PT44MA   \n",
       "26128 2019-05-01 00:59:59.163  36.121652 -86.775252  PoweredCN733N3T4HQDT   \n",
       "\n",
       "       chargelevel  companyname  \n",
       "0             93.0            0  \n",
       "1             35.0            0  \n",
       "2             90.0            0  \n",
       "3             88.0            0  \n",
       "4             98.0            0  \n",
       "...            ...          ...  \n",
       "26124         81.0            3  \n",
       "26125         77.0            3  \n",
       "26126         81.0            3  \n",
       "26127         42.0            3  \n",
       "26128         65.0            3  \n",
       "\n",
       "[26117 rows x 6 columns]"
      ]
     },
     "execution_count": 6,
     "metadata": {},
     "output_type": "execute_result"
    }
   ],
   "source": [
    "the_output['2019-05-01-00-00']\n",
    "# the_output['2019-05-01-00-00']['sumdid'].nunique()"
   ]
  },
  {
   "cell_type": "markdown",
   "id": "7a2788bd",
   "metadata": {},
   "source": [
    "This section below is experimental geospatial stuff, adapted from our geospatial notebook for the most part. IF you want to mess with this bit, make sure you load the notebook in the geospatial enivronment."
   ]
  },
  {
   "cell_type": "code",
   "execution_count": 7,
   "id": "2741a98d",
   "metadata": {
    "scrolled": true
   },
   "outputs": [
    {
     "name": "stdout",
     "output_type": "stream",
     "text": [
      "epsg:2274\n",
      "   OBJECTID  ZONE_ID    SHAPE_STAr     SHAPE_STLe  \\\n",
      "0         1        1  1.053728e+08   49364.601403   \n",
      "1         2        2  7.670585e+07   45226.018917   \n",
      "2         3        3  2.985488e+08   75207.067487   \n",
      "3         4        4  2.713638e+08   74348.596054   \n",
      "4         5        5  3.928178e+08  106661.712102   \n",
      "5         6        6  9.535996e+07   59256.923574   \n",
      "\n",
      "                                            geometry  \n",
      "0  POLYGON ((-86.76297 36.19364, -86.76297 36.193...  \n",
      "1  POLYGON ((-86.77838 36.14889, -86.77823 36.148...  \n",
      "2  POLYGON ((-86.70771 36.16723, -86.70758 36.166...  \n",
      "3  POLYGON ((-86.74735 36.13036, -86.74728 36.130...  \n",
      "4  POLYGON ((-86.78490 36.23358, -86.78452 36.232...  \n",
      "5  POLYGON ((-86.85223 36.16417, -86.85204 36.164...  \n"
     ]
    }
   ],
   "source": [
    "promise_zones = gpd.read_file('../data/MDHA_Promise_Zones/Export_Output_5.shp')\n",
    "print(promise_zones.crs)\n",
    "promise_zones= promise_zones.to_crs('EPSG:4326')\n",
    "print(promise_zones)"
   ]
  },
  {
   "cell_type": "code",
   "execution_count": 8,
   "id": "55159c32",
   "metadata": {
    "scrolled": true
   },
   "outputs": [
    {
     "data": {
      "text/plain": [
       "<AxesSubplot:>"
      ]
     },
     "execution_count": 8,
     "metadata": {},
     "output_type": "execute_result"
    },
    {
     "data": {
      "image/png": "[encoded data removed]",
      "text/plain": [
       "<Figure size 432x288 with 1 Axes>"
      ]
     },
     "metadata": {
      "needs_background": "light"
     },
     "output_type": "display_data"
    }
   ],
   "source": [
    "promise_zones.plot(cmap='Set1')"
   ]
  },
  {
   "cell_type": "code",
   "execution_count": 9,
   "id": "e00121de",
   "metadata": {
    "scrolled": false
   },
   "outputs": [],
   "source": [
    "# zipcodes = gpd.read_file('../../da5-geospatial-python-workshop-derektprice/data/zipcodes.geojson')\n",
    "# print(zipcodes.crs)\n",
    "# zipcodes.head( )"
   ]
  },
  {
   "cell_type": "code",
   "execution_count": 10,
   "id": "3af961ad",
   "metadata": {},
   "outputs": [
    {
     "name": "stderr",
     "output_type": "stream",
     "text": [
      "C:\\Users\\16153\\AppData\\Local\\Temp/ipykernel_5740/1316813279.py:2: SettingWithCopyWarning: \n",
      "A value is trying to be set on a copy of a slice from a DataFrame.\n",
      "Try using .loc[row_indexer,col_indexer] = value instead\n",
      "\n",
      "See the caveats in the documentation: https://pandas.pydata.org/pandas-docs/stable/user_guide/indexing.html#returning-a-view-versus-a-copy\n",
      "  the_output['2019-05-01-00-00']['geometry'] = the_output['2019-05-01-00-00'].apply(lambda x: Point(x['longitude'],\n"
     ]
    },
    {
     "data": {
      "text/html": [
       "<div>\n",
       "<style scoped>\n",
       "    .dataframe tbody tr th:only-of-type {\n",
       "        vertical-align: middle;\n",
       "    }\n",
       "\n",
       "    .dataframe tbody tr th {\n",
       "        vertical-align: top;\n",
       "    }\n",
       "\n",
       "    .dataframe thead th {\n",
       "        text-align: right;\n",
       "    }\n",
       "</style>\n",
       "<table border=\"1\" class=\"dataframe\">\n",
       "  <thead>\n",
       "    <tr style=\"text-align: right;\">\n",
       "      <th></th>\n",
       "      <th>pubdatetime</th>\n",
       "      <th>latitude</th>\n",
       "      <th>longitude</th>\n",
       "      <th>sumdid</th>\n",
       "      <th>chargelevel</th>\n",
       "      <th>companyname</th>\n",
       "      <th>geometry</th>\n",
       "    </tr>\n",
       "  </thead>\n",
       "  <tbody>\n",
       "    <tr>\n",
       "      <th>0</th>\n",
       "      <td>2019-05-01 00:01:41.247</td>\n",
       "      <td>36.136822</td>\n",
       "      <td>-86.799877</td>\n",
       "      <td>PoweredLIRL1</td>\n",
       "      <td>93.0</td>\n",
       "      <td>0</td>\n",
       "      <td>POINT (-86.799877 36.136822)</td>\n",
       "    </tr>\n",
       "    <tr>\n",
       "      <th>1</th>\n",
       "      <td>2019-05-01 00:01:41.247</td>\n",
       "      <td>36.191252</td>\n",
       "      <td>-86.772945</td>\n",
       "      <td>PoweredXWRWC</td>\n",
       "      <td>35.0</td>\n",
       "      <td>0</td>\n",
       "      <td>POINT (-86.77294500000001 36.191252)</td>\n",
       "    </tr>\n",
       "    <tr>\n",
       "      <th>2</th>\n",
       "      <td>2019-05-01 00:01:41.247</td>\n",
       "      <td>36.144752</td>\n",
       "      <td>-86.806293</td>\n",
       "      <td>PoweredMEJEH</td>\n",
       "      <td>90.0</td>\n",
       "      <td>0</td>\n",
       "      <td>POINT (-86.806293 36.144752)</td>\n",
       "    </tr>\n",
       "  </tbody>\n",
       "</table>\n",
       "</div>"
      ],
      "text/plain": [
       "              pubdatetime   latitude  longitude        sumdid  chargelevel  \\\n",
       "0 2019-05-01 00:01:41.247  36.136822 -86.799877  PoweredLIRL1         93.0   \n",
       "1 2019-05-01 00:01:41.247  36.191252 -86.772945  PoweredXWRWC         35.0   \n",
       "2 2019-05-01 00:01:41.247  36.144752 -86.806293  PoweredMEJEH         90.0   \n",
       "\n",
       "   companyname                              geometry  \n",
       "0            0          POINT (-86.799877 36.136822)  \n",
       "1            0  POINT (-86.77294500000001 36.191252)  \n",
       "2            0          POINT (-86.806293 36.144752)  "
      ]
     },
     "execution_count": 10,
     "metadata": {},
     "output_type": "execute_result"
    }
   ],
   "source": [
    "#adding geomtery column with lambda and point\n",
    "the_output['2019-05-01-00-00']['geometry'] = the_output['2019-05-01-00-00'].apply(lambda x: Point(x['longitude'], \n",
    "                                                         x['latitude']), axis=1)\n",
    "the_output['2019-05-01-00-00'].head(3)"
   ]
  },
  {
   "cell_type": "code",
   "execution_count": 11,
   "id": "e10db3d2",
   "metadata": {
    "scrolled": true
   },
   "outputs": [
    {
     "data": {
      "text/html": [
       "<div>\n",
       "<style scoped>\n",
       "    .dataframe tbody tr th:only-of-type {\n",
       "        vertical-align: middle;\n",
       "    }\n",
       "\n",
       "    .dataframe tbody tr th {\n",
       "        vertical-align: top;\n",
       "    }\n",
       "\n",
       "    .dataframe thead th {\n",
       "        text-align: right;\n",
       "    }\n",
       "</style>\n",
       "<table border=\"1\" class=\"dataframe\">\n",
       "  <thead>\n",
       "    <tr style=\"text-align: right;\">\n",
       "      <th></th>\n",
       "      <th>pubdatetime</th>\n",
       "      <th>latitude</th>\n",
       "      <th>longitude</th>\n",
       "      <th>sumdid</th>\n",
       "      <th>chargelevel</th>\n",
       "      <th>companyname</th>\n",
       "      <th>geometry</th>\n",
       "    </tr>\n",
       "  </thead>\n",
       "  <tbody>\n",
       "    <tr>\n",
       "      <th>0</th>\n",
       "      <td>2019-05-01 00:01:41.247</td>\n",
       "      <td>36.136822</td>\n",
       "      <td>-86.799877</td>\n",
       "      <td>PoweredLIRL1</td>\n",
       "      <td>93.0</td>\n",
       "      <td>0</td>\n",
       "      <td>POINT (-86.79988 36.13682)</td>\n",
       "    </tr>\n",
       "    <tr>\n",
       "      <th>1</th>\n",
       "      <td>2019-05-01 00:01:41.247</td>\n",
       "      <td>36.191252</td>\n",
       "      <td>-86.772945</td>\n",
       "      <td>PoweredXWRWC</td>\n",
       "      <td>35.0</td>\n",
       "      <td>0</td>\n",
       "      <td>POINT (-86.77295 36.19125)</td>\n",
       "    </tr>\n",
       "    <tr>\n",
       "      <th>2</th>\n",
       "      <td>2019-05-01 00:01:41.247</td>\n",
       "      <td>36.144752</td>\n",
       "      <td>-86.806293</td>\n",
       "      <td>PoweredMEJEH</td>\n",
       "      <td>90.0</td>\n",
       "      <td>0</td>\n",
       "      <td>POINT (-86.80629 36.14475)</td>\n",
       "    </tr>\n",
       "    <tr>\n",
       "      <th>3</th>\n",
       "      <td>2019-05-01 00:01:41.247</td>\n",
       "      <td>36.162056</td>\n",
       "      <td>-86.774688</td>\n",
       "      <td>Powered1A7TC</td>\n",
       "      <td>88.0</td>\n",
       "      <td>0</td>\n",
       "      <td>POINT (-86.77469 36.16206)</td>\n",
       "    </tr>\n",
       "    <tr>\n",
       "      <th>4</th>\n",
       "      <td>2019-05-01 00:01:41.247</td>\n",
       "      <td>36.150973</td>\n",
       "      <td>-86.783109</td>\n",
       "      <td>Powered2TYEF</td>\n",
       "      <td>98.0</td>\n",
       "      <td>0</td>\n",
       "      <td>POINT (-86.78311 36.15097)</td>\n",
       "    </tr>\n",
       "  </tbody>\n",
       "</table>\n",
       "</div>"
      ],
      "text/plain": [
       "              pubdatetime   latitude  longitude        sumdid  chargelevel  \\\n",
       "0 2019-05-01 00:01:41.247  36.136822 -86.799877  PoweredLIRL1         93.0   \n",
       "1 2019-05-01 00:01:41.247  36.191252 -86.772945  PoweredXWRWC         35.0   \n",
       "2 2019-05-01 00:01:41.247  36.144752 -86.806293  PoweredMEJEH         90.0   \n",
       "3 2019-05-01 00:01:41.247  36.162056 -86.774688  Powered1A7TC         88.0   \n",
       "4 2019-05-01 00:01:41.247  36.150973 -86.783109  Powered2TYEF         98.0   \n",
       "\n",
       "   companyname                    geometry  \n",
       "0            0  POINT (-86.79988 36.13682)  \n",
       "1            0  POINT (-86.77295 36.19125)  \n",
       "2            0  POINT (-86.80629 36.14475)  \n",
       "3            0  POINT (-86.77469 36.16206)  \n",
       "4            0  POINT (-86.78311 36.15097)  "
      ]
     },
     "execution_count": 11,
     "metadata": {},
     "output_type": "execute_result"
    }
   ],
   "source": [
    "#made a geodf\n",
    "one_hour_geodf = gpd.GeoDataFrame(the_output['2019-05-01-00-00'],\n",
    "                           crs = promise_zones.crs,\n",
    "                           geometry = the_output['2019-05-01-00-00']['geometry'])\n",
    "one_hour_geodf.head()"
   ]
  },
  {
   "cell_type": "code",
   "execution_count": 12,
   "id": "c3348232",
   "metadata": {
    "scrolled": true
   },
   "outputs": [
    {
     "data": {
      "text/html": [
       "<div>\n",
       "<style scoped>\n",
       "    .dataframe tbody tr th:only-of-type {\n",
       "        vertical-align: middle;\n",
       "    }\n",
       "\n",
       "    .dataframe tbody tr th {\n",
       "        vertical-align: top;\n",
       "    }\n",
       "\n",
       "    .dataframe thead th {\n",
       "        text-align: right;\n",
       "    }\n",
       "</style>\n",
       "<table border=\"1\" class=\"dataframe\">\n",
       "  <thead>\n",
       "    <tr style=\"text-align: right;\">\n",
       "      <th></th>\n",
       "      <th>pubdatetime</th>\n",
       "      <th>latitude</th>\n",
       "      <th>longitude</th>\n",
       "      <th>sumdid</th>\n",
       "      <th>chargelevel</th>\n",
       "      <th>companyname</th>\n",
       "      <th>geometry</th>\n",
       "      <th>index_right</th>\n",
       "      <th>OBJECTID</th>\n",
       "      <th>ZONE_ID</th>\n",
       "      <th>SHAPE_STAr</th>\n",
       "      <th>SHAPE_STLe</th>\n",
       "    </tr>\n",
       "  </thead>\n",
       "  <tbody>\n",
       "    <tr>\n",
       "      <th>0</th>\n",
       "      <td>2019-05-01 00:01:41.247</td>\n",
       "      <td>36.136822</td>\n",
       "      <td>-86.799877</td>\n",
       "      <td>PoweredLIRL1</td>\n",
       "      <td>93.0</td>\n",
       "      <td>0</td>\n",
       "      <td>POINT (-86.79988 36.13682)</td>\n",
       "      <td>1</td>\n",
       "      <td>2</td>\n",
       "      <td>2</td>\n",
       "      <td>7.670585e+07</td>\n",
       "      <td>45226.018917</td>\n",
       "    </tr>\n",
       "    <tr>\n",
       "      <th>15</th>\n",
       "      <td>2019-05-01 00:01:41.247</td>\n",
       "      <td>36.138401</td>\n",
       "      <td>-86.767465</td>\n",
       "      <td>PoweredAB4VX</td>\n",
       "      <td>65.0</td>\n",
       "      <td>0</td>\n",
       "      <td>POINT (-86.76747 36.13840)</td>\n",
       "      <td>1</td>\n",
       "      <td>2</td>\n",
       "      <td>2</td>\n",
       "      <td>7.670585e+07</td>\n",
       "      <td>45226.018917</td>\n",
       "    </tr>\n",
       "    <tr>\n",
       "      <th>35</th>\n",
       "      <td>2019-05-01 00:01:41.247</td>\n",
       "      <td>36.147219</td>\n",
       "      <td>-86.792547</td>\n",
       "      <td>PoweredS3C46</td>\n",
       "      <td>72.0</td>\n",
       "      <td>0</td>\n",
       "      <td>POINT (-86.79255 36.14722)</td>\n",
       "      <td>1</td>\n",
       "      <td>2</td>\n",
       "      <td>2</td>\n",
       "      <td>7.670585e+07</td>\n",
       "      <td>45226.018917</td>\n",
       "    </tr>\n",
       "    <tr>\n",
       "      <th>43</th>\n",
       "      <td>2019-05-01 00:01:41.247</td>\n",
       "      <td>36.138622</td>\n",
       "      <td>-86.793982</td>\n",
       "      <td>Powered125HI</td>\n",
       "      <td>85.0</td>\n",
       "      <td>0</td>\n",
       "      <td>POINT (-86.79398 36.13862)</td>\n",
       "      <td>1</td>\n",
       "      <td>2</td>\n",
       "      <td>2</td>\n",
       "      <td>7.670585e+07</td>\n",
       "      <td>45226.018917</td>\n",
       "    </tr>\n",
       "    <tr>\n",
       "      <th>51</th>\n",
       "      <td>2019-05-01 00:01:41.247</td>\n",
       "      <td>36.136810</td>\n",
       "      <td>-86.799487</td>\n",
       "      <td>Powered9JD8Y</td>\n",
       "      <td>100.0</td>\n",
       "      <td>0</td>\n",
       "      <td>POINT (-86.79949 36.13681)</td>\n",
       "      <td>1</td>\n",
       "      <td>2</td>\n",
       "      <td>2</td>\n",
       "      <td>7.670585e+07</td>\n",
       "      <td>45226.018917</td>\n",
       "    </tr>\n",
       "  </tbody>\n",
       "</table>\n",
       "</div>"
      ],
      "text/plain": [
       "               pubdatetime   latitude  longitude        sumdid  chargelevel  \\\n",
       "0  2019-05-01 00:01:41.247  36.136822 -86.799877  PoweredLIRL1         93.0   \n",
       "15 2019-05-01 00:01:41.247  36.138401 -86.767465  PoweredAB4VX         65.0   \n",
       "35 2019-05-01 00:01:41.247  36.147219 -86.792547  PoweredS3C46         72.0   \n",
       "43 2019-05-01 00:01:41.247  36.138622 -86.793982  Powered125HI         85.0   \n",
       "51 2019-05-01 00:01:41.247  36.136810 -86.799487  Powered9JD8Y        100.0   \n",
       "\n",
       "    companyname                    geometry  index_right  OBJECTID  ZONE_ID  \\\n",
       "0             0  POINT (-86.79988 36.13682)            1         2        2   \n",
       "15            0  POINT (-86.76747 36.13840)            1         2        2   \n",
       "35            0  POINT (-86.79255 36.14722)            1         2        2   \n",
       "43            0  POINT (-86.79398 36.13862)            1         2        2   \n",
       "51            0  POINT (-86.79949 36.13681)            1         2        2   \n",
       "\n",
       "      SHAPE_STAr    SHAPE_STLe  \n",
       "0   7.670585e+07  45226.018917  \n",
       "15  7.670585e+07  45226.018917  \n",
       "35  7.670585e+07  45226.018917  \n",
       "43  7.670585e+07  45226.018917  \n",
       "51  7.670585e+07  45226.018917  "
      ]
     },
     "execution_count": 12,
     "metadata": {},
     "output_type": "execute_result"
    }
   ],
   "source": [
    "#spatial join\n",
    "may_1_1AM_geodf = gpd.sjoin(one_hour_geodf, promise_zones, op=\"within\")\n",
    "may_1_1AM_geodf.head()"
   ]
  },
  {
   "cell_type": "code",
   "execution_count": 13,
   "id": "af969737",
   "metadata": {},
   "outputs": [
    {
     "data": {
      "text/plain": [
       "5    2583\n",
       "2    2168\n",
       "1    1761\n",
       "4     884\n",
       "3     424\n",
       "6      48\n",
       "Name: ZONE_ID, dtype: int64"
      ]
     },
     "execution_count": 13,
     "metadata": {},
     "output_type": "execute_result"
    }
   ],
   "source": [
    "#number of \n",
    "may_1_1AM_geodf['ZONE_ID'].value_counts()"
   ]
  }
 ],
 "metadata": {
  "kernelspec": {
   "display_name": "Python 3 (ipykernel)",
   "language": "python",
   "name": "python3"
  },
  "language_info": {
   "codemirror_mode": {
    "name": "ipython",
    "version": 3
   },
   "file_extension": ".py",
   "mimetype": "text/x-python",
   "name": "python",
   "nbconvert_exporter": "python",
   "pygments_lexer": "ipython3",
   "version": "3.8.5"
  }
 },
 "nbformat": 4,
 "nbformat_minor": 5
}
