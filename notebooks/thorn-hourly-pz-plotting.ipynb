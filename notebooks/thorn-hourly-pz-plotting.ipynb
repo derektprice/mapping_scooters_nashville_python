{
 "cells": [
  {
   "cell_type": "code",
   "execution_count": 1,
   "id": "cc59714a",
   "metadata": {},
   "outputs": [],
   "source": [
    "from shapely.geometry import Point\n",
    "import pandas as pd\n",
    "import pickle\n",
    "import matplotlib.pyplot as plt\n",
    "from datetime import date, timedelta, datetime\n",
    "import geopandas as gpd"
   ]
  },
  {
   "cell_type": "markdown",
   "id": "8cb8398f",
   "metadata": {},
   "source": [
    "loading may data - pickle and csv\n"
   ]
  },
  {
   "cell_type": "code",
   "execution_count": 2,
   "id": "447c91be",
   "metadata": {
    "scrolled": true
   },
   "outputs": [
    {
     "name": "stdout",
     "output_type": "stream",
     "text": [
      "Wall time: 3.92 s\n"
     ]
    }
   ],
   "source": [
    "%%time\n",
    "may_loc = pd.read_pickle(\"../data/may.pkl\")\n",
    "may_trip = pd.read_csv(\"../data/may_trip.csv\")"
   ]
  },
  {
   "cell_type": "code",
   "execution_count": 3,
   "id": "150a6382",
   "metadata": {},
   "outputs": [],
   "source": [
    "may_trip['pubTimeStamp'] = pd.to_datetime(may_trip['pubTimeStamp'])\n"
   ]
  },
  {
   "cell_type": "markdown",
   "id": "322063e1",
   "metadata": {},
   "source": [
    "This section makes a dictionary of dataframes. The dataframes can be \"chunked up\" into different time segments. The main things you need to adjust: the start and end variables, and the delta variable, which designates how \"big\" a \"time chunk\" should be."
   ]
  },
  {
   "cell_type": "code",
   "execution_count": 4,
   "id": "be1d24ad",
   "metadata": {
    "scrolled": false
   },
   "outputs": [],
   "source": [
    "#make a list of datetimes with datetime function \n",
    "start = datetime(2019, 5, 26, 0, 0)\n",
    "end = datetime(2019, 5, 27, 0, 0)\n",
    "delta = timedelta(days=1)\n",
    "timelist = []\n",
    "timenamelist = []\n",
    "while start <= end:\n",
    "    timelist.append(start)\n",
    "    timenamelist.append(start.strftime(\"%Y-%m-%d-%H-%M\"))\n",
    "    start += delta\n",
    "# print(timelist)\n",
    "# print(timenamelist)"
   ]
  },
  {
   "cell_type": "code",
   "execution_count": 5,
   "id": "7562016e",
   "metadata": {
    "scrolled": false
   },
   "outputs": [
    {
     "name": "stdout",
     "output_type": "stream",
     "text": [
      "1\n"
     ]
    }
   ],
   "source": [
    "#goal of function: using list of time frames, in this case, days, make a dataframe containing\n",
    "#info about the location for each scooter, for each day\n",
    "\n",
    "\n",
    "#make dictionary of dataframes using base dataframe and a user-defined segments_of_time_list\n",
    "#from cell above\n",
    "def make_day_df(datetime_list, timenames_list, dataframe, colname):\n",
    "    resultslist = {} #turn into dictionary\n",
    "    x = 0\n",
    "    y = 1\n",
    "    z = 0\n",
    "    while x in range(0,len(datetime_list)-1):\n",
    "        starttime = datetime_list[x]\n",
    "        endtime = datetime_list[y]\n",
    "        mask = (dataframe[colname] > starttime) & (dataframe[colname] <= endtime)\n",
    "        framename = dataframe.loc[mask]\n",
    "        x += 1\n",
    "        y += 1\n",
    "        print(x)\n",
    "        resultslist[timenames_list[z]] = framename\n",
    "        z += 1\n",
    "    return resultslist\n",
    "        \n",
    "the_output = make_day_df(timelist, timenamelist, may_trip,\"pubTimeStamp\")\n"
   ]
  },
  {
   "cell_type": "code",
   "execution_count": 6,
   "id": "2df91387",
   "metadata": {
    "scrolled": false
   },
   "outputs": [
    {
     "data": {
      "text/plain": [
       "dict_keys(['2019-05-26-00-00'])"
      ]
     },
     "execution_count": 6,
     "metadata": {},
     "output_type": "execute_result"
    }
   ],
   "source": [
    "the_output.keys()"
   ]
  },
  {
   "cell_type": "markdown",
   "id": "306f313d",
   "metadata": {},
   "source": [
    "I'm interested in May 26th specifically, the Saturday of Memorial Day weekend, since it had the most scooter rides."
   ]
  },
  {
   "cell_type": "code",
   "execution_count": 7,
   "id": "e28dcbce",
   "metadata": {
    "scrolled": true
   },
   "outputs": [
    {
     "data": {
      "text/html": [
       "<div>\n",
       "<style scoped>\n",
       "    .dataframe tbody tr th:only-of-type {\n",
       "        vertical-align: middle;\n",
       "    }\n",
       "\n",
       "    .dataframe tbody tr th {\n",
       "        vertical-align: top;\n",
       "    }\n",
       "\n",
       "    .dataframe thead th {\n",
       "        text-align: right;\n",
       "    }\n",
       "</style>\n",
       "<table border=\"1\" class=\"dataframe\">\n",
       "  <thead>\n",
       "    <tr style=\"text-align: right;\">\n",
       "      <th></th>\n",
       "      <th>pubTimeStamp</th>\n",
       "      <th>companyName</th>\n",
       "      <th>tripRecordNum</th>\n",
       "      <th>sumdID</th>\n",
       "      <th>tripDuration</th>\n",
       "      <th>tripDistance</th>\n",
       "      <th>startDate</th>\n",
       "      <th>startTime</th>\n",
       "      <th>endDate</th>\n",
       "      <th>endTime</th>\n",
       "      <th>startLatitude</th>\n",
       "      <th>startLongitude</th>\n",
       "      <th>endLatitude</th>\n",
       "      <th>endLongitude</th>\n",
       "      <th>tripRoute</th>\n",
       "      <th>create_dt</th>\n",
       "    </tr>\n",
       "  </thead>\n",
       "  <tbody>\n",
       "    <tr>\n",
       "      <th>176114</th>\n",
       "      <td>2019-05-26 00:00:11.587</td>\n",
       "      <td>Lyft</td>\n",
       "      <td>LFT1</td>\n",
       "      <td>Powered707225</td>\n",
       "      <td>3.878200</td>\n",
       "      <td>314.96064</td>\n",
       "      <td>2019-05-25 00:00:00</td>\n",
       "      <td>23:56:18.766666</td>\n",
       "      <td>2019-05-26 00:00:00</td>\n",
       "      <td>00:00:11.460000</td>\n",
       "      <td>36.148090</td>\n",
       "      <td>-86.810720</td>\n",
       "      <td>36.147870</td>\n",
       "      <td>-86.810880</td>\n",
       "      <td>[[36.14809,-86.81072],[36.14805,-86.81075],[36...</td>\n",
       "      <td>2019-05-27 08:27:20.343000</td>\n",
       "    </tr>\n",
       "    <tr>\n",
       "      <th>176115</th>\n",
       "      <td>2019-05-26 00:00:24.110</td>\n",
       "      <td>Lyft</td>\n",
       "      <td>LFT2</td>\n",
       "      <td>Powered763535</td>\n",
       "      <td>30.441050</td>\n",
       "      <td>4908.13664</td>\n",
       "      <td>2019-05-25 00:00:00</td>\n",
       "      <td>23:29:57.500000</td>\n",
       "      <td>2019-05-26 00:00:00</td>\n",
       "      <td>00:00:23.963333</td>\n",
       "      <td>36.158920</td>\n",
       "      <td>-86.777250</td>\n",
       "      <td>36.153800</td>\n",
       "      <td>-86.783980</td>\n",
       "      <td>[[36.15892,-86.77725],[36.15901,-86.77723],[36...</td>\n",
       "      <td>2019-05-27 08:27:20.380000</td>\n",
       "    </tr>\n",
       "    <tr>\n",
       "      <th>176116</th>\n",
       "      <td>2019-05-26 00:00:41.747</td>\n",
       "      <td>Lyft</td>\n",
       "      <td>LFT3</td>\n",
       "      <td>Powered759730</td>\n",
       "      <td>18.248550</td>\n",
       "      <td>8182.41496</td>\n",
       "      <td>2019-05-25 00:00:00</td>\n",
       "      <td>23:42:26.736666</td>\n",
       "      <td>2019-05-26 00:00:00</td>\n",
       "      <td>00:00:41.650000</td>\n",
       "      <td>36.153780</td>\n",
       "      <td>-86.784050</td>\n",
       "      <td>36.162240</td>\n",
       "      <td>-86.779540</td>\n",
       "      <td>[[36.15378,-86.78405],[36.15452,-86.78459],[36...</td>\n",
       "      <td>2019-05-27 08:27:20.420000</td>\n",
       "    </tr>\n",
       "    <tr>\n",
       "      <th>176117</th>\n",
       "      <td>2019-05-26 00:01:06.000</td>\n",
       "      <td>Bolt Mobility</td>\n",
       "      <td>BOL00985</td>\n",
       "      <td>Powered-ae44754d-5be7-0c96-4f4f-d106dc6b05ab</td>\n",
       "      <td>567.000000</td>\n",
       "      <td>6102.36000</td>\n",
       "      <td>2019-05-25 00:00:00</td>\n",
       "      <td>23:48:50</td>\n",
       "      <td>2019-05-25 00:00:00</td>\n",
       "      <td>23:58:17</td>\n",
       "      <td>36.149060</td>\n",
       "      <td>-86.806547</td>\n",
       "      <td>36.156050</td>\n",
       "      <td>-86.790311</td>\n",
       "      <td>[[\"36.149060\",\"-86.806547\"],[\"36.149050\",\"-86....</td>\n",
       "      <td>2019-05-27 05:59:24.830000</td>\n",
       "    </tr>\n",
       "    <tr>\n",
       "      <th>176118</th>\n",
       "      <td>2019-05-26 00:01:06.000</td>\n",
       "      <td>Bolt Mobility</td>\n",
       "      <td>BOL00987</td>\n",
       "      <td>Powered-40d728a6-1adb-3e5b-e813-5040890b64b5</td>\n",
       "      <td>1609.000000</td>\n",
       "      <td>16656.82000</td>\n",
       "      <td>2019-05-25 00:00:00</td>\n",
       "      <td>23:32:38</td>\n",
       "      <td>2019-05-25 00:00:00</td>\n",
       "      <td>23:59:27</td>\n",
       "      <td>36.154707</td>\n",
       "      <td>-86.785128</td>\n",
       "      <td>36.155181</td>\n",
       "      <td>-86.786919</td>\n",
       "      <td>[[\"36.154707\",\"-86.785128\"],[\"36.154709\",\"-86....</td>\n",
       "      <td>2019-05-27 05:59:24.897000</td>\n",
       "    </tr>\n",
       "    <tr>\n",
       "      <th>...</th>\n",
       "      <td>...</td>\n",
       "      <td>...</td>\n",
       "      <td>...</td>\n",
       "      <td>...</td>\n",
       "      <td>...</td>\n",
       "      <td>...</td>\n",
       "      <td>...</td>\n",
       "      <td>...</td>\n",
       "      <td>...</td>\n",
       "      <td>...</td>\n",
       "      <td>...</td>\n",
       "      <td>...</td>\n",
       "      <td>...</td>\n",
       "      <td>...</td>\n",
       "      <td>...</td>\n",
       "      <td>...</td>\n",
       "    </tr>\n",
       "    <tr>\n",
       "      <th>191193</th>\n",
       "      <td>2019-05-26 23:59:03.500</td>\n",
       "      <td>Lyft</td>\n",
       "      <td>LFT2878</td>\n",
       "      <td>Powered938052</td>\n",
       "      <td>19.499717</td>\n",
       "      <td>3904.19960</td>\n",
       "      <td>2019-05-26 00:00:00</td>\n",
       "      <td>23:39:33.406666</td>\n",
       "      <td>2019-05-26 00:00:00</td>\n",
       "      <td>23:59:03.390000</td>\n",
       "      <td>36.164010</td>\n",
       "      <td>-86.771450</td>\n",
       "      <td>36.160620</td>\n",
       "      <td>-86.774840</td>\n",
       "      <td>[[36.16401,-86.77145],[36.16409,-86.7713],[36....</td>\n",
       "      <td>2019-05-27 08:29:05.093000</td>\n",
       "    </tr>\n",
       "    <tr>\n",
       "      <th>191194</th>\n",
       "      <td>2019-05-26 23:59:09.507</td>\n",
       "      <td>Lyft</td>\n",
       "      <td>LFT2879</td>\n",
       "      <td>Powered963751</td>\n",
       "      <td>2.989867</td>\n",
       "      <td>790.68244</td>\n",
       "      <td>2019-05-26 00:00:00</td>\n",
       "      <td>23:56:10</td>\n",
       "      <td>2019-05-26 00:00:00</td>\n",
       "      <td>23:59:09.393333</td>\n",
       "      <td>36.154320</td>\n",
       "      <td>-86.784740</td>\n",
       "      <td>36.152430</td>\n",
       "      <td>-86.783840</td>\n",
       "      <td>[[36.15432,-86.78474],[36.1543,-86.78469],[36....</td>\n",
       "      <td>2019-05-27 08:29:05.123000</td>\n",
       "    </tr>\n",
       "    <tr>\n",
       "      <th>191195</th>\n",
       "      <td>2019-05-26 23:59:32.867</td>\n",
       "      <td>Lyft</td>\n",
       "      <td>LFT2880</td>\n",
       "      <td>Powered658939</td>\n",
       "      <td>48.169433</td>\n",
       "      <td>16259.84304</td>\n",
       "      <td>2019-05-26 00:00:00</td>\n",
       "      <td>23:11:22.580000</td>\n",
       "      <td>2019-05-26 00:00:00</td>\n",
       "      <td>23:59:32.746666</td>\n",
       "      <td>36.163660</td>\n",
       "      <td>-86.769230</td>\n",
       "      <td>36.160490</td>\n",
       "      <td>-86.775160</td>\n",
       "      <td>[[36.16366,-86.76923],[36.16361,-86.76921],[36...</td>\n",
       "      <td>2019-05-28 08:15:36.263000</td>\n",
       "    </tr>\n",
       "    <tr>\n",
       "      <th>191196</th>\n",
       "      <td>2019-05-26 23:59:33.527</td>\n",
       "      <td>Lyft</td>\n",
       "      <td>LFT2881</td>\n",
       "      <td>Powered490647</td>\n",
       "      <td>15.444733</td>\n",
       "      <td>5593.83220</td>\n",
       "      <td>2019-05-26 00:00:00</td>\n",
       "      <td>23:44:06.750000</td>\n",
       "      <td>2019-05-26 00:00:00</td>\n",
       "      <td>23:59:33.433333</td>\n",
       "      <td>36.149350</td>\n",
       "      <td>-86.798080</td>\n",
       "      <td>36.152170</td>\n",
       "      <td>-86.795010</td>\n",
       "      <td>[[36.14935,-86.79808],[36.14942,-86.7981],[36....</td>\n",
       "      <td>2019-05-28 08:15:36.300000</td>\n",
       "    </tr>\n",
       "    <tr>\n",
       "      <th>191197</th>\n",
       "      <td>2019-05-26 23:59:37.390</td>\n",
       "      <td>Lyft</td>\n",
       "      <td>LFT2882</td>\n",
       "      <td>Powered333075</td>\n",
       "      <td>0.206883</td>\n",
       "      <td>0.00000</td>\n",
       "      <td>2019-05-26 00:00:00</td>\n",
       "      <td>23:59:24.883333</td>\n",
       "      <td>2019-05-26 00:00:00</td>\n",
       "      <td>23:59:37.296666</td>\n",
       "      <td>36.162900</td>\n",
       "      <td>-86.771270</td>\n",
       "      <td>36.162880</td>\n",
       "      <td>-86.771270</td>\n",
       "      <td>[[36.1629,-86.77127],[36.16288,-86.77127]]</td>\n",
       "      <td>2019-05-28 08:15:36.340000</td>\n",
       "    </tr>\n",
       "  </tbody>\n",
       "</table>\n",
       "<p>15084 rows × 16 columns</p>\n",
       "</div>"
      ],
      "text/plain": [
       "                  pubTimeStamp    companyName tripRecordNum  \\\n",
       "176114 2019-05-26 00:00:11.587           Lyft          LFT1   \n",
       "176115 2019-05-26 00:00:24.110           Lyft          LFT2   \n",
       "176116 2019-05-26 00:00:41.747           Lyft          LFT3   \n",
       "176117 2019-05-26 00:01:06.000  Bolt Mobility      BOL00985   \n",
       "176118 2019-05-26 00:01:06.000  Bolt Mobility      BOL00987   \n",
       "...                        ...            ...           ...   \n",
       "191193 2019-05-26 23:59:03.500           Lyft       LFT2878   \n",
       "191194 2019-05-26 23:59:09.507           Lyft       LFT2879   \n",
       "191195 2019-05-26 23:59:32.867           Lyft       LFT2880   \n",
       "191196 2019-05-26 23:59:33.527           Lyft       LFT2881   \n",
       "191197 2019-05-26 23:59:37.390           Lyft       LFT2882   \n",
       "\n",
       "                                              sumdID  tripDuration  \\\n",
       "176114                                 Powered707225      3.878200   \n",
       "176115                                 Powered763535     30.441050   \n",
       "176116                                 Powered759730     18.248550   \n",
       "176117  Powered-ae44754d-5be7-0c96-4f4f-d106dc6b05ab    567.000000   \n",
       "176118  Powered-40d728a6-1adb-3e5b-e813-5040890b64b5   1609.000000   \n",
       "...                                              ...           ...   \n",
       "191193                                 Powered938052     19.499717   \n",
       "191194                                 Powered963751      2.989867   \n",
       "191195                                 Powered658939     48.169433   \n",
       "191196                                 Powered490647     15.444733   \n",
       "191197                                 Powered333075      0.206883   \n",
       "\n",
       "        tripDistance            startDate        startTime  \\\n",
       "176114     314.96064  2019-05-25 00:00:00  23:56:18.766666   \n",
       "176115    4908.13664  2019-05-25 00:00:00  23:29:57.500000   \n",
       "176116    8182.41496  2019-05-25 00:00:00  23:42:26.736666   \n",
       "176117    6102.36000  2019-05-25 00:00:00         23:48:50   \n",
       "176118   16656.82000  2019-05-25 00:00:00         23:32:38   \n",
       "...              ...                  ...              ...   \n",
       "191193    3904.19960  2019-05-26 00:00:00  23:39:33.406666   \n",
       "191194     790.68244  2019-05-26 00:00:00         23:56:10   \n",
       "191195   16259.84304  2019-05-26 00:00:00  23:11:22.580000   \n",
       "191196    5593.83220  2019-05-26 00:00:00  23:44:06.750000   \n",
       "191197       0.00000  2019-05-26 00:00:00  23:59:24.883333   \n",
       "\n",
       "                    endDate          endTime  startLatitude  startLongitude  \\\n",
       "176114  2019-05-26 00:00:00  00:00:11.460000      36.148090      -86.810720   \n",
       "176115  2019-05-26 00:00:00  00:00:23.963333      36.158920      -86.777250   \n",
       "176116  2019-05-26 00:00:00  00:00:41.650000      36.153780      -86.784050   \n",
       "176117  2019-05-25 00:00:00         23:58:17      36.149060      -86.806547   \n",
       "176118  2019-05-25 00:00:00         23:59:27      36.154707      -86.785128   \n",
       "...                     ...              ...            ...             ...   \n",
       "191193  2019-05-26 00:00:00  23:59:03.390000      36.164010      -86.771450   \n",
       "191194  2019-05-26 00:00:00  23:59:09.393333      36.154320      -86.784740   \n",
       "191195  2019-05-26 00:00:00  23:59:32.746666      36.163660      -86.769230   \n",
       "191196  2019-05-26 00:00:00  23:59:33.433333      36.149350      -86.798080   \n",
       "191197  2019-05-26 00:00:00  23:59:37.296666      36.162900      -86.771270   \n",
       "\n",
       "        endLatitude  endLongitude  \\\n",
       "176114    36.147870    -86.810880   \n",
       "176115    36.153800    -86.783980   \n",
       "176116    36.162240    -86.779540   \n",
       "176117    36.156050    -86.790311   \n",
       "176118    36.155181    -86.786919   \n",
       "...             ...           ...   \n",
       "191193    36.160620    -86.774840   \n",
       "191194    36.152430    -86.783840   \n",
       "191195    36.160490    -86.775160   \n",
       "191196    36.152170    -86.795010   \n",
       "191197    36.162880    -86.771270   \n",
       "\n",
       "                                                tripRoute  \\\n",
       "176114  [[36.14809,-86.81072],[36.14805,-86.81075],[36...   \n",
       "176115  [[36.15892,-86.77725],[36.15901,-86.77723],[36...   \n",
       "176116  [[36.15378,-86.78405],[36.15452,-86.78459],[36...   \n",
       "176117  [[\"36.149060\",\"-86.806547\"],[\"36.149050\",\"-86....   \n",
       "176118  [[\"36.154707\",\"-86.785128\"],[\"36.154709\",\"-86....   \n",
       "...                                                   ...   \n",
       "191193  [[36.16401,-86.77145],[36.16409,-86.7713],[36....   \n",
       "191194  [[36.15432,-86.78474],[36.1543,-86.78469],[36....   \n",
       "191195  [[36.16366,-86.76923],[36.16361,-86.76921],[36...   \n",
       "191196  [[36.14935,-86.79808],[36.14942,-86.7981],[36....   \n",
       "191197         [[36.1629,-86.77127],[36.16288,-86.77127]]   \n",
       "\n",
       "                         create_dt  \n",
       "176114  2019-05-27 08:27:20.343000  \n",
       "176115  2019-05-27 08:27:20.380000  \n",
       "176116  2019-05-27 08:27:20.420000  \n",
       "176117  2019-05-27 05:59:24.830000  \n",
       "176118  2019-05-27 05:59:24.897000  \n",
       "...                            ...  \n",
       "191193  2019-05-27 08:29:05.093000  \n",
       "191194  2019-05-27 08:29:05.123000  \n",
       "191195  2019-05-28 08:15:36.263000  \n",
       "191196  2019-05-28 08:15:36.300000  \n",
       "191197  2019-05-28 08:15:36.340000  \n",
       "\n",
       "[15084 rows x 16 columns]"
      ]
     },
     "execution_count": 7,
     "metadata": {},
     "output_type": "execute_result"
    }
   ],
   "source": [
    "the_output['2019-05-26-00-00']\n",
    "# the_output['2019-05-01-00-00']['sumdid'].nunique()"
   ]
  },
  {
   "cell_type": "code",
   "execution_count": 8,
   "id": "ceaca25a",
   "metadata": {
    "scrolled": false
   },
   "outputs": [
    {
     "data": {
      "text/plain": [
       "PoweredUNKNOWN          158\n",
       "PoweredNRVJKLPRUQ7BI     22\n",
       "PoweredNPIQBPS757EHG     21\n",
       "PoweredODIJQ7CYI4BHL     21\n",
       "PoweredFTMUQQPAHOWBB     19\n",
       "                       ... \n",
       "PoweredDSLMP              1\n",
       "PoweredPL5KM              1\n",
       "Powered27579              1\n",
       "Powered1C6W5              1\n",
       "Powered658939             1\n",
       "Name: sumdID, Length: 3879, dtype: int64"
      ]
     },
     "execution_count": 8,
     "metadata": {},
     "output_type": "execute_result"
    }
   ],
   "source": [
    "the_output['2019-05-26-00-00']['sumdID'].value_counts()\n",
    "# the_output['2019-05-01-00-00']['sumdid'].nunique()"
   ]
  },
  {
   "cell_type": "markdown",
   "id": "ad99828c",
   "metadata": {},
   "source": [
    "What I'd like to do is return only the Scooter IDs that had less than 3 rides on this day. Then be able to plot those points to see where they are clustered, because that would tell us where we can reduce the scooter density."
   ]
  },
  {
   "cell_type": "code",
   "execution_count": 9,
   "id": "aa002382",
   "metadata": {
    "scrolled": true
   },
   "outputs": [
    {
     "data": {
      "text/plain": [
       "PoweredW6ZIU            2\n",
       "PoweredW8BN3            2\n",
       "Powered6M6BIVIDG7AB7    2\n",
       "PoweredBHE6Q            2\n",
       "PoweredUZXB4            2\n",
       "                       ..\n",
       "PoweredDSLMP            1\n",
       "PoweredPL5KM            1\n",
       "Powered27579            1\n",
       "Powered1C6W5            1\n",
       "Powered658939           1\n",
       "Name: sumdID, Length: 1499, dtype: int64"
      ]
     },
     "execution_count": 9,
     "metadata": {},
     "output_type": "execute_result"
    }
   ],
   "source": [
    "the_output['2019-05-26-00-00']['sumdID'].value_counts().loc[lambda x : x<3]"
   ]
  },
  {
   "cell_type": "markdown",
   "id": "27f63cc0",
   "metadata": {},
   "source": [
    "So now we can see that on 5/26/19, 3878 (subtracting the row for unknowns) unique scooter IDs had rides. Of those 3878 scooters, 1499 only had 1 or 2 rides (not meeting the 3 rides per day threshold). So only 61% of scooters on this day had 3 or more rides."
   ]
  },
  {
   "cell_type": "markdown",
   "id": "f82676c4",
   "metadata": {},
   "source": [
    "I'm also curious to know what percentage of scooters are over-performing though. For instance, how many scooters are being used for at least 6 rides per day (twice the stated goal)?"
   ]
  },
  {
   "cell_type": "code",
   "execution_count": 10,
   "id": "9a1aeb05",
   "metadata": {
    "scrolled": true
   },
   "outputs": [
    {
     "data": {
      "text/plain": [
       "PoweredUNKNOWN          158\n",
       "PoweredNRVJKLPRUQ7BI     22\n",
       "PoweredNPIQBPS757EHG     21\n",
       "PoweredODIJQ7CYI4BHL     21\n",
       "PoweredFTMUQQPAHOWBB     19\n",
       "                       ... \n",
       "Powered603412             6\n",
       "PoweredPOUWU7US5N3FP      6\n",
       "Powered2QTOFIQINRR6M      6\n",
       "PoweredXUL56SIELSIYR      6\n",
       "PoweredSEOA4HTDBKRQS      6\n",
       "Name: sumdID, Length: 863, dtype: int64"
      ]
     },
     "execution_count": 10,
     "metadata": {},
     "output_type": "execute_result"
    }
   ],
   "source": [
    "the_output['2019-05-26-00-00']['sumdID'].value_counts().loc[lambda x : x>5]"
   ]
  },
  {
   "cell_type": "markdown",
   "id": "fdd3cca3",
   "metadata": {},
   "source": [
    "So 862 unique scooters had twice (or more) the stated rides-per-day goal on this particular day. That's 22% of the scooters."
   ]
  },
  {
   "cell_type": "markdown",
   "id": "7618016e",
   "metadata": {},
   "source": [
    "May 26th was the busiest day of the month, and the Saturday of a holiday weekend... but what about just a regular weekday? Since the aim of this project is supposed to be about getting scooters used by regular Nashville residents, let's see what the data shows us. For May, the median number of rides per day occured on May 16th. So let's run the same process for that day - what percentage of scooters had fewer than the goal of 3 rides per day, and what percentage of scooters had 6 rides or more (twice the stated goal)?"
   ]
  },
  {
   "cell_type": "code",
   "execution_count": 11,
   "id": "60c3767c",
   "metadata": {},
   "outputs": [],
   "source": [
    "#make a list of datetimes with datetime function \n",
    "start = datetime(2019, 5, 16, 0, 0)\n",
    "end = datetime(2019, 5, 17, 0, 0)\n",
    "delta = timedelta(days=1)\n",
    "timelist = []\n",
    "timenamelist = []\n",
    "while start <= end:\n",
    "    timelist.append(start)\n",
    "    timenamelist.append(start.strftime(\"%Y-%m-%d-%H-%M\"))\n",
    "    start += delta\n",
    "# print(timelist)\n",
    "# print(timenamelist)"
   ]
  },
  {
   "cell_type": "code",
   "execution_count": 12,
   "id": "ad34614f",
   "metadata": {
    "scrolled": true
   },
   "outputs": [
    {
     "name": "stdout",
     "output_type": "stream",
     "text": [
      "1\n"
     ]
    }
   ],
   "source": [
    "#goal of function: using list of time frames, in this case, days, make a dataframe containing\n",
    "#info about the location for each scooter, for each day\n",
    "\n",
    "\n",
    "#make dictionary of dataframes using base dataframe and a user-defined segments_of_time_list\n",
    "#from cell above\n",
    "def make_day_df(datetime_list, timenames_list, dataframe, colname):\n",
    "    resultslist = {} #turn into dictionary\n",
    "    x = 0\n",
    "    y = 1\n",
    "    z = 0\n",
    "    while x in range(0,len(datetime_list)-1):\n",
    "        starttime = datetime_list[x]\n",
    "        endtime = datetime_list[y]\n",
    "        mask = (dataframe[colname] > starttime) & (dataframe[colname] <= endtime)\n",
    "        framename = dataframe.loc[mask]\n",
    "        x += 1\n",
    "        y += 1\n",
    "        print(x)\n",
    "        resultslist[timenames_list[z]] = framename\n",
    "        z += 1\n",
    "    return resultslist\n",
    "        \n",
    "the_output = make_day_df(timelist, timenamelist, may_trip,\"pubTimeStamp\")\n"
   ]
  },
  {
   "cell_type": "code",
   "execution_count": 13,
   "id": "fbe1bdac",
   "metadata": {
    "scrolled": true
   },
   "outputs": [
    {
     "data": {
      "text/plain": [
       "dict_keys(['2019-05-16-00-00'])"
      ]
     },
     "execution_count": 13,
     "metadata": {},
     "output_type": "execute_result"
    }
   ],
   "source": [
    "the_output.keys()"
   ]
  },
  {
   "cell_type": "code",
   "execution_count": 15,
   "id": "eb6fcd45",
   "metadata": {
    "scrolled": true
   },
   "outputs": [
    {
     "data": {
      "text/html": [
       "<div>\n",
       "<style scoped>\n",
       "    .dataframe tbody tr th:only-of-type {\n",
       "        vertical-align: middle;\n",
       "    }\n",
       "\n",
       "    .dataframe tbody tr th {\n",
       "        vertical-align: top;\n",
       "    }\n",
       "\n",
       "    .dataframe thead th {\n",
       "        text-align: right;\n",
       "    }\n",
       "</style>\n",
       "<table border=\"1\" class=\"dataframe\">\n",
       "  <thead>\n",
       "    <tr style=\"text-align: right;\">\n",
       "      <th></th>\n",
       "      <th>pubTimeStamp</th>\n",
       "      <th>companyName</th>\n",
       "      <th>tripRecordNum</th>\n",
       "      <th>sumdID</th>\n",
       "      <th>tripDuration</th>\n",
       "      <th>tripDistance</th>\n",
       "      <th>startDate</th>\n",
       "      <th>startTime</th>\n",
       "      <th>endDate</th>\n",
       "      <th>endTime</th>\n",
       "      <th>startLatitude</th>\n",
       "      <th>startLongitude</th>\n",
       "      <th>endLatitude</th>\n",
       "      <th>endLongitude</th>\n",
       "      <th>tripRoute</th>\n",
       "      <th>create_dt</th>\n",
       "    </tr>\n",
       "  </thead>\n",
       "  <tbody>\n",
       "    <tr>\n",
       "      <th>93181</th>\n",
       "      <td>2019-05-16 00:02:13.453</td>\n",
       "      <td>Lyft</td>\n",
       "      <td>LFT1</td>\n",
       "      <td>Powered938154</td>\n",
       "      <td>9.314300</td>\n",
       "      <td>5859.58024</td>\n",
       "      <td>2019-05-15 00:00:00</td>\n",
       "      <td>23:52:54.483333</td>\n",
       "      <td>2019-05-16 00:00:00</td>\n",
       "      <td>00:02:13.343333</td>\n",
       "      <td>36.16124</td>\n",
       "      <td>-86.78494</td>\n",
       "      <td>36.15180</td>\n",
       "      <td>-86.78417</td>\n",
       "      <td>[[36.16124,-86.78494],[36.16133,-86.78504],[36...</td>\n",
       "      <td>2019-05-17 17:13:03.513000</td>\n",
       "    </tr>\n",
       "    <tr>\n",
       "      <th>93182</th>\n",
       "      <td>2019-05-16 00:02:16.093</td>\n",
       "      <td>Lyft</td>\n",
       "      <td>LFT2</td>\n",
       "      <td>Powered806743</td>\n",
       "      <td>12.068167</td>\n",
       "      <td>8553.14988</td>\n",
       "      <td>2019-05-15 00:00:00</td>\n",
       "      <td>23:50:11.886666</td>\n",
       "      <td>2019-05-16 00:00:00</td>\n",
       "      <td>00:02:15.976666</td>\n",
       "      <td>36.16033</td>\n",
       "      <td>-86.77564</td>\n",
       "      <td>36.14548</td>\n",
       "      <td>-86.79282</td>\n",
       "      <td>[[36.16033,-86.77564],[36.16028,-86.77574],[36...</td>\n",
       "      <td>2019-05-17 17:13:03.547000</td>\n",
       "    </tr>\n",
       "    <tr>\n",
       "      <th>93183</th>\n",
       "      <td>2019-05-16 00:02:21.057</td>\n",
       "      <td>Lyft</td>\n",
       "      <td>LFT3</td>\n",
       "      <td>Powered437467</td>\n",
       "      <td>10.370450</td>\n",
       "      <td>2690.28880</td>\n",
       "      <td>2019-05-15 00:00:00</td>\n",
       "      <td>23:51:58.716666</td>\n",
       "      <td>2019-05-16 00:00:00</td>\n",
       "      <td>00:02:20.943333</td>\n",
       "      <td>36.15971</td>\n",
       "      <td>-86.77992</td>\n",
       "      <td>36.16007</td>\n",
       "      <td>-86.77317</td>\n",
       "      <td>[[36.15971,-86.77992],[36.15971,-86.77986],[36...</td>\n",
       "      <td>2019-05-17 17:13:03.580000</td>\n",
       "    </tr>\n",
       "    <tr>\n",
       "      <th>93184</th>\n",
       "      <td>2019-05-16 00:02:39.433</td>\n",
       "      <td>Lyft</td>\n",
       "      <td>LFT5</td>\n",
       "      <td>Powered626167</td>\n",
       "      <td>13.016367</td>\n",
       "      <td>9025.59084</td>\n",
       "      <td>2019-05-15 00:00:00</td>\n",
       "      <td>23:49:38.283333</td>\n",
       "      <td>2019-05-16 00:00:00</td>\n",
       "      <td>00:02:39.263333</td>\n",
       "      <td>36.16034</td>\n",
       "      <td>-86.77685</td>\n",
       "      <td>36.14546</td>\n",
       "      <td>-86.79266</td>\n",
       "      <td>[[36.16034,-86.77685],[36.1602,-86.77672],[36....</td>\n",
       "      <td>2019-05-17 17:13:03.650000</td>\n",
       "    </tr>\n",
       "    <tr>\n",
       "      <th>93185</th>\n",
       "      <td>2019-05-16 00:02:41.020</td>\n",
       "      <td>Lyft</td>\n",
       "      <td>LFT6</td>\n",
       "      <td>Powered251861</td>\n",
       "      <td>12.167017</td>\n",
       "      <td>8500.65644</td>\n",
       "      <td>2019-05-15 00:00:00</td>\n",
       "      <td>23:50:30.886666</td>\n",
       "      <td>2019-05-16 00:00:00</td>\n",
       "      <td>00:02:40.906666</td>\n",
       "      <td>36.16017</td>\n",
       "      <td>-86.77623</td>\n",
       "      <td>36.14548</td>\n",
       "      <td>-86.79265</td>\n",
       "      <td>[[36.16017,-86.77623],[36.16013,-86.77618],[36...</td>\n",
       "      <td>2019-05-17 17:13:03.680000</td>\n",
       "    </tr>\n",
       "    <tr>\n",
       "      <th>...</th>\n",
       "      <td>...</td>\n",
       "      <td>...</td>\n",
       "      <td>...</td>\n",
       "      <td>...</td>\n",
       "      <td>...</td>\n",
       "      <td>...</td>\n",
       "      <td>...</td>\n",
       "      <td>...</td>\n",
       "      <td>...</td>\n",
       "      <td>...</td>\n",
       "      <td>...</td>\n",
       "      <td>...</td>\n",
       "      <td>...</td>\n",
       "      <td>...</td>\n",
       "      <td>...</td>\n",
       "      <td>...</td>\n",
       "    </tr>\n",
       "    <tr>\n",
       "      <th>97732</th>\n",
       "      <td>2019-05-16 23:59:16.003</td>\n",
       "      <td>Bird</td>\n",
       "      <td>BRD2499</td>\n",
       "      <td>PoweredKJSKW</td>\n",
       "      <td>4.000000</td>\n",
       "      <td>2624.67200</td>\n",
       "      <td>2019-05-16 00:00:00</td>\n",
       "      <td>23:56:18.543333</td>\n",
       "      <td>2019-05-17 00:00:00</td>\n",
       "      <td>00:00:09.516666</td>\n",
       "      <td>36.16040</td>\n",
       "      <td>-86.77510</td>\n",
       "      <td>36.15480</td>\n",
       "      <td>-86.77480</td>\n",
       "      <td>[[36.160351,-86.775028],[36.154864,-86.774738]]</td>\n",
       "      <td>2019-05-18 05:30:18.250000</td>\n",
       "    </tr>\n",
       "    <tr>\n",
       "      <th>97733</th>\n",
       "      <td>2019-05-16 23:59:16.003</td>\n",
       "      <td>Bird</td>\n",
       "      <td>BRD2495</td>\n",
       "      <td>PoweredUNKNOWN</td>\n",
       "      <td>0.000000</td>\n",
       "      <td>0.00000</td>\n",
       "      <td>2019-05-16 00:00:00</td>\n",
       "      <td>23:59:09.083333</td>\n",
       "      <td>2019-05-16 00:00:00</td>\n",
       "      <td>23:59:19.866666</td>\n",
       "      <td>36.16140</td>\n",
       "      <td>-86.77750</td>\n",
       "      <td>36.16140</td>\n",
       "      <td>-86.77750</td>\n",
       "      <td>[]</td>\n",
       "      <td>2019-05-18 05:30:18.120000</td>\n",
       "    </tr>\n",
       "    <tr>\n",
       "      <th>97734</th>\n",
       "      <td>2019-05-16 23:59:16.003</td>\n",
       "      <td>Bird</td>\n",
       "      <td>BRD2496</td>\n",
       "      <td>Powered2ZSZE</td>\n",
       "      <td>4.000000</td>\n",
       "      <td>2959.31768</td>\n",
       "      <td>2019-05-16 00:00:00</td>\n",
       "      <td>23:57:09.720000</td>\n",
       "      <td>2019-05-17 00:00:00</td>\n",
       "      <td>00:01:04.803333</td>\n",
       "      <td>36.17830</td>\n",
       "      <td>-86.79020</td>\n",
       "      <td>36.17150</td>\n",
       "      <td>-86.78570</td>\n",
       "      <td>[[36.178265,-86.790047],[36.178265,-86.790039]...</td>\n",
       "      <td>2019-05-18 05:30:18.153000</td>\n",
       "    </tr>\n",
       "    <tr>\n",
       "      <th>97735</th>\n",
       "      <td>2019-05-16 23:59:16.003</td>\n",
       "      <td>Bird</td>\n",
       "      <td>BRD2500</td>\n",
       "      <td>Powered4TCGH</td>\n",
       "      <td>5.000000</td>\n",
       "      <td>1640.42000</td>\n",
       "      <td>2019-05-16 00:00:00</td>\n",
       "      <td>23:55:22.840000</td>\n",
       "      <td>2019-05-17 00:00:00</td>\n",
       "      <td>00:00:19.566666</td>\n",
       "      <td>36.16260</td>\n",
       "      <td>-86.77770</td>\n",
       "      <td>36.16080</td>\n",
       "      <td>-86.77880</td>\n",
       "      <td>[[36.162796,-86.777749],[36.160911,-86.777488]...</td>\n",
       "      <td>2019-05-18 05:30:18.283000</td>\n",
       "    </tr>\n",
       "    <tr>\n",
       "      <th>97736</th>\n",
       "      <td>2019-05-16 23:59:16.003</td>\n",
       "      <td>Bird</td>\n",
       "      <td>BRD2504</td>\n",
       "      <td>Powered5I3DR</td>\n",
       "      <td>9.000000</td>\n",
       "      <td>1640.42000</td>\n",
       "      <td>2019-05-16 00:00:00</td>\n",
       "      <td>23:50:24.116666</td>\n",
       "      <td>2019-05-16 00:00:00</td>\n",
       "      <td>23:59:38.173333</td>\n",
       "      <td>36.17630</td>\n",
       "      <td>-86.75610</td>\n",
       "      <td>36.17820</td>\n",
       "      <td>-86.75150</td>\n",
       "      <td>[[36.176512,-86.756035],[36.176626,-86.755734]...</td>\n",
       "      <td>2019-05-18 05:30:18.433000</td>\n",
       "    </tr>\n",
       "  </tbody>\n",
       "</table>\n",
       "<p>4556 rows × 16 columns</p>\n",
       "</div>"
      ],
      "text/plain": [
       "                 pubTimeStamp companyName tripRecordNum          sumdID  \\\n",
       "93181 2019-05-16 00:02:13.453        Lyft          LFT1   Powered938154   \n",
       "93182 2019-05-16 00:02:16.093        Lyft          LFT2   Powered806743   \n",
       "93183 2019-05-16 00:02:21.057        Lyft          LFT3   Powered437467   \n",
       "93184 2019-05-16 00:02:39.433        Lyft          LFT5   Powered626167   \n",
       "93185 2019-05-16 00:02:41.020        Lyft          LFT6   Powered251861   \n",
       "...                       ...         ...           ...             ...   \n",
       "97732 2019-05-16 23:59:16.003        Bird       BRD2499    PoweredKJSKW   \n",
       "97733 2019-05-16 23:59:16.003        Bird       BRD2495  PoweredUNKNOWN   \n",
       "97734 2019-05-16 23:59:16.003        Bird       BRD2496    Powered2ZSZE   \n",
       "97735 2019-05-16 23:59:16.003        Bird       BRD2500    Powered4TCGH   \n",
       "97736 2019-05-16 23:59:16.003        Bird       BRD2504    Powered5I3DR   \n",
       "\n",
       "       tripDuration  tripDistance            startDate        startTime  \\\n",
       "93181      9.314300    5859.58024  2019-05-15 00:00:00  23:52:54.483333   \n",
       "93182     12.068167    8553.14988  2019-05-15 00:00:00  23:50:11.886666   \n",
       "93183     10.370450    2690.28880  2019-05-15 00:00:00  23:51:58.716666   \n",
       "93184     13.016367    9025.59084  2019-05-15 00:00:00  23:49:38.283333   \n",
       "93185     12.167017    8500.65644  2019-05-15 00:00:00  23:50:30.886666   \n",
       "...             ...           ...                  ...              ...   \n",
       "97732      4.000000    2624.67200  2019-05-16 00:00:00  23:56:18.543333   \n",
       "97733      0.000000       0.00000  2019-05-16 00:00:00  23:59:09.083333   \n",
       "97734      4.000000    2959.31768  2019-05-16 00:00:00  23:57:09.720000   \n",
       "97735      5.000000    1640.42000  2019-05-16 00:00:00  23:55:22.840000   \n",
       "97736      9.000000    1640.42000  2019-05-16 00:00:00  23:50:24.116666   \n",
       "\n",
       "                   endDate          endTime  startLatitude  startLongitude  \\\n",
       "93181  2019-05-16 00:00:00  00:02:13.343333       36.16124       -86.78494   \n",
       "93182  2019-05-16 00:00:00  00:02:15.976666       36.16033       -86.77564   \n",
       "93183  2019-05-16 00:00:00  00:02:20.943333       36.15971       -86.77992   \n",
       "93184  2019-05-16 00:00:00  00:02:39.263333       36.16034       -86.77685   \n",
       "93185  2019-05-16 00:00:00  00:02:40.906666       36.16017       -86.77623   \n",
       "...                    ...              ...            ...             ...   \n",
       "97732  2019-05-17 00:00:00  00:00:09.516666       36.16040       -86.77510   \n",
       "97733  2019-05-16 00:00:00  23:59:19.866666       36.16140       -86.77750   \n",
       "97734  2019-05-17 00:00:00  00:01:04.803333       36.17830       -86.79020   \n",
       "97735  2019-05-17 00:00:00  00:00:19.566666       36.16260       -86.77770   \n",
       "97736  2019-05-16 00:00:00  23:59:38.173333       36.17630       -86.75610   \n",
       "\n",
       "       endLatitude  endLongitude  \\\n",
       "93181     36.15180     -86.78417   \n",
       "93182     36.14548     -86.79282   \n",
       "93183     36.16007     -86.77317   \n",
       "93184     36.14546     -86.79266   \n",
       "93185     36.14548     -86.79265   \n",
       "...            ...           ...   \n",
       "97732     36.15480     -86.77480   \n",
       "97733     36.16140     -86.77750   \n",
       "97734     36.17150     -86.78570   \n",
       "97735     36.16080     -86.77880   \n",
       "97736     36.17820     -86.75150   \n",
       "\n",
       "                                               tripRoute  \\\n",
       "93181  [[36.16124,-86.78494],[36.16133,-86.78504],[36...   \n",
       "93182  [[36.16033,-86.77564],[36.16028,-86.77574],[36...   \n",
       "93183  [[36.15971,-86.77992],[36.15971,-86.77986],[36...   \n",
       "93184  [[36.16034,-86.77685],[36.1602,-86.77672],[36....   \n",
       "93185  [[36.16017,-86.77623],[36.16013,-86.77618],[36...   \n",
       "...                                                  ...   \n",
       "97732    [[36.160351,-86.775028],[36.154864,-86.774738]]   \n",
       "97733                                                 []   \n",
       "97734  [[36.178265,-86.790047],[36.178265,-86.790039]...   \n",
       "97735  [[36.162796,-86.777749],[36.160911,-86.777488]...   \n",
       "97736  [[36.176512,-86.756035],[36.176626,-86.755734]...   \n",
       "\n",
       "                        create_dt  \n",
       "93181  2019-05-17 17:13:03.513000  \n",
       "93182  2019-05-17 17:13:03.547000  \n",
       "93183  2019-05-17 17:13:03.580000  \n",
       "93184  2019-05-17 17:13:03.650000  \n",
       "93185  2019-05-17 17:13:03.680000  \n",
       "...                           ...  \n",
       "97732  2019-05-18 05:30:18.250000  \n",
       "97733  2019-05-18 05:30:18.120000  \n",
       "97734  2019-05-18 05:30:18.153000  \n",
       "97735  2019-05-18 05:30:18.283000  \n",
       "97736  2019-05-18 05:30:18.433000  \n",
       "\n",
       "[4556 rows x 16 columns]"
      ]
     },
     "execution_count": 15,
     "metadata": {},
     "output_type": "execute_result"
    }
   ],
   "source": [
    "the_output['2019-05-16-00-00']\n",
    "# the_output['2019-05-01-00-00']['sumdid'].nunique()"
   ]
  },
  {
   "cell_type": "code",
   "execution_count": 16,
   "id": "803f016e",
   "metadata": {
    "scrolled": true
   },
   "outputs": [
    {
     "data": {
      "text/plain": [
       "PoweredIOZGHYOGSO7HK    28\n",
       "PoweredSDQ6GAHIJK5AF    28\n",
       "Powered5VHFZMDPGBWD5    27\n",
       "PoweredEE2HRZ3ZRFM5O    27\n",
       "PoweredJ7LPOP2NKDWYU    27\n",
       "                        ..\n",
       "PoweredTSXEH             1\n",
       "Powered224310            1\n",
       "Powered794954            1\n",
       "Powered72PTV             1\n",
       "Powered5I3DR             1\n",
       "Name: sumdID, Length: 1665, dtype: int64"
      ]
     },
     "execution_count": 16,
     "metadata": {},
     "output_type": "execute_result"
    }
   ],
   "source": [
    "the_output['2019-05-16-00-00']['sumdID'].value_counts()\n",
    "# the_output['2019-05-01-00-00']['sumdid'].nunique()"
   ]
  },
  {
   "cell_type": "code",
   "execution_count": 17,
   "id": "27fc50e1",
   "metadata": {
    "scrolled": true
   },
   "outputs": [
    {
     "data": {
      "text/plain": [
       "PoweredIFR8I      2\n",
       "PoweredJXM5N      2\n",
       "Powered668125     2\n",
       "PoweredSXRSH      2\n",
       "Powered9050644    2\n",
       "                 ..\n",
       "PoweredTSXEH      1\n",
       "Powered224310     1\n",
       "Powered794954     1\n",
       "Powered72PTV      1\n",
       "Powered5I3DR      1\n",
       "Name: sumdID, Length: 1153, dtype: int64"
      ]
     },
     "execution_count": 17,
     "metadata": {},
     "output_type": "execute_result"
    }
   ],
   "source": [
    "the_output['2019-05-16-00-00']['sumdID'].value_counts().loc[lambda x : x<3]"
   ]
  },
  {
   "cell_type": "markdown",
   "id": "0faaff89",
   "metadata": {},
   "source": [
    "So out of 1665 unique scooters that ran on 5/16/19, 1153 of them had fewer than 3 rides. So only 31% of the scooters met the threshold of 3 rides that day."
   ]
  },
  {
   "cell_type": "code",
   "execution_count": 19,
   "id": "3a299114",
   "metadata": {},
   "outputs": [
    {
     "data": {
      "text/plain": [
       "PoweredIOZGHYOGSO7HK    28\n",
       "PoweredSDQ6GAHIJK5AF    28\n",
       "Powered5VHFZMDPGBWD5    27\n",
       "PoweredEE2HRZ3ZRFM5O    27\n",
       "PoweredJ7LPOP2NKDWYU    27\n",
       "                        ..\n",
       "PoweredCKT7IMUCI7EVD     6\n",
       "Powered861765            6\n",
       "Powered924486            6\n",
       "Powered590962            6\n",
       "Powered889438            6\n",
       "Name: sumdID, Length: 137, dtype: int64"
      ]
     },
     "execution_count": 19,
     "metadata": {},
     "output_type": "execute_result"
    }
   ],
   "source": [
    "the_output['2019-05-16-00-00']['sumdID'].value_counts().loc[lambda x : x>5]"
   ]
  },
  {
   "cell_type": "markdown",
   "id": "c7b48dcc",
   "metadata": {},
   "source": [
    "137 scooters, or 8%, performed well with at least 6 rides that day."
   ]
  },
  {
   "cell_type": "markdown",
   "id": "391cfa45",
   "metadata": {},
   "source": []
  },
  {
   "cell_type": "markdown",
   "id": "7a2788bd",
   "metadata": {},
   "source": [
    "This section below is experimental geospatial stuff, adapted from our geospatial notebook for the most part. IF you want to mess with this bit, make sure you load the notebook in the geospatial enivronment."
   ]
  },
  {
   "cell_type": "code",
   "execution_count": 9,
   "id": "2741a98d",
   "metadata": {
    "scrolled": true
   },
   "outputs": [
    {
     "name": "stdout",
     "output_type": "stream",
     "text": [
      "epsg:2274\n",
      "   OBJECTID  ZONE_ID    SHAPE_STAr     SHAPE_STLe  \\\n",
      "0         1        1  1.053728e+08   49364.601403   \n",
      "1         2        2  7.670585e+07   45226.018917   \n",
      "2         3        3  2.985488e+08   75207.067487   \n",
      "3         4        4  2.713638e+08   74348.596054   \n",
      "4         5        5  3.928178e+08  106661.712102   \n",
      "5         6        6  9.535996e+07   59256.923574   \n",
      "\n",
      "                                            geometry  \n",
      "0  POLYGON ((1743366.812 678044.543, 1743367.698 ...  \n",
      "1  POLYGON ((1738690.545 661791.347, 1738733.644 ...  \n",
      "2  POLYGON ((1759602.544 668309.889, 1759640.155 ...  \n",
      "3  POLYGON ((1747799.003 654974.612, 1747821.293 ...  \n",
      "4  POLYGON ((1737013.744 692634.639, 1737122.605 ...  \n",
      "5  POLYGON ((1716935.654 667534.495, 1716992.481 ...  \n"
     ]
    }
   ],
   "source": [
    "promise_zones = gpd.read_file('../data/MDHA_Promise_Zones/Export_Output_5.shp')\n",
    "print(promise_zones.crs)\n",
    "# promise_zones= promise_zones.to_crs('EPSG:4326')\n",
    "print(promise_zones)"
   ]
  },
  {
   "cell_type": "code",
   "execution_count": 10,
   "id": "55159c32",
   "metadata": {
    "scrolled": true
   },
   "outputs": [
    {
     "data": {
      "text/plain": [
       "<AxesSubplot:>"
      ]
     },
     "execution_count": 10,
     "metadata": {},
     "output_type": "execute_result"
    },
    {
     "data": {
      "image/png": "[encoded data removed]",
      "text/plain": [
       "<Figure size 432x288 with 1 Axes>"
      ]
     },
     "metadata": {
      "needs_background": "light"
     },
     "output_type": "display_data"
    }
   ],
   "source": [
    "promise_zones.plot(cmap='Set1')"
   ]
  },
  {
   "cell_type": "code",
   "execution_count": 9,
   "id": "e00121de",
   "metadata": {
    "scrolled": false
   },
   "outputs": [],
   "source": [
    "# zipcodes = gpd.read_file('../../da5-geospatial-python-workshop-derektprice/data/zipcodes.geojson')\n",
    "# print(zipcodes.crs)\n",
    "# zipcodes.head( )"
   ]
  },
  {
   "cell_type": "code",
   "execution_count": 10,
   "id": "3af961ad",
   "metadata": {},
   "outputs": [
    {
     "name": "stderr",
     "output_type": "stream",
     "text": [
      "C:\\Users\\saram\\AppData\\Local\\Temp/ipykernel_9148/1316813279.py:2: SettingWithCopyWarning: \n",
      "A value is trying to be set on a copy of a slice from a DataFrame.\n",
      "Try using .loc[row_indexer,col_indexer] = value instead\n",
      "\n",
      "See the caveats in the documentation: https://pandas.pydata.org/pandas-docs/stable/user_guide/indexing.html#returning-a-view-versus-a-copy\n",
      "  the_output['2019-05-01-00-00']['geometry'] = the_output['2019-05-01-00-00'].apply(lambda x: Point(x['longitude'],\n"
     ]
    },
    {
     "data": {
      "text/html": [
       "<div>\n",
       "<style scoped>\n",
       "    .dataframe tbody tr th:only-of-type {\n",
       "        vertical-align: middle;\n",
       "    }\n",
       "\n",
       "    .dataframe tbody tr th {\n",
       "        vertical-align: top;\n",
       "    }\n",
       "\n",
       "    .dataframe thead th {\n",
       "        text-align: right;\n",
       "    }\n",
       "</style>\n",
       "<table border=\"1\" class=\"dataframe\">\n",
       "  <thead>\n",
       "    <tr style=\"text-align: right;\">\n",
       "      <th></th>\n",
       "      <th>pubdatetime</th>\n",
       "      <th>latitude</th>\n",
       "      <th>longitude</th>\n",
       "      <th>sumdid</th>\n",
       "      <th>chargelevel</th>\n",
       "      <th>companyname</th>\n",
       "      <th>geometry</th>\n",
       "    </tr>\n",
       "  </thead>\n",
       "  <tbody>\n",
       "    <tr>\n",
       "      <th>0</th>\n",
       "      <td>2019-05-01 00:01:41.247</td>\n",
       "      <td>36.136822</td>\n",
       "      <td>-86.799877</td>\n",
       "      <td>PoweredLIRL1</td>\n",
       "      <td>93.0</td>\n",
       "      <td>0</td>\n",
       "      <td>POINT (-86.799877 36.136822)</td>\n",
       "    </tr>\n",
       "    <tr>\n",
       "      <th>1</th>\n",
       "      <td>2019-05-01 00:01:41.247</td>\n",
       "      <td>36.191252</td>\n",
       "      <td>-86.772945</td>\n",
       "      <td>PoweredXWRWC</td>\n",
       "      <td>35.0</td>\n",
       "      <td>0</td>\n",
       "      <td>POINT (-86.77294500000001 36.191252)</td>\n",
       "    </tr>\n",
       "    <tr>\n",
       "      <th>2</th>\n",
       "      <td>2019-05-01 00:01:41.247</td>\n",
       "      <td>36.144752</td>\n",
       "      <td>-86.806293</td>\n",
       "      <td>PoweredMEJEH</td>\n",
       "      <td>90.0</td>\n",
       "      <td>0</td>\n",
       "      <td>POINT (-86.806293 36.144752)</td>\n",
       "    </tr>\n",
       "  </tbody>\n",
       "</table>\n",
       "</div>"
      ],
      "text/plain": [
       "              pubdatetime   latitude  longitude        sumdid  chargelevel  \\\n",
       "0 2019-05-01 00:01:41.247  36.136822 -86.799877  PoweredLIRL1         93.0   \n",
       "1 2019-05-01 00:01:41.247  36.191252 -86.772945  PoweredXWRWC         35.0   \n",
       "2 2019-05-01 00:01:41.247  36.144752 -86.806293  PoweredMEJEH         90.0   \n",
       "\n",
       "   companyname                              geometry  \n",
       "0            0          POINT (-86.799877 36.136822)  \n",
       "1            0  POINT (-86.77294500000001 36.191252)  \n",
       "2            0          POINT (-86.806293 36.144752)  "
      ]
     },
     "execution_count": 10,
     "metadata": {},
     "output_type": "execute_result"
    }
   ],
   "source": [
    "#adding geomtery column with lambda and point\n",
    "the_output['2019-05-01-00-00']['geometry'] = the_output['2019-05-01-00-00'].apply(lambda x: Point(x['longitude'], \n",
    "                                                         x['latitude']), axis=1)\n",
    "the_output['2019-05-01-00-00'].head(3)"
   ]
  },
  {
   "cell_type": "code",
   "execution_count": 11,
   "id": "e10db3d2",
   "metadata": {
    "scrolled": true
   },
   "outputs": [
    {
     "data": {
      "text/html": [
       "<div>\n",
       "<style scoped>\n",
       "    .dataframe tbody tr th:only-of-type {\n",
       "        vertical-align: middle;\n",
       "    }\n",
       "\n",
       "    .dataframe tbody tr th {\n",
       "        vertical-align: top;\n",
       "    }\n",
       "\n",
       "    .dataframe thead th {\n",
       "        text-align: right;\n",
       "    }\n",
       "</style>\n",
       "<table border=\"1\" class=\"dataframe\">\n",
       "  <thead>\n",
       "    <tr style=\"text-align: right;\">\n",
       "      <th></th>\n",
       "      <th>pubdatetime</th>\n",
       "      <th>latitude</th>\n",
       "      <th>longitude</th>\n",
       "      <th>sumdid</th>\n",
       "      <th>chargelevel</th>\n",
       "      <th>companyname</th>\n",
       "      <th>geometry</th>\n",
       "    </tr>\n",
       "  </thead>\n",
       "  <tbody>\n",
       "    <tr>\n",
       "      <th>0</th>\n",
       "      <td>2019-05-01 00:01:41.247</td>\n",
       "      <td>36.136822</td>\n",
       "      <td>-86.799877</td>\n",
       "      <td>PoweredLIRL1</td>\n",
       "      <td>93.0</td>\n",
       "      <td>0</td>\n",
       "      <td>POINT (-86.79988 36.13682)</td>\n",
       "    </tr>\n",
       "    <tr>\n",
       "      <th>1</th>\n",
       "      <td>2019-05-01 00:01:41.247</td>\n",
       "      <td>36.191252</td>\n",
       "      <td>-86.772945</td>\n",
       "      <td>PoweredXWRWC</td>\n",
       "      <td>35.0</td>\n",
       "      <td>0</td>\n",
       "      <td>POINT (-86.77295 36.19125)</td>\n",
       "    </tr>\n",
       "    <tr>\n",
       "      <th>2</th>\n",
       "      <td>2019-05-01 00:01:41.247</td>\n",
       "      <td>36.144752</td>\n",
       "      <td>-86.806293</td>\n",
       "      <td>PoweredMEJEH</td>\n",
       "      <td>90.0</td>\n",
       "      <td>0</td>\n",
       "      <td>POINT (-86.80629 36.14475)</td>\n",
       "    </tr>\n",
       "    <tr>\n",
       "      <th>3</th>\n",
       "      <td>2019-05-01 00:01:41.247</td>\n",
       "      <td>36.162056</td>\n",
       "      <td>-86.774688</td>\n",
       "      <td>Powered1A7TC</td>\n",
       "      <td>88.0</td>\n",
       "      <td>0</td>\n",
       "      <td>POINT (-86.77469 36.16206)</td>\n",
       "    </tr>\n",
       "    <tr>\n",
       "      <th>4</th>\n",
       "      <td>2019-05-01 00:01:41.247</td>\n",
       "      <td>36.150973</td>\n",
       "      <td>-86.783109</td>\n",
       "      <td>Powered2TYEF</td>\n",
       "      <td>98.0</td>\n",
       "      <td>0</td>\n",
       "      <td>POINT (-86.78311 36.15097)</td>\n",
       "    </tr>\n",
       "  </tbody>\n",
       "</table>\n",
       "</div>"
      ],
      "text/plain": [
       "              pubdatetime   latitude  longitude        sumdid  chargelevel  \\\n",
       "0 2019-05-01 00:01:41.247  36.136822 -86.799877  PoweredLIRL1         93.0   \n",
       "1 2019-05-01 00:01:41.247  36.191252 -86.772945  PoweredXWRWC         35.0   \n",
       "2 2019-05-01 00:01:41.247  36.144752 -86.806293  PoweredMEJEH         90.0   \n",
       "3 2019-05-01 00:01:41.247  36.162056 -86.774688  Powered1A7TC         88.0   \n",
       "4 2019-05-01 00:01:41.247  36.150973 -86.783109  Powered2TYEF         98.0   \n",
       "\n",
       "   companyname                    geometry  \n",
       "0            0  POINT (-86.79988 36.13682)  \n",
       "1            0  POINT (-86.77295 36.19125)  \n",
       "2            0  POINT (-86.80629 36.14475)  \n",
       "3            0  POINT (-86.77469 36.16206)  \n",
       "4            0  POINT (-86.78311 36.15097)  "
      ]
     },
     "execution_count": 11,
     "metadata": {},
     "output_type": "execute_result"
    }
   ],
   "source": [
    "#made a geodf\n",
    "one_hour_geodf = gpd.GeoDataFrame(the_output['2019-05-01-00-00'],\n",
    "                           crs = promise_zones.crs,\n",
    "                           geometry = the_output['2019-05-01-00-00']['geometry'])\n",
    "one_hour_geodf.head()"
   ]
  },
  {
   "cell_type": "code",
   "execution_count": 12,
   "id": "c3348232",
   "metadata": {
    "scrolled": true
   },
   "outputs": [
    {
     "data": {
      "text/html": [
       "<div>\n",
       "<style scoped>\n",
       "    .dataframe tbody tr th:only-of-type {\n",
       "        vertical-align: middle;\n",
       "    }\n",
       "\n",
       "    .dataframe tbody tr th {\n",
       "        vertical-align: top;\n",
       "    }\n",
       "\n",
       "    .dataframe thead th {\n",
       "        text-align: right;\n",
       "    }\n",
       "</style>\n",
       "<table border=\"1\" class=\"dataframe\">\n",
       "  <thead>\n",
       "    <tr style=\"text-align: right;\">\n",
       "      <th></th>\n",
       "      <th>pubdatetime</th>\n",
       "      <th>latitude</th>\n",
       "      <th>longitude</th>\n",
       "      <th>sumdid</th>\n",
       "      <th>chargelevel</th>\n",
       "      <th>companyname</th>\n",
       "      <th>geometry</th>\n",
       "      <th>index_right</th>\n",
       "      <th>OBJECTID</th>\n",
       "      <th>ZONE_ID</th>\n",
       "      <th>SHAPE_STAr</th>\n",
       "      <th>SHAPE_STLe</th>\n",
       "    </tr>\n",
       "  </thead>\n",
       "  <tbody>\n",
       "  </tbody>\n",
       "</table>\n",
       "</div>"
      ],
      "text/plain": [
       "Empty GeoDataFrame\n",
       "Columns: [pubdatetime, latitude, longitude, sumdid, chargelevel, companyname, geometry, index_right, OBJECTID, ZONE_ID, SHAPE_STAr, SHAPE_STLe]\n",
       "Index: []"
      ]
     },
     "execution_count": 12,
     "metadata": {},
     "output_type": "execute_result"
    }
   ],
   "source": [
    "#spatial join\n",
    "may_1_1AM_geodf = gpd.sjoin(one_hour_geodf, promise_zones, op=\"within\")\n",
    "may_1_1AM_geodf.head()"
   ]
  },
  {
   "cell_type": "code",
   "execution_count": 13,
   "id": "af969737",
   "metadata": {},
   "outputs": [
    {
     "data": {
      "text/plain": [
       "Series([], Name: ZONE_ID, dtype: int64)"
      ]
     },
     "execution_count": 13,
     "metadata": {},
     "output_type": "execute_result"
    }
   ],
   "source": [
    "#number of \n",
    "may_1_1AM_geodf['ZONE_ID'].value_counts()"
   ]
  },
  {
   "cell_type": "code",
   "execution_count": null,
   "id": "7bc20baa",
   "metadata": {},
   "outputs": [],
   "source": []
  }
 ],
 "metadata": {
  "kernelspec": {
   "display_name": "Python 3 (ipykernel)",
   "language": "python",
   "name": "python3"
  },
  "language_info": {
   "codemirror_mode": {
    "name": "ipython",
    "version": 3
   },
   "file_extension": ".py",
   "mimetype": "text/x-python",
   "name": "python",
   "nbconvert_exporter": "python",
   "pygments_lexer": "ipython3",
   "version": "3.8.5"
  }
 },
 "nbformat": 4,
 "nbformat_minor": 5
}
